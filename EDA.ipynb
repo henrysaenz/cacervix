{
 "cells": [
  {
   "cell_type": "markdown",
   "metadata": {},
   "source": [
    "# Análisis Exploratorio de las primeras 16 variables del conjunto de datos"
   ]
  },
  {
   "cell_type": "code",
   "execution_count": null,
   "metadata": {},
   "outputs": [],
   "source": [
    "!pip install pyreadstat"
   ]
  },
  {
   "cell_type": "code",
   "execution_count": 66,
   "metadata": {},
   "outputs": [
    {
     "name": "stderr",
     "output_type": "stream",
     "text": [
      "C:\\Users\\henry\\AppData\\Local\\Temp\\ipykernel_1676\\4185279996.py:10: DeprecationWarning: Importing display from IPython.core.display is deprecated since IPython 7.14, please import from IPython display\n",
      "  from IPython.core.display import display, HTML\n"
     ]
    }
   ],
   "source": [
    "import pandas as pd\n",
    "import numpy as np\n",
    "import seaborn as sns\n",
    "from scipy import stats\n",
    "import matplotlib.pyplot as plt\n",
    "import plotly.express as px\n",
    "import plotly.graph_objects as go\n",
    "from plotly.subplots import make_subplots\n",
    "import pyreadstat\n",
    "from IPython.core.display import display, HTML\n",
    "import json\n",
    "import os"
   ]
  },
  {
   "cell_type": "code",
   "execution_count": 4,
   "metadata": {},
   "outputs": [],
   "source": [
    "data_path = 'C:/Users/henry/Documents/jbook/Cacervix/cacervix/datos/'\n",
    "data = pd.read_excel(data_path + 'CACU1985A2019v2.xls')\n"
   ]
  },
  {
   "cell_type": "code",
   "execution_count": 5,
   "metadata": {},
   "outputs": [
    {
     "data": {
      "text/html": [
       "<table border=\"1\" class=\"dataframe\">\n",
       "  <thead>\n",
       "    <tr style=\"text-align: right;\">\n",
       "      <th></th>\n",
       "      <th>COD_DPTO</th>\n",
       "      <th>COD_MUNIC</th>\n",
       "      <th>A_DEFUN</th>\n",
       "      <th>SIT_DEFUN</th>\n",
       "      <th>COD_INST</th>\n",
       "      <th>NOM_INST</th>\n",
       "      <th>ANO</th>\n",
       "      <th>MES</th>\n",
       "      <th>SEXO</th>\n",
       "      <th>EST_CIVIL</th>\n",
       "      <th>gru_ed1</th>\n",
       "      <th>gru_ed2</th>\n",
       "      <th>NIVEL_EDU</th>\n",
       "      <th>MUERTEPORO</th>\n",
       "      <th>SIMUERTEPO</th>\n",
       "      <th>OCUPACION</th>\n",
       "      <th>IDPERTET</th>\n",
       "      <th>CODPRES</th>\n",
       "      <th>CODPTORE</th>\n",
       "      <th>CODMUNRE</th>\n",
       "      <th>AREA_RES</th>\n",
       "      <th>SEG_SOCIAL</th>\n",
       "      <th>IDADMISALU</th>\n",
       "      <th>IDCLASADMI</th>\n",
       "      <th>pman_muer</th>\n",
       "      <th>CONS_EXP</th>\n",
       "      <th>CODOCUR</th>\n",
       "      <th>CODMUNOC</th>\n",
       "      <th>c_muerte</th>\n",
       "      <th>ASIS_MED</th>\n",
       "      <th>CAUSA_MULT</th>\n",
       "      <th>C_DIR1</th>\n",
       "      <th>C_DIR12</th>\n",
       "      <th>C_ANT1</th>\n",
       "      <th>C_ANT12</th>\n",
       "      <th>C_ANT2</th>\n",
       "      <th>C_ANT22</th>\n",
       "      <th>C_ANT3</th>\n",
       "      <th>C_ANT32</th>\n",
       "      <th>C_PAT1</th>\n",
       "      <th>C_PAT2</th>\n",
       "      <th>C_BAS1</th>\n",
       "      <th>C_MCM1</th>\n",
       "      <th>IDPROFCER</th>\n",
       "      <th>CAUSA_666_667</th>\n",
       "      <th>CAU_HOMOL</th>\n",
       "      <th>QUINQ</th>\n",
       "      <th>EDAD2</th>\n",
       "    </tr>\n",
       "  </thead>\n",
       "  <tbody>\n",
       "    <tr>\n",
       "      <th>0</th>\n",
       "      <td>11</td>\n",
       "      <td>1</td>\n",
       "      <td>1</td>\n",
       "      <td>2</td>\n",
       "      <td></td>\n",
       "      <td></td>\n",
       "      <td>1996</td>\n",
       "      <td>11</td>\n",
       "      <td>2</td>\n",
       "      <td>1</td>\n",
       "      <td>10</td>\n",
       "      <td>10</td>\n",
       "      <td>9</td>\n",
       "      <td></td>\n",
       "      <td></td>\n",
       "      <td></td>\n",
       "      <td></td>\n",
       "      <td></td>\n",
       "      <td>11</td>\n",
       "      <td>001</td>\n",
       "      <td></td>\n",
       "      <td></td>\n",
       "      <td></td>\n",
       "      <td></td>\n",
       "      <td></td>\n",
       "      <td>2</td>\n",
       "      <td></td>\n",
       "      <td></td>\n",
       "      <td></td>\n",
       "      <td></td>\n",
       "      <td></td>\n",
       "      <td></td>\n",
       "      <td></td>\n",
       "      <td></td>\n",
       "      <td></td>\n",
       "      <td></td>\n",
       "      <td></td>\n",
       "      <td></td>\n",
       "      <td></td>\n",
       "      <td></td>\n",
       "      <td></td>\n",
       "      <td>1809</td>\n",
       "      <td></td>\n",
       "      <td></td>\n",
       "      <td></td>\n",
       "      <td>25</td>\n",
       "      <td>95A99</td>\n",
       "      <td>0A4</td>\n",
       "    </tr>\n",
       "    <tr>\n",
       "      <th>1</th>\n",
       "      <td>76</td>\n",
       "      <td>1</td>\n",
       "      <td>1</td>\n",
       "      <td>2</td>\n",
       "      <td></td>\n",
       "      <td></td>\n",
       "      <td>2007</td>\n",
       "      <td>01</td>\n",
       "      <td>2</td>\n",
       "      <td>1</td>\n",
       "      <td>10</td>\n",
       "      <td>10</td>\n",
       "      <td>2</td>\n",
       "      <td></td>\n",
       "      <td></td>\n",
       "      <td></td>\n",
       "      <td></td>\n",
       "      <td>170</td>\n",
       "      <td>76</td>\n",
       "      <td>001</td>\n",
       "      <td>1</td>\n",
       "      <td>3</td>\n",
       "      <td></td>\n",
       "      <td></td>\n",
       "      <td>1</td>\n",
       "      <td>2</td>\n",
       "      <td></td>\n",
       "      <td></td>\n",
       "      <td>4</td>\n",
       "      <td>1</td>\n",
       "      <td></td>\n",
       "      <td>J969</td>\n",
       "      <td></td>\n",
       "      <td>C539</td>\n",
       "      <td></td>\n",
       "      <td></td>\n",
       "      <td></td>\n",
       "      <td></td>\n",
       "      <td></td>\n",
       "      <td></td>\n",
       "      <td></td>\n",
       "      <td>C539</td>\n",
       "      <td></td>\n",
       "      <td></td>\n",
       "      <td>209</td>\n",
       "      <td>25</td>\n",
       "      <td>05A09</td>\n",
       "      <td>5a9</td>\n",
       "    </tr>\n",
       "    <tr>\n",
       "      <th>2</th>\n",
       "      <td>8</td>\n",
       "      <td>1</td>\n",
       "      <td>1</td>\n",
       "      <td>1</td>\n",
       "      <td></td>\n",
       "      <td></td>\n",
       "      <td>1998</td>\n",
       "      <td>04</td>\n",
       "      <td>2</td>\n",
       "      <td>3</td>\n",
       "      <td>10</td>\n",
       "      <td>10</td>\n",
       "      <td>2</td>\n",
       "      <td></td>\n",
       "      <td></td>\n",
       "      <td></td>\n",
       "      <td></td>\n",
       "      <td>170</td>\n",
       "      <td>8</td>\n",
       "      <td>001</td>\n",
       "      <td>1</td>\n",
       "      <td>1</td>\n",
       "      <td></td>\n",
       "      <td></td>\n",
       "      <td>1</td>\n",
       "      <td>1</td>\n",
       "      <td></td>\n",
       "      <td></td>\n",
       "      <td>2</td>\n",
       "      <td>1</td>\n",
       "      <td></td>\n",
       "      <td>J969</td>\n",
       "      <td></td>\n",
       "      <td>C780</td>\n",
       "      <td></td>\n",
       "      <td>C539</td>\n",
       "      <td></td>\n",
       "      <td></td>\n",
       "      <td></td>\n",
       "      <td></td>\n",
       "      <td></td>\n",
       "      <td>C539</td>\n",
       "      <td></td>\n",
       "      <td></td>\n",
       "      <td>209</td>\n",
       "      <td>25</td>\n",
       "      <td>95A99</td>\n",
       "      <td>10a14</td>\n",
       "    </tr>\n",
       "    <tr>\n",
       "      <th>3</th>\n",
       "      <td>15</td>\n",
       "      <td>1</td>\n",
       "      <td>1</td>\n",
       "      <td>1</td>\n",
       "      <td>1500100021</td>\n",
       "      <td>H SAN RAFAEL DE TUNJA</td>\n",
       "      <td>2005</td>\n",
       "      <td>04</td>\n",
       "      <td>2</td>\n",
       "      <td>1</td>\n",
       "      <td>10</td>\n",
       "      <td>10</td>\n",
       "      <td>9</td>\n",
       "      <td></td>\n",
       "      <td></td>\n",
       "      <td></td>\n",
       "      <td></td>\n",
       "      <td>170</td>\n",
       "      <td>15</td>\n",
       "      <td>001</td>\n",
       "      <td>3</td>\n",
       "      <td>2</td>\n",
       "      <td></td>\n",
       "      <td></td>\n",
       "      <td>1</td>\n",
       "      <td>1</td>\n",
       "      <td></td>\n",
       "      <td></td>\n",
       "      <td>2</td>\n",
       "      <td>1</td>\n",
       "      <td></td>\n",
       "      <td>J969</td>\n",
       "      <td></td>\n",
       "      <td>T093</td>\n",
       "      <td></td>\n",
       "      <td>C539</td>\n",
       "      <td></td>\n",
       "      <td></td>\n",
       "      <td></td>\n",
       "      <td></td>\n",
       "      <td></td>\n",
       "      <td>C539</td>\n",
       "      <td></td>\n",
       "      <td></td>\n",
       "      <td>209</td>\n",
       "      <td>25</td>\n",
       "      <td>05A09</td>\n",
       "      <td>10a14</td>\n",
       "    </tr>\n",
       "    <tr>\n",
       "      <th>4</th>\n",
       "      <td>76</td>\n",
       "      <td>1</td>\n",
       "      <td>1</td>\n",
       "      <td>1</td>\n",
       "      <td>760010379901</td>\n",
       "      <td>E.S.E. HOSPITAL UNIVERSITARIO DEL V</td>\n",
       "      <td>2006</td>\n",
       "      <td>09</td>\n",
       "      <td>2</td>\n",
       "      <td>1</td>\n",
       "      <td>10</td>\n",
       "      <td>10</td>\n",
       "      <td>1</td>\n",
       "      <td></td>\n",
       "      <td></td>\n",
       "      <td></td>\n",
       "      <td></td>\n",
       "      <td>170</td>\n",
       "      <td>76</td>\n",
       "      <td>001</td>\n",
       "      <td>1</td>\n",
       "      <td>2</td>\n",
       "      <td></td>\n",
       "      <td></td>\n",
       "      <td>1</td>\n",
       "      <td>2</td>\n",
       "      <td></td>\n",
       "      <td></td>\n",
       "      <td>2</td>\n",
       "      <td>1</td>\n",
       "      <td></td>\n",
       "      <td>I469</td>\n",
       "      <td></td>\n",
       "      <td>J969</td>\n",
       "      <td></td>\n",
       "      <td>C539</td>\n",
       "      <td></td>\n",
       "      <td></td>\n",
       "      <td></td>\n",
       "      <td>G959</td>\n",
       "      <td></td>\n",
       "      <td>C539</td>\n",
       "      <td></td>\n",
       "      <td></td>\n",
       "      <td>209</td>\n",
       "      <td>25</td>\n",
       "      <td>05A09</td>\n",
       "      <td>10a14</td>\n",
       "    </tr>\n",
       "  </tbody>\n",
       "</table>"
      ],
      "text/plain": [
       "<IPython.core.display.HTML object>"
      ]
     },
     "metadata": {},
     "output_type": "display_data"
    }
   ],
   "source": [
    "display(HTML(data.head().to_html()))"
   ]
  },
  {
   "cell_type": "code",
   "execution_count": 6,
   "metadata": {},
   "outputs": [
    {
     "data": {
      "text/plain": [
       "(51448, 48)"
      ]
     },
     "execution_count": 6,
     "metadata": {},
     "output_type": "execute_result"
    }
   ],
   "source": [
    "data.shape"
   ]
  },
  {
   "cell_type": "code",
   "execution_count": 7,
   "metadata": {},
   "outputs": [
    {
     "data": {
      "text/html": [
       "<div>\n",
       "<style scoped>\n",
       "    .dataframe tbody tr th:only-of-type {\n",
       "        vertical-align: middle;\n",
       "    }\n",
       "\n",
       "    .dataframe tbody tr th {\n",
       "        vertical-align: top;\n",
       "    }\n",
       "\n",
       "    .dataframe thead th {\n",
       "        text-align: right;\n",
       "    }\n",
       "</style>\n",
       "<table border=\"1\" class=\"dataframe\">\n",
       "  <thead>\n",
       "    <tr style=\"text-align: right;\">\n",
       "      <th></th>\n",
       "      <th>COD_DPTO</th>\n",
       "      <th>COD_MUNIC</th>\n",
       "      <th>A_DEFUN</th>\n",
       "      <th>SIT_DEFUN</th>\n",
       "      <th>COD_INST</th>\n",
       "      <th>NOM_INST</th>\n",
       "      <th>ANO</th>\n",
       "      <th>MES</th>\n",
       "      <th>SEXO</th>\n",
       "      <th>EST_CIVIL</th>\n",
       "      <th>gru_ed1</th>\n",
       "      <th>gru_ed2</th>\n",
       "      <th>NIVEL_EDU</th>\n",
       "      <th>MUERTEPORO</th>\n",
       "      <th>SIMUERTEPO</th>\n",
       "      <th>OCUPACION</th>\n",
       "    </tr>\n",
       "  </thead>\n",
       "  <tbody>\n",
       "    <tr>\n",
       "      <th>0</th>\n",
       "      <td>11</td>\n",
       "      <td>1</td>\n",
       "      <td>1</td>\n",
       "      <td>2</td>\n",
       "      <td></td>\n",
       "      <td></td>\n",
       "      <td>1996</td>\n",
       "      <td>11</td>\n",
       "      <td>2</td>\n",
       "      <td>1</td>\n",
       "      <td>10</td>\n",
       "      <td>10</td>\n",
       "      <td>9</td>\n",
       "      <td></td>\n",
       "      <td></td>\n",
       "      <td></td>\n",
       "    </tr>\n",
       "    <tr>\n",
       "      <th>1</th>\n",
       "      <td>76</td>\n",
       "      <td>1</td>\n",
       "      <td>1</td>\n",
       "      <td>2</td>\n",
       "      <td></td>\n",
       "      <td></td>\n",
       "      <td>2007</td>\n",
       "      <td>01</td>\n",
       "      <td>2</td>\n",
       "      <td>1</td>\n",
       "      <td>10</td>\n",
       "      <td>10</td>\n",
       "      <td>2</td>\n",
       "      <td></td>\n",
       "      <td></td>\n",
       "      <td></td>\n",
       "    </tr>\n",
       "    <tr>\n",
       "      <th>2</th>\n",
       "      <td>8</td>\n",
       "      <td>1</td>\n",
       "      <td>1</td>\n",
       "      <td>1</td>\n",
       "      <td></td>\n",
       "      <td></td>\n",
       "      <td>1998</td>\n",
       "      <td>04</td>\n",
       "      <td>2</td>\n",
       "      <td>3</td>\n",
       "      <td>10</td>\n",
       "      <td>10</td>\n",
       "      <td>2</td>\n",
       "      <td></td>\n",
       "      <td></td>\n",
       "      <td></td>\n",
       "    </tr>\n",
       "    <tr>\n",
       "      <th>3</th>\n",
       "      <td>15</td>\n",
       "      <td>1</td>\n",
       "      <td>1</td>\n",
       "      <td>1</td>\n",
       "      <td>1500100021</td>\n",
       "      <td>H SAN RAFAEL DE TUNJA</td>\n",
       "      <td>2005</td>\n",
       "      <td>04</td>\n",
       "      <td>2</td>\n",
       "      <td>1</td>\n",
       "      <td>10</td>\n",
       "      <td>10</td>\n",
       "      <td>9</td>\n",
       "      <td></td>\n",
       "      <td></td>\n",
       "      <td></td>\n",
       "    </tr>\n",
       "    <tr>\n",
       "      <th>4</th>\n",
       "      <td>76</td>\n",
       "      <td>1</td>\n",
       "      <td>1</td>\n",
       "      <td>1</td>\n",
       "      <td>760010379901</td>\n",
       "      <td>E.S.E. HOSPITAL UNIVERSITARIO DEL V</td>\n",
       "      <td>2006</td>\n",
       "      <td>09</td>\n",
       "      <td>2</td>\n",
       "      <td>1</td>\n",
       "      <td>10</td>\n",
       "      <td>10</td>\n",
       "      <td>1</td>\n",
       "      <td></td>\n",
       "      <td></td>\n",
       "      <td></td>\n",
       "    </tr>\n",
       "  </tbody>\n",
       "</table>\n",
       "</div>"
      ],
      "text/plain": [
       "   COD_DPTO  COD_MUNIC  A_DEFUN  SIT_DEFUN      COD_INST  \\\n",
       "0        11          1        1          2                 \n",
       "1        76          1        1          2                 \n",
       "2         8          1        1          1                 \n",
       "3        15          1        1          1    1500100021   \n",
       "4        76          1        1          1  760010379901   \n",
       "\n",
       "                              NOM_INST   ANO MES  SEXO  EST_CIVIL  gru_ed1  \\\n",
       "0                                       1996  11     2          1       10   \n",
       "1                                       2007  01     2          1       10   \n",
       "2                                       1998  04     2          3       10   \n",
       "3                H SAN RAFAEL DE TUNJA  2005  04     2          1       10   \n",
       "4  E.S.E. HOSPITAL UNIVERSITARIO DEL V  2006  09     2          1       10   \n",
       "\n",
       "  gru_ed2  NIVEL_EDU MUERTEPORO SIMUERTEPO OCUPACION  \n",
       "0      10          9                                  \n",
       "1      10          2                                  \n",
       "2      10          2                                  \n",
       "3      10          9                                  \n",
       "4      10          1                                  "
      ]
     },
     "execution_count": 7,
     "metadata": {},
     "output_type": "execute_result"
    }
   ],
   "source": [
    "data16 = data.iloc[:, :16]\n",
    "data16.head()\n"
   ]
  },
  {
   "cell_type": "code",
   "execution_count": 8,
   "metadata": {},
   "outputs": [
    {
     "name": "stdout",
     "output_type": "stream",
     "text": [
      "El tipo es: int64 y el nombre es: COD_DPTO\n",
      "El tipo es: int64 y el nombre es: COD_MUNIC\n",
      "El tipo es: int64 y el nombre es: A_DEFUN\n",
      "El tipo es: int64 y el nombre es: SIT_DEFUN\n",
      "El tipo es: object y el nombre es: COD_INST\n",
      "El tipo es: object y el nombre es: NOM_INST\n",
      "El tipo es: int64 y el nombre es: ANO\n",
      "El tipo es: object y el nombre es: MES\n",
      "El tipo es: int64 y el nombre es: SEXO\n",
      "El tipo es: int64 y el nombre es: EST_CIVIL\n",
      "El tipo es: int64 y el nombre es: gru_ed1\n",
      "El tipo es: object y el nombre es: gru_ed2\n",
      "El tipo es: int64 y el nombre es: NIVEL_EDU\n",
      "El tipo es: object y el nombre es: MUERTEPORO\n",
      "El tipo es: object y el nombre es: SIMUERTEPO\n",
      "El tipo es: object y el nombre es: OCUPACION\n"
     ]
    }
   ],
   "source": [
    "for col in data16.columns:\n",
    "    print(f'El tipo es: {data16[col].dtype} y el nombre es: {col}')"
   ]
  },
  {
   "cell_type": "code",
   "execution_count": 9,
   "metadata": {},
   "outputs": [
    {
     "data": {
      "text/plain": [
       "(51448, 16)"
      ]
     },
     "execution_count": 9,
     "metadata": {},
     "output_type": "execute_result"
    }
   ],
   "source": [
    "data16.shape"
   ]
  },
  {
   "cell_type": "markdown",
   "metadata": {},
   "source": [
    "## Explicación de variables"
   ]
  },
  {
   "cell_type": "markdown",
   "metadata": {},
   "source": [
    "- **COD_DPTO**:\tDepartamento donde ocurrió la defunción\n",
    "- **COD_MUNIC**:\tMunicipio donde ocurrió la defunción\n",
    "- **A_DEFUN**:\tÁrea donde ocurrió la defunción\n",
    "- **SIT_DEFUN**:\tSitio de la defuncion\n",
    "- **COD_INST**:\tCódigo de la institución prestadora de salud\n",
    "- **NOM_INST**:\tNombre de la institución de salud\n",
    "- **ANO**:\tAño en que ocurrió la defunción\n",
    "- **MES**:\tMes en que ocurrió la defunción\n",
    "- **SEXO**:\tSexo del fallecido\n",
    "- **EST_CIVIL**:\tEstado conyugal del fallecido\n",
    "- **gru_ed1**:\tAgrupación de edades, según la edad del fallecido\n",
    "- **gru_ed2**: \tAgrupación de edades, según la edad del fallecido\n",
    "- **NIVEL_EDU**: \tNivel educativo del fallecido\n",
    "- **MUERTEPORO**:\tLa ocupación pudo ser causa o estar asociada con la defunción\n",
    "- **SIMUERTEPO**:\tAccidente de trabajo o enfermedad profesional\n",
    "- **OCUPACION**: \t¿Cúal fue la última ocupación habitual del fallecido?\n",
    "\n"
   ]
  },
  {
   "cell_type": "code",
   "execution_count": 10,
   "metadata": {},
   "outputs": [
    {
     "name": "stdout",
     "output_type": "stream",
     "text": [
      "['COD_DPTO', 'COD_MUNIC', 'A_DEFUN', 'SIT_DEFUN', 'COD_INST', 'NOM_INST', 'ANO', 'MES', 'SEXO', 'EST_CIVIL', 'gru_ed1', 'gru_ed2', 'NIVEL_EDU', 'MUERTEPORO', 'SIMUERTEPO', 'OCUPACION']\n"
     ]
    }
   ],
   "source": [
    "print(data16.columns.tolist())"
   ]
  },
  {
   "cell_type": "markdown",
   "metadata": {},
   "source": [
    "## Análisis por departamento y municipio"
   ]
  },
  {
   "cell_type": "markdown",
   "metadata": {},
   "source": [
    "Divición poblacional"
   ]
  },
  {
   "cell_type": "code",
   "execution_count": 11,
   "metadata": {},
   "outputs": [
    {
     "name": "stdout",
     "output_type": "stream",
     "text": [
      "[11 76  8 15 52 68 17 63  5 41 13 86 25 66 23 70 18 47 54 20 27 19 73 44\n",
      " 50 85 95 88 81 91 99 94 97]\n"
     ]
    }
   ],
   "source": [
    "print(data16['COD_DPTO'].unique())"
   ]
  },
  {
   "cell_type": "markdown",
   "metadata": {},
   "source": [
    "Asiganr nombres según código"
   ]
  },
  {
   "cell_type": "code",
   "execution_count": 12,
   "metadata": {},
   "outputs": [
    {
     "name": "stdout",
     "output_type": "stream",
     "text": [
      "Los departamentos son: \n",
      " {'5': 'ANTIOQUIA', '8': 'ATLÁNTICO', '11': 'BOGOTÁ, D.C.', '13': 'BOLÍVAR', '15': 'BOYACÁ', '17': 'CALDAS', '18': 'CAQUETÁ', '19': 'CAUCA', '20': 'CESAR', '23': 'CÓRDOBA', '25': 'CUNDINAMARCA', '27': 'CHOCÓ', '41': 'HUILA', '44': 'LA GUAJIRA', '47': 'MAGDALENA', '50': 'META', '52': 'NARIÑO', '54': 'NORTE DE SANTANDER', '63': 'QUINDÍO', '66': 'RISARALDA', '68': 'SANTANDER', '70': 'SUCRE', '73': 'TOLIMA', '76': 'VALLE DEL CAUCA', '81': 'ARAUCA', '85': 'CASANARE', '86': 'PUTUMAYO', '88': 'ARCHIPIÉLAGO DE SAN ANDRÉS, PROVIDENCIA Y SANTA CATALINA', '91': 'AMAZONAS', '94': 'GUAINÍA', '95': 'GUAVIARE', '97': 'VAUPÉS', '99': 'VICHADA'}\n"
     ]
    }
   ],
   "source": [
    "map_dpto = {\n",
    "    '5': 'ANTIOQUIA',\n",
    "    '8': 'ATLÁNTICO',\n",
    "    '11': 'BOGOTÁ, D.C.',\n",
    "    '13': 'BOLÍVAR',\n",
    "    '15': 'BOYACÁ',\n",
    "    '17': 'CALDAS',\n",
    "    '18': 'CAQUETÁ',\n",
    "    '19': 'CAUCA',\n",
    "    '20': 'CESAR',\n",
    "    '23': 'CÓRDOBA',\n",
    "    '25': 'CUNDINAMARCA',\n",
    "    '27': 'CHOCÓ',\n",
    "    '41': 'HUILA',\n",
    "    '44': 'LA GUAJIRA',\n",
    "    '47': 'MAGDALENA',\n",
    "    '50': 'META',\n",
    "    '52': 'NARIÑO',\n",
    "    '54': 'NORTE DE SANTANDER',\n",
    "    '63': 'QUINDÍO',\n",
    "    '66': 'RISARALDA',\n",
    "    '68': 'SANTANDER',\n",
    "    '70': 'SUCRE',\n",
    "    '73': 'TOLIMA',\n",
    "    '76': 'VALLE DEL CAUCA',\n",
    "    '81': 'ARAUCA',\n",
    "    '85': 'CASANARE',\n",
    "    '86': 'PUTUMAYO',\n",
    "    '88': 'ARCHIPIÉLAGO DE SAN ANDRÉS, PROVIDENCIA Y SANTA CATALINA',\n",
    "    '91': 'AMAZONAS',\n",
    "    '94': 'GUAINÍA',\n",
    "    '95': 'GUAVIARE',\n",
    "    '97': 'VAUPÉS',\n",
    "    '99': 'VICHADA'\n",
    "}\n",
    "print('Los departamentos son: \\n', map_dpto)"
   ]
  },
  {
   "cell_type": "code",
   "execution_count": 13,
   "metadata": {},
   "outputs": [
    {
     "name": "stdout",
     "output_type": "stream",
     "text": [
      "El tipo de datos es:  int64\n",
      "Y dado que era int64 , se convirtió a string\n",
      "['BOGOTÁ, D.C.' 'VALLE DEL CAUCA' 'ATLÁNTICO' 'BOYACÁ' 'NARIÑO'\n",
      " 'SANTANDER' 'CALDAS' 'QUINDÍO' 'ANTIOQUIA' 'HUILA' 'BOLÍVAR' 'PUTUMAYO'\n",
      " 'CUNDINAMARCA' 'RISARALDA' 'CÓRDOBA' 'SUCRE' 'CAQUETÁ' 'MAGDALENA'\n",
      " 'NORTE DE SANTANDER' 'CESAR' 'CHOCÓ' 'CAUCA' 'TOLIMA' 'LA GUAJIRA' 'META'\n",
      " 'CASANARE' 'GUAVIARE'\n",
      " 'ARCHIPIÉLAGO DE SAN ANDRÉS, PROVIDENCIA Y SANTA CATALINA' 'ARAUCA'\n",
      " 'AMAZONAS' 'VICHADA' 'GUAINÍA' 'VAUPÉS']\n"
     ]
    }
   ],
   "source": [
    "tipo= data16['COD_DPTO'].dtype\n",
    "print('El tipo de datos es: ', tipo)\n",
    "if data16['COD_DPTO'].dtype == 'int64':\n",
    "    data16['COD_DPTO'] = data16['COD_DPTO'].astype(str)\n",
    "    print(f'Y dado que era {tipo} , se convirtió a string')\n",
    "    data16['DEPARTAMENTO'] = data16['COD_DPTO'].map(map_dpto)\n",
    "    print(data16['DEPARTAMENTO'].unique())\n",
    "else:\n",
    "    data16['DEPARTAMENTO'] = data16['COD_DPTO'].map(map_dpto)\n",
    "    print(data16['DEPARTAMENTO'].unique())"
   ]
  },
  {
   "cell_type": "code",
   "execution_count": 14,
   "metadata": {},
   "outputs": [
    {
     "name": "stdout",
     "output_type": "stream",
     "text": [
      "Número de departamentos y/o ciudades: 33\n"
     ]
    }
   ],
   "source": [
    "print('Número de departamentos y/o ciudades:', len(data16['DEPARTAMENTO'].unique()))"
   ]
  },
  {
   "cell_type": "markdown",
   "metadata": {},
   "source": [
    "Reorganizar columnas"
   ]
  },
  {
   "cell_type": "code",
   "execution_count": 15,
   "metadata": {},
   "outputs": [
    {
     "data": {
      "text/html": [
       "<table border=\"1\" class=\"dataframe\">\n",
       "  <thead>\n",
       "    <tr style=\"text-align: right;\">\n",
       "      <th></th>\n",
       "      <th>COD_DPTO</th>\n",
       "      <th>DEPARTAMENTO</th>\n",
       "      <th>COD_MUNIC</th>\n",
       "      <th>A_DEFUN</th>\n",
       "      <th>SIT_DEFUN</th>\n",
       "      <th>COD_INST</th>\n",
       "      <th>NOM_INST</th>\n",
       "      <th>ANO</th>\n",
       "      <th>MES</th>\n",
       "      <th>SEXO</th>\n",
       "      <th>EST_CIVIL</th>\n",
       "      <th>gru_ed1</th>\n",
       "      <th>gru_ed2</th>\n",
       "      <th>NIVEL_EDU</th>\n",
       "      <th>MUERTEPORO</th>\n",
       "      <th>SIMUERTEPO</th>\n",
       "      <th>OCUPACION</th>\n",
       "    </tr>\n",
       "  </thead>\n",
       "  <tbody>\n",
       "    <tr>\n",
       "      <th>0</th>\n",
       "      <td>11</td>\n",
       "      <td>BOGOTÁ, D.C.</td>\n",
       "      <td>1</td>\n",
       "      <td>1</td>\n",
       "      <td>2</td>\n",
       "      <td></td>\n",
       "      <td></td>\n",
       "      <td>1996</td>\n",
       "      <td>11</td>\n",
       "      <td>2</td>\n",
       "      <td>1</td>\n",
       "      <td>10</td>\n",
       "      <td>10</td>\n",
       "      <td>9</td>\n",
       "      <td></td>\n",
       "      <td></td>\n",
       "      <td></td>\n",
       "    </tr>\n",
       "    <tr>\n",
       "      <th>1</th>\n",
       "      <td>76</td>\n",
       "      <td>VALLE DEL CAUCA</td>\n",
       "      <td>1</td>\n",
       "      <td>1</td>\n",
       "      <td>2</td>\n",
       "      <td></td>\n",
       "      <td></td>\n",
       "      <td>2007</td>\n",
       "      <td>01</td>\n",
       "      <td>2</td>\n",
       "      <td>1</td>\n",
       "      <td>10</td>\n",
       "      <td>10</td>\n",
       "      <td>2</td>\n",
       "      <td></td>\n",
       "      <td></td>\n",
       "      <td></td>\n",
       "    </tr>\n",
       "    <tr>\n",
       "      <th>2</th>\n",
       "      <td>8</td>\n",
       "      <td>ATLÁNTICO</td>\n",
       "      <td>1</td>\n",
       "      <td>1</td>\n",
       "      <td>1</td>\n",
       "      <td></td>\n",
       "      <td></td>\n",
       "      <td>1998</td>\n",
       "      <td>04</td>\n",
       "      <td>2</td>\n",
       "      <td>3</td>\n",
       "      <td>10</td>\n",
       "      <td>10</td>\n",
       "      <td>2</td>\n",
       "      <td></td>\n",
       "      <td></td>\n",
       "      <td></td>\n",
       "    </tr>\n",
       "    <tr>\n",
       "      <th>3</th>\n",
       "      <td>15</td>\n",
       "      <td>BOYACÁ</td>\n",
       "      <td>1</td>\n",
       "      <td>1</td>\n",
       "      <td>1</td>\n",
       "      <td>1500100021</td>\n",
       "      <td>H SAN RAFAEL DE TUNJA</td>\n",
       "      <td>2005</td>\n",
       "      <td>04</td>\n",
       "      <td>2</td>\n",
       "      <td>1</td>\n",
       "      <td>10</td>\n",
       "      <td>10</td>\n",
       "      <td>9</td>\n",
       "      <td></td>\n",
       "      <td></td>\n",
       "      <td></td>\n",
       "    </tr>\n",
       "    <tr>\n",
       "      <th>4</th>\n",
       "      <td>76</td>\n",
       "      <td>VALLE DEL CAUCA</td>\n",
       "      <td>1</td>\n",
       "      <td>1</td>\n",
       "      <td>1</td>\n",
       "      <td>760010379901</td>\n",
       "      <td>E.S.E. HOSPITAL UNIVERSITARIO DEL V</td>\n",
       "      <td>2006</td>\n",
       "      <td>09</td>\n",
       "      <td>2</td>\n",
       "      <td>1</td>\n",
       "      <td>10</td>\n",
       "      <td>10</td>\n",
       "      <td>1</td>\n",
       "      <td></td>\n",
       "      <td></td>\n",
       "      <td></td>\n",
       "    </tr>\n",
       "    <tr>\n",
       "      <th>5</th>\n",
       "      <td>52</td>\n",
       "      <td>NARIÑO</td>\n",
       "      <td>287</td>\n",
       "      <td>1</td>\n",
       "      <td>2</td>\n",
       "      <td></td>\n",
       "      <td></td>\n",
       "      <td>2008</td>\n",
       "      <td>10</td>\n",
       "      <td>2</td>\n",
       "      <td>1</td>\n",
       "      <td>10</td>\n",
       "      <td>10</td>\n",
       "      <td>2</td>\n",
       "      <td>2</td>\n",
       "      <td></td>\n",
       "      <td></td>\n",
       "    </tr>\n",
       "    <tr>\n",
       "      <th>6</th>\n",
       "      <td>52</td>\n",
       "      <td>NARIÑO</td>\n",
       "      <td>1</td>\n",
       "      <td>1</td>\n",
       "      <td>2</td>\n",
       "      <td></td>\n",
       "      <td></td>\n",
       "      <td>1985</td>\n",
       "      <td>11</td>\n",
       "      <td>2</td>\n",
       "      <td>2</td>\n",
       "      <td>10</td>\n",
       "      <td>10</td>\n",
       "      <td>9</td>\n",
       "      <td></td>\n",
       "      <td></td>\n",
       "      <td></td>\n",
       "    </tr>\n",
       "    <tr>\n",
       "      <th>7</th>\n",
       "      <td>68</td>\n",
       "      <td>SANTANDER</td>\n",
       "      <td>368</td>\n",
       "      <td>1</td>\n",
       "      <td>2</td>\n",
       "      <td></td>\n",
       "      <td></td>\n",
       "      <td>1986</td>\n",
       "      <td>05</td>\n",
       "      <td>2</td>\n",
       "      <td>2</td>\n",
       "      <td>10</td>\n",
       "      <td>10</td>\n",
       "      <td>9</td>\n",
       "      <td></td>\n",
       "      <td></td>\n",
       "      <td></td>\n",
       "    </tr>\n",
       "    <tr>\n",
       "      <th>8</th>\n",
       "      <td>76</td>\n",
       "      <td>VALLE DEL CAUCA</td>\n",
       "      <td>111</td>\n",
       "      <td>1</td>\n",
       "      <td>2</td>\n",
       "      <td></td>\n",
       "      <td></td>\n",
       "      <td>1989</td>\n",
       "      <td>09</td>\n",
       "      <td>2</td>\n",
       "      <td>2</td>\n",
       "      <td>10</td>\n",
       "      <td>10</td>\n",
       "      <td>9</td>\n",
       "      <td></td>\n",
       "      <td></td>\n",
       "      <td></td>\n",
       "    </tr>\n",
       "    <tr>\n",
       "      <th>9</th>\n",
       "      <td>17</td>\n",
       "      <td>CALDAS</td>\n",
       "      <td>42</td>\n",
       "      <td>1</td>\n",
       "      <td>2</td>\n",
       "      <td></td>\n",
       "      <td></td>\n",
       "      <td>1990</td>\n",
       "      <td>08</td>\n",
       "      <td>2</td>\n",
       "      <td>1</td>\n",
       "      <td>10</td>\n",
       "      <td>10</td>\n",
       "      <td>9</td>\n",
       "      <td></td>\n",
       "      <td></td>\n",
       "      <td></td>\n",
       "    </tr>\n",
       "  </tbody>\n",
       "</table>"
      ],
      "text/plain": [
       "<IPython.core.display.HTML object>"
      ]
     },
     "metadata": {},
     "output_type": "display_data"
    }
   ],
   "source": [
    "columnas = ['COD_DPTO', 'DEPARTAMENTO'] + [col for col in data16.columns if col not in ['COD_DPTO', 'DEPARTAMENTO']]\n",
    "data16 = data16[columnas]\n",
    "display(HTML(data16.head(10).to_html()))"
   ]
  },
  {
   "cell_type": "markdown",
   "metadata": {},
   "source": [
    "Codificar municipios"
   ]
  },
  {
   "cell_type": "code",
   "execution_count": 16,
   "metadata": {},
   "outputs": [
    {
     "name": "stdout",
     "output_type": "stream",
     "text": [
      "[1, 1, 1, 1, 1, 287, 1, 368, 111, 42, 401, 887, 20, 1, 244, 1, 1, 1, 385, 1, 1, 88, 1, 290, 1, 276, 834, 1, 88, 466, 594, 1, 1, 1, 1, 579, 1, 1, 753, 326, 1, 302, 456, 1, 1, 1, 1, 1, 1, 470, 1, 109, 1, 1, 1, 42, 575, 45, 1, 1, 1, 1, 1, 1, 1, 172, 1, 1, 834, 130, 1, 1, 168, 250, 698, 1, 1, 736, 307, 1, 1, 1, 1, 520, 895, 1, 380, 170, 1, 443, 109, 1, 524, 11, 1, 1, 174, 45, 147, 579, 1, 873, 1, 248, 10, 790, 1, 1, 1, 1, 670, 520, 1, 1, 759, 1, 1, 81, 168, 834, 1, 1, 1, 1, 1, 555, 720, 1, 480, 88, 282, 172, 1, 1, 1, 1, 1, 1, 1, 799, 190, 1, 837, 1, 1, 51, 1, 520, 520, 1, 1, 1, 40, 1, 1, 1, 551, 1, 1, 1, 1, 1, 1, 575, 1, 591, 759, 400, 754, 1, 520, 279, 1, 1, 1, 1, 1, 878, 1, 1, 1, 1, 1, 1, 1, 1, 1, 1, 1, 520, 1, 1, 1, 616, 1, 1, 1, 1, 1, 1, 1, 1, 1, 1, 261, 1, 616, 1, 1, 1, 1, 754, 1, 1, 1, 1, 551, 1, 1, 667, 88, 1, 1, 1, 1, 573, 1, 1, 1, 1, 1, 268, 1, 1, 1, 1, 1, 1, 1, 154, 1, 1, 1, 1, 1, 1, 759, 573, 473, 1, 1, 1, 130, 1, 440, 1, 81, 215, 1, 1, 268, 1, 1, 1, 364, 1, 1, 520, 794, 790, 31, 579, 45, 1, 1, 653, 1, 356, 1, 1, 1, 347, 349, 268, 834, 1, 1, 1, 1, 895, 1, 1, 380, 286, 430, 1, 1, 1, 1, 585, 275, 109, 360, 1, 1, 1, 1, 1, 1, 1, 513, 22, 13, 290, 1, 1, 1, 268, 1, 1, 828, 1, 1, 1, 1, 1, 1, 1, 486, 450, 594, 401, 1, 349, 670, 892, 147, 113, 364, 1, 1, 697, 758, 1, 1, 1, 670, 1, 541, 573, 162, 151, 1, 1, 1, 470, 400, 1, 126, 1, 1, 1, 1, 45, 1, 1, 1, 1, 480, 1, 1, 268, 1, 1, 1, 1, 1, 1, 109, 1, 2, 579, 1, 1, 1, 1, 1, 1, 1, 1, 81, 1, 41, 1, 126, 520, 892, 360, 45, 660, 1, 1, 1, 1, 1, 1, 1, 142, 1, 498, 671, 1, 1, 520, 266, 1, 1, 1, 1, 1, 1, 1, 1, 1, 1, 1, 248, 657, 380, 1, 1, 1, 440, 1, 124, 1, 1, 51, 1, 1, 1, 1, 867, 1, 1, 1, 1, 1, 380, 466, 1, 1, 1, 679, 1, 109, 318, 1, 1, 1, 1, 1, 1, 743, 286, 223, 1, 318, 411, 1, 1, 1, 585, 1, 1, 1, 1, 1, 614, 11, 645, 189, 518, 272, 1, 1, 1, 1, 364, 1, 520, 892, 10, 250, 120, 1, 1, 1, 1, 1, 1, 777, 1, 1, 1, 1, 162, 1, 386, 53, 1, 313, 1, 250, 1, 1, 1, 1, 1, 147, 1, 10, 1, 148, 1, 1, 1, 1, 486, 1, 245, 1, 573, 1, 1, 1, 1, 276, 81, 655, 713, 1, 616, 1, 1, 568, 615, 360, 1, 1, 1, 1, 1, 380, 1, 1, 1, 1, 1, 1, 1, 226, 1, 1, 1, 1, 1, 1, 1, 1, 172, 1, 147, 634, 1, 1, 1, 1, 662, 174, 610, 256, 1, 1, 68, 660, 290, 1, 1, 1, 1, 1, 1, 81, 276, 109, 520, 234, 1, 1, 1, 1, 421, 1, 1, 688, 1, 753, 873, 212, 743, 1, 530, 290, 1, 1, 810, 1, 1, 1, 594, 708, 1, 1, 1, 1, 1, 520, 1, 88, 1, 45, 1, 1, 763, 513, 94, 355, 758, 60, 68, 1, 130, 1, 1, 1, 1, 319, 126, 869, 736, 1, 1, 1, 1, 1, 1, 460, 758, 1, 1, 1, 1, 1, 1, 1, 1, 349, 1, 1, 13, 1, 189, 1, 560, 1, 679, 520, 834, 1, 1, 1, 1, 1, 837, 1, 1, 638, 1, 1, 1, 1, 1, 1, 380, 1, 1, 350, 1, 1, 1, 313, 207, 1, 1, 130, 130, 1, 1, 1, 1, 1, 10, 1, 756, 1, 1, 1, 1, 1, 836, 873, 299, 1, 1, 380, 1, 1, 1, 313, 1, 1, 1, 1, 1, 1, 828, 111, 147, 1, 1, 1, 1, 890, 1, 685, 1, 1, 1, 1, 572, 1, 520, 238, 1, 1, 1, 268, 1, 711, 590, 1, 1, 1, 1, 1, 81, 1, 1, 892, 109, 1, 1, 1, 490, 40, 51, 1, 88, 579, 1, 606, 1, 1, 1, 1, 1, 1, 1, 1, 592, 548, 1, 551, 313, 1, 130, 1, 1, 364, 1, 1, 31, 1, 1, 736, 1, 1, 468, 744, 1, 1, 256, 1, 130, 68, 555, 524, 1, 430, 1, 1, 411, 1, 1, 364, 1, 430, 1, 1, 1, 1, 1, 736, 1, 1, 1, 1, 1, 1, 1, 1, 874, 1, 1, 1, 1, 1, 1, 81, 449, 1, 834, 1, 1, 1, 1, 1, 1, 1, 1, 1, 442, 1, 1, 1, 1, 686, 269, 1, 1, 606, 1, 1, 1, 276, 276, 1, 268, 147, 1, 111, 1, 1, 364, 1, 1, 1, 1, 1, 1, 1, 1, 1, 1, 1, 1, 1, 1, 1, 1, 109, 250, 1, 42, 1, 1, 1, 1, 1, 1, 1, 1, 380, 380, 1, 1, 1, 1, 1, 606, 1, 683, 1, 1, 1, 520, 41, 1, 520, 1, 1, 361, 400, 1, 1, 1, 1, 1, 417, 1, 1, 1, 175, 306, 6, 1, 110, 1, 1, 1, 1, 1, 1, 1, 411, 1, 1, 1, 1, 1, 1, 736, 1, 1, 1, 1, 1, 1, 1, 1, 1, 1, 1, 1, 1, 1, 430, 1, 1, 1, 1, 1, 1, 1, 1, 1, 1, 1, 1, 283, 1, 1, 1, 245, 1, 1, 1, 1, 736, 1, 1, 1, 1, 1, 1, 1, 94, 1, 77, 1, 1, 215, 1, 1, 1, 1, 1, 615, 1, 130, 1, 1, 614, 1, 1, 837, 276, 670, 245, 1, 686, 1, 1, 1, 1, 1, 1, 1, 1, 1, 1, 1, 1, 568, 1, 1, 251, 1, 245, 1, 1, 1, 665, 1, 758, 1, 1, 1, 1, 1, 1, 1, 1, 1, 1, 1, 1, 1, 1, 13, 1, 1, 1, 1, 683, 1, 1, 1, 736, 1, 1, 662, 1, 266, 579, 790, 1, 809, 679, 1, 467, 1, 1, 1, 1, 1, 1, 1, 1, 1, 1, 1, 1, 1, 1, 1, 777, 1, 824, 1, 1, 438, 1, 1, 1, 245, 1, 555, 1, 1, 660, 810, 518, 1, 1, 81, 1, 1, 1, 1, 520, 147, 1, 1, 1, 1, 1, 147, 111, 794, 1, 1, 1, 1, 1, 1, 1, 1, 308, 1, 790, 1, 1, 1, 1, 1, 1, 1, 1, 430, 1, 1, 513, 698, 1, 307, 438, 1, 1, 1, 319, 313, 874, 1, 1, 352, 408, 319, 236, 1, 1, 1, 1, 364, 1, 1, 1, 1, 266, 1, 1, 638, 1, 1, 1, 1, 1, 1, 1, 1, 1, 1, 1, 1, 1, 1, 1, 1, 1, 1, 1, 52, 1, 1, 777, 1, 1, 1, 1, 698, 1, 466, 1, 1, 1, 302, 400, 1, 77, 81, 1, 122, 1, 1, 1, 1, 364, 122, 1, 736, 1, 1, 1, 579, 79, 1, 1, 145, 1, 1, 1, 1, 1, 1, 1, 1, 1, 1, 244, 244, 572, 867, 13, 1, 298, 298, 1, 313, 689, 1, 1, 1, 1, 1, 1, 594, 1, 1, 1, 1, 81, 671, 1, 1, 1, 1, 20, 520, 736, 1, 1, 892, 1, 1, 347, 79, 1, 55, 1, 1, 1, 306, 1, 573, 1, 1, 1, 1, 1, 1, 1, 1, 1, 1, 1, 1, 1, 1, 13, 614, 873, 873, 710, 279, 151, 1, 1, 1, 1, 1, 1, 1, 1, 770, 268, 36, 306, 1, 1, 109, 1, 122, 130, 1, 622, 109, 1, 1, 147, 1, 1, 1, 1, 1, 1, 1, 1, 1, 1, 1, 1, 1, 380, 174, 88, 247, 573, 1, 1, 675, 269, 815, 551, 689, 313, 1, 212, 1, 1, 1, 440, 1, 1, 1, 1, 1, 147, 100, 1, 1, 834, 794, 736, 885, 837, 134, 579, 79, 1, 1, 1, 1, 1, 1, 1, 1, 1, 380, 1, 1, 1, 573, 1, 298, 1, 1, 1, 1, 1, 1, 1, 1, 1, 1, 81, 101, 1, 671, 1, 109, 1, 1, 1, 1, 1, 520, 109, 1, 1, 31, 1, 667, 854, 837, 887, 1, 1, 790, 172, 1, 1, 1, 1, 1, 1, 1, 1, 1, 1, 1, 1, 1, 1, 1, 1, 1, 1, 1, 1, 1, 1, 759, 1, 662, 653, 455, 698, 228, 678, 245, 551, 551, 1, 1, 1, 810, 1, 170, 1, 1, 500, 1, 1, 1, 736, 1, 520, 109, 1, 1, 1, 1, 248, 1, 594, 79, 1, 1, 1, 1, 1, 1, 1, 1, 1, 1, 1, 30, 88, 1, 1, 1, 1, 1, 1, 1, 1, 1, 1, 686, 480, 13, 592, 205, 743, 302, 573, 660, 1, 1, 269, 290, 758, 1, 1, 490, 1, 1, 1, 1, 215, 1, 1, 591, 1, 1, 1, 1, 100, 834, 892, 1, 41, 736, 520, 1, 885, 1, 1, 591, 579, 819, 1, 1, 1, 1, 1, 1, 1, 1, 1, 1, 1, 1, 469, 175, 1, 1, 238, 42, 1, 1, 1, 13, 710, 710, 1, 754, 298, 279, 1, 245, 555, 378, 1, 1, 130, 594, 594, 1, 170, 1, 81, 1, 1, 1, 411, 268, 1, 1, 1, 1, 1, 1, 892, 1, 400, 248, 109, 1, 1, 1, 1, 154, 1, 250, 1, 45, 856, 861, 1, 1, 1, 1, 1, 1, 1, 1, 1, 1, 1, 1, 1, 1, 1, 1, 430, 1, 1, 430, 1, 1, 299, 1, 1, 380, 1, 380, 386, 1, 1, 1, 356, 1, 405, 1, 1, 170, 1, 547, 168, 1, 111, 1, 1, 233, 834, 1, 1, 1, 1, 1, 147, 1, 172, 31, 145, 172, 250, 1, 172, 1, 579, 1, 1, 1, 1, 1, 1, 1, 1, 1, 1, 1, 1, 760, 759, 122, 1, 541, 1, 154, 1, 815, 875, 53, 524, 1, 1, 1, 605, 1, 226, 399, 130, 594, 1, 1, 88, 1, 81, 1, 1, 1, 1, 520, 147, 1, 1, 1, 111, 834, 147, 520, 275, 1, 834, 1, 109, 109, 233, 736, 1, 1, 1, 858, 45, 1, 1, 665, 421, 1, 433, 1, 1, 1, 1, 1, 1, 244, 140, 176, 1, 88, 380, 1, 162, 1, 307, 1, 226, 689, 835, 1, 1, 1, 1, 555, 411, 1, 55, 111, 147, 736, 109, 1, 1, 1, 606, 1, 111, 1, 1, 1, 1, 1, 51, 88, 642, 1, 1, 638, 1, 1, 1, 1, 1, 1, 1, 807, 417, 1, 754, 1, 298, 551, 1, 1, 1, 1, 313, 577, 1, 1, 874, 1, 1, 170, 400, 1, 1, 483, 111, 1, 1, 1, 1, 1, 377, 834, 858, 1, 1, 1, 1, 1, 1, 837, 1, 849, 141, 1, 1, 1, 1, 1, 1, 1, 572, 1, 777, 486, 1, 1, 1, 1, 174, 150, 1, 205, 1, 1, 743, 586, 182, 189, 1, 1, 1, 770, 1, 551, 430, 1, 1, 568, 1, 313, 1, 1, 1, 1, 1, 1, 1, 708, 523, 1, 1, 268, 168, 1, 1, 109, 563, 122, 1, 1, 568, 1, 837, 1, 1, 690, 88, 1, 1, 88, 1, 1, 1, 1, 1, 1, 1, 1, 1, 1, 1, 1, 1, 1, 1, 1, 1, 1, 1, 1, 430, 822, 1, 495, 1, 1, 1, 1, 710, 1, 670, 1, 718, 1, 707, 1, 6, 1, 1, 1, 1, 1, 224, 1, 1, 470, 1, 1, 1, 81, 432, 1, 429, 400, 319, 1, 1, 1, 248, 863, 400, 834, 1, 1, 147, 111, 1, 1, 1, 890, 1, 111, 1, 300, 440, 1, 250, 790, 1, 154, 1, 1, 1, 30, 1, 1, 1, 1, 1, 1, 1, 1, 1, 1, 430, 480, 480, 174, 174, 29, 1, 1, 1, 1, 807, 162, 1, 555, 660, 1, 1, 1, 268, 1, 378, 1, 1, 1, 1, 1, 1, 1, 1, 1, 443, 349, 1, 124, 585, 1, 1, 1, 364, 520, 1, 1, 895, 892, 520, 1, 1, 1, 360, 591, 150, 1, 88, 154, 88, 854, 490, 579, 1, 665, 1, 1, 1, 1, 1, 1, 1, 1, 1, 1, 1, 1, 1, 176, 1, 444, 1, 807, 555, 815, 1, 572, 269, 572, 247, 6, 1, 650, 1, 1, 258, 1, 1, 399, 1, 743, 1, 1, 1, 1, 383, 1, 1, 217, 1, 1, 1, 1, 1, 1, 318, 1, 834, 895, 1, 520, 318, 1, 1, 736, 1, 585, 79, 154, 1, 1, 380, 1, 1, 1, 758, 1, 1, 1, 1, 1, 1, 1, 1, 1, 1, 1, 759, 1, 1, 592, 743, 1, 182, 1, 1, 875, 1, 13, 20, 298, 279, 245, 1, 1, 1, 1, 1, 1, 1, 130, 111, 1, 170, 1, 547, 1, 1, 275, 168, 624, 168, 520, 1, 1, 147, 520, 1, 563, 65, 10, 1, 113, 1, 756, 1, 1, 147, 250, 1, 1, 1, 1, 1, 1, 1, 777, 174, 1, 247, 585, 212, 60, 660, 1, 430, 319, 1, 1, 1, 1, 835, 1, 516, 377, 1, 130, 689, 572, 276, 268, 449, 1, 109, 109, 1, 1, 1, 1, 440, 320, 313, 361, 1, 154, 51, 1, 308, 1, 1, 1, 1, 1, 1, 1, 1, 1, 1, 1, 1, 1, 1, 1, 1, 1, 1, 1, 1, 1, 1, 1, 1, 867, 1, 592, 1, 1, 1, 1, 573, 1, 168, 307, 269, 754, 847, 1, 570, 1, 1, 1, 1, 1, 1, 130, 470, 594, 170, 1, 170, 1, 1, 1, 411, 520, 1, 109, 147, 147, 111, 834, 1, 1, 1, 736, 1, 736, 1, 1, 1, 172, 45, 674, 91, 1, 1, 1, 1, 1, 1, 1, 1, 1, 754, 1, 1, 1, 1, 81, 1, 1, 1, 1, 1, 1, 1, 142, 520, 517, 1, 11, 400, 307, 754, 899, 1, 288, 150, 1, 835, 1, 1, 1, 1, 1, 717, 820, 870, 624, 1, 443, 275, 520, 1, 1, 1, 1, 1, 129, 761, 659, 1, 1, 615, 1, 638, 758, 1, 638, 1, 1, 1, 1, 1, 1, 1, 1, 1, 1, 1, 1, 517, 743, 513, 1, 645, 1, 1, 1, 650, 1, 1, 1, 405, 1, 1, 170, 1, 1, 88, 1, 575, 268, 233, 834, 109, 364, 1, 736, 1, 122, 1, 1, 563, 794, 1, 1, 758, 34, 250, 147, 1, 1, 1, 1, 34, 1, 758, 1, 1, 1, 1, 1, 1, 1, 1, 238, 1, 572, 29, 821, 573, 1, 672, 1, 1, 718, 1, 6, 1, 615, 650, 1, 1, 399, 1, 1, 302, 1, 302, 1, 1, 1, 1, 276, 307, 717, 347, 1, 1, 111, 364, 111, 1, 1, 1, 1, 41, 1, 1, 1, 1, 1, 790, 1, 1, 1, 45, 1, 1, 606, 1, 1, 1, 1, 1, 1, 1, 1, 1, 188, 1, 1, 1, 759, 1, 653, 1, 1, 1, 1, 1, 13, 1, 1, 175, 843, 754, 1, 754, 189, 1, 356, 498, 1, 470, 170, 1, 1, 1, 168, 400, 1, 1, 1, 834, 520, 736, 1, 1, 1, 1, 266, 88, 1, 360, 45, 1, 615, 1, 1, 1, 1, 1, 1, 1, 1, 1, 1, 1, 244, 1, 469, 873, 753, 1, 11, 11, 1, 1, 1, 1, 1, 1, 1, 1, 1, 692, 1, 1, 288, 1, 720, 405, 1, 1, 547, 1, 276, 276, 1, 1, 1, 823, 168, 1, 1, 834, 834, 1, 400, 1, 1, 1, 1, 520, 736, 1, 1, 162, 1, 490, 1, 1, 1, 1, 1, 1, 440, 147, 1, 1, 1, 1, 1, 1, 1, 1, 1, 1, 1, 1, 1, 238, 1, 1, 13, 1, 1, 1, 1, 1, 1, 1, 1, 1, 396, 1, 1, 551, 1, 268, 245, 1, 313, 1, 1, 1, 679, 81, 1, 1, 1, 520, 1, 1, 109, 1, 563, 1, 275, 834, 1, 1, 1, 1, 604, 1, 1, 1, 1, 1, 1, 376, 1, 1, 1, 758, 1, 1, 1, 1, 1, 1, 1, 1, 1, 1, 1, 1, 1, 1, 1, 1, 1, 42, 1, 94, 1, 1, 473, 1, 754, 1, 269, 1, 1, 1, 1, 1, 1, 1, 1, 307, 276, 81, 233, 1, 1, 1, 834, 1, 233, 1, 1, 1, 736, 1, 320, 1, 1, 45, 1, 101, 1, 1, 842, 45, 1, 1, 1, 1, 1, 1, 1, 1, 1, 1, 1, 1, 1, 1, 1, 1, 1, 759, 238, 1, 1, 417, 417, 79, 1, 1, 1, 1, 1, 1, 1, 1, 1, 1, 1, 1, 1, 1, 1, 1, 1, 1, 1, 147, 81, 81, 575, 1, 1, 168, 1, 1, 892, 895, 1, 1, 1, 1, 1, 1, 1, 1, 1, 1, 1, 1, 837, 1, 1, 1, 1, 1, 1, 1, 1, 1, 1, 1, 1, 1, 1, 873, 759, 759, 614, 855, 1, 1, 770, 1, 189, 1, 1, 356, 498, 1, 1, 1, 1, 1, 1, 861, 307, 283, 1, 1, 349, 1, 1, 1, 1, 1, 1, 1, 1, 1, 20, 1, 1, 109, 109, 1, 1, 615, 1, 1, 88, 1, 1, 1, 1, 1, 1, 1, 1, 1, 1, 1, 430, 238, 572, 777, 380, 1, 473, 1, 175, 1, 1, 807, 417, 1, 650, 330, 313, 1, 385, 1, 1, 1, 1, 1, 1, 1, 307, 1, 1, 1, 845, 1, 834, 1, 1, 1, 1, 794, 1, 1, 1, 1, 6, 1, 1, 1, 1, 980, 1, 834, 1, 759, 1, 1, 1, 1, 1, 495, 1, 1, 1, 591, 250, 1, 1, 1, 1, 1, 1, 154, 606, 1, 238, 1, 1, 1, 1, 1, 1, 276, 247, 172, 736, 1, 111, 1, 980, 269, 275, 861, 1, 1, 1, 1, 1, 1, 1, 1, 1, 1, 1, 1, 1, 1, 1, 306, 1, 1, 1, 807, 433, 1, 1, 1, 1, 1, 1, 1, 1, 551, 1, 1, 1, 678, 1, 1, 670, 1, 1, 1, 275, 1, 1, 1, 835, 1, 615, 1, 1, 1, 79, 1, 1, 1, 1, 1, 1, 1, 1, 1, 1, 1, 109, 1, 1, 1, 1, 1, 443, 1, 1, 1, 1, 1, 1, 606, 81, 520, 1, 1, 1, 1, 1, 413, 1, 1, 1, 1, 570, 520, 1, 1, 1, 1, 758, 1, 444, 807, 1, 1, 834, 520, 1, 1, 1, 1, 834, 1, 1, 1, 1, 1, 1, 1, 1, 1, 807, 1, 1, 1, 1, 1, 1, 1, 1, 1, 1, 680, 1, 1, 1, 1, 396, 1, 1, 1, 1, 1, 1, 174, 1, 298, 430, 1, 1, 770, 1, 235, 1, 1, 807, 1, 1, 1, 622, 1, 1, 1, 1, 1, 1, 1, 743, 88, 1, 1, 1, 1, 440, 1, 148, 1, 1, 1, 1, 1, 1, 1, 1, 1, 1, 1, 1, 1, 1, 1, 1, 1, 1, 1, 1, 1, 238, 507, 1, 1, 1, 660, 1, 466, 1, 1, 1, 754, 524, 1, 1, 1, 1, 1, 399, 250, 1, 518, 1, 498, 1, 190, 1, 1, 1, 1, 1, 268, 1, 1, 1, 122, 1, 1, 1, 1, 1, 1, 1, 892, 1, 1, 1, 1, 1, 1, 147, 1, 1, 130, 1, 1, 1, 60, 250, 178, 245, 1, 1, 1, 1, 1, 1, 890, 190, 1, 1, 649, 1, 1, 1, 1, 1, 756, 1, 282, 266, 1, 486, 1, 1, 1, 1, 1, 1, 1, 1, 1, 1, 1, 1, 1, 1, 1, 1, 1, 1, 1, 1, 1, 572, 1, 388, 1, 1, 548, 1, 675, 817, 754, 430, 269, 361, 1, 1, 1, 53, 189, 53, 189, 313, 1, 1, 356, 1, 313, 874, 518, 1, 594, 190, 1, 440, 1, 823, 1, 1, 1, 1, 1, 1, 147, 113, 1, 520, 1, 520, 377, 1, 1, 573, 45, 1, 88, 1, 282, 1, 679, 34, 212, 440, 45, 1, 154, 1, 1, 137, 486, 1, 1, 1, 1, 1, 1, 1, 1, 1, 1, 1, 1, 1, 1, 1, 176, 480, 541, 42, 1, 1, 1, 532, 573, 466, 175, 361, 551, 1, 313, 1, 573, 172, 1, 1, 1, 1, 1, 81, 1, 1, 352, 1, 1, 1, 36, 1, 1, 890, 275, 1, 1, 1, 400, 895, 111, 1, 109, 520, 1, 834, 109, 1, 122, 1, 1, 837, 1, 604, 1, 1, 1, 147, 88, 1, 1, 638, 1, 1, 1, 1, 1, 1, 1, 1, 1, 1, 1, 1, 1, 1, 1, 1, 1, 1, 1, 541, 1, 1, 1, 736, 1, 430, 1, 1, 1, 707, 1, 689, 573, 1, 1, 1, 1, 1, 1, 682, 1, 170, 170, 1, 1, 1, 81, 1, 276, 1, 1, 1, 520, 1, 243, 275, 275, 1, 130, 1, 892, 100, 761, 1, 1, 1, 736, 1, 1, 154, 1, 1, 758, 1, 758, 1, 1, 1, 1, 1, 1, 1, 1, 1, 1, 1, 1, 1, 1, 1, 1, 1, 1, 1, 1, 244, 1, 1, 1, 654, 654, 1, 653, 541, 1, 1, 1, 1, 372, 1, 1, 288, 675, 573, 1, 1, 1, 1, 190, 1, 770, 1, 1, 1, 81, 276, 215, 1, 268, 834, 895, 1, 1, 318, 1, 1, 1, 1, 1, 1, 1, 1, 1, 1, 1, 1, 1, 756, 172, 1, 1, 1, 1, 1, 209, 1, 1, 1, 1, 1, 1, 1, 1, 1, 1, 1, 1, 1, 1, 1, 1, 1, 238, 176, 299, 516, 1, 524, 380, 1, 573, 212, 555, 1, 1, 555, 1, 548, 1, 1, 1, 650, 1, 6, 711, 1, 1, 1, 470, 1, 1, 318, 594, 1, 1, 215, 1, 411, 1, 563, 563, 520, 1, 736, 892, 1, 1, 1, 1, 834, 1, 1, 520, 520, 1, 837, 1, 1, 45, 579, 1, 142, 1, 1, 1, 376, 1, 78, 758, 1, 1, 1, 1, 1, 1, 1, 1, 1, 1, 1, 1, 1, 1, 1, 1, 1, 52, 1, 541, 662, 256, 256, 548, 1, 466, 1, 754, 1, 1, 1, 689, 400, 1, 1, 1, 874, 1, 1, 45, 81, 81, 276, 81, 255, 1, 275, 168, 268, 520, 834, 233, 1, 1, 1, 1, 400, 36, 1, 1, 1, 1, 579, 1, 854, 649, 88, 154, 756, 631, 1, 1, 887, 147, 1, 1, 1, 1, 1, 1, 1, 1, 1, 1, 1, 1, 1, 1, 1, 1, 1, 1, 1, 1, 1, 1, 1, 1, 877, 1, 548, 182, 307, 320, 1, 1, 1, 1, 132, 668, 1, 245, 288, 1, 6, 1, 356, 693, 356, 1, 400, 1, 1, 1, 276, 1, 1, 271, 1, 283, 55, 873, 520, 1, 869, 1, 1, 895, 111, 622, 109, 147, 1, 1, 1, 1, 1, 364, 1, 1, 1, 665, 148, 376, 380, 45, 360, 1, 310, 854, 861, 573, 1, 1, 1, 1, 1, 1, 1, 1, 1, 1, 1, 1, 1, 1, 1, 1, 1, 1, 1, 1, 1, 1, 1, 1, 1, 256, 256, 622, 1, 245, 396, 551, 797, 1, 1, 1, 1, 6, 1, 418, 1, 1, 399, 260, 838, 1, 810, 810, 1, 1, 1, 1, 400, 318, 1, 1, 615, 81, 1, 1, 1, 1, 349, 1, 233, 1, 1, 834, 147, 520, 109, 890, 122, 247, 122, 1, 361, 1, 172, 1, 1, 1, 51, 1, 736, 1, 1, 1, 1, 1, 1, 244, 1, 1, 1, 1, 1, 1, 1, 1, 1, 1, 1, 1, 1, 1, 1, 1, 1, 1, 1, 1, 244, 1, 867, 1, 1, 1, 532, 1, 1, 1, 238, 1, 290, 1, 313, 1, 689, 1, 1, 1, 1, 498, 401, 1, 1, 81, 1, 1, 81, 215, 1, 268, 275, 1, 895, 1, 1, 834, 869, 1, 1, 1, 109, 1, 834, 1, 147, 1, 1, 520, 1, 111, 520, 1, 1, 662, 396, 1, 761, 129, 837, 1, 380, 658, 361, 1, 1, 837, 1, 1, 1, 1, 1, 1, 1, 1, 1, 1, 1, 1, 1, 1, 1, 1, 1, 1, 1, 1, 1, 1, 1, 1, 430, 244, 572, 1, 1, 1, 1, 1, 520, 1, 1, 1, 1, 862, 899, 307, 668, 1, 298, 1, 1, 1, 1, 1, 1, 1, 1, 1, 1, 1, 1, 1, 283, 268, 147, 1, 1, 520, 1, 1, 147, 1, 520, 1, 736, 1, 126, 1, 1, 147, 1, 823, 520, 1, 1, 1, 847, 120, 380, 736, 1, 88, 1, 1, 1, 1, 1, 697, 756, 1, 606, 1, 1, 1, 1, 1, 1, 1, 1, 1, 1, 1, 1, 1, 1, 1, 1, 1, 1, 1, 1, 1, 1, 1, 1, 1, 836, 759, 1, 1, 662, 486, 1, 442, 1, 100, 573, 573, 1, 466, 307, 349, 524, 359, 430, 1, 1, 686, 1, 399, 1, 1, 1, 1, 170, 1, 81, 1, 1, 1, 1, 1, 1, 895, 1, 520, 250, 520, 147, 606, 1, 834, 109, 1, 1, 1, 895, 275, 1, 1, 1, 1, 1, 834, 1, 1, 129, 1, 1, 1, 1, 895, 1, 212, 1, 1, 887, 1, 1, 1, 79, 360, 579, 1, 209, 579, 1, 1, 1, 1, 1, 1, 1, 1, 1, 1, 1, 1, 1, 1, 1, 1, 1, 1, 1, 1, 1, 299, 572, 759, 1, 1, 653, 1, 541, 662, 592, 573, 100, 698, 1, 621, 400, 1, 899, 743, 290, 1, 1, 1, 1, 1, 1, 1, 1, 1, 356, 1, 1, 1, 1, 1, 1, 1, 400, 88, 1, 276, 1, 81, 1, 1, 1, 1, 268, 268, 1, 1, 109, 1, 1, 1, 834, 109, 736, 1, 1, 122, 147, 1, 834, 1, 1, 1, 1, 1, 1, 122, 364, 1, 1, 1, 1, 1, 45, 664, 854, 837, 1, 1, 1, 1, 1, 42, 1, 30, 1, 1, 30, 1, 1, 1, 560, 758, 1, 1, 1, 1, 1, 1, 1, 1, 1, 1, 1, 1, 1, 1, 1, 430, 1, 1, 780, 759, 1, 174, 1, 174, 1, 1, 1, 548, 1, 269, 290, 754, 1, 288, 1, 1, 313, 1, 1, 1, 1, 1, 1, 1, 1, 1, 1, 1, 1, 170, 1, 1, 1, 81, 1, 1, 1, 1, 820, 1, 1, 1, 1, 124, 1, 1, 109, 250, 606, 1, 1, 455, 520, 364, 300, 1, 1, 88, 1, 1, 1, 1, 1, 1, 1, 1, 45, 266, 360, 665, 837, 1, 842, 1, 1, 1, 1, 1, 1, 1, 1, 1, 1, 1, 1, 1, 1, 1, 1, 1, 1, 1, 1, 1, 1, 1, 777, 272, 380, 541, 1, 517, 1, 821, 228, 770, 1, 300, 466, 175, 317, 754, 1, 286, 1, 1, 1, 306, 1, 1, 1, 1, 356, 1, 1, 1, 1, 1, 1, 1, 276, 1, 1, 401, 594, 1, 400, 276, 1, 655, 689, 689, 418, 1, 1, 713, 1, 624, 1, 1, 1, 1, 1, 1, 1, 1, 109, 111, 1, 1, 520, 520, 892, 895, 1, 440, 569, 569, 615, 1, 45, 837, 1, 1, 856, 790, 45, 154, 79, 209, 1, 579, 895, 250, 376, 1, 615, 736, 1, 1, 1, 1, 685, 1, 1, 1, 1, 1, 1, 1, 1, 1, 1, 1, 1, 1, 1, 1, 1, 1, 1, 1, 480, 653, 400, 1, 50, 380, 1, 380, 1, 380, 174, 1, 1, 100, 743, 450, 256, 11, 189, 79, 466, 162, 1, 1, 1, 785, 386, 307, 551, 1, 1, 1, 1, 1, 1, 573, 245, 356, 835, 1, 1, 553, 1, 1, 874, 1, 470, 1, 1, 1, 1, 1, 406, 1, 1, 717, 443, 283, 168, 268, 1, 352, 624, 1, 147, 1, 100, 1, 1, 1, 1, 111, 520, 834, 1, 364, 318, 1, 834, 147, 736, 65, 568, 1, 209, 266, 1, 1, 1, 266, 266, 1, 1, 360, 360, 1, 1, 792, 1, 758, 1, 1, 1, 1, 1, 1, 1, 1, 1, 1, 1, 1, 1, 433, 430, 1, 1, 244, 52, 52, 238, 322, 759, 380, 614, 444, 42, 174, 75, 455, 517, 1, 1, 1, 1, 1, 660, 843, 1, 1, 1, 1, 1, 1, 298, 1, 1, 551, 1, 1, 1, 1, 313, 573, 1, 1, 1, 1, 518, 1, 1, 1, 1, 1, 1, 1, 1, 1, 1, 81, 276, 1, 1, 1, 678, 168, 283, 283, 1, 1, 364, 1, 892, 1, 1, 892, 1, 109, 275, 1, 1, 1, 1, 1, 1, 1, 1, 756, 250, 604, 1, 1, 1, 154, 1, 1, 38, 756, 172, 209, 30, 1, 147, 1, 1, 1, 1, 433, 638, 638, 1, 1, 1, 1, 1, 1, 1, 1, 1, 1, 1, 1, 1, 1, 1, 1, 1, 1, 1, 1, 430, 276, 1, 572, 299, 759, 1, 877, 1, 380, 450, 11, 1, 300, 320, 1, 1, 551, 1, 20, 430, 1, 980, 590, 1, 1, 207, 1, 1, 1, 1, 1, 1, 1, 1, 1, 1, 594, 1, 1, 1, 276, 1, 276, 81, 1, 1, 443, 349, 563, 1, 1, 1, 1, 1, 1, 520, 1, 1, 1, 147, 1, 1, 1, 1, 794, 1, 1, 148, 4, 1, 1, 1, 45, 604, 264, 45, 360, 837, 490, 480, 1, 1, 31, 1, 1, 147, 887, 854, 638, 1, 1, 1, 1, 1, 1, 1, 1, 1, 1, 1, 1, 1, 1, 1, 1, 1, 1, 1, 1, 1, 1, 1, 212, 430, 1, 1, 1, 759, 759, 1, 380, 1, 444, 614, 479, 473, 238, 238, 787, 1, 11, 1, 614, 466, 1, 807, 1, 1, 1, 743, 1, 290, 810, 1, 298, 430, 1, 1, 288, 1, 1, 1, 350, 1, 6, 1, 1, 1, 1, 838, 1, 1, 506, 835, 683, 1, 1, 261, 1, 1, 1, 1, 190, 1, 572, 1, 1, 1, 1, 1, 276, 276, 1, 307, 268, 624, 217, 1, 606, 834, 1, 736, 520, 834, 248, 1, 1, 109, 794, 1, 1, 1, 1, 1, 1, 1, 667, 93, 360, 45, 1, 212, 861, 45, 1, 1, 1, 1, 790, 1, 1, 1, 1, 1, 638, 1, 1, 1, 1, 1, 1, 1, 1, 1, 1, 1, 1, 1, 1, 1, 1, 1, 1, 1, 760, 1, 1, 1, 1, 466, 1, 162, 290, 214, 307, 320, 1, 1, 1, 754, 306, 1, 1, 1, 288, 1, 6, 400, 1, 203, 553, 874, 874, 1, 1, 1, 594, 1, 1, 1, 1, 1, 81, 1, 81, 461, 1, 124, 168, 411, 449, 1, 111, 890, 736, 834, 834, 1, 122, 1, 109, 1, 1, 287, 1, 858, 1, 154, 756, 667, 847, 1, 1, 679, 790, 1, 1, 1, 604, 549, 758, 1, 1, 1, 1, 1, 1, 1, 1, 1, 1, 1, 1, 1, 1, 1, 1, 1, 50, 873, 1, 1, 1, 1, 1, 592, 698, 1, 1, 1, 1, 1, 1, 168, 758, 754, 175, 1, 1, 1, 837, 872, 1, 1, 1, 1, 1, 226, 1, 1, 1, 399, 1, 1, 1, 1, 1, 1, 212, 470, 1, 470, 1, 1, 1, 1, 1, 1, 1, 1, 547, 873, 319, 268, 349, 30, 1, 1, 616, 109, 111, 109, 520, 892, 834, 1, 1, 1, 1, 1, 1, 1, 1, 172, 361, 172, 1, 679, 1, 284, 1, 88, 1, 758, 1, 1, 1, 1, 1, 1, 1, 1, 1, 1, 1, 1, 1, 1, 1, 1, 1, 204, 621, 1, 1, 1, 785, 150, 130, 1, 698, 517, 743, 770, 1, 555, 1, 878, 1, 1, 1, 1, 1, 378, 650, 170, 288, 551, 1, 1, 1, 226, 6, 1, 1, 1, 835, 1, 1, 835, 1, 1, 1, 1, 405, 111, 687, 1, 400, 1, 1, 1, 211, 468, 385, 81, 190, 429, 771, 215, 616, 349, 449, 1, 520, 520, 318, 318, 1, 147, 622, 1, 1, 1, 1, 1, 1, 1, 759, 1, 368, 579, 858, 30, 88, 1, 1, 837, 101, 1, 1, 1, 1, 1, 1, 1, 1, 1, 1, 1, 1, 1, 1, 1, 1, 1, 30, 1, 1, 1, 1, 1, 1, 238, 1, 614, 380, 541, 1, 753, 1, 1, 1, 228, 1, 1, 586, 807, 1, 855, 1, 1, 322, 1, 1, 279, 288, 573, 1, 400, 1, 1, 1, 83, 498, 1, 1, 1, 1, 1, 1, 1, 405, 1, 1, 1, 820, 1, 1, 624, 1, 504, 268, 148, 124, 1, 443, 1, 36, 520, 1, 1, 1, 1, 1, 1, 36, 591, 759, 10, 1, 376, 1, 1, 1, 604, 1, 1, 790, 1, 1, 361, 88, 1, 837, 679, 1, 638, 1, 1, 1, 1, 1, 1, 1, 1, 1, 1, 1, 1, 1, 1, 1, 1, 1, 1, 1, 1, 1, 1, 1, 1, 446, 1, 1, 256, 1, 1, 11, 787, 787, 1, 13, 1, 675, 1, 875, 845, 1, 754, 269, 1, 1, 1, 319, 1, 288, 1, 1, 1, 585, 1, 1, 22, 356, 1, 1, 1, 1, 1, 170, 1, 400, 400, 1, 307, 276, 1, 1, 1, 1, 275, 1, 268, 1, 895, 1, 1, 111, 1, 1, 1, 1, 1, 1, 130, 736, 1, 1, 1, 1, 1, 1, 1, 1, 1, 1, 1, 1, 615, 172, 1, 1, 1, 1, 1, 1, 1, 1, 1, 1, 1, 1, 1, 1, 1, 1, 1, 1, 1, 1, 549, 272, 1, 1, 1, 1, 1, 256, 22, 455, 550, 1, 1, 1, 1, 1, 417, 189, 466, 1, 120, 754, 743, 1, 1, 320, 1, 326, 1, 1, 53, 1, 1, 1, 1, 835, 1, 1, 1, 660, 1, 261, 518, 874, 1, 1, 1, 1, 1, 1, 1, 170, 655, 276, 81, 1, 235, 276, 1, 1, 1, 1, 283, 268, 26, 1, 109, 1, 1, 1, 109, 1, 130, 1, 1, 1, 869, 1, 1, 306, 1, 1, 1, 65, 794, 736, 1, 1, 45, 1, 1, 837, 1, 1, 1, 1, 360, 1, 1, 1, 758, 1, 1, 1, 1, 1, 1, 1, 1, 1, 1, 1, 1, 1, 1, 430, 1, 688, 1, 1, 753, 1, 1, 1, 1, 1, 1, 1, 1, 1, 860, 455, 548, 1, 1, 1, 175, 1, 189, 1, 417, 417, 1, 175, 307, 473, 1, 1, 1, 1, 75, 1, 551, 1, 279, 1, 245, 1, 258, 313, 226, 251, 6, 1, 1, 1, 1, 261, 874, 1, 1, 518, 1, 1, 1, 1, 385, 190, 1, 1, 81, 400, 408, 319, 1, 1, 1, 1, 122, 520, 1, 1, 1, 1, 109, 1, 1, 1, 1, 1, 233, 1, 1, 1, 1, 147, 1, 1, 1, 1, 1, 1, 1, 1, 1, 1, 1, 1, 1, 1, 1, 1, 1, 1, 1, 1, 1, 1, 1, 1, 1, 1, 1, 1, 1, 1, 1, 1, 1, 1, 1, 1, 1, 1, 238, 1, 1, 1, 1, 614, 1, 1, 1, 753, 532, 533, 13, 11, 11, 1, 45, 189, 1, 1, 807, 1, 126, 662, 1, 1, 1, 1, 1, 1, 1, 1, 703, 53, 189, 1, 1, 356, 1, 1, 1, 498, 498, 1, 1, 383, 1, 1, 689, 1, 1, 1, 1, 1, 30, 1, 616, 1, 622, 1, 1, 1, 823, 1, 1, 520, 1, 1, 665, 51, 1, 45, 45, 837, 736, 1, 1, 685, 1, 1, 1, 1, 1, 1, 1, 1, 1, 1, 1, 1, 1, 1, 1, 1, 1, 1, 1, 176, 1, 1, 1, 1, 573, 256, 466, 1, 1, 660, 148, 1, 658, 1, 1, 183, 19, 1, 298, 1, 650, 1, 1, 1, 1, 1, 1, 313, 313, 1, 1, 683, 1, 1, 1, 520, 1, 1, 1, 1, 1, 130, 1, 572, 1, 81, 81, 1, 713, 1, 1, 1, 1, 1, 1, 111, 147, 1, 1, 1, 1, 1, 1, 1, 665, 1, 837, 266, 154, 234, 591, 1, 1, 1, 1, 1, 1, 1, 1, 1, 1, 1, 1, 1, 1, 1, 1, 1, 1, 1, 88, 1, 614, 1, 548, 455, 1, 1, 60, 400, 350, 807, 1, 1, 1, 743, 386, 1, 1, 269, 1, 269, 1, 306, 1, 1, 1, 847, 279, 1, 1, 1, 1, 1, 1, 1, 1, 1, 585, 1, 1, 1, 1, 1, 1, 1, 1, 1, 1, 276, 1, 1, 1, 1, 283, 1, 1, 147, 1, 20, 1, 1, 1, 520, 1, 111, 1, 1, 1, 111, 306, 1, 1, 568, 1, 88, 490, 790, 1, 1, 1, 1, 1, 440, 1, 1, 1, 1, 1, 1, 1, 1, 1, 1, 1, 1, 1, 1, 1, 1, 1, 1, 1, 1, 1, 1, 688, 52, 1, 238, 1, 1, 1, 1, 780, 698, 1, 1, 1, 1, 1, 1, 1, 1, 1, 290, 1, 1, 1, 1, 1, 1, 1, 313, 1, 1, 399, 518, 1, 874, 1, 1, 1, 585, 1, 226, 1, 1, 1, 563, 1, 1, 1, 122, 834, 1, 834, 1, 1, 1, 147, 563, 147, 1, 1, 1, 573, 837, 1, 1, 1, 1, 1, 1, 1, 1, 1, 758, 1, 1, 1, 1, 1, 1, 1, 1, 1, 1, 1, 1, 1, 1, 1, 759, 176, 88, 1, 1, 1, 532, 1, 1, 1, 1, 182, 1, 1, 1, 53, 473, 317, 1, 386, 1, 290, 1, 1, 1, 1, 400, 1, 568, 1, 83, 1, 1, 130, 1, 1, 1, 1, 1, 1, 1, 215, 1, 1, 307, 1, 411, 1, 520, 1, 1, 109, 1, 520, 233, 1, 111, 42, 1, 1, 1, 266, 1, 1, 1, 266, 376, 1, 1, 1, 1, 1, 1, 1, 1, 1, 1, 1, 1, 1, 1, 1, 1, 1, 1, 1, 1, 1, 1, 1, 1, 1, 1, 670, 657, 1, 1, 74, 580, 238, 276, 1, 42, 1, 1, 473, 1, 397, 417, 555, 1, 1, 1, 1, 1, 1, 1, 899, 754, 1, 298, 1, 1, 189, 251, 350, 1, 1, 313, 1, 1, 1, 1, 1, 1, 1, 1, 271, 276, 1, 1, 1, 1, 1, 1, 443, 1, 1, 1, 364, 520, 1, 622, 1, 1, 892, 1, 109, 1, 147, 109, 1, 1, 1, 520, 1, 1, 276, 571, 1, 1, 276, 794, 1, 1, 111, 1, 1, 1, 1, 573, 650, 313, 847, 1, 1, 555, 689, 1, 1, 1, 1, 1, 269, 81, 168, 1, 1, 1, 1, 1, 1, 175, 255, 787, 150, 1, 1, 642, 1, 473, 1, 1, 1, 518, 1, 1, 1, 1, 1, 147, 1, 1, 238, 400, 468, 600, 1, 162, 1, 1, 1, 1, 1, 1, 1, 142, 1, 1, 1, 1, 1, 1, 1, 1, 430, 1, 1, 1, 1, 1, 1, 555, 1, 1, 357, 1, 1, 1, 1, 1, 1, 1, 1, 1, 1, 1, 1, 1, 1, 1, 1, 16, 1, 612, 1, 1, 473, 1, 670, 1, 1, 670, 207, 1, 1, 1, 1, 1, 380, 1, 824, 1, 1, 1, 1, 296, 1, 1, 1, 1, 275, 1, 1, 45, 1, 1, 1, 1, 1, 1, 1, 1, 1, 615, 215, 443, 1, 1, 600, 181, 1, 1, 660, 172, 1, 1, 707, 276, 1, 1, 1, 1, 1, 1, 1, 238, 1, 1, 507, 1, 1, 606, 1, 1, 599, 555, 1, 1, 1, 1, 286, 266, 1, 491, 1, 1, 1, 78, 430, 1, 1, 549, 1, 1, 638, 1, 1, 1, 1, 1, 835, 498, 1, 1, 1, 1, 1, 1, 1, 1, 1, 1, 399, 837, 1, 1, 1, 396, 296, 1, 1, 520, 1, 1, 1, 1, 1, 1, 1, 1, 1, 1, 1, 877, 1, 1, 1, 1, 1, 244, 1, 1, 1, 1, 498, 551, 1, 1, 244, 1, 1, 1, 1, 1, 1, 1, 1, 318, 1, 355, 1, 1, 1, 1, 1, 1, 1, 1, 615, 1, 834, 1, 168, 88, 660, 1, 1, 1, 1, 1, 1, 1, 1, 1, 548, 555, 1, 473, 1, 1, 1, 1, 1, 1, 1, 1, 1, 430, 1, 1, 268, 1, 1, 1, 81, 1, 585, 1, 1, 470, 1, 1, 1, 1, 1, 1, 1, 1, 1, 1, 1, 1, 469, 834, 1, 433, 1, 1, 1, 1, 1, 1, 1, 1, 1, 79, 1, 1, 615, 615, 1, 1, 1, 1, 756, 1, 1, 837, 1, 1, 1, 1, 1, 1, 634, 1, 1, 1, 1, 1, 1, 1, 1, 1, 1, 1, 1, 1, 1, 1, 1, 1, 1, 299, 1, 42, 1, 272, 380, 1, 1, 1, 1, 899, 269, 1, 1, 307, 1, 720, 1, 1, 1, 1, 1, 1, 1, 573, 1, 1, 1, 130, 1, 1, 1, 1, 547, 547, 547, 190, 276, 1, 283, 1, 520, 1, 520, 834, 1, 1, 1, 1, 1, 1, 1, 1, 1, 1, 1, 1, 1, 834, 11, 1, 1, 1, 1, 1, 1, 1, 1, 1, 3, 1, 1, 1, 1, 1, 1, 756, 91, 45, 1, 360, 376, 137, 1, 1, 1, 1, 1, 1, 1, 1, 1, 1, 1, 1, 1, 1, 1, 1, 1, 1, 1, 1, 1, 1, 1, 1, 1, 1, 1, 1, 1, 1, 1, 174, 1, 1, 1, 455, 450, 1, 1, 1, 1, 417, 290, 841, 297, 662, 290, 269, 862, 1, 1, 1, 1, 855, 1, 1, 1, 835, 1, 1, 498, 1, 1, 548, 1, 1, 682, 170, 170, 1, 1, 81, 1, 81, 1, 81, 1, 1, 1, 1, 1, 1, 1, 1, 1, 1, 892, 1, 1, 1, 520, 1, 1, 1, 1, 1, 1, 1, 1, 568, 792, 1, 1, 154, 1, 1, 1, 887, 129, 129, 440, 1, 1, 1, 758, 1, 1, 1, 1, 1, 1, 1, 1, 1, 1, 1, 1, 1, 1, 1, 1, 1, 1, 1, 1, 1, 1, 653, 1, 616, 13, 1, 753, 1, 455, 450, 392, 154, 1, 290, 1, 1, 1, 615, 573, 1, 1, 1, 1, 874, 498, 302, 383, 1, 440, 170, 1, 1, 770, 307, 1, 820, 1, 268, 1, 349, 1, 109, 520, 403, 364, 1, 1, 1, 869, 520, 1, 736, 1, 1, 172, 45, 736, 847, 31, 1, 1, 353, 154, 1, 1, 1, 1, 1, 1, 1, 1, 1, 1, 1, 1, 1, 1, 1, 1, 1, 1, 600, 1, 1, 753, 753, 322, 653, 1, 486, 486, 877, 272, 1, 1, 1, 212, 1, 162, 1, 1, 1, 779, 551, 551, 20, 1, 1, 606, 835, 1, 1, 1, 1, 470, 1, 594, 88, 440, 1, 1, 1, 1, 276, 1, 81, 1, 1, 1, 1, 1, 1, 248, 1, 520, 1, 520, 1, 1, 1, 520, 1, 147, 1, 147, 670, 1, 1, 1, 65, 1, 682, 790, 1, 1, 234, 1, 21, 1, 93, 45, 1, 1, 1, 1, 685, 433, 1, 1, 1, 1, 1, 1, 1, 1, 1, 1, 1, 1, 1, 1, 1, 1, 780, 238, 380, 1, 444, 777, 524, 753, 1, 1, 1, 307, 754, 20, 577, 261, 810, 1, 400, 1, 170, 276, 276, 385, 1, 755, 1, 1, 349, 1, 585, 671, 1, 30, 124, 1, 1, 1, 1, 1, 1, 895, 1, 1, 1, 823, 1, 147, 736, 1, 246, 1, 1, 1, 1, 604, 283, 653, 1, 847, 1, 1, 172, 1, 250, 1, 266, 376, 837, 1, 1, 250, 1, 1, 1, 1, 1, 1, 1, 1, 1, 1, 1, 1, 1, 1, 1, 1, 1, 1, 1, 244, 1, 1, 572, 759, 616, 1, 1, 807, 807, 807, 621, 45, 1, 898, 293, 754, 20, 396, 132, 53, 1, 313, 1, 1, 1, 1, 1, 1, 88, 170, 400, 682, 400, 687, 1, 1, 432, 1, 276, 616, 268, 1, 1, 1, 109, 670, 563, 520, 130, 1, 1, 1, 147, 520, 1, 1, 1, 1, 1, 1, 1, 1, 1, 209, 1, 1, 88, 154, 172, 1, 579, 250, 858, 1, 1, 1, 1, 1, 1, 1, 1, 1, 1, 1, 1, 1, 1, 1, 1, 1, 1, 244, 1, 1, 491, 646, 1, 759, 653, 88, 42, 1, 541, 444, 1, 100, 275, 1, 1, 130, 1, 1, 1, 1, 710, 182, 807, 807, 189, 394, 386, 551, 668, 1, 1, 1, 1, 470, 1, 1, 470, 401, 1, 1, 81, 1, 77, 1, 717, 1, 1, 1, 1, 268, 443, 1, 109, 1, 520, 1, 834, 1, 147, 1, 1, 109, 1, 1, 736, 1, 1, 790, 1, 1, 1, 1, 1, 1, 887, 88, 1, 1, 1, 1, 1, 436, 1, 1, 1, 1, 1, 1, 1, 1, 1, 1, 1, 1, 1, 433, 1, 877, 13, 653, 614, 88, 653, 1, 541, 455, 1, 182, 1, 162, 1, 754, 320, 1, 298, 1, 1, 807, 396, 555, 1, 400, 606, 1, 1, 128, 470, 130, 594, 170, 1, 500, 1, 1, 1, 1, 1, 1, 268, 268, 1, 1, 1, 122, 1, 828, 520, 1, 1, 1, 1, 1, 111, 563, 233, 1, 380, 318, 79, 154, 1, 1, 88, 42, 585, 1, 38, 756, 88, 45, 154, 120, 1, 1, 1, 1, 1, 1, 1, 1, 1, 1, 1, 1, 1, 1, 1, 1, 1, 1, 1, 1, 1, 1, 1, 1, 1, 1, 1, 1, 1, 1, 654, 657, 647, 1, 1, 430, 1, 50, 517, 1, 238, 1, 1, 817, 743, 506, 1, 307, 6, 1, 430, 1, 1, 1, 682, 1, 1, 1, 81, 615, 81, 1, 1, 575, 276, 235, 1, 168, 443, 122, 318, 1, 1, 1, 520, 1, 1, 1, 1, 1, 1, 1, 1, 1, 168, 837, 1, 107, 1, 480, 1, 1, 88, 1, 154, 234, 1, 1, 1, 1, 758, 1, 1, 1, 1, 1, 1, 1, 1, 1, 1, 1, 1, 1, 1, 1, 1, 1, 1, 1, 1, 1, 1, 1, 1, 836, 836, 1, 1, 1, 380, 380, 380, 1, 1, 174, 877, 174, 318, 392, 1, 743, 455, 295, 1, 1, 1, 899, 396, 1, 1, 1, 524, 1, 1, 1, 1, 1, 313, 1, 1, 260, 1, 1, 720, 1, 1, 594, 1, 1, 1, 81, 1, 615, 81, 235, 1, 1, 1, 364, 1, 275, 1, 1, 275, 1, 1, 895, 1, 1, 520, 1, 130, 1, 111, 147, 1, 1, 1, 154, 837, 483, 129, 887, 541, 91, 679, 1, 893, 1, 1, 885, 45, 1, 1, 1, 1, 1, 1, 638, 1, 1, 758, 1, 1, 137, 1, 1, 1, 1, 1, 1, 1, 1, 1, 1, 1, 1, 1, 1, 1, 6, 244, 1, 1, 759, 1, 759, 614, 433, 877, 444, 653, 1, 653, 1, 541, 1, 1, 1, 394, 1, 1, 175, 1, 486, 1, 787, 189, 689, 1, 1, 1, 810, 1, 470, 1, 1, 1, 1, 682, 682, 1, 1, 1, 679, 81, 81, 1, 1, 1, 1, 1, 1, 36, 1, 111, 122, 834, 520, 1, 1, 111, 834, 248, 1, 1, 736, 1, 1, 1, 1, 1, 568, 1, 360, 1, 656, 250, 756, 856, 88, 154, 591, 209, 209, 88, 873, 380, 1, 1, 856, 36, 1, 573, 1, 849, 1, 1, 1, 1, 1, 1, 1, 1, 1, 1, 1, 1, 1, 1, 1, 1, 1, 1, 1, 1, 1, 1, 1, 1, 430, 174, 1, 1, 1, 1, 614, 777, 1, 653, 698, 1, 11, 1, 660, 466, 1, 524, 754, 426, 269, 535, 754, 1, 1, 1, 430, 53, 1, 288, 1, 1, 1, 1, 1, 1, 835, 1, 1, 1, 1, 874, 1, 1, 1, 401, 594, 1, 1, 1, 547, 1, 771, 235, 319, 1, 1, 1, 1, 1, 624, 268, 109, 1, 1, 834, 233, 1, 1, 1, 563, 1, 403, 275, 233, 892, 1, 834, 1, 1, 1, 1, 1, 318, 1, 1, 837, 1, 1, 154, 1, 1, 45, 1, 1, 42, 209, 376, 631, 858, 483, 585, 1, 1, 296, 1, 1, 520, 1, 1, 1, 1, 1, 1, 1, 1, 1, 1, 1, 1, 1, 1, 1, 1, 1, 1, 1, 1, 1, 1, 1, 176, 524, 653, 42, 662, 380, 380, 380, 1, 592, 1, 548, 1, 1, 675, 660, 1, 245, 386, 317, 290, 839, 1, 1, 306, 551, 1, 1, 1, 555, 1, 1, 1, 885, 1, 720, 810, 810, 1, 401, 1, 1, 1, 1, 1, 1, 1, 594, 1, 1, 594, 432, 1, 1, 190, 1, 689, 1, 1, 349, 1, 1, 1, 1, 275, 1, 1, 616, 113, 1, 895, 1, 520, 520, 1, 122, 275, 1, 1, 147, 275, 109, 109, 1, 834, 275, 1, 1, 1, 1, 834, 520, 109, 1, 1, 1, 1, 568, 1, 154, 432, 1, 1, 1, 1, 148, 1, 1, 1, 809, 642, 1, 736, 45, 1, 1, 1, 1, 1, 1, 129, 154, 1, 1, 1, 690, 604, 1, 1, 1, 433, 520, 634, 1, 1, 606, 758, 1, 675, 1, 1, 1, 1, 1, 1, 1, 1, 1, 1, 1, 1, 1, 1, 1, 1, 1, 1, 1, 1, 1, 1, 1, 1, 1, 1, 1, 1, 1, 1, 759, 1, 1, 1, 1, 1, 1, 1, 1, 1, 1, 205, 592, 1, 355, 1, 269, 875, 320, 506, 1, 1, 1, 1, 1, 6, 1, 1, 110, 260, 381, 1, 1, 1, 1, 470, 1, 1, 687, 440, 88, 1, 400, 547, 755, 755, 1, 861, 1, 616, 1, 1, 1, 1, 497, 364, 248, 1, 1, 111, 1, 109, 1, 147, 1, 130, 275, 1, 109, 834, 233, 147, 828, 520, 1, 1, 1, 1, 863, 147, 109, 563, 1, 1, 1, 1, 109, 1, 1, 1, 1, 1, 1, 1, 1, 1, 31, 1, 154, 284, 318, 541, 1, 656, 667, 854, 1, 1, 1, 1, 1, 1, 137, 433, 758, 1, 1, 1, 1, 1, 1, 1, 1, 1, 1, 1, 1, 1, 1, 1, 1, 1, 1, 1, 1, 1, 1, 1, 1, 1, 1, 1, 140, 688, 162, 1, 1, 1, 524, 1, 247, 1, 753, 1, 585, 75, 573, 807, 1, 1, 466, 40, 245, 1, 386, 1, 430, 513, 1, 1, 743, 298, 306, 551, 668, 847, 1, 1, 1, 1, 1, 1, 1, 1, 1, 1, 1, 1, 1, 272, 548, 1, 1, 1, 1, 1, 1, 400, 1, 1, 594, 682, 1, 1, 1, 1, 1, 1, 1, 1, 307, 1, 615, 1, 717, 1, 168, 168, 217, 270, 1, 1, 443, 847, 828, 1, 1, 126, 147, 400, 400, 403, 1, 1, 1, 520, 520, 606, 622, 828, 834, 276, 45, 1, 1, 1, 1, 642, 51, 1, 1, 1, 1, 1, 1, 1, 1, 837, 665, 1, 42, 1, 368, 1, 638, 78, 1, 1, 1, 1, 1, 1, 1, 1, 1, 1, 1, 1, 1, 1, 1, 1, 1, 1, 1, 1, 1, 1, 468, 1, 1, 1, 212, 74, 92, 572, 176, 1, 480, 299, 1, 1, 1, 1, 1, 42, 1, 433, 1, 205, 1, 50, 1, 1, 548, 1, 1, 68, 1, 1, 1, 394, 245, 899, 245, 6, 1, 396, 430, 1, 707, 1, 885, 79, 19, 1, 1, 1, 3, 1, 1, 440, 1, 1, 1, 1, 1, 1, 1, 276, 1, 101, 655, 1, 215, 1, 1, 411, 226, 1, 449, 483, 1, 1, 1, 585, 319, 1, 168, 1, 1, 1, 616, 1, 1, 1, 1, 1, 109, 1, 1, 1, 869, 1, 520, 111, 1, 1, 1, 147, 306, 520, 1, 1, 1, 250, 440, 1, 109, 837, 1, 1, 1, 1, 1, 837, 790, 154, 42, 154, 1, 154, 30, 1, 88, 1, 45, 756, 1, 154, 1, 284, 88, 360, 212, 88, 1, 1, 638, 1, 638, 758, 1, 1, 638, 1, 1, 1, 1, 1, 1, 1, 1, 1, 1, 1, 1, 1, 1, 1, 1, 1, 1, 1, 1, 1, 1, 1, 1, 1, 1, 430, 1, 1, 1, 430, 468, 443, 1, 380, 1, 486, 42, 1, 42, 42, 1, 1, 473, 22, 807, 743, 743, 11, 11, 787, 1, 1, 799, 662, 324, 290, 740, 1, 551, 1, 1, 1, 855, 1, 1, 1, 1, 313, 1, 313, 6, 1, 83, 1, 685, 203, 399, 1, 1, 1, 1, 405, 1, 1, 1, 130, 1, 1, 1, 1, 1, 547, 1, 547, 1, 307, 655, 861, 276, 573, 81, 276, 708, 1, 215, 670, 443, 411, 873, 268, 1, 1, 1, 834, 1, 834, 1, 736, 1, 736, 1, 109, 1, 109, 1, 1, 1, 1, 1, 1, 109, 1, 736, 263, 1, 1, 1, 1, 1, 615, 756, 579, 79, 591, 1, 604, 604, 172, 154, 1, 266, 250, 1, 1, 266, 45, 579, 1, 1, 1, 1, 296, 1, 1, 638, 1, 1, 1, 685, 421, 1, 1, 1, 1, 1, 1, 1, 1, 1, 1, 1, 1, 1, 1, 1, 1, 1, 1, 1, 1, 1, 1, 1, 1, 657, 430, 176, 759, 238, 238, 480, 272, 1, 1, 380, 272, 380, 1, 247, 532, 256, 60, 1, 710, 11, 295, 1, 660, 675, 1, 1, 162, 660, 162, 1, 1, 1, 298, 801, 1, 1, 872, 1, 551, 1, 1, 1, 1, 683, 313, 1, 1, 835, 1, 260, 1, 1, 1, 1, 261, 172, 1, 1, 1, 470, 1, 594, 1, 1, 1, 1, 1, 1, 1, 440, 500, 655, 708, 1, 1, 1, 1, 268, 1, 1, 24, 1, 122, 147, 520, 1, 1, 1, 1, 1, 147, 111, 20, 147, 400, 520, 1, 890, 794, 238, 568, 266, 579, 1, 1, 579, 756, 34, 1, 1, 1, 887, 234, 1, 154, 837, 579, 129, 1, 88, 1, 1, 758, 1, 1, 758, 1, 1, 1, 1, 1, 1, 1, 1, 1, 1, 1, 1, 1, 1, 1, 1, 1, 1, 1, 1, 1, 1, 244, 1, 1, 1, 1, 244, 47, 1, 1, 1, 444, 513, 1, 1, 1, 42, 174, 460, 142, 212, 1, 807, 397, 110, 573, 13, 660, 807, 1, 1, 1, 807, 417, 660, 1, 660, 430, 1, 1, 754, 269, 175, 815, 1, 1, 851, 1, 1, 1, 1, 548, 1, 132, 524, 551, 430, 1, 288, 58, 555, 1, 400, 1, 1, 356, 786, 1, 1, 1, 1, 1, 1, 874, 470, 1, 470, 1, 1, 1, 130, 682, 1, 1, 1, 88, 1, 1, 1, 432, 276, 1, 276, 1, 1, 1, 1, 1, 1, 418, 708, 1, 443, 1, 1, 443, 1, 168, 1, 1, 834, 1, 1, 1, 1, 1, 823, 147, 147, 1, 130, 1, 1, 520, 147, 1, 147, 1, 1, 1, 320, 1, 360, 1, 1, 1, 837, 585, 45, 1, 756, 604, 837, 847, 837, 756, 1, 1, 1, 579, 45, 88, 88, 1, 78, 1, 1, 1, 1, 1, 1, 1, 1, 1, 1, 1, 1, 1, 1, 1, 1, 1, 1, 1, 1, 1, 1, 1, 1, 1, 1, 1, 1, 1, 1, 1, 1, 1, 1, 638, 599, 238, 1, 1, 873, 1, 1, 1, 1, 1, 1, 11, 11, 11, 1, 1, 350, 350, 1, 758, 269, 1, 132, 16, 1, 20, 551, 1, 1, 306, 1, 1, 1, 1, 288, 1, 318, 1, 245, 318, 268, 1, 1, 1, 1, 1, 210, 287, 378, 1, 378, 1, 1, 172, 1, 810, 1, 1, 1, 1, 874, 470, 1, 190, 1, 1, 1, 170, 170, 1, 1, 1, 682, 1, 1, 1, 81, 1, 81, 190, 547, 1, 190, 1, 170, 1, 215, 1, 349, 124, 349, 770, 283, 268, 1, 1, 1, 275, 111, 1, 1, 622, 1, 111, 1, 834, 1, 1, 113, 1, 1, 109, 520, 109, 111, 892, 1, 520, 1, 1, 111, 1, 1, 1, 91, 390, 107, 656, 1, 585, 756, 360, 1, 1, 615, 1, 88, 480, 1, 1, 266, 483, 42, 1, 1, 88, 1, 120, 1, 1, 78, 1, 1, 1, 1, 1, 1, 1, 1, 1, 1, 1, 1, 1, 1, 1, 1, 1, 1, 1, 1, 1, 1, 1, 1, 1, 1, 1, 1, 673, 657, 1, 1, 1, 1, 176, 1, 755, 442, 1, 1, 1, 42, 42, 1, 1, 1, 1, 1, 417, 1, 1, 662, 386, 1, 1, 551, 1, 396, 1, 430, 1, 1, 1, 1, 1, 1, 1, 689, 606, 606, 356, 786, 240, 110, 36, 99, 1, 1, 1, 1, 1, 1, 1, 1, 518, 1, 594, 77, 276, 81, 81, 81, 717, 215, 215, 823, 616, 55, 671, 555, 1, 624, 670, 233, 306, 100, 520, 834, 563, 109, 1, 1, 1, 1, 1, 1, 1, 300, 736, 1, 1, 885, 1, 1, 1, 585, 45, 172, 895, 1, 1, 1, 45, 856, 1, 847, 1, 1, 1, 604, 101, 147, 665, 1, 1, 266, 520, 78, 606, 1, 1, 1, 433, 758, 1, 1, 1, 1, 1, 1, 1, 1, 1, 1, 1, 1, 1, 1, 1, 1, 1, 1, 1, 1, 1, 1, 1, 1, 1, 1, 1, 1, 1, 1, 1, 1, 1, 1, 109, 1, 759, 1, 572, 1, 442, 1, 777, 614, 1, 1, 1, 1, 1, 212, 698, 100, 743, 1, 1, 355, 532, 1, 550, 228, 228, 400, 1, 1, 1, 754, 743, 307, 307, 290, 1, 298, 1, 1, 245, 570, 980, 189, 1, 313, 1, 1, 356, 1, 1, 1, 1, 1, 1, 1, 1, 1, 1, 1, 130, 401, 130, 1, 682, 1, 1, 1, 1, 77, 307, 1, 1, 547, 217, 1, 1, 1, 443, 268, 268, 443, 555, 233, 400, 834, 147, 109, 111, 377, 834, 1, 1, 1, 1, 1, 520, 520, 109, 147, 147, 736, 1, 1, 1, 1, 1, 440, 569, 1, 679, 615, 1, 1, 1, 501, 887, 45, 837, 137, 758, 1, 1, 1, 1, 1, 1, 1, 1, 1, 1, 1, 1, 1, 1, 1, 1, 1, 1, 1, 1, 1, 1, 1, 1, 1, 1, 1, 188, 1, 1, 836, 894, 52, 600, 1, 1, 662, 256, 479, 548, 1, 845, 1, 1, 517, 397, 1, 698, 13, 517, 1, 238, 1, 1, 1, 1, 1, 1, 189, 1, 1, 307, 260, 1, 1, 396, 1, 298, 692, 703, 555, 1, 288, 551, 1, 1, 861, 835, 693, 1, 1, 1, 1, 1, 1, 1, 1, 1, 400, 170, 1, 524, 547, 276, 276, 307, 265, 1, 1, 1, 352, 1, 1, 1, 834, 111, 1, 1, 1, 1, 1, 1, 1, 1, 1, 36, 36, 147, 1, 1, 1, 1, 1, 1, 1, 1, 88, 376, 172, 1, 842, 628, 837, 1, 1, 1, 638, 1, 1, 1, 1, 1, 1, 1, 1, 1, 1, 1, 1, 1, 1, 1, 1, 1, 1, 654, 1, 1, 1, 1, 1, 1, 299, 1, 1, 176, 1, 42, 1, 1, 698, 532, 743, 760, 178, 1, 1, 1, 11, 1, 1, 1, 386, 875, 754, 430, 1, 1, 1, 1, 1, 787, 1, 1, 770, 288, 1, 268, 170, 1, 1, 356, 1, 1, 838, 399, 1, 1, 1, 1, 1, 1, 498, 1, 1, 1, 1, 575, 1, 1, 276, 1, 81, 81, 823, 1, 754, 1, 1, 1, 319, 306, 109, 895, 828, 895, 1, 1, 1, 1, 1, 1, 1, 233, 1, 1, 1, 1, 1, 1, 1, 834, 1, 1, 440, 2, 51, 1, 266, 360, 45, 1, 1, 1, 88, 234, 1, 1, 88, 30, 212, 1, 78, 1, 1, 1, 1, 758, 1, 1, 1, 1, 1, 372, 758, 1, 1, 1, 1, 1, 1, 1, 1, 1, 1, 1, 1, 1, 1, 1, 1, 1, 1, 1, 1, 1, 1, 1, 1, 1, 1, 1, 1, 1, 1, 1, 380, 1, 1, 247, 1, 1, 807, 693, 1, 1, 698, 845, 1, 1, 1, 1, 417, 1, 1, 1, 1, 551, 1, 872, 1, 430, 53, 189, 1, 1, 1, 313, 313, 1, 1, 1, 317, 356, 405, 1, 1, 1, 1, 1, 1, 1, 1, 1, 1, 1, 88, 400, 1, 1, 1, 307, 307, 572, 1, 81, 81, 276, 1, 1, 411, 408, 1, 1, 1, 449, 268, 1, 1, 504, 1, 1, 1, 1, 834, 1, 1, 1, 834, 834, 111, 111, 1, 1, 1, 364, 1, 1, 1, 1, 45, 120, 615, 1, 1, 1, 837, 88, 579, 1, 761, 1, 1, 1, 1, 1, 1, 1, 1, 1, 758, 1, 1, 1, 1, 1, 1, 1, 1, 1, 1, 1, 1, 1, 1, 1, 1, 1, 1, 1, 430, 744, 430, 185, 1, 248, 1, 1, 1, 442, 380, 1, 573, 824, 1, 1, 11, 1, 1, 417, 1, 377, 307, 1, 660, 551, 1, 545, 189, 313, 683, 1, 1, 1, 1, 1, 1, 1, 810, 1, 1, 51, 1, 1, 1, 1, 170, 1, 1, 1, 406, 1, 1, 190, 276, 1, 268, 1, 1, 1, 1, 1, 1, 1, 1, 109, 1, 520, 834, 1, 1, 1, 1, 1, 1, 1, 1, 1, 1, 736, 1, 1, 1, 10, 1, 320, 1, 1, 1, 1, 1, 1, 1, 1, 1, 1, 266, 1, 1, 1, 520, 1, 1, 758, 1, 1, 1, 1, 1, 1, 1, 1, 1, 1, 1, 1, 1, 1, 1, 1, 1, 1, 1, 1, 1, 1, 1, 1, 759, 1, 244, 1, 1, 572, 759, 1, 1, 1, 22, 1, 1, 1, 1, 1, 1, 355, 807, 1, 573, 60, 178, 1, 466, 1, 1, 1, 843, 1, 1, 1, 599, 269, 1, 473, 1, 548, 1, 1, 551, 1, 258, 1, 1, 287, 568, 1, 1, 6, 450, 1, 1, 1, 356, 1, 838, 3, 1, 405, 518, 1, 470, 1, 1, 594, 81, 1, 1, 81, 755, 276, 215, 708, 1, 55, 1, 1, 1, 1, 122, 306, 834, 1, 111, 1, 275, 834, 1, 275, 1, 834, 895, 1, 306, 520, 895, 1, 1, 1, 1, 1, 230, 315, 568, 320, 1, 1, 1, 1, 45, 376, 1, 1, 789, 1, 1, 1, 1, 1, 615, 638, 276, 1, 1, 1, 1, 1, 1, 1, 1, 1, 1, 1, 1, 1, 1, 1, 1, 1, 744, 1, 1, 1, 1, 572, 1, 1, 614, 272, 1, 743, 1, 1, 1, 276, 1, 466, 1, 1, 1, 1, 1, 1, 1, 672, 1, 791, 1, 244, 1, 1, 555, 980, 1, 568, 1, 1, 313, 313, 711, 1, 1, 1, 435, 356, 1, 838, 1, 1, 1, 1, 401, 470, 130, 1, 1, 1, 81, 276, 1, 276, 547, 1, 1, 624, 1, 1, 1, 585, 168, 1, 1, 555, 1, 364, 1, 1, 111, 1, 1, 1, 1, 1, 109, 147, 834, 1, 1, 1, 1, 1, 1, 837, 1, 1, 1, 1, 1, 1, 1, 154, 234, 847, 1, 1, 88, 154, 1, 1, 1, 361, 1, 558, 1, 1, 1, 1, 1, 1, 1, 1, 1, 1, 1, 1, 1, 1, 754, 1, 1, 1, 1, 1, 1, 1, 1, 1, 1, 1, 1, 1, 1, 1, 1, 1, 1, 1, 1, 1, 380, 1, 1, 479, 513, 548, 1, 1, 1, 1, 1, 1, 1, 1, 417, 417, 189, 1, 417, 1, 417, 1, 899, 386, 875, 1, 1, 1, 298, 359, 1, 67, 551, 189, 189, 288, 1, 1, 1, 1, 1, 1, 683, 711, 1, 1, 1, 1, 203, 1, 1, 1, 518, 820, 1, 1, 1, 1, 1, 81, 81, 1, 1, 1, 1, 1, 1, 1, 408, 1, 268, 1, 1, 307, 1, 1, 520, 109, 834, 1, 1, 1, 1, 1, 1, 520, 1, 1, 1, 834, 892, 1, 1, 45, 697, 138, 1, 1, 1, 490, 101, 1, 1, 436, 1, 1, 1, 1, 1, 1, 1, 1, 1, 1, 1, 1, 1, 1, 1, 1, 1, 1, 1, 1, 836, 1, 1, 1, 1, 537, 572, 759, 759, 380, 1, 1, 1, 1, 1, 1, 443, 787, 1, 1, 466, 1, 1, 1, 1, 1, 1, 1, 1, 1, 307, 1, 290, 658, 837, 1, 1, 660, 1, 313, 1, 356, 1, 1, 1, 1, 356, 128, 1, 1, 1, 405, 1, 1, 1, 1, 1, 755, 1, 708, 483, 1, 1, 109, 1, 1, 1, 1, 892, 1, 1, 1, 1, 111, 1, 1, 1, 1, 834, 1, 1, 248, 520, 1, 794, 1, 250, 568, 1, 1, 1, 266, 1, 1, 1, 129, 1, 1, 266, 1, 1, 1, 1, 1, 1, 1, 1, 1, 1, 1, 1, 1, 1, 1, 1, 1, 1, 1, 1, 1, 1, 1, 1, 1, 1, 1, 1, 1, 442, 430, 1, 1, 1, 1, 615, 1, 174, 380, 614, 174, 1, 1, 622, 1, 1, 1, 1, 1, 1, 417, 1, 1, 269, 1, 754, 430, 1, 754, 1, 524, 1, 1, 1, 1, 555, 1, 245, 1, 313, 1, 1, 1, 1, 1, 356, 1, 1, 1, 1, 682, 1, 1, 1, 276, 1, 1, 307, 1, 1, 411, 1, 1, 449, 1, 1, 1, 20, 895, 1, 1, 1, 1, 147, 1, 248, 109, 1, 1, 1, 65, 736, 162, 1, 1, 266, 1, 480, 1, 490, 1, 1, 1, 1, 1, 440, 1, 638, 1, 1, 1, 1, 1, 1, 1, 1, 1, 1, 1, 1, 1, 1, 1, 650, 1, 1, 1, 1, 442, 753, 1, 1, 1, 573, 1, 60, 1, 1, 614, 1, 400, 1, 417, 1, 1, 1, 1, 1, 1, 1, 1, 1, 1, 1, 807, 1, 1, 1, 288, 555, 1, 313, 350, 1, 1, 1, 1, 1, 835, 1, 1, 240, 1, 1, 1, 1, 498, 1, 1, 1, 1, 45, 655, 1, 1, 276, 307, 1, 168, 283, 1, 1, 1, 1, 1, 1, 1, 1, 1, 109, 1, 109, 1, 1, 1, 1, 1, 10, 263, 1, 1, 1, 1, 1, 1, 1, 1, 1, 263, 1, 276, 650, 520, 1, 1, 1, 1, 1, 126, 547, 1, 1, 1, 130, 1, 1, 88, 1, 1, 1, 1, 1, 1, 1, 1, 1, 1, 1, 1, 1, 1, 1, 1, 1, 1, 1, 111, 686, 1, 360, 750, 1, 679, 1, 1, 6, 1, 1, 1, 780, 1, 1, 1, 1, 1, 1, 266, 380, 307, 313, 1, 1, 1, 1, 1, 1, 1, 1, 1, 430, 1, 568, 1, 1, 1, 1, 547, 1, 1, 1, 1, 1, 1, 1, 683, 1, 1, 810, 1, 1, 1, 1, 1, 1, 1, 1, 1, 1, 1, 1, 1, 1, 1, 1, 1, 140, 1, 1, 1, 111, 1, 1, 266, 660, 1, 1, 1, 1, 1, 1, 1, 1, 1, 1, 1, 1, 551, 1, 1, 1, 1, 1, 150, 1, 1, 670, 1, 356, 430, 1, 504, 1, 1, 455, 1, 1, 1, 1, 1, 245, 45, 759, 1, 411, 1, 1, 1, 1, 1, 1, 1, 1, 480, 679, 1, 1, 1, 845, 1, 1, 837, 1, 1, 1, 318, 1, 1, 1, 1, 1, 568, 1, 1, 500, 313, 238, 1, 1, 1, 1, 1, 238, 1, 189, 269, 1, 665, 400, 750, 1, 483, 150, 1, 45, 1, 1, 1, 1, 1, 1, 547, 1, 1, 45, 711, 1, 1, 682, 1, 1, 1, 1, 558, 1, 1, 1, 1, 1, 1, 266, 1, 1, 1, 1, 683, 1, 1, 1, 154, 1, 1, 1, 81, 1, 1, 1, 1, 1, 1, 430, 1, 1, 1, 1, 756, 1, 433, 1, 1, 298, 837, 276, 1, 1, 874, 1, 1, 1, 1, 266, 1, 1, 1, 1, 1, 42, 1, 754, 1, 1, 1, 1, 13, 1, 1, 1, 450, 1, 1, 299, 1, 1, 1, 1, 615, 1, 1, 176, 1, 1, 1, 1, 1, 1, 1, 1, 284, 899, 1, 1, 1, 1, 1, 1, 298, 109, 573, 1, 1, 1, 1, 60, 1, 1, 1, 755, 137, 1, 1, 1, 1, 1, 1, 1, 1, 573, 1, 551, 1, 1, 313, 1, 1, 1, 1, 1, 1, 1, 1, 1, 1, 1, 1, 360, 1, 899, 1, 755, 754, 1, 1, 1, 1, 1, 1, 430, 685, 834, 798, 1, 834, 1, 1, 1, 1, 1, 1, 430, 1, 1, 1, 1, 1, 1, 298, 1, 671, 1, 1, 520, 1, 1, 1, 520, 1, 1, 1, 1, 1, 1, 256, 1, 1, 1, 1, 1, 1, 1, 1, 1, 1, 777, 1, 45, 1, 1, 1, 1, 1, 1, 1, 1, 1, 1, 885, 1, 1, 88, 147, 1, 1, 1, 1, 1, 1, 1, 433, 1, 1, 1, 1, 1, 1, 1, 1, 1, 1, 1, 1, 1, 1, 1, 1, 1, 1, 1, 1, 1, 1, 430, 1, 1, 1, 1, 1, 1, 1, 1, 212, 1, 1, 1, 1, 807, 1, 899, 1, 1, 787, 615, 1, 78, 1, 288, 1, 1, 189, 1, 1, 1, 313, 1, 1, 6, 1, 1, 1, 1, 1, 1, 1, 1, 1, 1, 1, 1, 1, 1, 679, 1, 276, 1, 1, 1, 1, 215, 670, 168, 1, 1, 1, 1, 319, 1, 1, 1, 1, 147, 520, 1, 1, 1, 1, 1, 520, 834, 834, 1, 736, 1, 1, 1, 1, 580, 142, 1, 1, 650, 318, 1, 678, 678, 411, 1, 555, 834, 318, 1, 1, 1, 824, 1, 1, 1, 1, 1, 378, 1, 1, 1, 1, 43, 616, 885, 1, 1, 1, 1, 250, 1, 1, 858, 88, 789, 1, 837, 361, 154, 1, 1, 1, 1, 1, 1, 1, 1, 1, 1, 1, 1, 1, 1, 1, 1, 1, 1, 1, 1, 1, 1, 1, 1, 1, 1, 1, 1, 1, 1, 1, 670, 759, 1, 1, 1, 13, 662, 1, 50, 592, 532, 212, 1, 175, 658, 320, 269, 430, 1, 1, 551, 6, 349, 551, 1, 797, 53, 1, 288, 1, 1, 1, 1, 1, 256, 1, 1, 1, 1, 1, 1, 1, 1, 1, 1, 594, 1, 170, 1, 1, 400, 81, 81, 1, 1, 1, 1, 1, 1, 671, 585, 1, 1, 1, 1, 1, 1, 1, 111, 895, 1, 1, 497, 520, 1, 1, 1, 1, 109, 520, 1, 1, 172, 1, 1, 79, 1, 360, 697, 266, 284, 579, 45, 1, 1, 1, 847, 890, 40, 1, 1, 685, 1, 1, 1, 1, 1, 1, 1, 1, 1, 1, 1, 1, 1, 1, 1, 1, 1, 1, 244, 1, 1, 657, 1, 322, 759, 1, 1, 433, 653, 1, 1, 532, 1, 75, 318, 1, 532, 1, 1, 1, 175, 743, 1, 551, 6, 319, 551, 555, 1, 1, 1, 1, 1, 1, 835, 1, 498, 810, 1, 1, 594, 1, 594, 1, 1, 170, 682, 1, 1, 45, 1, 1, 215, 1, 1, 870, 347, 275, 275, 585, 1, 1, 1, 1, 1, 109, 1, 1, 895, 1, 1, 109, 248, 246, 1, 109, 109, 1, 1, 1, 248, 520, 122, 568, 172, 132, 1, 1, 1, 1, 1, 190, 1, 667, 172, 376, 1, 615, 579, 1, 234, 697, 758, 1, 1, 638, 1, 1, 1, 1, 1, 1, 1, 1, 1, 1, 1, 1, 1, 1, 759, 759, 572, 653, 42, 1, 1, 212, 807, 1, 1, 1, 548, 1, 1, 1, 555, 1, 307, 430, 754, 899, 126, 878, 754, 873, 1, 1, 1, 1, 245, 1, 288, 1, 1, 699, 1, 1, 1, 212, 682, 1, 594, 1, 1, 1, 1, 1, 861, 1, 1, 669, 1, 1, 1, 1, 1, 1, 1, 1, 520, 111, 520, 520, 520, 520, 1, 1, 1, 1, 1, 1, 1, 1, 1, 1, 1, 1, 520, 520, 122, 275, 1, 1, 1, 1, 1, 579, 1, 1, 790, 197, 1, 1, 21, 101, 1, 1, 890, 856, 36, 148, 212, 360, 1, 1, 895, 1, 1, 1, 1, 1, 1, 1, 1, 1, 1, 1, 1, 1, 1, 1, 1, 1, 1, 670, 670, 572, 455, 572, 1, 380, 662, 541, 877, 1, 205, 698, 1, 698, 1, 1, 154, 1, 807, 1, 1, 878, 878, 513, 875, 1, 1, 1, 58, 58, 1, 1, 1, 1, 1, 810, 1, 1, 130, 190, 170, 1, 1, 400, 1, 682, 1, 1, 1, 1, 81, 81, 1, 679, 1, 585, 1, 1, 870, 1, 520, 834, 1, 246, 895, 606, 823, 147, 109, 403, 520, 1, 520, 275, 520, 275, 1, 563, 736, 51, 679, 789, 789, 266, 1, 1, 209, 1, 1, 1, 1, 541, 1, 400, 31, 615, 1, 1, 1, 1, 1, 1, 1, 1, 1, 1, 1, 1, 1, 1, 1, 1, 1, 1, 1, 1, 1, 1, 1, 1, 1, 1, 1, 1, 1, 1, 244, 1, 1, 455, 380, 1, 777, 13, 42, 1, 380, 433, 1, 1, 380, 100, 318, 573, 1, 1, 1, 430, 430, 599, 394, 1, 1, 1, 78, 1, 189, 707, 1, 260, 378, 356, 378, 1, 1, 498, 405, 682, 594, 1, 170, 440, 1, 81, 1, 276, 1, 276, 432, 1, 1, 1, 319, 168, 1, 861, 1, 1, 1, 1, 1, 520, 520, 520, 1, 41, 1, 318, 1, 1, 111, 1, 1, 1, 1, 1, 360, 1, 1, 1, 1, 376, 1, 1, 78, 1, 1, 1, 1, 1, 1, 1, 1, 1, 1, 1, 1, 1, 1, 1, 1, 1, 1, 1, 1, 1, 1, 1, 1, 349, 654, 836, 1, 1, 88, 1, 1, 614, 75, 100, 555, 660, 1, 1, 754, 269, 307, 899, 307, 269, 290, 214, 297, 1, 1, 396, 1, 1, 1, 1, 1, 1, 1, 1, 260, 1, 835, 1, 810, 405, 498, 1, 594, 1, 1, 1, 1, 1, 406, 1, 1, 770, 1, 268, 1, 268, 1, 845, 1, 1, 892, 248, 892, 1, 122, 520, 1, 1, 1, 1, 364, 563, 1, 895, 520, 834, 1, 1, 1, 1, 1, 1, 615, 250, 1, 895, 736, 209, 541, 1, 1, 1, 1, 861, 1, 1, 685, 1, 1, 1, 1, 1, 1, 1, 1, 1, 1, 1, 1, 1, 1, 1, 1, 1, 1, 1, 1, 13, 777, 1, 444, 42, 653, 1, 150, 479, 743, 100, 807, 400, 1, 162, 754, 386, 1, 288, 226, 1, 1, 1, 1, 356, 1, 378, 1, 356, 1, 810, 810, 470, 130, 1, 470, 1, 682, 1, 307, 1, 679, 742, 1, 1, 1, 290, 268, 671, 148, 147, 36, 1, 1, 1, 834, 1, 1, 364, 1, 563, 1, 1, 233, 563, 1, 1, 1, 1, 1, 887, 51, 1, 790, 1, 440, 756, 88, 790, 1, 1, 2, 45, 282, 585, 172, 250, 1, 1, 1, 1, 78, 1, 1, 1, 1, 1, 1, 1, 1, 1, 1, 1, 1, 1, 1, 1, 1, 1, 1, 1, 1, 1, 1, 1, 1, 1, 1, 430, 140, 1, 1, 1, 1, 1, 380, 1, 614, 1, 174, 777, 455, 1, 162, 307, 286, 359, 396, 313, 1, 1, 6, 577, 1, 1, 399, 1, 835, 399, 1, 1, 261, 1, 1, 1, 1, 130, 1, 682, 1, 1, 547, 406, 1, 679, 1, 1, 1, 1, 1, 349, 318, 861, 1, 736, 1, 1, 1, 1, 1, 147, 1, 1, 1, 1, 1, 1, 1, 1, 1, 1, 1, 1, 403, 1, 109, 1, 1, 1, 1, 1, 1, 834, 1, 1, 1, 794, 1, 440, 1, 887, 250, 1, 1, 1, 887, 667, 1, 591, 1, 1, 1, 88, 1, 42, 1, 376, 628, 79, 1, 1, 1, 1, 1, 1, 1, 1, 1, 1, 638, 1, 1, 1, 1, 1, 1, 1, 1, 1, 1, 1, 1, 1, 1, 1, 1, 468, 1, 759, 332, 1, 174, 22, 1, 698, 1, 1, 1, 162, 1, 1, 1, 396, 298, 430, 189, 245, 1, 1, 1, 1, 1, 1, 1, 1, 1, 693, 1, 1, 1, 518, 1, 1, 1, 1, 1, 572, 1, 1, 1, 1, 432, 679, 1, 1, 1, 211, 215, 1, 67, 1, 1, 1, 624, 122, 834, 109, 1, 1, 1, 1, 1, 1, 109, 520, 147, 749, 1, 1, 450, 1, 555, 473, 1, 895, 1, 483, 1, 1, 837, 1, 895, 172, 615, 1, 1, 237, 576, 120, 837, 45, 1, 88, 1, 1, 1, 1, 189, 1, 1, 1, 1, 1, 1, 1, 1, 1, 1, 1, 1, 1, 1, 1, 1, 1, 1, 1, 1, 1, 1, 1, 1, 1, 1, 1, 1, 1, 1, 1, 836, 1, 299, 1, 1, 877, 541, 13, 150, 1, 1, 1, 1, 1, 13, 466, 660, 1, 162, 1, 1, 898, 1, 298, 306, 306, 1, 1, 78, 650, 555, 189, 1, 1, 1, 1, 1, 1, 1, 356, 810, 1, 1, 594, 1, 1, 400, 432, 79, 1, 1, 1, 110, 1, 411, 200, 148, 1, 1, 1, 55, 1, 736, 1, 111, 111, 834, 122, 109, 122, 1, 1, 1, 20, 113, 520, 1, 1, 147, 520, 111, 1, 622, 606, 1, 10, 1, 1, 1, 1, 1, 237, 1, 1, 615, 1, 686, 1, 411, 861, 679, 78, 1, 1, 1, 1, 1, 1, 1, 1, 1, 1, 1, 1, 1, 1, 1, 1, 1, 1, 1, 1, 1, 1, 1, 1, 1, 1, 1, 1, 1, 1, 1, 1, 1, 1, 1, 1, 1, 1, 1, 1, 248, 836, 836, 1, 1, 693, 778, 1, 1, 513, 1, 1, 777, 380, 1, 1, 380, 1, 130, 1, 212, 1, 1, 1, 1, 151, 297, 290, 298, 6, 6, 1, 1, 356, 885, 260, 1, 874, 810, 1, 518, 498, 1, 1, 594, 1, 1, 1, 594, 1, 594, 1, 1, 500, 327, 1, 1, 1, 1, 1, 744, 708, 742, 1, 670, 226, 1, 1, 1, 1, 1, 403, 1, 1, 1, 1, 1, 306, 895, 1, 834, 1, 834, 1, 520, 1, 1, 520, 1, 147, 111, 1, 834, 1, 1, 275, 1, 307, 1, 1, 1, 1, 890, 266, 129, 579, 1, 1, 361, 88, 1, 154, 1, 1, 1, 604, 789, 1, 212, 101, 1, 1, 1, 1, 1, 771, 1, 1, 1, 1, 1, 1, 1, 1, 1, 1, 1, 1, 1, 1, 1, 1, 1, 1, 1, 1, 1, 1, 1, 1, 1, 1, 1, 1, 1, 1, 1, 1, 657, 1, 654, 1, 1, 1, 1, 1, 1, 777, 1, 212, 100, 585, 1, 573, 1, 178, 1, 400, 417, 570, 68, 162, 1, 1, 1, 1, 1, 318, 885, 378, 1, 399, 1, 1, 1, 1, 1, 147, 1, 1, 1, 1, 1, 170, 81, 81, 615, 1, 81, 1, 708, 1, 1, 268, 622, 168, 168, 624, 1, 1, 1, 1, 1, 1, 109, 147, 520, 1, 233, 1, 1, 109, 109, 1, 834, 895, 1, 147, 1, 1, 41, 520, 1, 892, 1, 109, 736, 111, 233, 276, 794, 1, 885, 1, 1, 1, 1, 789, 1, 1, 736, 1, 1, 154, 1, 51, 79, 142, 101, 45, 1, 615, 154, 250, 1, 665, 1, 425, 1, 758, 1, 1, 1, 1, 1, 638, 1, 1, 1, 1, 1, 1, 1, 1, 1, 1, 1, 1, 1, 1, 1, 1, 1, 1, 1, 1, 1, 1, 1, 1, 1, 1, 1, 1, 1, 1, 1, 1, 1, 654, 1, 1, 1, 1, 380, 1, 662, 616, 1, 1, 1, 860, 573, 585, 548, 622, 100, 238, 1, 1, 660, 162, 1, 466, 555, 386, 320, 307, 286, 1, 668, 1, 279, 1, 1, 1, 1, 313, 1, 110, 1, 1, 227, 287, 1, 1, 874, 1, 1, 1, 1, 1, 130, 190, 1, 1, 400, 1, 383, 1, 1, 1, 1, 1, 1, 81, 1, 1, 1, 276, 1, 1, 1, 834, 248, 1, 1, 520, 622, 1, 275, 1, 109, 1, 248, 147, 1, 1, 1, 1, 1, 248, 834, 520, 109, 1, 1, 400, 895, 147, 794, 736, 1, 568, 1, 1, 1, 1, 1, 1, 266, 1, 1, 1, 1, 2, 30, 45, 88, 234, 266, 360, 893, 1, 1, 1, 1, 1, 1, 758, 1, 1, 1, 1, 1, 1, 1, 1, 1, 1, 1, 1, 1, 1, 1, 1, 1, 1, 1, 1, 1, 1, 1, 430, 299, 176, 109, 1, 1, 1, 42, 174, 174, 380, 777, 1, 22, 75, 760, 1, 130, 256, 1, 698, 698, 807, 1, 11, 787, 1, 417, 430, 1, 599, 754, 875, 1, 1, 1, 1, 1, 1, 276, 1, 268, 1, 1, 1, 1, 1, 1, 1, 1, 1, 1, 79, 227, 287, 352, 356, 399, 399, 683, 835, 885, 1, 1, 245, 498, 874, 1, 1, 1, 470, 1, 1, 682, 1, 1, 1, 1, 162, 1, 432, 1, 615, 1, 400, 400, 508, 430, 411, 1, 1, 1, 55, 124, 200, 268, 319, 411, 67, 624, 834, 1, 1, 1, 1, 1, 1, 1, 1, 1, 1, 1, 1, 1, 1, 1, 1, 109, 1, 111, 318, 364, 400, 520, 823, 834, 890, 892, 1, 45, 667, 837, 1, 652, 1, 411, 1, 51, 1, 154, 1, 30, 107, 88, 1, 1, 1, 1, 1, 45, 847, 88, 45, 634, 1, 1, 758, 78, 1, 1, 1, 1, 1, 1, 1, 1, 1, 1, 1, 1, 1, 1, 1, 1, 1, 1, 1, 1, 1, 1, 1, 1, 780, 1, 1, 1, 469, 233, 272, 1, 1, 1, 473, 807, 517, 1, 1, 392, 355, 760, 807, 1, 550, 621, 710, 45, 1, 13, 1, 855, 417, 1, 1, 1, 1, 899, 513, 612, 307, 754, 413, 801, 1, 1, 551, 1, 78, 1, 189, 1, 1, 6, 585, 354, 1, 1, 720, 1, 1, 1, 874, 1, 1, 690, 1, 401, 1, 1, 88, 1, 1, 682, 406, 1, 81, 276, 655, 755, 276, 702, 670, 717, 823, 820, 1, 1, 1, 319, 236, 1, 895, 1, 100, 616, 622, 616, 1, 20, 109, 1, 364, 1, 109, 248, 473, 113, 1, 1, 520, 1, 111, 377, 1, 520, 1, 794, 571, 1, 1, 756, 1, 1, 1, 1, 490, 847, 847, 425, 1, 1, 1, 1, 212, 1, 4, 631, 1, 440, 480, 234, 234, 1, 1, 607, 1, 1, 758, 758, 1, 1, 1, 1, 758, 1, 1, 1, 1, 1, 1, 1, 1, 1, 1, 1, 1, 1, 1, 1, 1, 1, 1, 1, 1, 1, 1, 1, 1, 1, 1, 1, 1, 1, 1, 1, 1, 1, 1, 851, 1, 1, 140, 516, 759, 1, 238, 238, 299, 97, 491, 486, 662, 1, 1, 1, 42, 1, 877, 877, 433, 592, 1, 1, 1, 50, 517, 212, 1, 1, 1, 573, 137, 13, 1, 555, 1, 1, 1, 1, 1, 1, 1, 754, 1, 307, 875, 324, 1, 754, 843, 843, 797, 307, 40, 1, 551, 1, 524, 306, 807, 855, 1, 1, 1, 1, 1, 1, 1, 573, 1, 573, 1, 1, 207, 1, 1, 1, 1, 302, 1, 170, 1, 1, 1, 687, 276, 276, 406, 1, 1, 1, 1, 1, 411, 504, 268, 319, 236, 24, 1, 1, 520, 1, 1, 1, 1, 1, 1, 109, 520, 616, 1, 1, 834, 1, 1, 568, 1, 571, 568, 1, 1, 129, 154, 790, 790, 847, 837, 1, 51, 1, 1, 1, 1, 1, 1, 284, 360, 101, 885, 1, 1, 1, 1, 1, 1, 1, 78, 758, 638, 78, 1, 1, 1, 1, 1, 1, 1, 1, 1, 1, 1, 1, 1, 1, 1, 1, 1, 1, 1, 1, 1, 1, 1, 1, 1, 1, 1, 1, 1, 1, 1, 1, 1, 1, 1, 1, 1, 1, 1, 1, 1, 1, 1, 1, 1, 1, 322, 1, 1, 42, 380, 1, 614, 653, 50, 174, 1, 1, 1, 1, 247, 212, 1, 256, 1, 1, 621, 154, 580, 1, 500, 1, 488, 307, 175, 1, 754, 269, 473, 148, 665, 491, 1, 319, 1, 1, 874, 1, 1, 189, 1, 555, 711, 1, 1, 1, 835, 1, 786, 1, 1, 1, 1, 1, 1, 1, 1, 1, 318, 1, 1, 1, 1, 170, 276, 266, 1, 1, 895, 1, 81, 215, 268, 283, 1, 443, 1, 1, 109, 122, 1, 1, 892, 1, 1, 1, 1, 1, 1, 1, 1, 1, 1, 111, 834, 147, 520, 122, 243, 520, 520, 520, 1, 1, 1, 736, 1, 1, 276, 10, 1, 219, 1, 837, 679, 1, 1, 1, 1, 1, 266, 1, 837, 1, 1, 1, 45, 310, 1, 697, 1, 1, 154, 1, 1, 1, 1, 1, 1, 1, 1, 1, 1, 1, 1, 1, 1, 1, 1, 1, 1, 1, 1, 1, 1, 1, 1, 1, 1, 1, 1, 1, 1, 1, 1, 140, 1, 238, 238, 1, 1, 380, 1, 524, 1, 1, 455, 318, 355, 1, 555, 1, 1, 555, 807, 1, 189, 555, 1, 1, 175, 286, 307, 899, 200, 899, 430, 290, 491, 807, 1, 551, 279, 1, 1, 6, 1, 1, 1, 711, 1, 788, 683, 1, 1, 1, 1, 1, 585, 874, 1, 1, 1, 1, 1, 1, 1, 1, 1, 401, 1, 687, 1, 456, 1, 276, 1, 235, 81, 1, 547, 1, 855, 1, 1, 1, 276, 1, 406, 1, 547, 708, 1, 307, 1, 1, 624, 1, 1, 349, 411, 520, 1, 1, 1, 520, 1, 109, 109, 834, 1, 1, 1, 1, 147, 520, 1, 275, 1, 828, 520, 1, 736, 520, 1, 622, 1, 1, 364, 443, 1, 794, 885, 1, 1, 847, 88, 120, 88, 1, 1, 697, 1, 1, 1, 1, 1, 1, 45, 284, 686, 88, 854, 1, 190, 628, 34, 154, 579, 679, 1, 1, 1, 1, 1, 1, 1, 1, 421, 1, 634, 638, 1, 758, 1, 1, 1, 1, 1, 1, 1, 1, 1, 1, 1, 1, 1, 1, 1, 1, 1, 1, 1, 1, 1, 1, 1, 1, 1, 1, 1, 1, 1, 1, 1, 430, 1, 1, 683, 1, 1, 759, 238, 50, 1, 541, 380, 1, 450, 1, 1, 621, 1, 11, 60, 466, 464, 466, 162, 1, 1, 68, 68, 754, 1, 1, 513, 1, 1, 1, 1, 319, 290, 1, 1, 1, 1, 1, 1, 189, 1, 555, 1, 1, 1, 1, 313, 1, 1, 356, 1, 1, 1, 1, 810, 874, 1, 1, 313, 1, 401, 1, 1, 1, 1, 1, 547, 1, 689, 1, 1, 77, 1, 771, 1, 834, 411, 319, 168, 624, 1, 1, 461, 1, 347, 1, 671, 1, 1, 1, 834, 1, 895, 622, 834, 1, 403, 109, 834, 895, 1, 1, 1, 1, 41, 233, 364, 1, 250, 430, 10, 1, 1, 1, 1, 266, 579, 120, 585, 1, 1, 411, 1, 1, 1, 1, 129, 1, 1, 1, 1, 1, 1, 606, 1, 1, 1, 1, 1, 1, 1, 1, 1, 1, 1, 1, 1, 1, 1, 1, 1, 1, 1, 1, 1, 1, 1, 1, 1, 647, 1, 109, 759, 572, 1, 759, 238, 296, 541, 662, 380, 1, 1, 1, 486, 1, 1, 1, 1, 573, 1, 392, 175, 13, 11, 1, 60, 1, 162, 1, 555, 1, 68, 1, 660, 1, 1, 320, 148, 1, 875, 769, 175, 307, 307, 307, 1, 1, 754, 1, 1, 1, 1, 1, 319, 1, 430, 650, 1, 1, 1, 1, 1, 1, 1, 356, 835, 835, 835, 1, 224, 480, 1, 1, 1, 518, 1, 1, 1, 1, 1, 1, 1, 1, 1, 1, 1, 456, 170, 1, 307, 1, 1, 1, 820, 215, 215, 1, 624, 408, 483, 268, 504, 1, 26, 148, 217, 1, 349, 1, 1, 834, 834, 111, 318, 520, 834, 520, 834, 147, 147, 823, 736, 400, 834, 1, 1, 1, 1, 1, 1, 1, 1, 1, 1, 1, 1, 1, 1, 1, 1, 1, 1, 1, 1, 1, 284, 45, 101, 895, 1, 1, 1, 585, 1, 266, 579, 1, 1, 847, 360, 607, 837, 30, 380, 1, 1, 88, 1, 1, 1, 1, 1, 758, 758, 638, 1, 1, 1, 1, 1, 1, 78, 433, 1, 1, 1, 1, 1, 1, 1, 1, 1, 1, 1, 1, 1, 1, 1, 1, 1, 1, 1, 1, 1, 1, 1, 1, 1, 1, 1, 1, 838, 1, 1, 430, 1, 1, 430, 1, 1, 774, 837, 1, 174, 1, 1, 1, 693, 1, 698, 698, 1, 1, 555, 1, 660, 1, 1, 1, 380, 290, 307, 1, 1, 1, 1, 1, 769, 1, 1, 1, 1, 1, 1, 430, 258, 1, 1, 1, 1, 606, 1, 1, 689, 251, 1, 1, 1, 683, 1, 820, 518, 1, 1, 1, 1, 1, 1, 1, 1, 1, 470, 130, 456, 170, 1, 1, 1, 689, 1, 1, 190, 307, 1, 1, 717, 473, 1, 1, 854, 1, 1, 1, 124, 520, 834, 41, 111, 275, 248, 622, 834, 834, 122, 1, 1, 1, 1, 1, 1, 1, 109, 130, 1, 1, 1, 1, 1, 1, 1, 111, 1, 1, 430, 1, 568, 1, 1, 1, 172, 495, 495, 250, 368, 360, 1, 93, 579, 1, 1, 266, 266, 1, 1, 1, 250, 154, 847, 1, 1, 1, 1, 1, 1, 758, 573, 1, 1, 433, 1, 1, 1, 1, 1, 1, 1, 1, 1, 1, 1, 1, 1, 1, 1, 1, 1, 1, 1, 1, 1, 1, 1, 1, 1, 1, 1, 670, 657, 836, 1, 1, 160, 1, 1, 740, 1, 238, 1, 388, 1, 486, 88, 1, 1, 1, 1, 1, 1, 1, 1, 1, 592, 1, 760, 555, 326, 875, 290, 53, 754, 430, 817, 1, 1, 1, 551, 551, 110, 1, 1, 1, 1, 6, 1, 1, 1, 1, 687, 287, 1, 1, 687, 678, 720, 276, 1, 1, 1, 130, 130, 1, 130, 1, 594, 1, 1, 1, 1, 1, 170, 229, 575, 276, 307, 547, 547, 615, 1, 268, 1, 1, 1, 483, 411, 1, 1, 895, 606, 147, 111, 834, 834, 834, 111, 111, 111, 1, 1, 1, 1, 1, 1, 1, 1, 622, 1, 1, 1, 1, 1, 45, 837, 1, 1, 154, 890, 1, 837, 1, 1, 847, 1, 1, 206, 45, 1, 1, 579, 250, 1, 1, 51, 615, 250, 1, 1, 1, 591, 1, 1, 1, 758, 1, 1, 1, 1, 1, 1, 1, 1, 1, 1, 1, 1, 1, 1, 1, 1, 1, 1, 30, 1, 1, 1, 1, 753, 1, 1, 1, 1, 1, 1, 743, 1, 212, 228, 1, 1, 770, 550, 11, 238, 1, 660, 464, 1, 1, 807, 555, 1, 1, 286, 269, 837, 1, 1, 1, 1, 30, 1, 1, 1, 1, 1, 1, 1, 835, 1, 835, 835, 256, 1, 99, 1, 810, 1, 1, 1, 520, 1, 1, 1, 401, 1, 1, 1, 1, 1, 1, 276, 276, 1, 1, 276, 549, 755, 755, 276, 670, 708, 1, 1, 1, 268, 1, 1, 1, 1, 563, 1, 1, 1, 1, 122, 364, 1, 563, 1, 1, 736, 1, 111, 1, 65, 564, 1, 1, 411, 134, 1, 1, 88, 1, 88, 147, 615, 1, 1, 45, 376, 88, 1, 1, 1, 1, 1, 665, 1, 758, 1, 1, 1, 1, 1, 1, 1, 638, 758, 758, 1, 1, 1, 1, 1, 1, 1, 1, 1, 1, 1, 1, 1, 1, 1, 1, 1, 1, 1, 1, 1, 1, 1, 1, 1, 1, 1, 380, 1, 1, 1, 1, 444, 1, 524, 1, 1, 1, 295, 1, 11, 1, 11, 787, 660, 1, 1, 1, 1, 1, 1, 1, 175, 286, 1, 1, 290, 175, 307, 473, 1, 754, 1, 615, 298, 615, 1, 1, 847, 551, 288, 798, 288, 1, 1, 1, 1, 468, 1, 1, 1, 1, 1, 1, 1, 1, 323, 585, 356, 1, 1, 1, 1, 1, 1, 1, 383, 1, 170, 1, 594, 307, 547, 276, 689, 1, 81, 81, 1, 215, 670, 1, 1, 168, 1, 1, 168, 268, 283, 504, 1, 1, 1, 111, 1, 1, 1, 1, 1, 1, 1, 794, 1, 865, 1, 1, 483, 1, 1, 364, 88, 1, 1, 212, 1, 1, 1, 1, 1, 1, 51, 296, 372, 141, 1, 1, 1, 1, 1, 1, 1, 1, 1, 1, 1, 1, 1, 1, 1, 1, 1, 1, 1, 1, 1, 1, 1, 1, 1, 468, 6, 1, 1, 1, 1, 176, 1, 1, 1, 238, 516, 753, 1, 1, 1, 821, 1, 532, 1, 1, 1, 698, 1, 1, 1, 1, 750, 250, 13, 1, 1, 670, 807, 855, 1, 1, 1, 417, 660, 1, 1, 269, 269, 769, 290, 1, 307, 361, 1, 551, 1, 288, 1, 1, 1, 313, 1, 1, 1, 606, 1, 1, 356, 788, 720, 1, 36, 356, 1, 1, 1, 1, 1, 1, 1, 1, 1, 1, 1, 1, 170, 1, 1, 276, 276, 861, 1, 276, 679, 1, 276, 1, 1, 1, 1, 1, 1, 770, 1, 1, 1, 1, 1, 1, 1, 1, 1, 1, 1, 834, 1, 1, 1, 1, 111, 1, 834, 1, 1, 1, 275, 318, 1, 1, 1, 1, 1, 1, 1, 1, 1, 1, 1, 79, 1, 266, 790, 282, 51, 837, 607, 1, 686, 88, 101, 893, 1, 1, 607, 1, 234, 1, 615, 1, 758, 1, 1, 1, 758, 1, 1, 1, 1, 1, 1, 1, 1, 1, 1, 1, 1, 1, 1, 1, 1, 1, 1, 1, 1, 1, 1, 1, 1, 1, 1, 1, 1, 1, 1, 1, 468, 1, 1, 1, 1, 873, 1, 176, 238, 176, 759, 759, 380, 1, 1, 1, 1, 42, 1, 42, 541, 1, 753, 548, 1, 1, 13, 1, 1, 1, 1, 1, 807, 189, 807, 1, 1, 386, 1, 843, 1, 1, 473, 398, 1, 1, 837, 1, 1, 132, 430, 692, 189, 1, 1, 1, 1, 1, 1, 1, 356, 1, 1, 1, 683, 207, 399, 1, 51, 1, 1, 1, 1, 1, 1, 1, 1, 1, 1, 1, 1, 130, 401, 401, 1, 272, 130, 130, 1, 1, 1, 1, 1, 861, 276, 1, 307, 1, 81, 679, 81, 1, 1, 713, 624, 168, 1, 1, 671, 754, 1, 1, 283, 268, 1, 520, 109, 122, 1, 1, 1, 1, 1, 109, 318, 1, 1, 1, 1, 1, 497, 1, 591, 250, 440, 440, 1, 200, 1, 1, 837, 51, 1, 615, 1, 1, 1, 1, 376, 1, 1, 1, 1, 376, 1, 1, 832, 1, 1, 1, 1, 1, 1, 1, 1, 638, 1, 1, 1, 1, 1, 1, 1, 1, 1, 1, 1, 1, 1, 1, 1, 1, 1, 1, 1, 1, 1, 1, 1, 1, 1, 1, 244, 11, 245, 1, 1, 759, 1, 1, 238, 873, 13, 1, 1, 1, 807, 548, 1, 1, 1, 533, 11, 570, 1, 1, 1, 1, 1, 1, 1, 1, 1, 1, 417, 1, 785, 1, 386, 269, 1, 361, 359, 551, 551, 298, 1, 707, 318, 1, 1, 1, 1, 573, 1, 1, 1, 1, 260, 1, 1, 835, 1, 1, 354, 1, 1, 838, 1, 1, 1, 1, 498, 1, 1, 1, 1, 170, 456, 276, 81, 1, 1, 229, 276, 81, 1, 1, 547, 1, 1, 226, 1, 168, 1, 1, 1, 1, 356, 1, 1, 1, 111, 1, 1, 1, 1, 1, 1, 1, 1, 147, 122, 736, 1, 10, 1, 604, 30, 615, 142, 1, 45, 1, 1, 59, 1, 266, 1, 266, 1, 1, 1, 55, 1, 756, 1, 1, 1, 440, 758, 1, 1, 1, 1, 1, 1, 1, 1, 1, 1, 758, 1, 1, 1, 1, 1, 1, 1, 1, 1, 1, 1, 1, 1, 1, 1, 1, 430, 1, 1, 1, 480, 1, 469, 1, 662, 380, 479, 753, 753, 1, 1, 1, 1, 1, 698, 1, 1, 1, 189, 1, 1, 79, 1, 320, 1, 473, 1, 290, 1, 1, 1, 1, 980, 1, 1, 1, 1, 1, 1, 1, 1, 210, 1, 1, 1, 1, 1, 172, 1, 170, 1, 440, 170, 276, 1, 1, 1, 670, 1, 1, 671, 1, 1, 307, 1, 41, 1, 1, 1, 1, 1, 1, 1, 1, 1, 1, 1, 568, 219, 1, 1, 837, 266, 237, 1, 1, 480, 1, 88, 1, 1, 1, 1, 88, 1, 1, 1, 1, 1, 1, 1, 1, 1, 1, 1, 758, 1, 1, 1, 1, 1, 1, 1, 1, 1, 1, 1, 1, 1, 1, 1, 1, 1, 1, 1, 657, 1, 1, 1, 1, 1, 1, 1, 1, 1, 1, 1, 1, 1, 380, 1, 668, 1, 150, 1, 1, 1, 1, 807, 189, 1, 1, 1, 1, 807, 754, 1, 645, 899, 151, 754, 1, 1, 1, 798, 1, 1, 606, 1, 1, 689, 1, 1, 1, 1, 227, 1, 227, 835, 356, 1, 820, 498, 1, 401, 1, 1, 1, 682, 1, 573, 1, 1, 81, 1, 1, 1, 215, 1, 1, 307, 55, 349, 1, 606, 1, 1, 1, 1, 1, 1, 109, 520, 736, 834, 1, 1, 1, 834, 1, 1, 1, 520, 111, 1, 1, 1, 794, 794, 1, 1, 568, 219, 1, 1, 120, 197, 490, 1, 615, 1, 1, 1, 1, 1, 789, 847, 1, 1, 81, 1, 1, 679, 1, 1, 1, 1, 758, 1, 1, 1, 1, 1, 1, 1, 1, 1, 1, 1, 1, 1, 1, 1, 1, 1, 1, 1, 1, 1, 1, 1, 1, 1, 1, 1, 1, 1, 1, 1, 1, 1, 1, 1, 1, 1, 1, 1, 1, 1, 1, 1, 1, 1, 688, 759, 238, 759, 238, 1, 1, 614, 592, 150, 693, 743, 1, 1, 1, 1, 1, 1, 1, 1, 1, 1, 175, 290, 1, 754, 1, 1, 269, 1, 1, 872, 1, 396, 1, 1, 1, 313, 1, 1, 313, 1, 1, 1, 1, 1, 1, 227, 1, 498, 1, 1, 1, 1, 1, 1, 190, 276, 1, 255, 1, 1, 1, 1, 276, 215, 1, 1, 1, 1, 215, 215, 1, 443, 1, 1, 1, 1, 1, 1, 1, 1, 111, 1, 1, 1, 1, 1, 109, 1, 111, 1, 1, 1, 1, 1, 569, 1, 15, 1, 1, 1, 45, 1, 266, 615, 1, 1, 88, 1, 1, 1, 1, 421, 1, 1, 1, 1, 1, 1, 1, 1, 1, 1, 1, 1, 1, 1, 1, 1, 1, 1, 1, 1, 1, 1, 1, 1, 1, 1, 1, 1, 1, 873, 1, 1, 1, 1, 81, 1, 176, 867, 1, 1, 380, 1, 1, 174, 1, 1, 1, 417, 1, 1, 1, 1, 1, 1, 1, 1, 1, 513, 380, 396, 1, 1, 1, 1, 396, 20, 1, 378, 1, 1, 1, 1, 356, 260, 399, 1, 835, 1, 1, 1, 1, 1, 540, 1, 1, 1, 498, 1, 1, 1, 1, 45, 1, 276, 276, 1, 1, 1, 1, 1, 307, 1, 504, 606, 616, 1, 1, 1, 111, 1, 1, 109, 520, 364, 109, 147, 1, 1, 1, 320, 1, 225, 430, 168, 1, 221, 1, 1, 1, 1, 1, 266, 307, 555, 1, 759, 392, 417, 1, 1, 1, 1, 1, 1, 1, 1, 736, 306, 555, 1, 1, 1, 1, 1, 1, 1, 1, 1, 1, 1, 1, 244, 754, 1, 665, 1, 290, 189, 1, 215, 1, 380, 1, 1, 622, 1, 1, 1, 1, 1, 1, 1, 1, 1, 1, 45, 1, 1, 1, 1, 1, 306, 1, 45, 349, 551, 1, 1, 1, 520, 1, 1, 1, 1, 1, 182, 1, 1, 1, 306, 1, 573, 1, 1, 1, 1, 1, 1, 1, 1, 81, 1, 1, 580, 1, 1, 1, 1, 1, 1, 1, 430, 1, 777, 1, 1, 1, 1, 1, 1, 895, 124, 480, 1, 1, 660, 430, 1, 667, 1, 1, 88, 1, 330, 1, 1, 1, 266, 1, 1, 1, 1, 1, 1, 1, 1, 1, 1, 555, 1, 1, 266, 1, 551, 266, 1, 680, 1, 1, 442, 1, 1, 1, 1, 1, 1, 1, 1, 1, 1, 1, 670, 1, 1, 1, 1, 1, 1, 1, 1, 1, 1, 1, 1, 1, 1, 513, 1, 1, 1, 1, 834, 1, 1, 1, 238, 1, 1, 1, 470, 1, 1, 1, 1, 1, 276, 1, 1, 298, 1, 1, 1, 1, 1, 1, 1, 1, 1, 1, 1, 1, 878, 1, 269, 1, 560, 1, 616, 440, 430, 268, 1, 1, 1, 1, 360, 430, 1, 1, 1, 1, 1, 283, 615, 436, 1, 1, 1, 1, 318, 1, 1, 551, 1, 1, 1, 1, 1, 1, 1, 1, 1, 1, 1, 520, 1, 1, 1, 1, 1, 1, 356, 1, 551, 1, 126, 1, 1, 1, 468, 899, 1, 1, 1, 284, 1, 1, 1, 1, 1, 1, 394, 430, 1, 411, 318, 1, 1, 1, 266, 189, 1, 1, 1, 1, 1, 1, 1, 1, 1, 1, 513, 1, 1, 551, 1, 1, 1, 287, 1, 1, 1, 1, 1, 1, 1, 1, 276, 1, 1, 1, 1, 1, 1, 1, 1, 1, 1, 1, 1, 377, 580, 1, 1, 189, 1, 1, 837, 1, 269, 1, 1, 269, 1, 147, 1, 1, 1, 1, 1, 1, 1, 1, 1, 1, 54, 1, 1, 411, 573, 1, 417, 1, 1, 1, 174, 1, 1, 172, 356, 1, 1, 1, 1, 1, 1, 807, 1, 1, 885, 1, 1, 1, 364, 1, 1, 794, 1, 1, 662, 1, 1, 430, 1, 555, 1, 1, 520, 1, 1, 1, 1, 1, 1, 1, 1, 1, 1, 1, 1, 1, 1, 1, 794, 130, 1, 758, 307, 572, 1, 20, 1, 1, 1, 1, 1, 1, 1, 1, 1, 433, 1, 1, 1, 1, 1, 547, 785, 1, 520, 200, 1, 1, 547, 1, 276, 1, 573, 1, 1, 1, 1, 1, 1, 1, 1, 520, 1, 1, 1, 1, 276, 1, 520, 1, 1, 1, 1, 109, 1, 81, 170, 1, 1, 1, 1, 1, 1, 1, 1, 1, 1, 1, 1, 1, 1, 376, 376, 1, 885, 634, 638, 1, 1, 1, 1, 296, 1, 1, 1, 758, 1, 1, 520, 758, 1, 1, 1, 1, 1, 1, 1, 1, 1, 1, 1, 1, 1, 1, 1, 1, 1, 1, 1, 1, 1, 1, 1, 1, 1, 1, 1, 1, 1, 1, 1, 1, 1, 670, 1, 1, 1, 6, 1, 1, 1, 1, 1, 759, 759, 1, 1, 1, 1, 1, 548, 698, 1, 1, 1, 1, 1, 1, 1, 660, 1, 1, 1, 1, 1, 1, 1, 430, 290, 754, 1, 307, 1, 754, 298, 1, 1, 1, 1, 1, 650, 279, 1, 555, 1, 1, 1, 226, 1, 1, 1, 1, 1, 1, 1, 1, 547, 1, 1, 1, 1, 1, 1, 1, 1, 1, 1, 170, 81, 276, 1, 1, 276, 1, 81, 276, 1, 1, 1, 1, 268, 1, 168, 1, 1, 892, 1, 1, 1, 1, 1, 1, 1, 1, 1, 520, 670, 147, 736, 1, 219, 1, 1, 1, 1, 660, 807, 1, 650, 1, 1, 1, 823, 1, 266, 1, 1, 1, 1, 238, 1, 1, 1, 1, 1, 1, 183, 1, 1, 385, 1, 1, 1, 1, 45, 1, 1, 1, 1, 1, 31, 1, 266, 736, 756, 761, 789, 615, 1, 1, 756, 1, 1, 1, 1, 1, 1, 1, 1, 1, 1, 1, 1, 1, 1, 1, 1, 1, 1, 1, 1, 1, 1, 1, 1, 1, 1, 1, 1, 1, 1, 1, 1, 1, 1, 753, 1, 572, 1, 1, 380, 777, 13, 1, 1, 662, 450, 473, 100, 807, 573, 548, 13, 238, 1, 1, 1, 875, 307, 754, 1, 6, 1, 298, 1, 53, 798, 1, 1, 6, 1, 1, 1, 1, 498, 1, 1, 1, 1, 1, 1, 130, 1, 1, 1, 88, 400, 1, 170, 1, 1, 689, 276, 1, 1, 1, 1, 890, 1, 1, 400, 1, 895, 1, 1, 1, 1, 1, 895, 1, 36, 1, 1, 243, 20, 1, 1, 1, 1, 1, 736, 10, 810, 1, 1, 1, 1, 615, 440, 890, 790, 1, 31, 154, 1, 837, 1, 1, 78, 1, 1, 1, 1, 1, 1, 1, 1, 1, 1, 1, 1, 1, 1, 1, 1, 1, 1, 1, 1, 1, 1, 1, 1, 1, 1, 1, 1, 238, 1, 380, 1, 653, 1, 1, 662, 860, 573, 807, 570, 162, 1, 875, 815, 1, 1, 298, 1, 551, 1, 1, 1, 1, 378, 1, 1, 1, 874, 874, 1, 498, 518, 1, 130, 594, 130, 470, 1, 170, 1, 1, 170, 400, 1, 1, 755, 1, 307, 1, 1, 167, 1, 81, 755, 1, 307, 861, 411, 1, 1, 1, 400, 1, 892, 109, 248, 147, 1, 1, 126, 1, 568, 890, 1, 172, 1, 45, 1, 120, 1, 440, 1, 1, 1, 1, 1, 1, 1, 1, 1, 1, 1, 1, 1, 1, 1, 1, 1, 1, 1, 1, 1, 1, 1, 1, 1, 1, 1, 1, 1, 1, 1, 1, 1, 1, 430, 1, 1, 1, 1, 1, 1, 238, 238, 299, 537, 753, 759, 759, 1, 877, 1, 88, 653, 524, 1, 877, 1, 1, 532, 548, 1, 1, 698, 22, 621, 787, 466, 162, 586, 1, 1, 299, 815, 269, 815, 297, 306, 1, 1, 1, 1, 1, 1, 1, 1, 1, 1, 1, 1, 1, 1, 1, 1, 1, 1, 470, 594, 1, 1, 130, 1, 1, 400, 400, 572, 432, 1, 500, 1, 500, 1, 670, 708, 1, 1, 1, 168, 873, 307, 313, 1, 1, 1, 1, 1, 1, 1, 1, 1, 1, 606, 1, 1, 1, 1, 1, 1, 130, 1, 1, 1, 1, 1, 1, 834, 1, 250, 887, 45, 234, 1, 1, 1, 282, 1, 129, 440, 1, 837, 642, 858, 250, 81, 1, 1, 1, 1, 1, 1, 1, 1, 1, 1, 1, 1, 1, 1, 1, 1, 1, 1, 1, 1, 1, 1, 1, 780, 572, 1, 1, 1, 1, 1, 524, 1, 1, 532, 698, 622, 1, 1, 417, 1, 245, 290, 290, 815, 151, 245, 875, 290, 899, 307, 349, 1, 1, 1, 683, 1, 1, 1, 1, 1, 1, 401, 1, 190, 1, 190, 1, 170, 1, 1, 1, 77, 81, 1, 547, 81, 1, 276, 110, 670, 670, 1, 1, 1, 1, 1, 111, 834, 1, 520, 1, 147, 130, 233, 1, 1, 20, 1, 1, 1, 1, 895, 736, 1, 1, 1, 1, 88, 361, 1, 667, 1, 1, 585, 1, 847, 615, 1, 541, 234, 1, 758, 1, 433, 1, 1, 1, 1, 1, 1, 1, 1, 1, 1, 1, 1, 1, 1, 1, 1, 1, 1, 1, 1, 1, 1, 1, 1, 1, 1, 1, 1, 1, 1, 1, 1, 1, 1, 1, 1, 1, 212, 1, 759, 759, 1, 877, 1, 380, 174, 541, 1, 1, 1, 247, 1, 548, 1, 621, 1, 383, 162, 1, 1, 417, 899, 307, 899, 307, 307, 572, 1, 1, 245, 298, 1, 1, 1, 1, 226, 1, 399, 1, 1, 1, 810, 1, 3, 548, 1, 400, 594, 1, 1, 276, 755, 1, 276, 1, 1, 1, 1, 168, 1, 1, 111, 1, 520, 1, 1, 1, 834, 736, 130, 1, 520, 736, 1, 1, 41, 147, 1, 1, 520, 1, 1, 1, 440, 1, 1, 1, 1, 1, 1, 1, 1, 88, 1, 1, 1, 1, 234, 1, 368, 631, 1, 436, 1, 1, 137, 1, 1, 1, 1, 1, 1, 1, 1, 1, 1, 1, 1, 1, 1, 1, 1, 1, 1, 1, 1, 1, 1, 1, 1, 1, 1, 1, 1, 1, 1, 1, 1, 654, 244, 244, 1, 238, 380, 174, 777, 1, 1, 821, 532, 573, 22, 698, 1, 710, 1, 555, 168, 660, 1, 320, 743, 386, 307, 1, 1, 787, 800, 1, 319, 770, 650, 1, 313, 1, 1, 1, 1, 1, 1, 498, 1, 498, 594, 1, 1, 1, 1, 594, 456, 594, 1, 1, 1, 1, 689, 1, 1, 1, 81, 1, 1, 873, 1, 411, 1, 1, 109, 100, 1, 895, 520, 834, 1, 834, 1, 1, 834, 1, 1, 1, 1, 1, 1, 1, 1, 564, 45, 1, 1, 895, 250, 91, 615, 837, 1, 1, 1, 1, 579, 154, 360, 809, 234, 372, 758, 1, 1, 1, 1, 638, 1, 1, 1, 1, 1, 1, 1, 1, 1, 1, 1, 1, 1, 1, 1, 1, 1, 1, 1, 1, 1, 1, 1, 1, 290, 1, 1, 1, 1, 777, 653, 380, 388, 380, 616, 1, 1, 1, 212, 660, 1, 417, 759, 269, 307, 1, 615, 396, 807, 1, 1, 855, 605, 573, 1, 1, 1, 1, 1, 810, 1, 470, 1, 1, 470, 1, 1, 170, 1, 400, 1, 81, 1, 547, 615, 1, 678, 124, 1, 411, 268, 1, 233, 109, 1, 520, 520, 1, 1, 147, 834, 834, 1, 1, 520, 403, 36, 736, 1, 1, 524, 555, 433, 154, 1, 1, 148, 790, 1, 154, 88, 761, 1, 400, 893, 1, 790, 1, 887, 1, 88, 360, 1, 1, 321, 895, 1, 1, 1, 1, 1, 1, 1, 1, 1, 1, 1, 1, 1, 1, 1, 1, 1, 1, 1, 1, 1, 1, 1, 1, 1, 1, 1, 1, 1, 1, 1, 1, 1, 1, 1, 1, 1, 380, 1, 88, 1, 1, 1, 1, 710, 1, 436, 1, 53, 430, 754, 298, 430, 1, 551, 555, 551, 1, 6, 1, 1, 693, 1, 399, 835, 1, 1, 1, 1, 1, 1, 1, 1, 1, 1, 1, 682, 1, 45, 170, 682, 1, 1, 1, 147, 307, 429, 742, 1, 1, 1, 349, 1, 1, 1, 1, 41, 1, 1, 1, 1, 250, 892, 1, 1, 834, 403, 1, 1, 1, 834, 1, 1, 1, 520, 233, 1, 1, 1, 1, 109, 1, 1, 1, 1, 1, 656, 1, 686, 1, 756, 1, 1, 1, 1, 154, 88, 101, 21, 736, 376, 361, 1, 638, 1, 1, 758, 1, 433, 685, 1, 1, 1, 1, 1, 1, 1, 1, 1, 1, 1, 1, 1, 1, 1, 1, 1, 1, 1, 1, 1, 1, 1, 1, 1, 1, 1, 1, 1, 1, 1, 1, 1, 486, 1, 1, 1, 450, 142, 1, 450, 175, 1, 189, 718, 269, 1, 551, 1, 555, 1, 6, 1, 1, 1, 1, 874, 1, 1, 1, 1, 1, 400, 1, 1, 1, 406, 81, 81, 1, 755, 81, 547, 1, 1, 708, 1, 204, 708, 1, 283, 268, 55, 1, 1, 1, 834, 1, 834, 892, 1, 1, 111, 1, 1, 275, 622, 1, 1, 1, 1, 892, 1, 1, 1, 1, 41, 892, 275, 1, 1, 10, 1, 1, 520, 468, 1, 1, 1, 1, 172, 1, 1, 1, 1, 93, 360, 1, 690, 628, 1, 172, 1, 1, 78, 1, 1, 78, 1, 1, 1, 1, 1, 1, 1, 1, 638, 1, 78, 1, 1, 1, 1, 1, 1, 1, 1, 1, 1, 1, 1, 1, 1, 1, 1, 1, 1, 1, 1, 1, 1, 1, 1, 1, 1, 1, 1, 1, 1, 1, 1, 1, 1, 1, 1, 1, 1, 430, 683, 1, 1, 759, 1, 13, 42, 380, 873, 1, 380, 380, 614, 1, 1, 1, 174, 777, 450, 532, 821, 450, 1, 11, 13, 162, 466, 1, 417, 269, 1, 1, 513, 572, 438, 551, 1, 279, 288, 1, 288, 1, 1, 378, 399, 1, 378, 1, 1, 1, 130, 594, 594, 1, 1, 1, 1, 594, 1, 770, 1, 895, 215, 1, 1, 1, 352, 1, 1, 892, 736, 520, 520, 1, 1, 1, 834, 834, 1, 1, 1, 1, 147, 520, 147, 834, 1, 736, 1, 1, 579, 1, 736, 79, 1, 615, 197, 1, 649, 376, 579, 658, 172, 579, 1, 138, 756, 1, 150, 1, 42, 147, 88, 154, 1, 1, 1, 1, 1, 1, 1, 1, 1, 1, 1, 1, 1, 1, 1, 1, 1, 1, 1, 1, 1, 1, 1, 1, 1, 1, 1, 1, 1, 1, 1, 1, 1, 1, 1, 1, 1, 1, 1, 1, 1, 1, 516, 332, 861, 1, 1, 444, 1, 1, 1, 541, 573, 1, 1, 698, 807, 1, 1, 212, 178, 466, 182, 1, 1, 672, 148, 1, 151, 132, 359, 668, 1, 1, 1, 1, 1, 490, 1, 1, 885, 1, 1, 1, 470, 1, 682, 1, 1, 1, 147, 1, 1, 276, 276, 754, 1, 215, 1, 109, 364, 895, 1, 1, 1, 1, 147, 130, 606, 1, 111, 1, 1, 1, 1, 895, 275, 1, 520, 520, 823, 1, 834, 109, 1, 520, 306, 109, 1, 564, 1, 1, 396, 1, 1, 1, 1, 172, 1, 754, 1, 1, 1, 172, 854, 1, 360, 30, 1, 1, 1, 1, 101, 440, 1, 147, 756, 172, 1, 1, 360, 1, 1, 847, 40, 1, 1, 1, 1, 1, 1, 1, 1, 1, 1, 1, 1, 1, 1, 1, 1, 1, 1, 1, 1, 1, 1, 1, 1, 1, 1, 1, 1, 1, 1, 1, 1, 1, 1, 1, 836, 1, 244, 1, 1, 486, 1, 380, 1, 777, 548, 807, 110, 698, 473, 212, 130, 212, 110, 60, 1, 189, 1, 878, 307, 377, 1, 1, 1, 378, 1, 1, 689, 1, 1, 1, 810, 1, 1, 174, 1, 1, 1, 470, 1, 1, 682, 1, 1, 1, 400, 1, 276, 255, 81, 101, 1, 1, 1, 1, 1, 1, 771, 1, 1, 1, 1, 1, 443, 1, 1, 547, 248, 736, 520, 1, 1, 1, 1, 109, 1, 1, 248, 1, 563, 1, 243, 1, 1, 147, 111, 1, 834, 400, 890, 248, 622, 1, 1, 1, 1, 1, 377, 1, 1, 1, 807, 1, 1, 1, 79, 45, 1, 31, 125, 172, 615, 1, 250, 282, 266, 887, 360, 1, 1, 88, 543, 31, 1, 1, 1, 1, 758, 137, 1, 433, 433, 1, 1, 1, 1, 1, 1, 1, 1, 1, 1, 1, 1, 1, 1, 1, 1, 1, 1, 1, 1, 1, 1, 1, 1, 1, 1, 1, 430, 1, 867, 662, 1, 1, 662, 1, 1, 137, 212, 1, 256, 670, 1, 1, 1, 660, 430, 572, 307, 1, 426, 307, 754, 205, 20, 1, 1, 1, 1, 1, 573, 1, 1, 1, 1, 1, 172, 518, 172, 594, 302, 1, 1, 1, 1, 1, 1, 1, 1, 1, 81, 755, 1, 547, 1, 1, 319, 168, 411, 352, 1, 1, 861, 268, 111, 111, 1, 834, 1, 1, 520, 111, 400, 892, 520, 1, 1, 834, 1, 318, 736, 109, 147, 497, 736, 1, 139, 1, 1, 1, 1, 1, 1, 1, 1, 1, 1, 88, 51, 88, 88, 145, 154, 172, 284, 1, 480, 579, 604, 615, 659, 697, 837, 887, 893, 1, 1, 1, 1, 1, 1, 1, 573, 1, 1, 1, 1, 1, 1, 1, 1, 1, 1, 1, 1, 1, 1, 1, 1, 1, 1, 1, 1, 1, 1, 1, 1, 1, 1, 1, 1, 433, 1, 176, 759, 1, 1, 1, 380, 388, 513, 653, 753, 1, 100, 548, 1, 1, 532, 698, 1, 228, 1, 1, 1, 417, 580, 807, 1, 290, 1, 1, 1, 1, 6, 551, 279, 551, 1, 1, 711, 1, 1, 1, 378, 506, 1, 1, 1, 174, 720, 1, 1, 272, 594, 1, 1, 1, 170, 594, 1, 1, 1, 190, 276, 1, 406, 547, 1, 670, 1, 1, 1, 268, 1, 349, 411, 1, 520, 861, 147, 1, 1, 1, 1, 1, 1, 1, 1, 1, 1, 1, 36, 1, 111, 147, 248, 1, 400, 520, 520, 520, 834, 892, 895, 794, 1, 1, 1, 1, 1, 376, 628, 360, 1, 1, 1, 1, 88, 88, 642, 250, 45, 847, 1, 1, 1, 1, 758, 606, 1, 1, 1, 1, 1, 1, 1, 1, 1, 1, 1, 1, 1, 1, 1, 1, 1, 1, 1, 1, 1, 1, 1, 654, 759, 469, 753, 759, 1, 873, 1, 873, 1, 174, 205, 256, 450, 1, 11, 710, 162, 660, 807, 1, 189, 1, 1, 1, 269, 486, 148, 40, 1, 1, 524, 668, 1, 430, 1, 53, 1, 1, 313, 568, 1, 1, 683, 835, 1, 1, 693, 786, 699, 1, 1, 1, 1, 1, 1, 470, 318, 456, 682, 1, 1, 1, 1, 1, 307, 1, 1, 81, 255, 1, 755, 190, 215, 771, 1, 1, 349, 411, 109, 520, 1, 1, 1, 1, 736, 823, 109, 520, 122, 122, 1, 1, 1, 1, 736, 130, 1, 1, 440, 320, 1, 837, 837, 585, 579, 541, 847, 266, 1, 1, 837, 1, 234, 138, 1, 1, 433, 1, 1, 1, 1, 1, 1, 1, 1, 1, 1, 1, 1, 1, 1, 1, 1, 1, 1, 1, 1, 1, 1, 1, 491, 362, 1, 380, 1, 380, 1, 614, 1, 1, 256, 189, 1, 417, 1, 1, 1, 513, 572, 885, 551, 797, 668, 1, 1, 189, 318, 1, 1, 1, 1, 786, 1, 683, 1, 1, 1, 1, 1, 1, 1, 682, 687, 1, 682, 1, 1, 1, 1, 1, 276, 1, 318, 823, 1, 820, 1, 1, 168, 675, 319, 1, 130, 147, 1, 834, 1, 111, 109, 111, 520, 1, 1, 400, 845, 1, 1, 1, 400, 520, 266, 1, 1, 628, 1, 45, 1, 1, 1, 1, 1, 1, 1, 1, 1, 1, 1, 1, 1, 1, 1, 455, 380, 380, 698, 1, 1, 1, 1, 1, 290, 473, 1, 378, 650, 1, 313, 226, 1, 835, 245, 1, 1, 1, 1, 1, 1, 1, 1, 443, 1, 124, 109, 1, 1, 1, 1, 1, 563, 1, 1, 1, 88, 1, 361, 665, 1, 1, 113, 480, 1, 1, 1, 1, 1, 1, 1, 1, 520, 1, 1, 1, 1, 1, 1, 1, 1, 1, 1, 1, 1, 1, 1, 1, 1, 657, 790, 1, 380, 13, 785, 585, 698, 1, 1, 1, 1, 1, 189, 875, 885, 1, 841, 480, 298, 396, 799, 1, 1, 689, 1, 1, 1, 683, 1, 810, 720, 130, 170, 682, 440, 1, 1, 276, 81, 1, 1, 1, 671, 268, 1, 1, 1, 616, 736, 1, 109, 1, 1, 616, 1, 1, 1, 234, 120, 790, 679, 1, 1, 1, 154, 1, 1, 1, 1, 1, 1, 1, 1, 1, 1, 1, 1, 1, 1, 1, 1, 1, 1, 1, 1, 1, 238, 759, 1, 1, 1, 42, 743, 1, 45, 68, 1, 1, 299, 758, 307, 151, 1, 214, 359, 1, 1, 1, 1, 1, 399, 687, 1, 1, 518, 261, 1, 1, 594, 594, 1, 1, 1, 1, 1, 318, 1, 861, 81, 1, 713, 678, 1, 1, 200, 1, 411, 147, 497, 130, 834, 563, 1, 1, 1, 246, 248, 275, 1, 520, 1, 622, 892, 1, 1, 111, 1, 1, 736, 1, 1, 1, 1, 1, 1, 1, 1, 1, 1, 1, 1, 360, 1, 318, 125, 1, 1, 147, 250, 101, 1, 1, 1, 436, 1, 296, 1, 1, 1, 1, 1, 1, 1, 1, 1, 1, 1, 1, 1, 1, 1, 816, 759, 524, 174, 1, 777, 592, 397, 532, 1, 450, 1, 11, 580, 417, 1, 743, 1, 320, 1, 1, 551, 1, 430, 30, 1, 1, 573, 835, 1, 683, 1, 1, 594, 594, 1, 1, 1, 276, 81, 1, 268, 622, 1, 834, 863, 834, 364, 1, 1, 1, 1, 1, 1, 41, 1, 1, 1, 790, 101, 30, 1, 837, 44, 1, 1, 758, 1, 1, 638, 1, 1, 1, 1, 1, 1, 1, 1, 1, 1, 1, 1, 1, 1, 1, 1, 1, 176, 1, 238, 873, 1, 1, 785, 100, 1, 1, 1, 1, 417, 290, 758, 1, 20, 6, 1, 396, 1, 205, 555, 1, 1, 226, 399, 1, 1, 1, 405, 1, 45, 1, 1, 500, 1, 81, 742, 1, 319, 1, 168, 217, 109, 54, 520, 41, 622, 1, 1, 1, 520, 1, 1, 1, 154, 837, 837, 1, 642, 1, 1, 154, 736, 1, 638, 1, 433, 1, 1, 1, 1, 1, 1, 1, 1, 1, 1, 1, 1, 1, 1, 1, 1, 1, 188, 1, 1, 1, 1, 1, 1, 824, 743, 698, 1, 11, 1, 660, 555, 1, 754, 1, 1, 615, 1, 1, 430, 1, 1, 1, 1, 356, 1, 585, 1, 1, 1, 190, 88, 1, 217, 1, 1, 1, 1, 1, 483, 236, 497, 520, 130, 834, 1, 1, 1, 1, 109, 1, 430, 1, 1, 360, 30, 1, 360, 360, 1, 1, 1, 1, 1, 1, 1, 1, 1, 1, 1, 1, 1, 1, 1, 1, 1, 1, 1, 1, 1, 1, 176, 47, 1, 1, 1, 662, 1, 1, 22, 1, 698, 1, 250, 1, 154, 290, 596, 1, 875, 551, 668, 189, 318, 150, 1, 1, 6, 405, 835, 835, 1, 172, 874, 1, 1, 1, 1, 1, 755, 1, 81, 708, 1, 408, 1, 1, 1, 1, 130, 1, 1, 1, 1, 1, 109, 834, 109, 1, 1, 1, 1, 659, 88, 1, 1, 1, 1, 1, 1, 1, 1, 789, 1, 88, 266, 1, 615, 1, 120, 1, 1, 1, 1, 1, 1, 1, 1, 1, 758, 1, 1, 1, 1, 1, 1, 1, 1, 1, 1, 1, 1, 1, 1, 1, 1, 1, 1, 1, 1, 1, 1, 1, 30, 1, 1, 759, 1, 580, 599, 790, 174, 777, 1, 1, 486, 1, 1, 1, 573, 1, 355, 1, 743, 698, 1, 455, 11, 178, 550, 672, 807, 555, 1, 675, 307, 290, 175, 799, 1, 430, 75, 298, 1, 1, 518, 1, 1, 279, 847, 430, 847, 1, 430, 58, 1, 1, 245, 1, 1, 1, 1, 1, 313, 1, 1, 1, 215, 1, 399, 203, 1, 1, 1, 1, 1, 1, 1, 1, 1, 130, 1, 594, 1, 400, 1, 682, 170, 1, 1, 1, 276, 1, 572, 689, 81, 1, 432, 1, 283, 1, 1, 290, 408, 1, 1, 1, 504, 1, 1, 1, 147, 109, 147, 895, 845, 109, 520, 1, 41, 1, 1, 1, 1, 1, 1, 1, 36, 1, 1, 376, 483, 1, 360, 1, 1, 1, 1, 400, 2, 45, 1, 1, 1, 887, 1, 1, 172, 250, 42, 1, 1, 615, 1, 638, 1, 421, 1, 421, 78, 1, 1, 1, 1, 1, 1, 1, 1, 1, 1, 1, 1, 1, 1, 1, 1, 1, 1, 1, 1, 1, 1, 1, 1, 1, 1, 1, 1, 1, 1, 1, 1, 1, 1, 1, 430, 1, 1, 1, 1, 1, 1, 222, 185, 1, 1, 380, 444, 1, 1, 1, 1, 1, 150, 142, 455, 1, 1, 1, 517, 555, 1, 1, 175, 513, 1, 1, 290, 1, 754, 799, 317, 1, 660, 1, 551, 1, 78, 189, 570, 1, 1, 1, 1, 1, 711, 1, 1, 683, 399, 1, 1, 1, 1, 1, 498, 1, 1, 1, 1, 130, 470, 170, 1, 1, 594, 1, 1, 276, 1, 81, 1, 207, 1, 81, 1, 861, 1, 235, 708, 215, 1, 411, 675, 349, 1, 1, 124, 1, 268, 307, 168, 1, 109, 1, 1, 1, 1, 1, 1, 520, 1, 1, 1, 1, 1, 1, 1, 563, 1, 834, 863, 248, 1, 1, 606, 1, 1, 1, 520, 147, 1, 1, 1, 736, 1, 1, 190, 1, 1, 893, 1, 1, 45, 792, 1, 1, 1, 266, 837, 1, 1, 1, 1, 360, 266, 1, 1, 1, 88, 318, 1, 1, 129, 1, 758, 1, 1, 1, 1, 1, 1, 1, 1, 1, 1, 1, 1, 758, 1, 1, 1, 1, 1, 1, 1, 1, 1, 1, 1, 1, 1, 1, 1, 1, 1, 1, 1, 1, 1, 1, 1, 1, 1, 1, 1, 1, 1, 1, 442, 1, 1, 1, 1, 1, 464, 759, 1, 491, 486, 486, 1, 616, 442, 1, 1, 1, 290, 1, 1, 573, 300, 1, 1, 1, 162, 1, 430, 307, 307, 1, 875, 1, 473, 817, 839, 290, 175, 53, 551, 551, 378, 1, 132, 53, 189, 1, 1, 1, 1, 1, 1, 1, 1, 400, 1, 1, 1, 1, 1, 1, 838, 585, 356, 1, 435, 1, 356, 1, 1, 874, 498, 1, 1, 401, 1, 614, 1, 1, 1, 307, 77, 1, 1, 81, 215, 233, 1, 283, 624, 168, 443, 1, 1, 1, 1, 1, 1, 130, 1, 1, 1, 109, 147, 111, 248, 1, 54, 1, 1, 1, 895, 1, 1, 250, 1, 1, 1, 1, 1, 1, 1, 604, 607, 642, 756, 266, 1, 1, 1, 895, 1, 1, 45, 579, 1, 1, 1, 1, 685, 1, 1, 1, 1, 1, 1, 1, 1, 1, 1, 1, 1, 1, 1, 1, 1, 1, 1, 1, 1, 1, 1, 1, 1, 1, 1, 1, 1, 1, 1, 1, 1, 1, 600, 1, 572, 1, 1, 1, 693, 759, 614, 442, 1, 1, 592, 1, 1, 532, 400, 517, 1, 750, 1, 1, 1, 807, 1, 417, 1, 1, 1, 1, 1, 1, 1, 1, 1, 1, 1, 1, 349, 807, 1, 1, 551, 430, 555, 980, 1, 313, 1, 1, 1, 1, 1, 256, 323, 1, 1, 1, 835, 835, 1, 1, 1, 405, 1, 1, 1, 1, 1, 1, 1, 81, 81, 81, 276, 1, 190, 276, 861, 575, 1, 861, 1, 1, 870, 1, 1, 1, 1, 1, 1, 1, 1, 1, 1, 1, 1, 109, 111, 1, 1, 1, 250, 1, 1, 1, 250, 266, 1, 1, 1, 1, 1, 615, 1, 234, 1, 1, 148, 1, 1, 1, 1, 1, 1, 1, 1, 1, 1, 1, 1, 1, 1, 1, 1, 1, 1, 1, 1, 1, 1, 1, 1, 1, 1, 1, 1, 1, 1, 1, 1, 1, 1, 1, 1, 1, 1, 1, 683, 1, 1, 430, 244, 430, 1, 1, 332, 759, 778, 1, 1, 1, 1, 1, 1, 1, 1, 1, 592, 1, 212, 548, 1, 1, 355, 698, 1, 1, 300, 238, 1, 1, 1, 1, 443, 1, 1, 466, 1, 1, 168, 1, 1, 1, 1, 1, 1, 1, 183, 307, 40, 307, 450, 530, 551, 1, 1, 1, 1, 1, 1, 1, 378, 693, 1, 1, 1, 1, 1, 356, 810, 1, 1, 1, 1, 1, 1, 1, 594, 1, 1, 1, 440, 45, 1, 1, 81, 1, 1, 110, 1, 1, 1, 1, 1, 1, 1, 585, 1, 1, 1, 1, 126, 1, 1, 20, 1, 1, 1, 111, 520, 1, 1, 1, 1, 1, 1, 1, 147, 1, 1, 1, 1, 1, 1, 250, 1, 1, 1, 1, 1, 360, 250, 490, 380, 1, 1, 1, 756, 1, 1, 1, 1, 237, 1, 1, 1, 1, 88, 1, 1, 1, 1, 1, 1, 1, 1, 1, 1, 1, 1, 1, 1, 1, 1, 1, 1, 1, 1, 1, 1, 1, 1, 1, 1, 1, 1, 1, 1, 1, 1, 1, 1, 1, 1, 1, 1, 1, 1, 1, 1, 1, 430, 1, 1, 1, 1, 516, 1, 1, 1, 1, 388, 1, 1, 205, 1, 1, 1, 1, 1, 498, 417, 660, 1, 182, 1, 1, 1, 1, 1, 1, 1, 660, 1, 162, 1, 1, 1, 1, 1, 307, 1, 1, 862, 269, 1, 1, 551, 1, 1, 1, 980, 1, 226, 226, 1, 313, 313, 1, 1, 1, 1, 1, 1, 1, 172, 1, 1, 1, 1, 1, 170, 682, 1, 1, 1, 81, 1, 1, 689, 307, 307, 1, 152, 283, 1, 30, 1, 1, 1, 1, 892, 111, 563, 1, 109, 1, 1, 1, 1, 895, 1, 1, 1, 1, 1, 834, 1, 111, 1, 1, 1, 364, 111, 1, 1, 736, 1, 1, 757, 568, 1, 1, 1, 1, 1, 686, 1, 1, 1, 1, 45, 1, 1, 266, 615, 1, 1, 360, 1, 858, 1, 1, 649, 1, 758, 1, 1, 1, 1, 1, 1, 1, 573, 1, 1, 1, 1, 1, 1, 1, 1, 1, 1, 1, 1, 1, 1, 1, 1, 1, 1, 1, 1, 1, 1, 1, 1, 1, 1, 1, 1, 1, 1, 1, 1, 1, 1, 1, 430, 1, 1, 1, 442, 1, 1, 1, 1, 1, 1, 1, 1, 1, 1, 572, 759, 572, 238, 1, 777, 777, 1, 573, 1, 1, 1, 1, 1, 1, 698, 787, 175, 1, 1, 1, 13, 1, 1, 555, 1, 1, 1, 1, 1, 1, 151, 1, 1, 1, 269, 269, 1, 1, 396, 279, 650, 1, 1, 1, 1, 189, 1, 1, 1, 1, 1, 1, 313, 1, 313, 258, 320, 835, 1, 1, 1, 1, 1, 1, 385, 250, 1, 1, 1, 1, 1, 1, 88, 1, 1, 1, 81, 276, 1, 1, 1, 742, 1, 1, 215, 1, 1, 1, 1, 1, 1, 1, 1, 1, 1, 1, 520, 275, 1, 1, 1, 794, 759, 865, 1, 1, 120, 837, 264, 1, 172, 266, 1, 1, 1, 1, 1, 266, 1, 1, 1, 1, 212, 1, 1, 1, 1, 154, 1, 615, 1, 1, 1, 520, 1, 1, 638, 1, 1, 1, 1, 1, 1, 1, 1, 1, 1, 1, 1, 1, 1, 1, 1, 1, 1, 1, 1, 1, 1, 1, 1, 1, 1, 1, 1, 1, 1, 836, 442, 1, 1, 1, 1, 322, 1, 1, 518, 1, 1, 380, 1, 1, 548, 1, 364, 1, 787, 1, 228, 13, 807, 1, 1, 1, 1, 555, 1, 307, 307, 307, 1, 1, 1, 551, 885, 298, 1, 298, 1, 1, 551, 430, 1, 1, 460, 189, 1, 1, 189, 189, 1, 1, 1, 1, 1, 1, 1, 1, 689, 612, 1, 1, 1, 1, 1, 1, 1, 1, 498, 1, 1, 1, 1, 1, 1, 1, 1, 1, 655, 655, 1, 81, 1, 1, 1, 1, 1, 81, 276, 307, 1, 708, 215, 1, 717, 1, 1, 1, 1, 1, 1, 1, 283, 147, 1, 1, 834, 1, 36, 1, 1, 1, 1, 1, 1, 1, 1, 834, 111, 147, 1, 1, 1, 1, 1, 1, 736, 1, 1, 1, 1, 1, 1, 1, 1, 1, 1, 736, 1, 1, 1, 1, 1, 1, 1, 430, 1, 1, 224, 573, 400, 1, 1, 1, 1, 266, 283, 1, 1, 1, 1, 1, 1, 1, 1, 248, 1, 1, 1, 1, 1, 1, 1, 433, 1, 1, 88, 1, 1, 1, 1, 1, 1, 1, 1, 433, 124, 276, 1, 1, 1, 1, 1, 1, 1, 269, 1, 1, 276, 1, 1, 1, 1, 845, 1, 1, 1, 1, 1, 1, 837, 1, 1, 1, 172, 1, 1, 1, 755, 1, 1, 1, 1, 45, 555, 1, 1, 1, 1, 1, 360, 1, 1, 182, 1, 411, 162, 1, 1, 1, 1, 1, 1, 1, 1, 865, 1, 1, 1, 1, 1, 238, 1, 1, 1, 870, 1, 189, 1, 189, 1, 551, 551, 1, 1, 170, 1, 638, 1, 1, 1, 1, 1, 1, 1, 432, 140, 1, 1, 1, 430, 1, 693, 1, 122, 665, 1, 1, 1, 1, 1, 1, 1, 1, 1, 1, 1, 1, 1, 1, 417, 670, 1, 421, 1, 276, 1, 1, 1, 1, 1, 1, 1, 757, 1, 1, 698, 555, 1, 1, 1, 794, 1, 1, 1, 1, 814, 268, 1, 74, 1, 683, 1, 1, 317, 1, 1, 1, 563, 1, 1, 1, 490, 551, 1, 1, 1, 1, 1, 606, 81, 1, 449, 306, 109, 1, 1, 147, 20, 1, 1, 45, 1, 736, 1, 60, 1, 1, 1, 1, 1, 238, 1, 675, 1, 1, 1, 1, 318, 1, 1, 1, 1, 1, 1, 1, 1, 268, 1, 1, 1, 1, 555, 1, 356, 1, 1, 1, 1, 1, 1, 1, 109, 1, 276, 1, 899, 1, 1, 495, 109, 466, 1, 1, 1, 247, 1, 760, 1, 1, 1, 1, 1, 1, 45, 2, 1, 1, 1, 1, 1, 1, 1, 1, 1, 148, 1, 1, 1, 834, 1, 307, 1, 250, 310, 1, 1, 1, 396, 1, 1, 1, 754, 1, 1, 807, 433, 594, 1, 1, 45, 1, 1, 356, 1, 777, 1, 849, 1, 1, 1, 1, 1, 1, 1, 45, 1, 786, 1, 1, 1, 980, 555, 290, 497, 1, 1, 1, 592, 887, 1, 45, 673, 1, 1, 1, 300, 1, 1, 1, 189, 498, 1, 1, 736, 226, 11, 1, 1, 1, 1, 1, 759, 1, 269, 1, 1, 1, 53, 1, 1, 1, 60, 1, 1, 1, 1, 1, 1, 1, 1, 1, 1, 563, 1, 1, 1, 250, 1, 1, 513, 660, 1, 1, 1, 1, 660, 1, 1, 269, 1, 1, 1, 1, 1, 1, 1, 212, 1, 400, 1, 52, 615, 408, 443, 1, 863, 1, 1, 1, 837, 615, 1, 1, 1, 1, 1, 1, 1, 1, 1, 1, 189, 1, 162, 1, 1, 1, 288, 1, 1, 834, 1, 1, 1, 1, 1, 124, 1, 1, 1, 1, 1, 1, 1, 1, 1, 1, 1, 1, 1, 1, 1, 1, 616, 1, 175, 1, 1, 1, 1, 430, 473, 1, 52, 1, 430, 1, 1, 1, 1, 1, 1, 1, 1, 1, 500, 660, 1, 1, 109, 88, 1, 1, 1, 1, 154, 1, 1, 1, 1, 1, 1, 698, 380, 1, 1, 1, 1, 1, 1, 785, 1, 736, 1, 1, 189, 1, 1, 1, 16, 1, 1, 570, 743, 1, 1, 1, 1, 147, 1, 1, 490, 1, 250, 1, 88, 1, 1, 1, 1, 1, 1, 1, 1, 1, 1, 1, 1, 1, 1, 1, 1, 1, 1, 1, 1, 1, 1, 1, 1, 1, 1, 1, 1, 1, 1, 1, 1, 1, 1, 244, 688, 430, 430, 1, 1, 1, 1, 1, 1, 1, 1, 1, 1, 1, 238, 1, 1, 1, 150, 1, 1, 1, 1, 1, 238, 1, 1, 1, 1, 1, 1, 1, 1, 660, 269, 473, 1, 754, 1, 1, 6, 1, 1, 1, 1, 1, 1, 1, 1, 1, 1, 260, 356, 1, 1, 1, 1, 1, 1, 1, 1, 1, 1, 1, 1, 1, 1, 1, 170, 1, 1, 1, 1, 276, 1, 547, 81, 1, 1, 233, 713, 1, 443, 1, 400, 109, 834, 1, 1, 869, 1, 1, 520, 1, 1, 1, 1, 834, 1, 834, 1, 1, 1, 794, 1, 1, 1, 1, 1, 1, 672, 1, 1, 1, 1, 1, 736, 547, 1, 78, 842, 1, 1, 614, 1, 1, 175, 290, 1, 1, 1, 788, 1, 547, 547, 794, 1, 1, 1, 1, 736, 190, 1, 1, 134, 1, 376, 154, 1, 1, 315, 660, 212, 736, 1, 837, 615, 101, 129, 887, 1, 558, 1, 1, 1, 1, 1, 1, 1, 1, 1, 1, 1, 1, 1, 1, 1, 1, 1, 1, 1, 1, 1, 1, 1, 1, 1, 1, 1, 1, 1, 1, 430, 1, 468, 1, 759, 238, 1, 1, 486, 42, 1, 753, 573, 698, 1, 178, 1, 1, 290, 290, 286, 743, 660, 13, 551, 1, 298, 1, 555, 245, 606, 313, 1, 1, 1, 1, 810, 1, 1, 874, 1, 498, 1, 1, 1, 45, 1, 682, 1, 1, 1, 1, 483, 1, 248, 275, 1, 1, 1, 834, 1, 1, 1, 1, 1, 1, 1, 520, 1, 895, 122, 1, 1, 1, 360, 154, 1, 861, 790, 697, 1, 1, 1, 790, 44, 667, 604, 1, 1, 360, 1, 296, 1, 1, 1, 1, 372, 558, 1, 1, 1, 1, 1, 1, 1, 1, 1, 1, 1, 1, 1, 1, 1, 1, 1, 1, 1, 1, 1, 1, 1, 1, 1, 1, 1, 1, 1, 1, 753, 325, 1, 1, 1, 1, 1, 1, 1, 380, 1, 1, 1, 380, 174, 867, 1, 1, 100, 1, 417, 68, 162, 1, 307, 815, 551, 1, 1, 1, 313, 1, 1, 786, 1, 1, 1, 3, 1, 1, 1, 1, 594, 855, 276, 1, 1, 717, 235, 1, 1, 408, 349, 1, 563, 1, 1, 1, 126, 622, 1, 1, 147, 147, 520, 113, 1, 1, 109, 1, 1, 1, 834, 1, 834, 622, 1, 579, 1, 88, 1, 1, 615, 790, 837, 1, 604, 1, 1, 667, 360, 313, 579, 1, 34, 360, 1, 1, 1, 1, 1, 1, 1, 1, 1, 1, 1, 1, 1, 1, 1, 1, 1, 1, 1, 1, 1, 1, 244, 759, 1, 1, 753, 759, 388, 174, 1, 1, 1, 698, 698, 698, 821, 1, 1, 466, 1, 417, 269, 269, 548, 1, 807, 807, 650, 573, 1, 399, 498, 1, 518, 1, 1, 1, 130, 170, 1, 1, 1, 594, 594, 1, 276, 1, 1, 276, 1, 1, 1, 500, 895, 1, 483, 1, 1, 111, 364, 520, 248, 318, 1, 109, 109, 1, 109, 109, 622, 1, 318, 1, 1, 318, 1, 1, 1, 1, 1, 1, 1, 834, 622, 1, 1, 563, 621, 621, 42, 42, 1, 1, 1, 679, 1, 1, 1, 1, 893, 1, 1, 1, 1, 1, 1, 142, 42, 1, 642, 1, 1, 1, 1, 1, 1, 1, 1, 1, 1, 1, 1, 1, 1, 1, 1, 1, 1, 1, 1, 1, 1, 1, 1, 1, 1, 1, 1, 744, 1, 1, 176, 753, 740, 1, 1, 13, 1, 1, 212, 212, 1, 660, 148, 483, 339, 279, 297, 148, 483, 290, 293, 1, 1, 1, 1, 1, 1, 1, 1, 170, 1, 1, 1, 400, 1, 1, 1, 1, 1, 276, 81, 81, 572, 1, 81, 81, 1, 1, 1, 1, 1, 1, 268, 504, 168, 268, 873, 1, 109, 520, 1, 828, 130, 1, 1, 147, 1, 111, 243, 1, 1, 1, 1, 1, 1, 1, 1, 283, 1, 1, 55, 55, 1, 88, 282, 1, 1, 1, 652, 1, 1, 1, 758, 1, 1, 1, 638, 1, 1, 1, 1, 1, 1, 1, 1, 1, 1, 1, 1, 1, 1, 1, 1, 1, 1, 1, 1, 1, 1, 1, 1, 1, 1, 52, 1, 430, 1, 1, 430, 837, 238, 322, 759, 572, 1, 1, 1, 88, 1, 1, 1, 777, 877, 486, 318, 1, 45, 660, 245, 245, 307, 1, 1, 349, 1, 551, 668, 1, 874, 555, 555, 6, 6, 1, 1, 1, 1, 1, 470, 1, 1, 1, 1, 170, 1, 444, 689, 101, 755, 1, 1, 215, 670, 1, 713, 1, 616, 168, 1, 268, 1, 349, 1, 319, 1, 443, 152, 563, 147, 1, 520, 1, 41, 1, 1, 736, 1, 1, 1, 1, 1, 1, 1, 1, 1, 887, 890, 1, 172, 88, 1, 1, 1, 1, 88, 1, 1, 360, 129, 1, 1, 1, 1, 1, 1, 1, 1, 1, 1, 1, 1, 1, 1, 1, 1, 1, 1, 1, 1, 1, 1, 1, 1, 1, 1, 1, 1, 1, 1, 1, 1, 1, 1, 1, 238, 1, 433, 174, 442, 1, 1, 256, 1, 1, 821, 1, 1, 1, 570, 555, 1, 855, 290, 815, 297, 430, 1, 1, 1, 1, 1, 298, 573, 573, 260, 1, 1, 1, 660, 1, 470, 1, 1, 1, 1, 1, 81, 679, 1, 1, 1, 1, 1, 1, 1, 276, 215, 1, 1, 1, 268, 1, 870, 1, 20, 1, 1, 834, 147, 147, 377, 1, 1, 109, 147, 1, 1, 895, 1, 1, 1, 1, 1, 1, 736, 1, 1, 1, 1, 1, 124, 1, 154, 1, 1, 1, 861, 1, 154, 615, 364, 579, 1, 79, 579, 1, 141, 1, 1, 1, 1, 1, 1, 1, 1, 1, 1, 1, 1, 1, 1, 1, 1, 1, 1, 1, 1, 1, 430, 836, 759, 238, 87, 13, 42, 174, 1, 380, 1, 743, 573, 698, 1, 585, 1, 710, 1, 178, 1, 1, 506, 290, 293, 307, 148, 307, 1, 306, 298, 1, 396, 53, 53, 573, 318, 1, 378, 1, 1, 1, 1, 660, 1, 1, 1, 594, 470, 400, 1, 689, 1, 1, 1, 81, 820, 1, 1, 1, 1, 1, 1, 268, 1, 870, 268, 1, 1, 147, 892, 520, 834, 111, 1, 895, 1, 1, 1, 1, 1, 1, 1, 1, 1, 1, 1, 1, 1, 361, 1, 1, 360, 631, 411, 36, 1, 1, 154, 1, 101, 88, 579, 1, 154, 315, 756, 310, 790, 1, 686, 1, 638, 1, 296, 1, 1, 1, 1, 1, 1, 1, 1, 1, 1, 1, 1, 1, 1, 1, 1, 1, 1, 1, 1, 1, 1, 1, 1, 1, 1, 1, 1, 1, 430, 1, 140, 1, 1, 616, 1, 442, 1, 653, 1, 256, 1, 1, 585, 130, 182, 660, 555, 772, 307, 1, 175, 1, 754, 885, 132, 306, 524, 132, 206, 396, 1, 53, 189, 1, 330, 1, 1, 1, 172, 1, 130, 470, 594, 1, 1, 1, 1, 1, 1, 855, 1, 1, 1, 1, 307, 1, 679, 1, 1, 713, 670, 1, 268, 1, 1, 1, 1, 1, 1, 147, 111, 109, 1, 364, 1, 1, 828, 109, 834, 1, 126, 45, 1, 1, 1, 107, 42, 1, 1, 30, 45, 51, 1, 353, 1, 45, 1, 1, 1, 1, 1, 1, 1, 1, 1, 1, 1, 1, 1, 1, 1, 1, 1, 1, 1, 1, 244, 1, 1, 1, 468, 1, 1, 1, 541, 1, 1, 1, 1, 541, 88, 1, 873, 821, 142, 698, 1, 466, 1, 79, 1, 307, 754, 307, 599, 78, 847, 689, 1, 1, 711, 6, 689, 1, 1, 1, 1, 1, 1, 1, 1, 440, 1, 1, 147, 755, 1, 547, 498, 1, 670, 1, 1, 408, 1, 483, 1, 1, 736, 736, 1, 109, 1, 895, 1, 1, 147, 1, 250, 1, 1, 130, 403, 1, 111, 1, 1, 1, 306, 1, 654, 396, 1, 1, 318, 1, 30, 686, 837, 1, 55, 284, 250, 129, 88, 1, 266, 45, 887, 1, 360, 1, 154, 1, 1, 1, 1, 520, 1, 1, 1, 1, 1, 1, 1, 1, 1, 1, 1, 1, 1, 1, 1, 1, 1, 1, 1, 1, 1, 1, 1, 1, 1, 1, 1, 1, 1, 1, 1, 1, 1, 1, 1, 1, 1, 1, 1, 1, 430, 1, 322, 1, 1, 1, 42, 380, 174, 1, 573, 1, 100, 573, 1, 710, 1, 660, 1, 572, 269, 6, 298, 1, 650, 1, 1, 1, 1, 1, 1, 1, 1, 498, 1, 401, 440, 170, 682, 1, 400, 456, 1, 1, 1, 81, 1, 81, 81, 344, 745, 81, 101, 81, 1, 1, 708, 268, 1, 1, 1, 1, 1, 1, 1, 100, 1, 1, 1, 1, 1, 520, 109, 863, 147, 36, 1, 122, 1, 834, 834, 834, 1, 1, 380, 1, 809, 837, 1, 1, 847, 1, 31, 360, 758, 1, 1, 1, 1, 1, 1, 1, 758, 78, 758, 1, 141, 1, 1, 1, 1, 1, 1, 1, 1, 1, 1, 1, 1, 1, 1, 1, 1, 1, 1, 1, 1, 1, 1, 1, 1, 430, 1, 1, 616, 867, 1, 1, 42, 42, 1, 22, 238, 1, 555, 555, 745, 320, 878, 899, 1, 126, 473, 269, 1, 1, 551, 1, 1, 650, 555, 1, 1, 1, 1, 1, 1, 1, 1, 1, 1, 1, 1, 1, 272, 594, 1, 572, 1, 1, 276, 81, 81, 1, 1, 1, 1, 268, 268, 168, 268, 268, 1, 1, 520, 109, 147, 1, 1, 130, 109, 1, 275, 520, 122, 1, 109, 400, 834, 1, 126, 568, 1, 386, 307, 1, 1, 1, 1, 1, 1, 1, 1, 1, 34, 1, 154, 579, 1, 1, 1, 266, 1, 360, 380, 1, 893, 1, 1, 1, 1, 1, 1, 1, 129, 837, 790, 1, 310, 266, 576, 1, 1, 1, 1, 78, 1, 1, 758, 1, 1, 1, 1, 1, 1, 1, 1, 1, 1, 1, 1, 1, 1, 1, 1, 1, 1, 1, 1, 1, 1, 744, 1, 1, 1, 1, 1, 1, 777, 1, 1, 256, 22, 355, 212, 392, 698, 1, 228, 660, 189, 307, 430, 513, 524, 320, 307, 718, 649, 1, 1, 551, 551, 1, 430, 650, 1, 1, 1, 1, 1, 224, 885, 1, 1, 224, 356, 1, 1, 1, 518, 1, 1, 498, 1, 1, 170, 594, 170, 1, 594, 1, 1, 500, 211, 861, 1, 168, 319, 624, 1, 20, 1, 1, 147, 497, 1, 736, 364, 520, 109, 147, 109, 845, 520, 306, 275, 364, 1, 1, 1, 520, 147, 111, 1, 1, 834, 834, 736, 275, 364, 1, 563, 1, 573, 1, 109, 1, 1, 1, 1, 34, 1, 679, 789, 440, 45, 310, 147, 1, 129, 1, 125, 1, 1, 1, 893, 670, 88, 790, 615, 1, 1, 1, 1, 1, 1, 1, 1, 1, 1, 1, 1, 1, 1, 1, 1, 1, 1, 1, 1, 1, 1, 1, 1, 1, 1, 1, 1, 1, 1, 516, 1, 1, 486, 777, 1, 653, 1, 1, 1, 614, 1, 743, 212, 1, 698, 1, 256, 22, 1, 1, 1, 1, 1, 815, 426, 815, 495, 676, 306, 1, 6, 568, 318, 6, 1, 1, 356, 874, 3, 261, 1, 1, 1, 1, 1, 594, 1, 1, 682, 400, 385, 615, 1, 615, 670, 1, 1, 1, 1, 283, 1, 349, 275, 233, 147, 147, 1, 275, 1, 1, 275, 1, 1, 1, 520, 1, 1, 1, 1, 520, 109, 1, 1, 1, 109, 1, 520, 520, 1, 1, 794, 101, 1, 1, 1, 1, 1, 1, 45, 1, 88, 88, 147, 234, 1, 360, 490, 579, 615, 652, 664, 789, 837, 887, 1, 1, 1, 1, 1, 1, 1, 433, 1, 1, 1, 1, 1, 1, 1, 1, 1, 1, 1, 1, 1, 1, 1, 1, 1, 1, 1, 1, 1, 1, 1, 1, 1, 1, 1, 1, 52, 654, 87, 572, 759, 1, 1, 42, 380, 1, 513, 662, 1, 753, 256, 1, 1, 142, 532, 1, 1, 228, 1, 1, 1, 1, 555, 855, 1, 290, 1, 1, 899, 1, 16, 306, 874, 555, 1, 1, 1, 1, 1, 224, 1, 1, 1, 1, 1, 405, 405, 1, 1, 1, 594, 1, 1, 1, 170, 170, 1, 1, 81, 276, 307, 1, 689, 215, 508, 1, 1, 124, 283, 408, 411, 483, 671, 678, 1, 1, 1, 1, 1, 1, 1, 1, 1, 1, 36, 109, 111, 147, 147, 364, 403, 1, 563, 823, 834, 1, 1, 1, 440, 1, 1, 1, 101, 234, 1, 1, 1, 1, 42, 59, 120, 1, 1, 1, 790, 1, 634, 1, 758, 1, 1, 1, 1, 1, 1, 1, 1, 1, 1, 1, 1, 1, 1, 1, 1, 1, 1, 1, 1, 1, 1, 1, 1, 1, 1, 183, 1, 759, 1, 1, 1, 1, 1, 94, 1, 517, 517, 1, 550, 228, 1, 1, 807, 1, 417, 1, 807, 1, 899, 885, 754, 307, 1, 1, 396, 551, 298, 78, 1, 1, 1, 1, 1, 1, 1, 573, 203, 1, 835, 1, 1, 1, 287, 405, 1, 1, 1, 594, 470, 1, 170, 88, 440, 1, 1, 1, 1, 1, 81, 77, 307, 1, 276, 276, 655, 1, 215, 1, 555, 319, 1, 624, 1, 520, 1, 1, 1, 520, 1, 1, 1, 1, 1, 1, 1, 233, 869, 36, 834, 233, 520, 1, 1, 1, 895, 212, 686, 360, 1, 1, 697, 1, 1, 1, 154, 145, 1, 308, 1, 1, 1, 1, 1, 573, 1, 1, 1, 1, 1, 1, 1, 1, 1, 1, 1, 1, 1, 1, 1, 1, 1, 1, 238, 837, 176, 1, 174, 541, 1, 1, 653, 1, 1, 11, 11, 1, 162, 1, 570, 269, 1, 1, 286, 596, 740, 1, 1, 551, 1, 1, 1, 318, 6, 287, 356, 203, 215, 1, 1, 810, 1, 1, 1, 1, 1, 318, 1, 170, 1, 1, 1, 276, 1, 307, 1, 679, 893, 215, 215, 1, 1, 168, 283, 268, 1, 1, 1, 1, 1, 1, 147, 1, 1, 563, 1, 1, 520, 1, 36, 1, 895, 1, 111, 1, 1, 809, 756, 42, 40, 250, 1, 1, 837, 895, 887, 1, 1, 1, 631, 890, 1, 172, 1, 368, 1, 1, 809, 895, 649, 736, 1, 1, 1, 1, 1, 1, 1, 1, 1, 1, 758, 1, 1, 1, 1, 1, 1, 1, 1, 1, 1, 1, 1, 1, 1, 1, 1, 1, 1, 1, 1, 1, 1, 1, 1, 1, 1, 1, 1, 1, 1, 1, 1, 1, 1, 1, 1, 1, 1, 1, 1, 1, 1, 1, 1, 1, 244, 140, 1, 764, 407, 759, 757, 759, 614, 174, 444, 495, 662, 433, 653, 42, 785, 205, 698, 807, 137, 1, 1, 1, 11, 11, 295, 621, 555, 1, 1, 1, 68, 168, 1, 1, 307, 649, 740, 1, 1, 1, 320, 1, 35, 430, 307, 320, 1, 787, 1, 551, 551, 1, 1, 551, 298, 874, 551, 189, 258, 980, 707, 1, 1, 1, 124, 400, 1, 1, 1, 1, 1, 1, 1, 1, 1, 1, 210, 786, 36, 1, 125, 1, 1, 1, 1, 1, 401, 1, 1, 1, 594, 1, 1, 170, 1, 1, 383, 1, 547, 547, 1, 276, 1, 1, 1, 81, 276, 276, 1, 1, 1, 1, 708, 215, 411, 563, 349, 349, 1, 1, 275, 504, 217, 443, 1, 1, 1, 483, 109, 109, 1, 1, 1, 1, 1, 1, 1, 1, 1, 1, 1, 1, 1, 1, 1, 1, 1, 1, 147, 823, 233, 243, 622, 520, 834, 1, 250, 736, 1, 410, 1, 1, 1, 1, 1, 1, 1, 1, 1, 45, 266, 1, 1, 1, 1, 1, 1, 148, 656, 31, 656, 1, 1, 1, 1, 1, 837, 1, 1, 837, 1, 837, 81, 1, 558, 1, 1, 758, 758, 1, 1, 1, 1, 1, 1, 1, 1, 1, 1, 1, 1, 1, 1, 1, 1, 1, 1, 1, 1, 1, 1, 1, 1, 1, 1, 1, 1, 1, 1, 1, 442, 1, 1, 425, 1, 1, 176, 1, 1, 1, 1, 1, 1, 753, 1, 1, 256, 212, 1, 1, 13, 13, 400, 154, 1, 1, 1, 660, 1, 430, 843, 1, 658, 1, 1, 307, 279, 1, 200, 132, 1, 1, 396, 1, 551, 1, 1, 1, 1, 1, 568, 1, 251, 1, 1, 1, 203, 110, 254, 693, 678, 1, 1, 1, 1, 401, 130, 88, 170, 1, 1, 1, 170, 170, 1, 1, 1, 207, 615, 1, 81, 215, 1, 283, 1, 411, 504, 1, 1, 1, 268, 147, 1, 130, 1, 1, 1, 1, 111, 248, 1, 130, 1, 1, 1, 111, 828, 111, 1, 109, 111, 1, 440, 568, 1, 1, 1, 148, 1, 45, 154, 79, 360, 138, 88, 1, 1, 1, 1, 887, 209, 1, 1, 1, 1, 1, 1, 372, 1, 1, 1, 1, 1, 1, 1, 1, 1, 1, 1, 1, 1, 1, 1, 1, 1, 1, 1, 1, 1, 1, 1, 1, 1, 1, 1, 1, 1, 1, 1, 1, 1, 1, 6, 238, 238, 464, 759, 759, 1, 1, 238, 50, 614, 380, 1, 380, 380, 592, 1, 1, 824, 1, 295, 79, 162, 1, 162, 660, 555, 183, 473, 290, 535, 307, 430, 297, 799, 754, 799, 1, 1, 1, 349, 1, 1, 430, 1, 1, 268, 1, 1, 6, 1, 678, 835, 683, 254, 260, 215, 1, 1, 1, 174, 1, 1, 1, 518, 1, 1, 1, 130, 1, 190, 1, 1, 682, 682, 1, 1, 1, 1, 1, 1, 81, 276, 1, 207, 1, 855, 689, 1, 1, 1, 1, 1, 1, 483, 168, 26, 1, 1, 1, 443, 283, 1, 268, 319, 1, 1, 1, 1, 520, 563, 111, 1, 109, 1, 1, 1, 1, 100, 109, 520, 1, 130, 1, 248, 45, 113, 120, 120, 1, 1, 361, 234, 887, 129, 1, 1, 1, 1, 1, 59, 670, 679, 172, 642, 1, 1, 1, 1, 849, 1, 1, 758, 758, 1, 758, 685, 1, 1, 1, 1, 1, 1, 1, 1, 1, 1, 1, 1, 1, 1, 1, 1, 1, 1, 1, 1, 1, 1, 1, 1, 1, 1, 657, 244, 430, 1, 160, 664, 1, 514, 442, 444, 380, 513, 614, 380, 174, 777, 1, 29, 355, 1, 1, 355, 110, 137, 256, 397, 1, 1, 13, 13, 79, 417, 1, 1, 162, 807, 162, 572, 1, 592, 290, 815, 1, 1, 1, 413, 615, 551, 298, 20, 430, 650, 874, 268, 1, 555, 1, 1, 6, 318, 207, 356, 1, 1, 356, 1, 1, 1, 1, 1, 190, 690, 1, 170, 1, 1, 276, 81, 1, 1, 1, 1, 679, 81, 430, 1, 408, 443, 443, 1, 283, 1, 205, 318, 109, 109, 520, 520, 563, 41, 248, 233, 1, 1, 1, 1, 1, 1, 1, 1, 1, 1, 1, 147, 1, 1, 491, 1, 34, 1, 1, 1, 45, 585, 1, 120, 120, 1, 1, 1, 847, 147, 31, 154, 1, 1, 615, 1, 1, 1, 1, 1, 1, 1, 1, 1, 1, 1, 1, 1, 1, 1, 1, 1, 1, 1, 1, 1, 1, 1, 1, 1, 1, 1, 1, 1, 1, 1, 1, 1, 1, 1, 1, 1, 1, 1, 52, 244, 468, 836, 1, 204, 183, 723, 1, 238, 1, 653, 1, 1, 662, 1, 1, 1, 585, 698, 532, 548, 1, 60, 400, 1, 1, 1, 1, 555, 1, 290, 815, 436, 1, 1, 1, 551, 1, 1, 1, 306, 396, 396, 1, 1, 1, 1, 1, 1, 1, 1, 1, 1, 1, 1, 1, 356, 1, 835, 356, 835, 1, 1, 1, 1, 1, 1, 682, 682, 1, 88, 1, 1, 81, 81, 1, 1, 1, 855, 418, 429, 1, 820, 283, 319, 124, 283, 124, 268, 1, 1, 890, 250, 20, 126, 520, 520, 109, 109, 111, 233, 364, 36, 1, 1, 1, 1, 520, 109, 1, 1, 1, 1, 1, 1, 1, 1, 430, 1, 1, 568, 1, 1, 865, 1, 25, 172, 237, 147, 147, 837, 837, 425, 42, 361, 172, 88, 1, 318, 1, 45, 138, 284, 495, 1, 1, 1, 638, 1, 1, 638, 758, 1, 1, 1, 1, 1, 1, 1, 1, 1, 1, 1, 1, 1, 1, 1, 1, 1, 1, 1, 1, 1, 1, 1, 1, 1, 1, 1, 1, 1, 1, 1, 1, 1, 1, 1, 1, 1, 1, 430, 1, 455, 1, 238, 1, 380, 662, 513, 1, 306, 592, 355, 622, 513, 517, 1, 1, 770, 1, 1, 855, 1, 1, 1, 466, 867, 430, 649, 754, 1, 1, 1, 1, 1, 1, 1, 1, 551, 298, 1, 1, 1, 1, 980, 58, 6, 1, 1, 1, 1, 260, 1, 1, 1, 838, 498, 518, 1, 1, 1, 1, 470, 130, 1, 456, 170, 1, 1, 190, 1, 1, 1, 1, 307, 418, 1, 713, 268, 1, 352, 168, 1, 168, 168, 1, 1, 1, 834, 147, 233, 233, 1, 1, 1, 1, 1, 1, 1, 1, 1, 1, 622, 1, 736, 10, 1, 1, 1, 1, 318, 45, 679, 1, 45, 790, 360, 440, 1, 674, 154, 250, 318, 1, 790, 88, 1, 1, 1, 1, 758, 1, 1, 1, 1, 1, 1, 1, 1, 1, 1, 1, 1, 1, 1, 1, 1, 1, 1, 1, 1, 1, 1, 1, 1, 1, 1, 1, 1, 1, 1, 1, 1, 600, 1, 1, 1, 681, 759, 759, 1, 1, 1, 1, 1, 1, 1, 1, 1, 753, 455, 532, 698, 622, 1, 1, 760, 1, 517, 11, 1, 178, 1, 660, 175, 513, 754, 873, 1, 307, 754, 430, 807, 396, 378, 668, 1, 1, 1, 189, 692, 245, 689, 1, 1, 1, 1, 1, 1, 1, 560, 835, 356, 356, 239, 1, 874, 1, 1, 1, 1, 1, 594, 1, 1, 1, 1, 1, 400, 1, 861, 190, 1, 1, 276, 1, 1, 1, 1, 504, 449, 168, 624, 1, 449, 411, 1, 1, 1, 1, 147, 147, 1, 1, 109, 1, 1, 1, 1, 109, 1, 1, 364, 520, 1, 130, 364, 109, 1, 1, 1, 847, 1, 1, 1, 604, 30, 1, 1, 1, 1, 266, 440, 1, 154, 1, 1, 1, 1, 147, 756, 360, 1, 78, 1, 638, 1, 1, 1, 1, 1, 1, 1, 1, 1, 1, 1, 1, 1, 1, 1, 1, 1, 1, 1, 1, 1, 1, 1, 1, 1, 1, 1, 1, 1, 299, 1, 1, 1, 1, 380, 1, 1, 1, 1, 1, 1, 1, 1, 1, 22, 1, 212, 400, 1, 1, 555, 1, 1, 660, 1, 660, 1, 1, 1, 1, 1, 1, 1, 758, 378, 288, 1, 1, 1, 189, 1, 1, 313, 1, 711, 573, 1, 1, 1, 1, 1, 711, 678, 1, 1, 1, 683, 1, 1, 835, 1, 1, 3, 172, 1, 1, 1, 1, 1, 1, 1, 307, 1, 276, 895, 1, 1, 689, 276, 215, 1, 1, 1, 1, 1, 168, 1, 1, 1, 1, 243, 1, 1, 895, 1, 1, 1, 1, 1, 1, 1, 1, 250, 1, 1, 440, 865, 1, 1, 1, 697, 101, 790, 1, 1, 856, 120, 120, 154, 390, 1, 380, 1, 1, 1, 1, 615, 1, 1, 79, 1, 1, 1, 1, 1, 1, 1, 1, 1, 1, 1, 1, 78, 1, 1, 1, 1, 1, 1, 1, 1, 1, 1, 1, 1, 1, 1, 1, 1, 1, 1, 1, 1, 754, 1, 1, 1, 1, 430, 1, 1, 1, 1, 248, 744, 1, 1, 1, 238, 759, 238, 759, 541, 1, 1, 50, 1, 524, 1, 753, 1, 1, 548, 1, 142, 743, 1, 1, 238, 555, 672, 466, 660, 1, 1, 1, 473, 269, 1, 307, 1, 1, 799, 307, 1, 551, 1, 1, 298, 807, 551, 6, 1, 1, 205, 1, 1, 1, 1, 1, 313, 1, 1, 1, 689, 1, 1, 1, 356, 1, 1, 1, 405, 1, 1, 1, 401, 1, 682, 440, 276, 276, 867, 1, 276, 1, 81, 77, 1, 1, 742, 1, 268, 1, 168, 443, 1, 1, 449, 1, 1, 1, 834, 109, 1, 111, 1, 1, 1, 1, 1, 1, 892, 1, 1, 1, 1, 307, 1, 51, 761, 2, 1, 837, 1, 1, 45, 1, 1, 45, 1, 45, 88, 1, 1, 638, 758, 1, 1, 1, 1, 634, 1, 1, 1, 1, 1, 1, 1, 1, 1, 1, 1, 1, 1, 1, 1, 1, 1, 1, 1, 1, 1, 1, 1, 1, 1, 1, 1, 1, 1, 1, 1, 1, 1, 1, 1, 1, 1, 1, 1, 1, 759, 1, 1, 759, 1, 1, 759, 1, 1, 1, 380, 1, 380, 442, 1, 807, 1, 821, 1, 1, 1, 228, 1, 1, 1, 11, 1, 11, 555, 580, 1, 1, 1, 1, 269, 307, 1, 551, 1, 1, 1, 551, 1, 1, 1, 1, 650, 1, 245, 150, 1, 1, 313, 1, 1, 1, 1, 1, 317, 835, 356, 356, 405, 356, 1, 1, 1, 405, 1, 401, 170, 1, 1, 1, 547, 81, 276, 1, 1, 276, 1, 708, 1, 1, 443, 1, 1, 520, 1, 1, 1, 1, 1, 124, 1, 1, 1, 1, 147, 895, 1, 122, 1, 1, 1, 1, 892, 1, 1, 895, 1, 1, 794, 139, 1, 250, 264, 1, 79, 1, 266, 1, 1, 1, 1, 790, 360, 1, 266, 1, 1, 1, 78, 1, 1, 1, 758, 1, 1, 1, 1, 1, 1, 1, 1, 1, 1, 1, 1, 1, 1, 1, 1, 1, 1, 1, 1, 1, 1, 1, 1, 1, 1, 1, 1, 52, 657, 1, 1, 1, 1, 433, 1, 1, 1, 380, 1, 176, 299, 176, 513, 1, 1, 1, 1, 1, 1, 1, 132, 1, 1, 1, 1, 1, 1, 698, 1, 675, 1, 1, 1, 1, 1, 660, 1, 1, 290, 754, 473, 175, 754, 1, 1, 551, 1, 1, 1, 1, 258, 6, 313, 1, 318, 1, 1, 606, 1, 1, 1, 1, 1, 356, 320, 317, 1, 276, 1, 1, 130, 470, 1, 1, 400, 1, 1, 217, 81, 81, 81, 655, 1, 215, 1, 1, 283, 1, 1, 449, 307, 1, 408, 1, 1, 1, 1, 1, 1, 520, 1, 834, 109, 1, 147, 1, 1, 1, 111, 111, 1, 1, 1, 147, 1, 1, 364, 1, 1, 1, 1, 1, 1, 1, 736, 1, 1, 1, 376, 1, 1, 40, 1, 1, 1, 1, 1, 45, 1, 652, 837, 837, 1, 1, 1, 1, 1, 1, 440, 1, 604, 1, 1, 1, 1, 1, 1, 1, 1, 1, 1, 1, 1, 1, 1, 1, 1, 1, 1, 1, 1, 1, 1, 1, 1, 1, 647, 244, 377, 1, 1, 1, 180, 1, 1, 1, 42, 1, 1, 1, 1, 1, 513, 548, 1, 1, 1, 1, 1, 1, 1, 1, 1, 1, 1, 885, 754, 1, 307, 1, 899, 269, 1, 551, 1, 132, 650, 650, 460, 1, 555, 1, 1, 1, 1, 1, 287, 411, 1, 245, 1, 1, 1, 1, 130, 1, 1, 1, 1, 276, 147, 276, 276, 1, 1, 547, 1, 1, 1, 1, 1, 1, 168, 1, 834, 520, 1, 100, 1, 1, 1, 520, 130, 1, 1, 1, 834, 147, 1, 520, 1, 1, 1, 1, 25, 1, 1, 790, 679, 1, 1, 1, 1, 1, 1, 129, 129, 1, 1, 147, 1, 1, 45, 1, 78, 1, 1, 1, 1, 1, 758, 1, 1, 1, 1, 1, 1, 1, 1, 1, 1, 1, 1, 1, 1, 1, 1, 1, 1, 1, 1, 1, 1, 1, 1, 1, 1, 1, 1, 667, 1, 670, 1, 1, 430, 759, 614, 42, 1, 1, 1, 1, 1, 1, 29, 1, 150, 698, 1, 1, 710, 1, 182, 855, 1, 1, 686, 1, 1, 1, 1, 1, 1, 1, 1, 307, 279, 386, 1, 551, 298, 1, 20, 396, 650, 555, 1, 1, 1, 1, 1, 1, 1, 689, 1, 1, 1, 1, 110, 356, 1, 1, 261, 1, 1, 1, 1, 1, 682, 1, 170, 1, 1, 170, 1, 1, 1, 162, 276, 1, 307, 1, 1, 1, 268, 1, 268, 1, 307, 1, 1, 1, 606, 1, 1, 1, 1, 1, 1, 834, 1, 1, 130, 1, 109, 1, 1, 1, 1, 1, 520, 736, 325, 1, 1, 1, 1, 1, 837, 250, 1, 1, 197, 51, 1, 1, 1, 129, 1, 1, 1, 1, 837, 686, 1, 1, 1, 361, 1, 1, 1, 1, 1, 1, 1, 1, 1, 1, 1, 758, 1, 1, 1, 1, 1, 1, 1, 1, 1, 1, 1, 1, 1, 1, 1, 1, 1, 1, 1, 1, 1, 1, 1, 1, 442, 1, 1, 1, 1, 244, 572, 690, 1, 759, 790, 1, 150, 1, 247, 1, 1, 1, 1, 1, 1, 1, 175, 787, 1, 1, 1, 1, 1, 464, 807, 1, 1, 245, 1, 290, 290, 1, 1, 1, 1, 1, 551, 1, 1, 650, 58, 1, 189, 287, 1, 1, 1, 1, 399, 838, 1, 1, 1, 1, 128, 1, 1, 1, 498, 261, 1, 1, 470, 1, 88, 1, 1, 1, 1, 1, 1, 1, 1, 276, 1, 1, 1, 1, 1, 1, 268, 411, 1, 24, 270, 1, 1, 408, 1, 483, 1, 411, 1, 1, 1, 1, 1, 895, 20, 111, 1, 1, 147, 1, 400, 892, 1, 1, 1, 1, 1, 828, 1, 1, 306, 1, 1, 736, 1, 1, 320, 1, 837, 887, 1, 1, 1, 1, 1, 1, 1, 266, 1, 1, 1, 1, 1, 1, 1, 1, 1, 1, 1, 1, 1, 1, 1, 1, 1, 1, 1, 1, 1, 1, 1, 1, 1, 1, 1, 1, 1, 1, 1, 1, 1, 1, 1, 1, 1, 1, 654, 52, 1, 1, 1, 1, 1, 1, 1, 1, 1, 1, 1, 1, 1, 1, 1, 247, 455, 585, 1, 1, 1, 1, 1, 1, 1, 250, 670, 807, 1, 1, 1, 473, 1, 1, 473, 394, 1, 615, 1, 551, 1, 1, 16, 396, 872, 551, 1, 1, 1, 1, 189, 1, 1, 313, 1, 1, 1, 356, 1, 612, 1, 1, 1, 245, 498, 498, 1, 212, 470, 130, 1, 682, 1, 174, 1, 1, 1, 1, 1, 1, 276, 1, 533, 1, 1, 1, 1, 275, 226, 411, 1, 1, 1, 1, 168, 1, 520, 1, 616, 122, 1, 892, 1, 1, 1, 1, 111, 1, 1, 1, 1, 109, 1, 1, 1, 520, 1, 248, 1, 754, 1, 1, 1, 1, 1, 1, 1, 1, 1, 1, 1, 1, 247, 1, 759, 1, 1, 1, 1, 1, 1, 1, 621, 1, 1, 1, 1, 88, 1, 1, 1, 520, 658, 1, 1, 1, 1, 1, 1, 594, 520, 1, 307, 1, 233, 1, 1, 215, 212, 1, 1, 1, 1, 1, 1, 1, 1, 1, 1, 269, 1, 1, 1, 1, 288, 1, 1, 430, 233, 1, 276, 682, 1, 1, 1, 223, 638, 548, 1, 551, 411, 1, 1, 1, 1, 1, 1, 1, 1, 834, 1, 1, 616, 1, 468, 140, 1, 449, 1, 126, 174, 615, 1, 140, 1, 356, 1, 1, 1, 1, 1, 1, 657, 506, 1, 1, 264, 1, 400, 460, 1, 1, 500, 1, 1, 1, 307, 1, 683, 1, 1, 1, 1, 1, 1, 1, 1, 1, 1, 1, 1, 1, 266, 1, 1, 1, 1, 1, 109, 1, 1, 1, 1, 1, 1, 1, 307, 1, 1, 1, 1, 319, 1, 238, 432, 1, 1, 1, 1, 1, 1, 1, 1, 45, 1, 506, 1, 1, 1, 130, 1, 1, 1, 1, 168, 1, 1, 697, 1, 1, 1, 1, 1, 1, 1, 1, 1, 520, 1, 1, 1, 22, 1, 1, 111, 1, 411, 1, 1, 592, 1, 1, 403, 1, 111, 1, 758, 13, 189, 1, 1, 1, 1, 1, 1, 834, 1, 1, 1, 1, 1, 1, 1, 436, 628, 1, 693, 1, 1, 555, 899, 743, 1, 433, 218, 1, 1, 1, 1, 1, 154, 837, 1, 1, 1, 568, 1, 1, 1, 1, 579, 1, 1, 1, 1, 570, 1, 1, 693, 1, 466, 520, 1, 410, 520, 679, 650, 1, 1, 77, 1, 1, 1, 1, 1, 1, 877, 1, 1, 1, 1, 1, 1, 1, 828, 1, 1, 380, 847, 1, 1, 1, 1, 430, 1, 1, 1, 238, 1, 1, 1, 683, 1, 81, 1, 1, 649, 807, 1, 1, 1, 1, 1, 498, 1, 594, 785, 1, 1, 1, 386, 250, 1, 307, 736, 1, 92, 614, 1, 1, 1, 1, 679, 433, 849, 1, 1, 1, 1, 1, 204, 1, 1, 313, 1, 1, 1, 1, 1, 1, 1, 1, 1, 45, 1, 1, 1, 1, 1, 1, 1, 1, 1, 1, 1, 1, 743, 417, 1, 837, 1, 1, 1, 1, 1, 1, 1, 1, 1, 1, 1, 400, 74, 20, 1, 1, 1, 1, 1, 1, 1, 88, 1, 1, 386, 1, 111, 885, 268, 1, 837, 1, 835, 1, 1, 516, 1, 1, 1, 1, 1, 1, 1, 276, 430, 1, 1, 1, 1, 720, 1, 313, 1, 1, 1, 1, 824, 1, 1, 1, 1, 1, 1, 1, 1, 1, 1, 1, 1, 1, 1, 665, 1, 1, 1, 430, 360, 1, 1, 1, 650, 1, 1, 120, 1, 1, 1, 1, 263, 1, 1, 1, 276, 425, 698, 899, 1, 1, 570, 875, 1, 1, 1, 1, 1, 568, 405, 1, 1, 1, 1, 1, 1, 1, 1, 276, 1, 867, 1, 1, 1, 276, 1, 1, 189, 1, 1, 1, 1, 122, 1, 1, 1, 615, 1, 1, 1, 1, 980, 172, 1, 1, 1, 364, 1, 1, 1, 1, 360, 1, 867, 1, 1, 873, 1, 614, 245, 1, 1, 1, 1, 1, 1, 1, 1, 1, 1, 1, 660, 1, 1, 606, 1, 313, 1, 1, 834, 1, 1, 1, 1, 1, 109, 1, 78, 1, 1, 1, 45, 1, 1, 576, 1, 1, 1, 1, 1, 101, 837, 1, 758, 1, 1, 1, 1, 1, 1, 1, 1, 573, 1, 1, 1, 1, 1, 1, 1, 1, 1, 1, 1, 1, 1, 1, 1, 1, 1, 1, 1, 1, 1, 1, 1, 1, 1, 1, 1, 1, 1, 1, 1, 1, 1, 1, 1, 1, 1, 1, 1, 1, 1, 1, 1, 1, 42, 1, 1, 1, 777, 698, 1, 1, 1, 1, 1, 500, 1, 754, 1, 1, 551, 1, 524, 1, 1, 1, 1, 1, 551, 1, 1, 1, 1, 1, 1, 1, 1, 1, 1, 356, 838, 1, 1, 1, 1, 1, 1, 130, 1, 1, 1, 1, 1, 190, 1, 1, 1, 1, 1, 101, 1, 1, 81, 1, 1, 1, 1, 1, 268, 1, 1, 1, 111, 1, 41, 520, 834, 1, 1, 1, 109, 1, 1, 1, 895, 1, 1, 1, 834, 1, 1, 520, 520, 1, 1, 147, 1, 1, 1, 1, 794, 1, 1, 139, 1, 1, 573, 670, 1, 430, 433, 1, 1, 1, 1, 823, 1, 377, 1, 520, 794, 1, 1, 763, 759, 615, 1, 1, 1, 317, 1, 1, 650, 1, 1, 835, 1, 1, 1, 265, 283, 1, 794, 1, 172, 88, 690, 45, 234, 88, 861, 1, 1, 1, 1, 1, 1, 1, 1, 1, 1, 1, 1, 1, 1, 1, 1, 1, 1, 1, 1, 1, 1, 1, 1, 1, 1, 1, 1, 176, 1, 380, 1, 1, 653, 174, 1, 355, 807, 100, 1, 1, 843, 815, 290, 120, 402, 1, 1, 298, 676, 6, 6, 6, 1, 356, 1, 498, 1, 1, 130, 111, 318, 682, 1, 1, 307, 1, 307, 444, 1, 1, 1, 1, 1, 1, 1, 1, 1, 318, 147, 147, 1, 1, 892, 823, 1, 1, 520, 1, 1, 248, 1, 1, 520, 1, 1, 248, 122, 1, 1, 1, 1, 1, 1, 1, 495, 1, 88, 1, 1, 380, 1, 1, 837, 792, 1, 1, 1, 433, 1, 1, 1, 1, 1, 1, 1, 1, 1, 1, 1, 1, 1, 1, 1, 1, 1, 176, 753, 1, 1, 877, 42, 486, 662, 653, 573, 1, 1, 1, 473, 815, 845, 214, 1, 1, 873, 349, 1, 1, 548, 78, 6, 573, 1, 1, 356, 260, 1, 1, 1, 1, 1, 1, 810, 470, 130, 130, 1, 682, 1, 1, 1, 547, 1, 1, 1, 283, 1, 1, 1, 1, 1, 1, 1, 109, 736, 20, 1, 1, 1, 1, 1, 1, 1, 1, 109, 130, 736, 1, 266, 1, 1, 847, 55, 79, 313, 234, 736, 467, 45, 579, 1, 129, 101, 1, 585, 172, 1, 758, 1, 1, 1, 1, 1, 1, 1, 1, 1, 1, 1, 1, 1, 1, 1, 1, 1, 1, 1, 599, 1, 1, 1, 244, 537, 455, 1, 238, 174, 174, 777, 1, 1, 446, 486, 1, 1, 307, 245, 307, 293, 286, 551, 1, 689, 1, 1, 518, 1, 810, 1, 1, 1, 302, 1, 594, 400, 682, 1, 1, 1, 1, 1, 689, 1, 1, 1, 1, 1, 246, 318, 1, 1, 1, 1, 1, 1, 1, 1, 109, 1, 1, 736, 10, 1, 212, 1, 579, 1, 1, 1, 1, 579, 667, 658, 1, 579, 665, 1, 308, 1, 1, 1, 1, 1, 1, 758, 1, 1, 1, 1, 1, 1, 1, 1, 1, 1, 1, 1, 1, 1, 1, 1, 1, 1, 1, 1, 1, 654, 1, 1, 1, 541, 662, 13, 433, 1, 1, 318, 212, 548, 1, 1, 182, 322, 279, 307, 572, 307, 1, 396, 396, 298, 396, 1, 1, 1, 378, 1, 1, 405, 1, 498, 206, 1, 594, 1, 1, 1, 1, 1, 1, 1, 1, 400, 1, 1, 1, 1, 1, 229, 770, 276, 547, 895, 1, 708, 670, 1, 283, 1, 1, 834, 563, 1, 1, 1, 1, 1, 1, 147, 1, 1, 275, 1, 1, 360, 88, 88, 1, 101, 837, 1, 887, 1, 425, 887, 234, 585, 1, 1, 1, 1, 1, 1, 1, 1, 1, 1, 1, 1, 1, 1, 1, 1, 1, 1, 1, 1, 1, 1, 1, 1, 1, 1, 1, 1, 1, 759, 1, 380, 1, 877, 1, 616, 1, 614, 455, 698, 1, 1, 760, 517, 1, 555, 162, 1, 245, 53, 386, 1, 1, 396, 650, 1, 318, 1, 400, 1, 400, 1, 356, 1, 1, 498, 810, 1, 1, 128, 470, 1, 302, 1, 1, 1, 81, 547, 895, 307, 500, 1, 670, 820, 204, 713, 349, 563, 1, 1, 1, 1, 1, 1, 736, 1, 1, 400, 736, 364, 1, 520, 246, 41, 1, 1, 1, 1, 299, 1, 1, 361, 154, 31, 360, 615, 138, 890, 809, 315, 308, 1, 88, 1, 1, 1, 1, 615, 45, 1, 1, 137, 1, 1, 758, 1, 1, 1, 1, 1, 1, 1, 1, 1, 1, 1, 1, 1, 1, 1, 1, 1, 1, 1, 1, 1, 1, 1, 1, 244, 322, 541, 1, 1, 614, 205, 592, 182, 290, 320, 205, 20, 1, 1, 707, 6, 6, 1, 399, 874, 1, 874, 1, 1, 1, 401, 1, 1, 170, 1, 170, 1, 1, 1, 81, 1, 1, 1, 820, 283, 283, 1, 1, 268, 1, 1, 233, 275, 1, 834, 1, 1, 1, 497, 1, 1, 1, 147, 403, 1, 736, 794, 1, 1, 45, 1, 1, 1, 1, 887, 347, 1, 1, 315, 1, 45, 380, 1, 78, 1, 758, 1, 1, 1, 1, 1, 1, 1, 1, 1, 1, 1, 1, 1, 1, 1, 1, 1, 1, 1, 1, 1, 1, 1, 1, 1, 1, 1, 1, 1, 1, 1, 430, 1, 52, 176, 572, 425, 183, 1, 174, 42, 174, 433, 1, 1, 1, 1, 1, 1, 698, 550, 189, 189, 1, 269, 290, 320, 386, 306, 551, 78, 20, 279, 1, 1, 1, 1, 1, 1, 1, 1, 1, 378, 1, 405, 594, 1, 190, 1, 1, 456, 682, 1, 1, 1, 1, 1, 1, 1, 1, 77, 1, 755, 1, 1, 1, 1, 1, 1, 1, 1, 147, 1, 233, 1, 364, 736, 1, 1, 1, 1, 497, 828, 1, 1, 890, 823, 1, 1, 1, 1, 1, 1, 1, 1, 154, 1, 88, 652, 172, 234, 88, 604, 1, 607, 360, 480, 1, 579, 42, 42, 1, 758, 1, 1, 1, 1, 1, 1, 1, 1, 1, 1, 1, 1, 1, 1, 1, 1, 1, 1, 430, 759, 1, 524, 541, 653, 777, 653, 1, 1, 821, 137, 1, 1, 555, 555, 466, 1, 396, 1, 223, 1, 606, 693, 1, 788, 1, 354, 1, 1, 1, 400, 687, 1, 81, 101, 406, 575, 1, 679, 1, 1, 1, 1, 1, 1, 168, 275, 349, 1, 268, 1, 248, 1, 1, 1, 1, 1, 834, 1, 109, 834, 147, 364, 1, 1, 1, 1, 1, 1, 1, 573, 847, 585, 1, 1, 1, 1, 1, 1, 1, 88, 1, 1, 1, 1, 266, 1, 1, 1, 1, 1, 1, 1, 1, 1, 1, 1, 1, 1, 1, 1, 1, 1, 1, 1, 1, 1, 1, 1, 1, 1, 1, 430, 1, 1, 238, 1, 1, 646, 1, 867, 653, 572, 1, 380, 1, 777, 1, 1, 247, 592, 256, 1, 807, 100, 295, 1, 245, 307, 1, 1, 279, 396, 132, 1, 874, 430, 245, 1, 1, 1, 356, 356, 1, 1, 1, 1, 518, 1, 470, 594, 1, 572, 1, 1, 594, 1, 575, 689, 547, 1, 1, 215, 1, 1, 408, 1, 1, 111, 520, 1, 1, 834, 1, 111, 1, 1, 834, 147, 275, 1, 736, 834, 895, 518, 67, 325, 615, 313, 1, 1, 604, 1, 1, 250, 756, 1, 887, 59, 858, 615, 679, 1, 88, 1, 1, 88, 40, 42, 172, 1, 1, 758, 1, 1, 1, 1, 1, 1, 1, 1, 1, 1, 1, 1, 1, 1, 1, 1, 1, 1, 1, 1, 1, 1, 1, 1, 670, 140, 759, 1, 778, 13, 13, 50, 1, 42, 777, 433, 1, 473, 1, 11, 1, 1, 1, 1, 815, 290, 668, 1, 548, 298, 551, 1, 245, 1, 1, 1, 1, 1, 1, 399, 1, 1, 1, 1, 130, 1, 401, 572, 687, 1, 1, 682, 1, 1, 755, 1, 190, 547, 1, 1, 771, 1, 1, 585, 268, 349, 168, 36, 36, 1, 1, 736, 834, 1, 863, 1, 1, 520, 306, 834, 1, 563, 1, 520, 1, 1, 318, 1, 1, 736, 1, 837, 1, 1, 1, 1, 1, 1, 1, 579, 234, 1, 1, 674, 1, 1, 30, 360, 1, 1, 1, 770, 1, 1, 1, 1, 1, 1, 1, 1, 1, 1, 1, 1, 1, 1, 1, 1, 1, 1, 1, 1, 1, 1, 1, 1, 1, 1, 1, 1, 1, 1, 1, 1, 1, 541, 1, 1, 1, 1, 473, 548, 11, 1, 13, 1, 466, 660, 189, 168, 430, 899, 875, 269, 1, 320, 380, 843, 290, 205, 668, 359, 132, 359, 1, 430, 1, 678, 356, 356, 356, 1, 378, 261, 1, 1, 1, 1, 170, 1, 1, 682, 1, 1, 81, 547, 1, 500, 679, 1, 81, 81, 1, 215, 235, 708, 708, 411, 1, 1, 1, 1, 1, 1, 834, 246, 1, 520, 122, 834, 275, 1, 1, 111, 275, 1, 1, 1, 520, 1, 1, 41, 1, 1, 109, 1, 1, 1, 275, 122, 109, 736, 1, 1, 247, 1, 1, 835, 109, 1, 1, 154, 1, 1, 1, 1, 1, 79, 615, 1, 1, 45, 443, 1, 758, 520, 1, 1, 1, 1, 1, 1, 1, 1, 1, 1, 1, 1, 1, 1, 1, 1, 1, 1, 1, 1, 1, 1, 1, 1, 1, 1, 430, 1, 1, 244, 1, 468, 52, 491, 238, 469, 325, 1, 1, 1, 272, 867, 42, 1, 1, 473, 807, 1, 622, 13, 670, 1, 162, 68, 570, 580, 279, 769, 168, 320, 740, 1, 1, 361, 1, 573, 689, 356, 356, 693, 1, 1, 356, 1, 1, 1, 1, 1, 1, 1, 1, 470, 594, 1, 170, 440, 1, 1, 1, 1, 547, 575, 1, 1, 1, 1, 1, 1, 1, 1, 1, 671, 26, 1, 834, 520, 109, 1, 1, 823, 823, 306, 520, 892, 233, 109, 364, 1, 1, 1, 36, 109, 130, 109, 364, 1, 275, 736, 736, 1, 1, 1, 400, 1, 147, 299, 1, 1, 1, 1, 1, 642, 1, 237, 1, 495, 789, 579, 1, 1, 1, 1, 234, 360, 1, 615, 1, 310, 1, 1, 1, 1, 1, 78, 1, 1, 1, 1, 1, 1, 1, 1, 1, 1, 1, 1, 1, 1, 1, 1, 1, 1, 1, 1, 1, 1, 1, 430, 1, 469, 1, 614, 444, 873, 1, 1, 1, 450, 13, 1, 1, 372, 299, 1, 297, 513, 290, 1, 1, 1, 551, 1, 650, 1, 1, 1, 1, 1, 1, 6, 1, 6, 1, 110, 490, 356, 1, 612, 810, 1, 1, 1, 470, 212, 1, 1, 400, 170, 1, 1, 1, 170, 1, 1, 170, 190, 1, 81, 167, 432, 1, 1, 268, 411, 1, 268, 400, 1, 622, 1, 1, 520, 520, 1, 1, 1, 1, 1, 306, 1, 1, 1, 1, 1, 736, 520, 364, 823, 834, 834, 109, 895, 520, 364, 109, 109, 823, 1, 1, 1, 1, 1, 1, 1, 1, 45, 79, 1, 154, 250, 1, 361, 591, 615, 667, 792, 1, 1, 1, 1, 1, 1, 1, 1, 520, 1, 1, 1, 1, 1, 1, 1, 1, 1, 1, 97, 1, 1, 1, 1, 1, 1, 1, 1, 1, 1, 1, 1, 1, 1, 1, 1, 430, 654, 90, 1, 759, 1, 1, 174, 174, 380, 1, 616, 777, 1, 50, 22, 1, 1, 355, 573, 1, 295, 550, 1, 79, 1, 660, 430, 40, 430, 1, 1, 290, 1, 1, 98, 1, 1, 1, 6, 1, 1, 1, 1, 612, 1, 1, 1, 1, 1, 874, 1, 1, 470, 690, 170, 1, 1, 45, 1, 1, 1, 1, 190, 276, 307, 1, 1, 1, 675, 1, 1, 1, 268, 283, 349, 411, 504, 504, 1, 1, 1, 1, 1, 1, 1, 1, 1, 1, 1, 1, 1, 1, 109, 111, 113, 275, 1, 400, 520, 520, 563, 622, 892, 65, 736, 1, 568, 1, 842, 88, 1, 1, 1, 1, 101, 1, 1, 1, 154, 79, 1, 736, 266, 1, 209, 1, 1, 1, 1, 1, 1, 1, 1, 758, 1, 1, 1, 1, 1, 1, 1, 1, 1, 1, 1, 1, 1, 1, 1, 1, 1, 1, 1, 1, 1, 1, 1, 1, 1, 1, 1, 1, 1, 1, 1, 1, 1, 1, 1, 1, 1, 430, 430, 1, 657, 759, 238, 531, 238, 189, 183, 1, 1, 1, 380, 653, 1, 653, 877, 1, 753, 1, 256, 130, 142, 1, 450, 1, 11, 11, 182, 68, 1, 570, 1, 855, 466, 1, 189, 79, 162, 1, 1, 324, 513, 1, 867, 572, 787, 668, 1, 1, 1, 306, 349, 1, 1, 847, 189, 1, 1, 1, 1, 1, 1, 1, 1, 1, 6, 354, 1, 540, 835, 1, 885, 1, 1, 36, 320, 378, 1, 1, 810, 245, 1, 470, 1, 1, 1, 1, 548, 1, 456, 170, 682, 1, 1, 1, 1, 1, 1, 1, 1, 1, 1, 276, 167, 307, 1, 1, 276, 432, 547, 1, 429, 1, 1, 1, 319, 1, 1, 504, 770, 483, 520, 520, 563, 41, 1, 1, 1, 834, 1, 1, 1, 1, 845, 1, 1, 248, 1, 1, 1, 54, 520, 1, 41, 834, 622, 275, 147, 1, 1, 364, 1, 854, 1, 1, 736, 321, 1, 579, 576, 1, 1, 250, 51, 1, 318, 91, 1, 1, 615, 172, 376, 667, 756, 147, 679, 1, 1, 1, 679, 1, 421, 1, 1, 1, 421, 1, 1, 1, 1, 1, 1, 1, 1, 1, 1, 1, 1, 1, 1, 1, 1, 1, 1, 1, 1, 1, 1, 1, 1, 1, 1, 1, 1, 1, 1, 1, 1, 1, 1, 1, 1, 1, 1, 430, 1, 1, 836, 1, 1, 1, 1, 204, 1, 1, 516, 1, 446, 1, 1, 1, 486, 433, 486, 174, 753, 1, 610, 1, 22, 11, 1, 750, 710, 1, 417, 68, 1, 1, 1, 580, 1, 645, 279, 843, 175, 1, 1, 572, 885, 513, 793, 754, 1, 1, 551, 1, 660, 1, 268, 161, 605, 1, 313, 1, 1, 689, 1, 573, 1, 689, 400, 1, 51, 51, 687, 378, 835, 1, 1, 174, 1, 518, 1, 720, 1, 1, 401, 1, 1, 1, 1, 1, 1, 1, 45, 1, 1, 1, 1, 456, 1, 307, 755, 1, 1, 1, 547, 81, 1, 1, 176, 1, 1, 1, 1, 689, 1, 670, 215, 708, 1, 1, 418, 1, 1, 168, 563, 483, 585, 1, 217, 1, 1, 1, 1, 1, 1, 1, 1, 147, 736, 834, 111, 520, 563, 1, 1, 1, 109, 41, 1, 1, 1, 1, 1, 892, 1, 1, 1, 520, 520, 1, 1, 1, 41, 1, 1, 250, 1, 1, 1, 1, 1, 579, 579, 101, 1, 1, 1, 45, 45, 376, 1, 1, 1, 34, 541, 1, 1, 1, 1, 1, 1, 1, 1, 1, 1, 1, 1, 1, 78, 1, 1, 1, 1, 758, 1, 1, 1, 1, 1, 1, 1, 1, 1, 1, 1, 1, 1, 1, 1, 1, 1, 1, 1, 1, 1, 1, 1, 1, 1, 1, 1, 873, 1, 244, 1, 238, 507, 1, 1, 1, 1, 380, 614, 1, 1, 1, 1, 573, 1, 1, 228, 238, 1, 1, 660, 1, 1, 162, 1, 1, 1, 1, 1, 1, 398, 320, 645, 290, 660, 450, 1, 770, 1, 551, 1, 1, 318, 1, 1, 189, 1, 1, 1, 1, 1, 1, 1, 835, 1, 1, 1, 356, 1, 885, 1, 1, 1, 1, 1, 1, 1, 147, 1, 1, 1, 1, 594, 1, 1, 1, 1, 432, 81, 190, 255, 1, 1, 1, 1, 449, 275, 1, 1, 1, 520, 520, 1, 1, 1, 1, 109, 109, 606, 1, 1, 1, 520, 147, 1, 1, 1, 1, 1, 1, 1, 1, 377, 122, 1, 834, 834, 65, 1, 440, 568, 1, 1, 287, 1, 209, 1, 1, 1, 1, 1, 266, 1, 360, 34, 736, 789, 1, 490, 1, 1, 1, 88, 615, 1, 1, 88, 792, 88, 318, 1, 1, 45, 809, 1, 240, 1, 1, 1, 1, 42, 1, 660, 154, 649, 1, 129, 1, 1, 1, 1, 1, 1, 1, 1, 1, 758, 1, 1, 1, 1, 1, 1, 1, 1, 1, 1, 1, 1, 1, 1, 1, 1, 1, 1, 1, 1, 1, 1, 1, 1, 1, 1, 1, 1, 1, 1, 1, 1, 1, 1, 1, 1, 1, 1, 1, 1, 1, 683, 1, 430, 657, 468, 1, 1, 1, 1, 1, 1, 1, 1, 753, 1, 720, 1, 759, 1, 873, 42, 380, 174, 614, 867, 1, 1, 1, 318, 693, 1, 698, 698, 142, 1, 60, 238, 11, 1, 1, 238, 1, 1, 807, 660, 1, 807, 417, 417, 189, 1, 839, 878, 754, 1, 53, 754, 290, 1, 1, 320, 777, 286, 178, 548, 551, 807, 1, 1, 1, 551, 16, 6, 551, 650, 1, 555, 1, 58, 1, 330, 1, 124, 1, 330, 1, 683, 110, 317, 1, 1, 683, 1, 1, 1, 835, 1, 1, 1, 720, 1, 1, 1, 1, 1, 1, 1, 1, 170, 1, 170, 1, 1, 400, 45, 170, 1, 318, 1, 1, 276, 1, 385, 1, 1, 1, 1, 167, 215, 742, 1, 1, 1, 55, 1, 854, 411, 1, 1, 1, 449, 349, 449, 147, 520, 1, 1, 1, 1, 1, 1, 147, 1, 563, 147, 1, 1, 863, 1, 1, 520, 1, 1, 130, 520, 670, 1, 1, 1, 1, 1, 109, 1, 1, 1, 568, 749, 568, 320, 1, 1, 1, 360, 790, 376, 1, 266, 576, 1, 1, 1, 837, 368, 483, 1, 1, 1, 670, 31, 615, 1, 88, 790, 154, 1, 1, 685, 1, 558, 675, 1, 1, 1, 1, 78, 1, 296, 1, 1, 1, 1, 1, 1, 1, 1, 1, 1, 1, 1, 1, 1, 1, 1, 1, 1, 1, 1, 1, 1, 1, 1, 1, 1, 1, 1, 1, 1, 1, 1, 1, 1, 1, 1, 1, 1, 1, 1, 1, 1, 1, 1, 1, 1, 1, 688, 1, 1, 1, 1, 469, 1, 238, 322, 494, 238, 299, 759, 1, 1, 873, 1, 1, 42, 1, 1, 1, 614, 513, 174, 760, 1, 1, 698, 473, 1, 1, 295, 417, 807, 168, 1, 417, 1, 68, 807, 417, 754, 126, 1, 290, 175, 386, 899, 1, 1, 53, 754, 785, 1, 1, 1, 1, 1, 1, 1, 1, 551, 807, 1, 279, 650, 1, 288, 1, 245, 30, 1, 1, 1, 1, 1, 1, 1, 1, 683, 203, 215, 399, 224, 356, 1, 1, 1, 1, 174, 1, 1, 1, 1, 172, 1, 405, 1, 1, 1, 1, 1, 1, 1, 1, 1, 1, 1, 1, 1, 1, 400, 1, 1, 1, 1, 1, 1, 1, 170, 1, 1, 1, 1, 209, 500, 1, 298, 276, 1, 1, 1, 276, 406, 575, 1, 276, 684, 1, 1, 1, 1, 873, 1, 268, 1, 268, 1, 168, 1, 43, 671, 283, 1, 1, 1, 1, 1, 1, 1, 1, 1, 828, 1, 520, 130, 147, 1, 1, 109, 109, 1, 109, 520, 1, 520, 147, 1, 1, 1, 1, 1, 1, 306, 1, 520, 873, 861, 1, 887, 360, 361, 790, 425, 1, 360, 1, 88, 42, 266, 266, 125, 756, 674, 1, 1, 1, 1, 1, 1, 1, 1, 1, 893, 847, 579, 129, 360, 1, 861, 1, 1, 1, 837, 854, 1, 433, 433, 1, 638, 758, 1, 1, 1, 1, 1, 1, 1, 1, 1, 1, 1, 1, 1, 1, 1, 1, 1, 1, 1, 1, 1, 1, 1, 1, 1, 1, 1, 1, 1, 1, 1, 1, 1, 1, 1, 1, 1, 1, 1, 1, 1, 1, 1, 1, 268, 1, 1, 1, 1, 430, 1, 759, 1, 1, 1, 1, 1, 380, 88, 380, 653, 653, 616, 1, 1, 174, 1, 1, 1, 1, 150, 1, 473, 130, 1, 532, 845, 473, 1, 807, 807, 517, 1, 1, 621, 1, 11, 11, 1, 182, 807, 189, 1, 1, 1, 555, 1, 660, 1, 1, 320, 286, 377, 754, 785, 1, 1, 1, 1, 1, 1, 1, 668, 615, 668, 298, 298, 1, 90, 90, 1, 430, 279, 1, 1, 1, 1, 1, 1, 1, 1, 1, 711, 885, 694, 287, 320, 418, 1, 1, 1, 820, 1, 1, 1, 518, 1, 130, 690, 1, 1, 1, 1, 170, 1, 1, 575, 575, 276, 1, 1, 1, 1, 1, 1, 1, 1, 1, 235, 678, 400, 1, 1, 319, 168, 226, 1, 870, 319, 1, 624, 1, 1, 113, 895, 111, 248, 248, 111, 520, 520, 834, 364, 892, 892, 520, 1, 1, 1, 1, 1, 1, 1, 1, 1, 1, 1, 1, 1, 1, 1, 1, 1, 1, 1, 1, 170, 736, 1, 541, 172, 172, 1, 1, 1, 88, 1, 1, 31, 1, 1, 667, 148, 790, 615, 1, 1, 250, 101, 34, 837, 154, 129, 88, 1, 1, 1, 368, 440, 1, 1, 129, 758, 1, 1, 1, 1, 1, 1, 1, 1, 758, 758, 433, 1, 1, 1, 1, 1, 1, 1, 1, 1, 1, 1, 1, 1, 1, 1, 1, 1, 1, 1, 1, 1, 1, 1, 1, 1, 1, 1, 1, 1, 1, 1, 1, 1, 1, 1, 1, 1, 1, 1, 1, 1, 1, 1, 1, 430, 1, 1, 1, 1, 52, 1, 1, 572, 516, 753, 238, 455, 1, 1, 572, 653, 1, 1, 777, 777, 174, 1, 1, 753, 585, 130, 142, 845, 698, 256, 532, 1, 1, 1, 60, 550, 417, 1, 417, 162, 855, 162, 596, 154, 290, 745, 572, 1, 307, 307, 1, 175, 1, 1, 132, 530, 1, 668, 676, 1, 1, 1, 1, 279, 650, 430, 98, 245, 1, 189, 1, 1, 1, 1, 1, 6, 1, 6, 1, 1, 1, 590, 313, 1, 560, 1, 317, 1, 1, 1, 1, 1, 1, 1, 1, 1, 498, 518, 470, 1, 1, 1, 1, 1, 1, 1, 1, 1, 170, 615, 81, 1, 655, 1, 1, 1, 1, 81, 81, 81, 823, 702, 508, 1, 319, 1, 555, 1, 319, 268, 55, 624, 268, 1, 1, 1, 1, 168, 111, 869, 20, 1, 520, 520, 318, 109, 147, 41, 834, 834, 834, 834, 834, 1, 1, 1, 1, 1, 1, 1, 1, 1, 147, 736, 622, 1, 1, 1, 1, 1, 1, 1, 1, 65, 837, 756, 172, 1, 660, 885, 101, 579, 579, 1, 480, 88, 1, 1, 847, 1, 1, 360, 670, 88, 615, 1, 1, 1, 266, 51, 45, 88, 1, 1, 1, 1, 1, 1, 1, 1, 1, 1, 758, 1, 1, 1, 1, 1, 1, 758, 1, 1, 1, 1, 1, 1, 1, 1, 1, 1, 1, 1, 1, 1, 1, 1, 1, 1, 1, 1, 1, 1, 1, 1, 1, 1, 1, 1, 1, 1, 1, 1, 1, 1, 1, 1, 1, 1, 1, 1, 1, 1, 1, 1, 838, 1, 1, 430, 1, 1, 245, 468, 836, 507, 879, 455, 1, 299, 47, 495, 50, 380, 1, 1, 1, 1, 753, 150, 698, 517, 397, 130, 698, 698, 1, 1, 1, 250, 621, 178, 1, 1, 1, 807, 419, 1, 807, 1, 162, 1, 189, 326, 307, 754, 307, 754, 175, 572, 899, 899, 1, 1, 126, 1, 378, 396, 6, 1, 551, 551, 524, 20, 615, 430, 1, 1, 189, 189, 1, 313, 1, 1, 1, 1, 1, 1, 1, 356, 693, 418, 1, 1, 320, 1, 224, 1, 838, 1, 1, 1, 1, 261, 1, 470, 1, 470, 1, 1, 470, 400, 170, 1, 1, 1, 572, 1, 1, 1, 755, 655, 276, 1, 1, 1, 1, 1, 1, 1, 1, 443, 671, 200, 168, 26, 1, 408, 1, 1, 1, 275, 828, 828, 520, 520, 834, 400, 403, 520, 1, 1, 1, 1, 1, 1, 1, 1, 1, 1, 1, 1, 1, 1, 1, 364, 400, 622, 1, 300, 1, 250, 250, 440, 1, 209, 1, 1, 1, 360, 282, 45, 120, 360, 1, 1, 847, 837, 1, 615, 837, 1, 1, 308, 1, 837, 1, 88, 887, 1, 1, 138, 1, 433, 758, 436, 78, 638, 1, 1, 1, 1, 758, 1, 1, 1, 1, 1, 1, 1, 1, 1, 1, 1, 1, 1, 1, 1, 1, 1, 1, 1, 1, 1, 1, 1, 1, 1, 1, 1, 1, 1, 1, 1, 1, 1, 1, 1, 1, 1, 1, 1, 1, 1, 1, 657, 1, 473, 683, 1, 1, 1, 238, 87, 469, 455, 183, 759, 616, 1, 1, 1, 380, 42, 1, 1, 616, 682, 1, 1, 247, 247, 1, 1, 1, 1, 1, 1, 212, 1, 532, 455, 743, 355, 698, 1, 1, 1, 517, 60, 276, 855, 417, 68, 162, 189, 1, 899, 754, 1, 386, 1, 290, 1, 290, 817, 1, 361, 1, 1, 524, 378, 1, 430, 430, 161, 245, 245, 1, 1, 1, 1, 1, 1, 573, 1, 1, 1, 1, 6, 1, 1, 1, 693, 1, 687, 1, 1, 885, 1, 1, 1, 1, 1, 1, 1, 1, 1, 347, 1, 1, 130, 1, 1, 1, 130, 1, 1, 170, 1, 1, 682, 1, 276, 1, 1, 1, 385, 1, 1, 689, 276, 1, 221, 429, 215, 1, 1, 1, 319, 1, 555, 1, 408, 408, 1, 1, 585, 1, 1, 364, 497, 1, 1, 823, 1, 834, 834, 1, 1, 1, 1, 497, 1, 1, 1, 1, 1, 1, 1, 1, 1, 1, 111, 1, 1, 1, 520, 109, 1, 318, 1, 736, 794, 1, 1, 154, 1, 34, 107, 631, 1, 1, 2, 1, 1, 1, 1, 887, 1, 1, 154, 837, 1, 1, 579, 1, 1, 1, 832, 758, 1, 1, 1, 1, 1, 1, 1, 1, 1, 1, 1, 1, 1, 1, 1, 1, 1, 1, 1, 1, 836, 1, 1, 1, 430, 1, 430, 1, 1, 1, 468, 97, 580, 1, 1, 238, 638, 572, 1, 1, 1, 524, 1, 1, 1, 1, 1, 290, 256, 573, 1, 1, 473, 710, 1, 60, 1, 1, 189, 189, 1, 1, 1, 299, 307, 754, 754, 290, 290, 1, 797, 560, 430, 1, 1, 58, 1, 1, 313, 1, 573, 1, 835, 1, 354, 885, 1, 1, 381, 1, 1, 385, 1, 1, 1, 1, 1, 687, 1, 276, 679, 276, 307, 473, 713, 215, 1, 268, 349, 1, 504, 585, 1, 268, 1, 152, 122, 1, 1, 834, 111, 1, 1, 1, 1, 1, 1, 1, 1, 364, 563, 109, 1, 1, 1, 300, 10, 1, 885, 45, 490, 1, 1, 284, 1, 837, 266, 1, 1, 1, 1, 1, 615, 615, 154, 1, 154, 1, 758, 1, 1, 1, 1, 1, 1, 1, 1, 1, 1, 1, 1, 1, 1, 1, 1, 1, 1, 1, 1, 1, 1, 1, 1, 1, 1, 1, 1, 1, 1, 1, 1, 1, 1, 1, 1, 1, 6, 683, 1, 430, 897, 580, 455, 516, 238, 513, 1, 1, 1, 1, 1, 807, 532, 1, 290, 1, 1, 11, 1, 672, 555, 1, 286, 175, 290, 286, 1, 1, 1, 1, 1, 1, 1, 16, 430, 1, 288, 313, 1, 678, 1, 1, 693, 256, 835, 261, 405, 1, 1, 1, 874, 1, 1, 1, 170, 1, 307, 547, 1, 276, 1, 81, 1, 81, 432, 215, 124, 1, 1, 624, 319, 854, 1, 1, 1, 563, 1, 1, 1, 520, 1, 520, 520, 1, 109, 109, 1, 520, 895, 1, 736, 520, 834, 1, 1, 1, 1, 1, 1, 1, 1, 1, 1, 1, 670, 172, 88, 360, 615, 1, 1, 250, 837, 360, 88, 1, 88, 1, 1, 1, 1, 1, 1, 1, 1, 1, 1, 1, 1, 1, 1, 1, 1, 1, 1, 1, 1, 1, 1, 1, 1, 1, 1, 1, 1, 894, 1, 1, 1, 759, 1, 873, 873, 1, 1, 1, 446, 1, 573, 355, 355, 787, 555, 1, 1, 1, 1, 1, 718, 1, 878, 269, 320, 1, 269, 1, 551, 1, 668, 396, 1, 692, 313, 6, 1, 1, 215, 1, 399, 1, 1, 518, 1, 1, 594, 170, 1, 1, 572, 307, 1, 689, 1, 77, 823, 1, 1, 215, 717, 1, 1, 1, 275, 1, 1, 1, 1, 1, 1, 1, 1, 834, 109, 126, 1, 1, 1, 520, 1, 1, 1, 1, 147, 1, 147, 1, 1, 1, 1, 1, 1, 1, 1, 834, 736, 568, 573, 1, 45, 649, 1, 1, 615, 1, 1, 1, 1, 1, 1, 101, 1, 1, 1, 1, 266, 129, 1, 665, 88, 1, 88, 88, 1, 606, 1, 1, 1, 1, 1, 1, 1, 1, 1, 1, 1, 1, 1, 1, 1, 1, 1, 1, 1, 1, 1, 1, 1, 1, 1, 759, 238, 238, 681, 444, 380, 1, 1, 42, 1, 1, 410, 22, 1, 548, 1, 1, 1, 1, 1, 1, 1, 13, 1, 1, 11, 1, 1, 710, 807, 1, 807, 1, 1, 1, 1, 269, 899, 1, 1, 658, 6, 551, 396, 551, 551, 1, 650, 1, 313, 1, 1, 1, 1, 1, 687, 207, 1, 227, 1, 1, 1, 871, 1, 1, 1, 401, 1, 1, 1, 81, 755, 1, 307, 547, 1, 1, 1, 708, 1, 547, 1, 1, 1, 1, 109, 863, 1, 1, 1, 1, 1, 1, 1, 111, 1, 1, 1, 520, 250, 497, 736, 1, 440, 1, 865, 1, 1, 284, 88, 315, 615, 1, 1, 1, 1, 615, 1, 1, 1, 250, 1, 1, 154, 756, 120, 1, 1, 758, 1, 1, 1, 1, 1, 1, 1, 1, 1, 1, 1, 1, 1, 1, 1, 1, 1, 1, 1, 1, 1, 1, 1, 1, 1, 1, 1, 1, 1, 140, 670, 1, 836, 1, 1, 1, 1, 1, 1, 572, 736, 1, 50, 662, 42, 380, 1, 455, 130, 1, 548, 1, 1, 1, 1, 1, 1, 400, 1, 1, 1, 1, 513, 178, 754, 1, 1, 123, 1, 268, 151, 298, 1, 319, 770, 1, 430, 1, 170, 1, 1, 1, 1, 1, 835, 1, 356, 1, 1, 401, 1, 130, 318, 1, 1, 1, 81, 1, 81, 152, 276, 307, 1, 1, 742, 1, 148, 1, 671, 1, 1, 1, 520, 1, 111, 520, 1, 1, 1, 1, 1, 122, 122, 1, 1, 109, 1, 1, 306, 1, 520, 1, 736, 1, 1, 490, 172, 1, 360, 1, 1, 1, 266, 1, 579, 1, 1, 81, 1, 45, 1, 45, 770, 1, 1, 1, 1, 758, 1, 1, 1, 1, 1, 1, 1, 1, 1, 1, 1, 1, 1, 1, 1, 1, 1, 1, 1, 1, 1, 1, 1, 1, 1, 1, 1, 1, 380, 753, 785, 455, 698, 1, 1, 182, 807, 1, 1, 1, 182, 1, 1, 1, 743, 1, 1, 1, 430, 290, 1, 1, 843, 1, 1, 306, 1, 1, 1, 1, 1, 1, 1, 689, 689, 313, 1, 1, 1, 356, 356, 1, 518, 1, 1, 1, 1, 1, 594, 1, 440, 770, 1, 1, 755, 1, 1, 1, 217, 870, 483, 1, 1, 307, 1, 283, 670, 1, 1, 109, 1, 1, 1, 1, 1, 563, 834, 1, 520, 1, 1, 1, 1, 1, 1, 36, 890, 1, 1, 172, 360, 1, 1, 1, 1, 360, 1, 266, 1, 1, 1, 1, 1, 1, 1, 1, 1, 1, 1, 1, 372, 1, 1, 1, 1, 1, 1, 1, 1, 1, 1, 1, 1, 1, 1, 1, 1, 1, 1, 1, 1, 1, 1, 1, 1, 1, 688, 1, 1, 572, 759, 1, 1, 1, 1, 1, 150, 455, 130, 532, 585, 1, 1, 1, 1, 548, 1, 1, 1, 1, 1, 1, 1, 1, 1, 770, 168, 189, 182, 189, 1, 182, 555, 417, 1, 1, 1, 1, 430, 1, 1, 754, 1, 1, 1, 430, 1, 551, 1, 16, 1, 551, 1, 855, 1, 707, 1, 1, 1, 1, 1, 6, 711, 1, 1, 1, 694, 1, 1, 835, 1, 1, 1, 1, 1, 1, 130, 1, 45, 81, 276, 1, 1, 1, 276, 81, 432, 1, 276, 1, 1, 1, 270, 283, 307, 1, 1, 1, 147, 1, 1, 1, 1, 1, 1, 1, 1, 1, 1, 1, 520, 834, 823, 1, 109, 1, 1, 834, 1, 757, 736, 1, 1, 1, 1, 1, 266, 1, 1, 1, 1, 308, 34, 36, 129, 1, 1, 1, 573, 1, 1, 1, 1, 1, 1, 1, 1, 1, 1, 1, 1, 1, 1, 1, 1, 1, 1, 1, 1, 1, 1, 1, 1, 1, 1, 1, 1, 1, 1, 1, 300, 430, 1, 838, 1, 1, 836, 1, 430, 1, 1, 238, 1, 1, 1, 777, 50, 380, 1, 1, 1, 247, 753, 1, 1, 1, 1, 821, 1, 1, 1, 1, 1, 1, 1, 570, 555, 1, 1, 1, 1, 1, 1, 290, 1, 1, 290, 1, 40, 779, 286, 1, 349, 1, 1, 1, 58, 1, 1, 1, 1, 1, 1, 1, 678, 1, 1, 1, 1, 1, 1, 261, 1, 594, 1, 1, 1, 1, 170, 1, 1, 1, 440, 190, 547, 679, 276, 1, 81, 547, 1, 689, 1, 81, 1, 215, 1, 1, 168, 411, 1, 109, 113, 122, 1, 1, 1, 1, 1, 1, 111, 1, 1, 1, 1, 1, 1, 1, 1, 1, 1, 306, 1, 892, 1, 1, 1, 794, 276, 225, 1, 1, 1, 1, 1, 1, 245, 356, 1, 296, 1, 1, 356, 1, 1, 380, 132, 1, 736, 1, 1, 148, 11, 1, 88, 693, 3, 1, 1, 865, 1, 1, 411, 228, 1, 1, 1, 1, 1, 1, 79, 433, 1, 1, 1, 1, 1, 1, 1, 1, 1, 1, 111, 1, 1, 1, 610, 1, 1, 1, 1, 1, 13, 804, 520, 1, 1, 1, 430, 672, 110, 1, 1, 1, 1, 1, 1, 1, 189, 1, 1, 1, 464, 266, 1, 81, 189, 837, 88, 1, 1, 1, 1, 307, 1, 1, 430, 899, 1, 573, 749, 1, 1, 1, 1, 1, 1, 1, 1, 1, 1, 176, 1, 887, 1, 1, 1, 1, 1, 417, 1, 212, 380, 1, 93, 1, 1, 692, 1, 1, 1, 266, 1, 838, 1, 1, 1, 520, 1, 276, 1, 1, 1, 1, 1, 250, 1, 1, 541, 1, 226, 892, 81, 785, 1, 1, 1, 312, 1, 1, 892, 1, 524, 45, 1, 1, 1, 899, 377, 1, 307, 1, 1, 1, 1, 1, 1, 1, 834, 1, 1, 1, 1, 111, 1, 1, 215, 1, 1, 551, 549, 1, 1, 1, 834, 837, 702, 1, 1, 88, 1, 396, 1, 1, 1, 1, 383, 1, 1, 1, 1, 1, 1, 794, 1, 380, 256, 270, 1, 1, 400, 1, 313, 1, 1, 130, 1, 1, 320, 123, 1, 1, 1, 1, 1, 834, 1, 205, 1, 1, 417, 1, 1, 1, 1, 1, 1, 430, 1, 837, 1, 1, 1, 1, 1, 1, 1, 1, 1, 1, 1, 1, 1, 1, 396, 386, 1, 1, 109, 1, 276, 1, 1, 238, 1, 111, 152, 1, 130, 1, 1, 1, 770, 1, 1, 360, 1, 238, 1, 1, 1, 1, 1, 1, 1, 154, 1, 1, 1, 1, 1, 758, 1, 88, 1, 1, 1, 759, 1, 433, 1, 120, 1, 1, 569, 349, 1, 1, 349, 547, 1, 1, 380, 638, 307, 1, 1, 1, 88, 1, 318, 1, 498, 147, 1, 88, 1, 1, 1, 1, 1, 1, 1, 1, 430, 1, 753, 1, 1, 656, 615, 1, 1, 1, 1, 1, 1, 758, 1, 1, 1, 1, 1, 1, 1, 1, 1, 1, 1, 1, 1, 1, 1, 1, 81, 1, 1, 606, 1, 673, 175, 1, 1, 1, 1, 1, 1, 58, 1, 1, 1, 498, 551, 1, 837, 109, 1, 1, 283, 1, 1, 1, 558, 650, 823, 1, 1, 575, 1, 1, 547, 834, 1, 1, 1, 1, 758, 88, 754, 1, 1, 207, 45, 1, 113, 547, 1, 1, 1, 1, 1, 1, 1, 1, 758, 1, 1, 1, 1, 1, 1, 899, 1, 1, 1, 1, 90, 670, 1, 1, 1, 1, 1, 313, 111, 1, 650, 1, 1, 45, 238, 1, 109, 1, 1, 1, 1, 1, 1, 1, 372, 1, 1, 1, 1, 614, 1, 189, 1, 1, 1, 1, 1, 1, 1, 1, 45, 1, 1, 532, 835, 307, 421, 1, 1, 892, 269, 1, 1, 1, 1, 1, 1, 1, 430, 1, 1, 1, 1, 1, 1, 1, 75, 1, 1, 1, 1, 1, 1, 1, 807, 1, 1, 356, 1, 707, 1, 130, 1, 435, 1, 1, 170, 1, 111, 1, 1, 541, 1, 1, 1, 1, 1, 1, 1, 1, 498, 1, 1, 1, 754, 1, 372, 851, 1, 895, 736, 1, 269, 1, 226, 1, 1, 266, 266, 1, 1, 1, 1, 1, 1, 266, 837, 1, 1, 45, 45, 1, 1, 1, 1, 1, 1, 1, 137, 78, 1, 1, 758, 1, 78, 1, 1, 1, 1, 1, 1, 1, 1, 1, 1, 1, 1, 1, 1, 1, 1, 1, 1, 1, 1, 1, 1, 1, 1, 1, 1, 1, 1, 1, 1, 1, 1, 1, 1, 1, 1, 1, 1, 1, 1, 1, 1, 1, 1, 1, 380, 1, 1, 1, 1, 1, 1, 1, 1, 1, 464, 1, 1, 1, 1, 1, 307, 754, 1, 1, 1, 290, 175, 307, 754, 1, 551, 298, 1, 1, 1, 1, 1, 1, 1, 565, 1, 1, 1, 1, 1, 1, 1, 1, 1, 1, 1, 1, 1, 1, 1, 1, 1, 1, 1, 307, 1, 1, 81, 1, 1, 1, 1, 1, 670, 1, 1, 1, 678, 1, 1, 1, 834, 520, 111, 1, 1, 1, 834, 318, 1, 130, 1, 1, 520, 1, 139, 1, 320, 1, 1, 284, 88, 1, 1, 815, 1, 1, 1, 313, 835, 1, 1, 713, 364, 1, 1, 1, 444, 1, 1, 1, 290, 1, 430, 1, 770, 547, 1, 1, 1, 1, 1, 773, 576, 1, 690, 88, 861, 1, 1, 1, 1, 1, 1, 1, 1, 1, 1, 1, 1, 1, 1, 1, 480, 759, 1, 1, 444, 1, 1, 1, 1, 1, 455, 1, 1, 317, 307, 754, 899, 668, 885, 430, 1, 1, 1, 226, 573, 1, 1, 874, 1, 1, 470, 190, 318, 45, 75, 440, 1, 81, 81, 1, 81, 385, 679, 855, 1, 215, 1, 1, 1, 268, 449, 1, 233, 1, 1, 1, 1, 1, 1, 248, 1, 126, 400, 1, 147, 1, 1, 568, 1, 1, 1, 1, 1, 667, 380, 1, 579, 1, 861, 1, 1, 1, 541, 1, 1, 1, 1, 1, 1, 1, 1, 1, 1, 1, 1, 1, 1, 1, 1, 1, 1, 1, 1, 1, 430, 1, 1, 491, 616, 743, 698, 1, 555, 307, 307, 200, 486, 875, 361, 396, 1, 279, 288, 1, 1, 330, 1, 835, 1, 1, 1, 810, 1, 1, 1, 383, 1, 170, 1, 1, 1, 1, 1, 1, 1, 1, 1, 1, 1, 1, 1, 233, 1, 1, 1, 1, 563, 1, 403, 1, 520, 1, 1, 1, 1, 111, 1, 100, 1, 1, 520, 403, 736, 568, 599, 656, 1, 145, 792, 604, 1, 1, 79, 1, 360, 1, 313, 376, 1, 1, 1, 638, 1, 1, 1, 1, 1, 1, 1, 1, 1, 1, 1, 1, 1, 1, 1, 1, 1, 1, 1, 1, 1, 1, 1, 1, 1, 1, 1, 600, 662, 1, 50, 88, 272, 380, 1, 517, 1, 1, 320, 718, 875, 386, 1, 1, 1, 245, 318, 711, 711, 683, 835, 399, 1, 1, 1, 1, 1, 1, 1, 1, 440, 400, 1, 318, 170, 276, 1, 689, 81, 1, 861, 1, 1, 1, 1, 122, 1, 275, 111, 1, 1, 1, 736, 520, 520, 1, 275, 736, 520, 520, 1, 275, 1, 1, 1, 1, 400, 520, 403, 1, 197, 1, 1, 1, 360, 674, 1, 847, 38, 172, 615, 1, 573, 1, 1, 1, 1, 1, 1, 1, 1, 1, 1, 1, 1, 1, 1, 1, 1, 1, 1, 1, 1, 1, 1, 430, 238, 761, 759, 755, 1, 1, 13, 777, 1, 1, 541, 446, 174, 1, 532, 256, 548, 807, 450, 1, 307, 320, 40, 290, 899, 1, 245, 1, 1, 1, 1, 1, 555, 1, 1, 683, 1, 498, 1, 1, 594, 594, 1, 682, 1, 1, 1, 1, 1, 320, 92, 1, 508, 1, 1, 1, 1, 1, 1, 1, 20, 1, 736, 130, 1, 861, 653, 1, 1, 1, 895, 1, 93, 893, 93, 893, 1, 1, 1, 579, 234, 1, 1, 1, 634, 1, 1, 1, 1, 1, 1, 1, 1, 1, 1, 1, 1, 1, 1, 1, 1, 1, 1, 1, 1, 1, 654, 1, 693, 325, 1, 616, 1, 13, 50, 1, 616, 1, 616, 42, 1, 698, 1, 1, 175, 372, 320, 839, 1, 16, 20, 58, 568, 1, 1, 1, 1, 518, 682, 1, 400, 1, 456, 432, 1, 1, 1, 1, 1, 1, 122, 100, 233, 1, 1, 834, 1, 111, 834, 1, 568, 1, 790, 615, 1, 1, 1, 1, 1, 1, 1, 1, 1, 1, 1, 1, 1, 1, 1, 1, 1, 1, 1, 1, 1, 1, 1, 1, 1, 1, 1, 430, 1, 1, 1, 1, 1, 873, 174, 662, 1, 13, 573, 573, 182, 1, 307, 430, 6, 313, 1, 1, 498, 400, 1, 432, 655, 742, 1, 1, 268, 1, 624, 1, 1, 111, 1, 1, 1, 1, 1, 318, 823, 1, 1, 1, 1, 1, 1, 1, 172, 1, 1, 1, 1, 1, 1, 1, 1, 638, 1, 1, 78, 1, 1, 1, 1, 1, 1, 1, 1, 1, 1, 1, 1, 1, 1, 1, 244, 1, 1, 653, 1, 1, 205, 205, 1, 573, 212, 178, 417, 855, 189, 162, 245, 386, 875, 740, 20, 770, 518, 1, 1, 313, 405, 405, 1, 400, 1, 307, 500, 1, 215, 443, 364, 1, 834, 122, 1, 377, 1, 1, 828, 1, 111, 1, 1, 1, 42, 579, 789, 172, 1, 1, 360, 1, 837, 1, 42, 1, 154, 1, 1, 638, 1, 1, 1, 1, 1, 1, 1, 1, 1, 1, 1, 1, 1, 1, 1, 1, 1, 1, 1, 1, 1, 1, 1, 759, 1, 759, 759, 1, 1, 1, 1, 174, 1, 1, 1, 442, 272, 753, 807, 1, 1, 250, 1, 290, 754, 290, 320, 290, 438, 1, 132, 288, 1, 1, 1, 1, 1, 1, 1, 518, 498, 1, 594, 88, 1, 1, 170, 1, 770, 81, 1, 1, 449, 1, 30, 606, 1, 1, 1, 1, 111, 122, 1, 520, 520, 275, 1, 1, 1, 520, 403, 1, 266, 45, 240, 1, 361, 1, 1, 1, 1, 88, 147, 150, 88, 1, 1, 1, 1, 1, 1, 1, 1, 1, 1, 1, 1, 1, 1, 1, 1, 1, 1, 1, 1, 1, 1, 1, 1, 1, 1, 1, 1, 1, 1, 1, 1, 1, 430, 654, 1, 244, 430, 759, 1, 632, 720, 1, 1, 380, 433, 873, 450, 318, 355, 1, 212, 1, 392, 238, 1, 1, 1, 1, 290, 386, 307, 307, 290, 797, 298, 885, 430, 689, 356, 356, 378, 130, 1, 1, 1, 572, 1, 1, 682, 1, 547, 679, 1, 770, 1, 432, 176, 1, 215, 215, 508, 1, 268, 1, 1, 319, 109, 109, 246, 1, 1, 1, 834, 1, 895, 1, 147, 520, 1, 1, 1, 275, 1, 892, 111, 834, 1, 749, 1, 1, 245, 1, 13, 558, 172, 1, 154, 1, 1, 154, 42, 1, 1, 250, 1, 1, 1, 758, 1, 1, 1, 1, 1, 1, 1, 1, 1, 1, 1, 1, 1, 140, 1, 1, 759, 753, 1, 1, 1, 433, 1, 698, 1, 212, 256, 1, 555, 417, 386, 1, 175, 572, 394, 148, 875, 297, 1, 1, 551, 20, 359, 396, 1, 606, 313, 577, 1, 1, 1, 835, 1, 1, 1, 498, 498, 594, 1, 1, 1, 1, 81, 1, 190, 1, 547, 1, 1, 1, 624, 1, 1, 1, 1, 1, 147, 1, 122, 400, 1, 1, 1, 246, 1, 1, 1, 111, 111, 736, 1, 520, 1, 1, 266, 1, 250, 1, 88, 483, 1, 856, 266, 483, 1, 45, 1, 1, 1, 101, 1, 197, 1, 573, 1, 685, 758, 1, 634, 1, 1, 433, 1, 1, 1, 1, 1, 1, 1, 1, 1, 1, 1, 1, 1, 1, 1, 1, 1, 1, 1, 1, 1, 1, 1, 1, 1, 1, 1, 1, 744, 176, 753, 720, 1, 13, 1, 1, 1, 433, 777, 42, 1, 1, 355, 1, 473, 1, 1, 1, 13, 1, 570, 324, 245, 530, 1, 1, 770, 1, 288, 1, 689, 1, 356, 356, 1, 490, 1, 1, 1, 1, 518, 1, 1, 1, 1, 75, 400, 456, 1, 679, 547, 1, 81, 81, 81, 755, 1, 1, 1, 708, 1, 622, 411, 1, 1, 483, 1, 1, 520, 563, 834, 1, 1, 1, 834, 1, 147, 736, 834, 111, 1, 1, 147, 111, 736, 1, 1, 364, 1, 1, 520, 520, 736, 755, 1, 1, 1, 1, 1, 1, 45, 1, 88, 756, 756, 142, 1, 88, 579, 647, 88, 1, 1, 1, 1, 1, 1, 1, 1, 1, 1, 1, 1, 1, 1, 1, 1, 1, 1, 1, 1, 1, 1, 1, 1, 1, 836, 430, 657, 1, 52, 244, 1, 1, 238, 87, 513, 1, 877, 380, 1, 753, 1, 75, 743, 1, 622, 1, 710, 1, 660, 290, 293, 743, 817, 1, 1, 1, 1, 77, 1, 298, 551, 430, 1, 1, 1, 1, 835, 1, 356, 1, 1, 1, 1, 1, 1, 239, 1, 239, 1, 1, 1, 1, 1, 594, 1, 594, 1, 1, 45, 276, 1, 1, 1, 1, 215, 55, 854, 1, 1, 275, 834, 1, 1, 1, 520, 1, 670, 1, 520, 109, 1, 1, 1, 1, 1, 1, 1, 1, 834, 563, 1, 794, 1, 36, 272, 1, 1, 1, 1, 1, 1, 1, 1, 1, 148, 380, 792, 1, 1, 250, 1, 79, 1, 1, 1, 234, 1, 1, 1, 250, 1, 690, 890, 134, 607, 483, 1, 1, 736, 887, 31, 1, 1, 558, 1, 1, 1, 1, 1, 1, 1, 1, 1, 1, 1, 1, 1, 1, 1, 1, 1, 1, 1, 1, 1, 1, 1, 1, 1, 683, 1, 1, 430, 759, 238, 1, 433, 1, 1, 662, 42, 486, 1, 592, 1, 137, 807, 1, 807, 1, 142, 11, 466, 162, 1, 1, 290, 1, 801, 770, 551, 288, 288, 226, 1, 6, 6, 1, 1, 1, 287, 1, 1, 1, 401, 1, 302, 1, 1, 1, 1, 1, 594, 400, 1, 1, 1, 498, 1, 1, 1, 81, 689, 1, 406, 679, 1, 349, 1, 1, 349, 1, 1, 1, 520, 109, 1, 520, 41, 364, 1, 1, 1, 1, 1, 1, 1, 591, 1, 1, 1, 1, 1, 1, 1, 1, 1, 1, 93, 318, 360, 1, 101, 679, 847, 1, 1, 1, 1, 638, 1, 1, 1, 1, 1, 1, 1, 1, 1, 1, 1, 1, 1, 1, 1, 1, 1, 1, 1, 52, 657, 894, 516, 425, 1, 1, 174, 380, 486, 873, 100, 698, 517, 548, 698, 1, 1, 162, 200, 307, 307, 1, 875, 797, 1, 206, 1, 78, 1, 1, 1, 1, 356, 1, 1, 1, 1, 1, 1, 1, 1, 1, 1, 81, 276, 1, 1, 755, 215, 1, 1, 1, 268, 1, 1, 1, 1, 1, 1, 1, 1, 1, 109, 109, 130, 275, 1, 403, 1, 520, 834, 895, 568, 1, 1, 579, 376, 1, 1, 266, 483, 88, 1, 809, 147, 113, 425, 1, 1, 1, 1, 1, 1, 1, 1, 1, 1, 1, 1, 1, 1, 1, 1, 1, 1, 1, 1, 1, 1, 1, 1, 1, 1, 1, 1, 1, 1, 1, 1, 1, 873, 1, 1, 836, 1, 52, 1, 1, 299, 299, 469, 236, 690, 1, 1, 541, 272, 1, 614, 777, 247, 1, 100, 1, 212, 585, 743, 622, 295, 1, 498, 1, 1, 1, 1, 372, 785, 1, 1, 1, 1, 668, 357, 650, 1, 189, 268, 1, 1, 1, 378, 699, 378, 693, 1, 1, 693, 356, 245, 553, 1, 1, 190, 1, 1, 1, 45, 1, 547, 266, 152, 770, 1, 81, 1, 1, 430, 1, 508, 1, 771, 168, 268, 124, 1, 483, 1, 268, 504, 1, 1, 109, 1, 736, 109, 1, 1, 400, 834, 563, 670, 1, 147, 895, 1, 400, 568, 568, 1, 579, 250, 101, 250, 31, 172, 129, 1, 1, 318, 51, 1, 45, 1, 306, 1, 1, 141, 78, 1, 1, 1, 1, 1, 1, 1, 1, 1, 1, 1, 1, 1, 1, 1, 1, 1, 1, 1, 1, 1, 1, 1, 1, 1, 1, 1, 657, 468, 654, 836, 572, 183, 299, 759, 759, 541, 380, 1, 272, 1, 1, 760, 743, 1, 1, 455, 698, 1, 13, 228, 238, 228, 770, 660, 580, 754, 307, 269, 851, 815, 1, 615, 1, 615, 615, 615, 1, 1, 6, 1, 313, 378, 323, 1, 1, 254, 585, 1, 1, 874, 405, 272, 1, 682, 170, 572, 1, 170, 594, 1, 1, 1, 1, 755, 81, 547, 1, 1, 235, 1, 523, 307, 268, 622, 520, 411, 1, 1, 1, 1, 111, 1, 111, 834, 1, 1, 520, 1, 1, 520, 1, 1, 1, 364, 520, 1, 400, 520, 1, 1, 1, 170, 736, 736, 1, 1, 591, 667, 756, 591, 1, 1, 1, 1, 1, 1, 756, 1, 543, 31, 306, 234, 88, 1, 240, 1, 1, 1, 1, 1, 1, 1, 1, 685, 1, 1, 1, 1, 1, 1, 1, 1, 1, 1, 1, 1, 1, 1, 1, 1, 1, 1, 1, 1, 1, 1, 1, 1, 1, 1, 1, 1, 1, 1, 1, 430, 1, 1, 1, 486, 614, 495, 1, 1, 174, 380, 1, 867, 785, 460, 50, 698, 517, 807, 1, 1, 760, 1, 11, 550, 675, 182, 649, 269, 1, 1, 1, 758, 307, 320, 885, 298, 306, 530, 847, 1, 318, 1, 1, 699, 378, 1, 788, 518, 518, 1, 1, 1, 51, 1, 1, 190, 1, 1, 212, 1, 1, 1, 1, 1, 1, 1, 400, 1, 400, 1, 1, 1, 207, 1, 1, 1, 861, 1, 1, 1, 298, 1, 708, 215, 675, 411, 43, 686, 754, 1, 1, 1, 1, 1, 1, 736, 1, 1, 1, 1, 1, 834, 111, 1, 834, 377, 828, 520, 520, 1, 1, 1, 568, 1, 1, 154, 1, 837, 1, 615, 45, 789, 1, 1, 893, 45, 1, 1, 758, 1, 1, 1, 1, 1, 1, 1, 1, 1, 1, 1, 1, 1, 1, 1, 1, 1, 1, 1, 1, 1, 1, 1, 433, 1, 430, 759, 174, 513, 1, 88, 877, 698, 137, 473, 1, 1, 355, 137, 1, 11, 1, 1, 660, 807, 1, 1, 1, 1, 899, 40, 658, 178, 1, 899, 307, 1, 13, 298, 16, 189, 313, 1, 1, 788, 699, 1, 399, 683, 683, 1, 1, 1, 518, 405, 302, 470, 1, 594, 1, 755, 307, 1, 276, 1, 1, 861, 1, 307, 1, 563, 1, 168, 268, 1, 352, 1, 1, 109, 109, 1, 1, 1, 1, 122, 1, 520, 1, 1, 147, 1, 1, 1, 520, 122, 1, 1, 1, 147, 794, 1, 308, 129, 615, 1, 895, 376, 809, 1, 36, 1, 1, 837, 1, 172, 266, 266, 756, 1, 1, 1, 433, 1, 1, 372, 433, 137, 1, 1, 1, 1, 1, 1, 1, 1, 1, 1, 1, 1, 1, 1, 1, 1, 1, 1, 1, 1, 1, 1, 1, 1, 1, 30, 1, 1, 1, 1, 758, 1, 1, 1, 516, 1, 368, 516, 1, 1, 1, 1, 174, 42, 110, 455, 1, 1, 1, 1, 1, 417, 154, 290, 290, 1, 1, 491, 40, 320, 1, 1, 572, 307, 425, 400, 1, 524, 548, 872, 1, 668, 319, 378, 1, 245, 1, 1, 1, 1, 1, 1, 1, 399, 1, 110, 835, 1, 1, 1, 1, 1, 1, 401, 594, 130, 1, 1, 1, 81, 1, 742, 1, 585, 347, 1, 109, 111, 1, 1, 1, 109, 147, 1, 1, 1, 1, 563, 1, 828, 1, 1, 1, 834, 65, 1, 1, 1, 212, 664, 147, 1, 837, 736, 79, 129, 88, 197, 1, 1, 1, 1, 1, 172, 1, 1, 758, 638, 1, 1, 1, 1, 1, 1, 1, 1, 1, 1, 1, 1, 1, 1, 1, 1, 430, 1, 1, 1, 1, 42, 616, 380, 13, 42, 1, 1, 777, 1, 1, 1, 247, 592, 809, 698, 355, 1, 1, 397, 770, 60, 1, 13, 307, 1, 1, 1, 1, 319, 357, 483, 1, 855, 245, 318, 1, 1, 1, 6, 356, 317, 317, 19, 378, 1, 720, 1, 1, 498, 170, 1, 1, 1, 1, 1, 861, 276, 1, 742, 742, 215, 1, 1, 616, 270, 1, 1, 1, 268, 1, 1, 585, 275, 834, 834, 520, 520, 364, 20, 233, 1, 1, 1, 1, 1, 1, 1, 1, 1, 1, 1, 1, 1, 220, 1, 760, 670, 1, 1, 1, 42, 1, 628, 579, 1, 1, 1, 1, 360, 1, 1, 1, 675, 1, 1, 1, 1, 1, 433, 758, 758, 1, 1, 1, 1, 1, 1, 1, 1, 1, 1, 1, 1, 1, 1, 1, 1, 1, 1, 1, 1, 1, 1, 654, 1, 188, 621, 47, 572, 1, 572, 349, 1, 1, 1, 1, 1, 1, 1, 1, 548, 1, 1, 397, 256, 13, 550, 11, 1, 660, 555, 1, 1, 1, 377, 1, 1, 1, 90, 279, 551, 1, 1, 1, 1, 1, 1, 1, 1, 1, 1, 1, 1, 1, 1, 1, 683, 498, 810, 1, 670, 1, 401, 1, 400, 594, 1, 1, 679, 1, 81, 713, 820, 319, 124, 364, 109, 122, 109, 111, 111, 111, 36, 233, 1, 1, 109, 1, 147, 1, 1, 1, 1, 1, 1, 1, 1, 1, 1, 10, 1, 568, 1, 59, 1, 107, 686, 360, 190, 1, 88, 88, 88, 1, 579, 837, 1, 837, 837, 736, 129, 51, 129, 1, 1, 1, 1, 758, 1, 1, 433, 758, 520, 1, 1, 1, 1, 1, 1, 1, 1, 1, 1, 1, 1, 1, 1, 1, 1, 1, 1, 1, 442, 1, 1, 469, 1, 1, 50, 777, 1, 355, 450, 1, 1, 100, 137, 1, 1, 1, 1, 88, 1, 1, 875, 875, 612, 290, 126, 878, 396, 1, 1, 298, 430, 1, 1, 980, 1, 1, 1, 1, 356, 254, 694, 240, 1, 498, 1, 1, 1, 1, 1, 1, 572, 1, 170, 594, 1, 679, 755, 755, 81, 81, 1, 406, 190, 1, 1, 717, 1, 1, 555, 1, 109, 520, 834, 520, 122, 1, 1, 1, 1, 233, 1, 1, 1, 1, 109, 1, 1, 1, 65, 1, 1, 1, 1, 1, 1, 1, 1, 1, 1, 1, 1, 250, 1, 42, 31, 890, 1, 1, 638, 1, 1, 1, 1, 1, 1, 1, 1, 1, 1, 1, 1, 1, 1, 1, 1, 1, 1, 1, 1, 1, 1, 1, 1, 1, 1, 1, 1, 1, 657, 1, 1, 1, 1, 455, 238, 1, 1, 50, 1, 433, 1, 247, 22, 1, 743, 622, 1, 455, 760, 1, 450, 1, 1, 1, 228, 60, 1, 1, 290, 307, 754, 845, 1, 1, 662, 754, 1, 1, 668, 396, 298, 90, 205, 245, 1, 1, 53, 226, 1, 1, 36, 560, 1, 356, 1, 1, 1, 1, 1, 411, 720, 874, 498, 498, 1, 1, 874, 1, 400, 1, 1, 440, 1, 1, 1, 1, 679, 276, 268, 1, 1, 1, 1, 352, 1, 1, 1, 1, 1, 1, 1, 622, 1, 1, 1, 834, 563, 1, 1, 1, 126, 834, 1, 869, 834, 520, 1, 1, 400, 1, 1, 65, 10, 568, 1, 1, 31, 1, 837, 615, 1, 172, 1, 129, 1, 1, 1, 1, 31, 308, 1, 1, 1, 1, 1, 1, 1, 1, 1, 1, 1, 1, 1, 1, 1, 1, 1, 1, 1, 1, 1, 1, 1, 1, 1, 1, 1, 1, 1, 1, 1, 1, 1, 1, 1, 647, 1, 1, 1, 1, 1, 1, 1, 1, 1, 1, 1, 1, 1, 433, 256, 532, 821, 1, 1, 821, 807, 698, 1, 60, 787, 1, 11, 1, 11, 1, 350, 1, 417, 1, 1, 307, 1, 279, 1, 168, 473, 1, 16, 1, 1, 872, 1, 357, 555, 1, 1, 1, 1, 124, 1, 1, 1, 356, 1, 1, 1, 1, 1, 1, 356, 1, 1, 130, 130, 1, 1, 170, 1, 1, 88, 170, 400, 1, 81, 1, 307, 1, 1, 215, 268, 1, 283, 319, 1, 1, 1, 306, 130, 828, 1, 1, 1, 1, 1, 1, 111, 834, 275, 111, 1, 1, 1, 1, 134, 490, 756, 88, 1, 1, 1, 1, 1, 88, 1, 1, 560, 1, 421, 1, 634, 1, 1, 137, 1, 1, 1, 1, 1, 1, 1, 1, 1, 1, 1, 1, 1, 1, 1, 1, 1, 1, 1, 1, 1, 1, 1, 1, 1, 1, 1, 759, 759, 1, 380, 662, 269, 1, 1, 1, 1, 760, 212, 1, 845, 11, 1, 1, 1, 1, 660, 1, 1, 1, 1, 1, 40, 297, 718, 148, 224, 175, 513, 878, 286, 20, 551, 78, 58, 1, 1, 1, 313, 313, 226, 251, 1, 560, 1, 1, 1, 223, 518, 1, 401, 1, 1, 1, 1, 1, 1, 81, 276, 1, 820, 215, 226, 307, 1, 1, 1, 1, 1, 1, 1, 520, 1, 1, 1, 892, 1, 1, 109, 563, 834, 1, 1, 895, 1, 1, 834, 834, 892, 1, 111, 1, 1, 1, 172, 1, 1, 1, 1, 212, 42, 120, 1, 266, 1, 88, 579, 1, 154, 266, 1, 212, 88, 1, 141, 832, 1, 1, 1, 1, 1, 1, 1, 1, 1, 1, 1, 1, 1, 1, 1, 1, 1, 1, 1, 1, 1, 1, 1, 1, 1, 1, 1, 1, 1, 1, 1, 176, 1, 753, 442, 380, 410, 150, 473, 22, 1, 1, 1, 550, 855, 1, 1, 1, 1, 841, 269, 1, 1, 1, 1, 551, 90, 555, 6, 573, 1, 287, 254, 260, 399, 1, 1, 1, 1, 835, 1, 1, 1, 1, 1, 1, 1, 594, 400, 88, 406, 1, 1, 1, 276, 276, 215, 708, 713, 215, 1, 449, 411, 1, 1, 168, 1, 1, 616, 1, 1, 13, 563, 1, 1, 248, 1, 1, 1, 1, 1, 892, 147, 1, 1, 1, 410, 568, 1, 490, 1, 1, 887, 1, 1, 154, 282, 1, 1, 1, 573, 638, 1, 1, 276, 1, 1, 1, 1, 1, 1, 1, 1, 1, 1, 1, 1, 1, 1, 1, 1, 1, 1, 1, 1, 1, 1, 430, 873, 1, 1, 1, 759, 238, 753, 1, 42, 380, 380, 1, 1, 592, 785, 400, 13, 1, 1, 1, 1, 1, 1, 1, 1, 1, 1, 320, 1, 402, 386, 754, 899, 151, 386, 286, 1, 290, 551, 1, 1, 207, 1, 835, 838, 240, 1, 1, 130, 170, 1, 1, 1, 276, 211, 81, 276, 1, 483, 1, 1, 1, 352, 1, 307, 1, 1, 30, 555, 109, 1, 1, 1, 1, 1, 520, 1, 1, 520, 109, 520, 1, 1, 1, 1, 109, 1, 794, 1, 754, 1, 670, 88, 81, 1, 1, 360, 1, 1, 1, 1, 1, 1, 1, 266, 1, 1, 1, 1, 1, 1, 1, 1, 1, 1, 1, 1, 1, 1, 1, 1, 1, 1, 1, 1, 1, 1, 1, 1, 1, 1, 430, 1, 759, 104, 1, 486, 777, 1, 1, 42, 174, 1, 1, 1, 1, 517, 1, 1, 1, 1, 1, 1, 1, 1, 1, 1, 754, 772, 899, 1, 307, 572, 1, 1, 810, 548, 1, 1, 551, 1, 298, 560, 189, 1, 245, 1, 288, 1, 227, 356, 480, 1, 1, 1, 1, 518, 874, 401, 1, 1, 1, 1, 1, 190, 81, 81, 1, 1, 1, 1, 483, 268, 268, 1, 307, 1, 606, 1, 1, 306, 111, 306, 520, 520, 520, 1, 1, 1, 1, 1, 1, 220, 1, 30, 1, 615, 1, 1, 308, 1, 1, 615, 1, 45, 1, 1, 1, 88, 154, 1, 296, 758, 1, 1, 1, 1, 1, 1, 1, 1, 1, 1, 1, 1, 1, 1, 1, 1, 1, 1, 1, 1, 1, 1, 1, 1, 1, 1, 1, 1, 1, 1, 244, 1, 759, 174, 1, 614, 548, 1, 532, 1, 1, 1, 1, 710, 1, 1, 1, 1, 417, 660, 51, 1, 1, 1, 1, 1, 885, 269, 754, 307, 1, 126, 290, 551, 1, 660, 676, 1, 1, 318, 555, 1, 1, 1, 313, 1, 1, 1, 1, 207, 1, 1, 36, 1, 1, 1, 685, 1, 1, 435, 1, 1, 1, 594, 1, 170, 1, 682, 682, 679, 1, 520, 483, 275, 1, 1, 1, 520, 1, 1, 1, 1, 1, 520, 1, 1, 1, 109, 250, 1, 1, 1, 1, 109, 1, 1, 1, 139, 1, 1, 1, 1, 1, 579, 45, 1, 679, 1, 1, 1, 1, 1, 376, 1, 1, 1, 45, 266, 1, 1, 1, 1, 1, 1, 1, 296, 1, 1, 1, 1, 1, 1, 1, 1, 1, 1, 1, 1, 1, 1, 1, 1, 1, 1, 1, 1, 1, 1, 1, 836, 176, 804, 1, 646, 1, 1, 175, 150, 517, 1, 178, 11, 555, 1, 466, 570, 1, 1, 1, 162, 307, 1, 1, 1, 1, 1, 1, 1, 396, 1, 1, 430, 1, 874, 650, 161, 1, 245, 1, 570, 1, 1, 1, 1, 1, 1, 399, 411, 1, 352, 1, 885, 1, 1, 1, 1, 1, 1, 594, 1, 1, 594, 1, 1, 255, 547, 276, 276, 307, 755, 547, 547, 1, 1, 1, 268, 1, 520, 1, 1, 1, 1, 1, 109, 1, 1, 248, 1, 111, 1, 1, 1, 1, 1, 736, 1, 79, 172, 147, 615, 1, 1, 1, 1, 1, 1, 45, 34, 1, 360, 758, 849, 1, 1, 1, 758, 1, 1, 1, 1, 1, 1, 1, 1, 430, 1, 1, 1, 1, 1, 1, 1, 1, 1, 1, 1, 1, 1, 1, 654, 433, 1, 245, 1, 1, 176, 1, 1, 232, 614, 1, 1, 88, 42, 1, 1, 1, 1, 1, 1, 1, 1, 1, 1, 11, 1, 1, 79, 1, 417, 1, 307, 1, 754, 1, 1, 290, 787, 319, 1, 396, 1, 1, 1, 1, 1, 1, 110, 1, 573, 356, 1, 1, 1, 1, 1, 1, 1, 1, 172, 1, 1, 172, 1, 1, 1, 594, 1, 45, 1, 1, 276, 1, 1, 1, 307, 1, 1, 834, 1, 1, 1, 1, 1, 1, 520, 1, 1, 1, 1, 1, 524, 1, 1, 1, 276, 1, 1, 1, 307, 1, 1, 1, 1, 1, 360, 665, 360, 1, 377, 1, 1, 1, 693, 1, 430, 126, 1, 238, 1, 356, 1, 1, 1, 1, 1, 433, 1, 1, 1, 1, 615, 1, 1, 1, 151, 1, 1, 1, 1, 288, 1, 1, 679, 1, 45, 520, 520, 288, 834, 1, 1, 1, 276, 397, 758, 1, 276, 1, 513, 520, 1, 1, 1, 836, 1, 1, 1, 1, 520, 1, 1, 1, 147, 1, 1, 1, 1, 887, 1, 1, 1, 1, 397, 81, 238, 755, 1, 1, 276, 1, 400, 1, 1, 229, 1, 1, 1, 698, 1, 1, 1, 1, 1, 1, 1, 81, 1, 81, 1, 894, 1, 1, 154, 1, 178, 1, 616, 430, 1, 1, 1, 1, 1, 1, 1, 1, 513, 1, 1, 1, 1, 835, 1, 1, 45, 1, 430, 307, 660, 168, 238, 349, 269, 266, 1, 1, 780, 1, 693, 1, 547, 1, 1, 1, 52, 1, 1, 1, 1, 1, 16, 1, 1, 1, 1, 520, 1, 1, 180, 1, 1, 1, 1, 250, 1, 683, 1, 1, 807, 1, 1, 1, 319, 1, 532, 1, 390, 1, 1, 1, 1, 1, 266, 1, 1, 1, 1, 1, 1, 1, 1, 1, 1, 899, 1, 1, 1, 1, 1, 1, 1, 1, 1, 1, 1, 1, 1, 147, 1, 1, 1, 662, 1, 520, 60, 1, 1, 52, 1, 1, 787, 1, 1, 1, 1, 1, 276, 1, 1, 1, 235, 307, 1, 1, 547, 1, 1, 1, 421, 1, 877, 1, 1, 1, 887, 1, 31, 65, 1, 1, 1, 1, 1, 1, 1, 1, 572, 244, 736, 1, 861, 1, 1, 1, 1, 1, 1, 606, 1, 1, 638, 1, 1, 615, 634, 1, 1, 683, 1, 1, 1, 701, 1, 1, 1, 20, 1, 1, 899, 1, 1, 1, 1, 1, 1, 1, 1, 1, 1, 1, 385, 1, 1, 585, 572, 290, 624, 1, 1, 430, 6, 1, 1, 1, 638, 1, 1, 266, 1, 847, 1, 1, 837, 20, 1, 1, 660, 1, 754, 1, 1, 1, 364, 1, 1, 1, 1, 1, 1, 1, 1, 1, 520, 396, 854, 1, 845, 227, 1, 585, 1, 1, 1, 1, 1, 1, 60, 396, 1, 1, 1, 287, 1, 1, 1, 1, 307, 1, 1, 1, 615, 1, 1, 1, 1, 1, 1, 1, 878, 254, 821, 1, 1, 1, 1, 1, 1, 130, 1, 364, 1, 1, 1, 1, 78, 405, 290, 250, 1, 1, 807, 1, 1, 436, 268, 1, 42, 1, 1, 1, 1, 847, 1, 1, 1, 1, 1, 1, 1, 1, 1, 1, 615, 1, 45, 360, 837, 1, 1, 1, 1, 1, 1, 1, 421, 1, 1, 1, 1, 1, 1, 1, 1, 1, 1, 78, 1, 1, 1, 1, 1, 1, 1, 1, 1, 1, 1, 1, 1, 1, 1, 1, 1, 1, 1, 760, 1, 1, 1, 670, 1, 1, 1, 238, 1, 759, 1, 1, 1, 1, 1, 11, 1, 276, 1, 1, 1, 1, 269, 307, 1, 1, 1, 1, 1, 1, 1, 1, 1, 430, 30, 1, 1, 189, 1, 313, 1, 356, 356, 838, 1, 835, 411, 835, 1, 1, 680, 1, 1, 1, 1, 1, 1, 170, 1, 400, 81, 1, 547, 1, 1, 1, 670, 1, 1, 1, 1, 1, 823, 520, 1, 1, 1, 1, 275, 1, 364, 1, 122, 220, 1, 410, 250, 250, 1, 6, 110, 91, 209, 837, 1, 1, 1, 68, 1, 1, 743, 1, 1, 1, 650, 745, 1, 152, 1, 1, 1, 1, 807, 1, 1, 1, 1, 361, 604, 1, 1, 1, 150, 240, 1, 1, 1, 1, 1, 1, 1, 1, 1, 1, 1, 1, 325, 759, 238, 1, 1, 1, 1, 824, 1, 875, 307, 307, 769, 1, 615, 615, 1, 313, 318, 1, 1, 498, 3, 130, 243, 400, 307, 464, 1, 1, 820, 1, 1, 290, 1, 1, 1, 1, 895, 1, 1, 1, 1, 1, 1, 1, 1, 823, 1, 246, 1, 1, 1, 1, 1, 1, 1, 615, 88, 1, 756, 664, 1, 1, 1, 809, 756, 1, 789, 615, 1, 1, 638, 1, 1, 1, 1, 1, 1, 1, 1, 1, 1, 1, 1, 1, 1, 1, 1, 1, 1, 1, 1, 1, 524, 653, 1, 1, 1, 621, 660, 162, 417, 1, 875, 290, 875, 815, 317, 1, 1, 6, 378, 1, 835, 1, 548, 1, 1, 1, 45, 682, 755, 81, 1, 671, 1, 504, 671, 895, 109, 1, 1, 1, 109, 520, 1, 109, 1, 736, 1, 284, 1, 1, 380, 1, 1, 1, 45, 1, 1, 1, 364, 1, 1, 433, 1, 1, 1, 1, 1, 1, 1, 1, 1, 1, 1, 1, 1, 1, 1, 1, 1, 1, 1, 238, 1, 433, 88, 1, 486, 380, 548, 100, 100, 1, 182, 154, 1, 293, 1, 260, 399, 1, 1, 1, 302, 1, 1, 1, 1, 1, 1, 755, 1, 1, 1, 190, 689, 717, 1, 349, 1, 283, 168, 1, 1, 1, 400, 113, 1, 111, 1, 111, 1, 1, 1, 122, 736, 1, 122, 736, 250, 1, 1, 1, 360, 190, 1, 347, 756, 685, 1, 1, 1, 1, 758, 1, 1, 1, 1, 1, 1, 1, 1, 1, 1, 1, 1, 1, 1, 1, 1, 1, 1, 1, 1, 1, 1, 1, 1, 877, 174, 524, 1, 1, 807, 1, 698, 807, 1, 1, 1, 660, 162, 899, 290, 290, 899, 398, 491, 279, 899, 513, 396, 359, 1, 555, 260, 260, 786, 378, 1, 1, 405, 498, 1, 1, 1, 81, 770, 689, 1, 276, 432, 167, 1, 1, 1, 1, 1, 1, 88, 212, 1, 579, 1, 88, 154, 858, 638, 137, 1, 1, 1, 1, 1, 1, 1, 1, 1, 1, 1, 1, 1, 1, 1, 1, 1, 430, 720, 759, 1, 174, 272, 13, 13, 1, 1, 13, 13, 1, 189, 290, 754, 269, 1, 361, 1, 1, 1, 807, 1, 693, 1, 405, 1, 130, 548, 1, 170, 1, 547, 1, 669, 1, 1, 268, 1, 443, 408, 364, 1, 1, 1, 233, 1, 1, 233, 1, 360, 360, 1, 34, 1, 101, 1, 1, 1, 1, 1, 154, 1, 1, 1, 1, 1, 1, 1, 1, 1, 1, 1, 1, 1, 1, 1, 1, 1, 1, 1, 1, 1, 1, 1, 1, 1, 1, 1, 1, 50, 174, 592, 592, 532, 100, 1, 1, 13, 168, 555, 290, 386, 175, 394, 754, 205, 1, 1, 1, 810, 1, 594, 130, 302, 1, 1, 1, 1, 1, 755, 770, 1, 1, 1, 547, 1, 215, 1, 168, 1, 1, 1, 1, 1, 834, 1, 622, 1, 1, 1, 1, 1, 1, 847, 656, 1, 686, 45, 1, 1, 1, 1, 1, 1, 1, 1, 1, 1, 1, 1, 1, 1, 1, 1, 1, 1, 1, 1, 1, 1, 1, 1, 1, 430, 433, 13, 380, 807, 1, 555, 290, 178, 815, 148, 172, 551, 1, 1, 1, 1, 1, 356, 378, 498, 1, 1, 518, 1, 1, 1, 682, 400, 1, 400, 1, 682, 1, 1, 1, 895, 1, 1, 679, 1, 1, 585, 319, 147, 1, 1, 233, 1, 364, 1, 364, 1, 1, 1, 736, 113, 615, 1, 1, 1, 1, 1, 887, 1, 1, 1, 1, 1, 1, 1, 1, 1, 1, 1, 1, 1, 1, 1, 1, 1, 1, 1, 1, 1, 1, 1, 1, 1, 1, 1, 1, 1, 430, 244, 1, 238, 455, 759, 1, 42, 1, 212, 807, 1, 660, 1, 839, 307, 1, 298, 1, 1, 1, 693, 518, 1, 594, 88, 1, 1, 679, 1, 1, 349, 585, 319, 268, 520, 1, 1, 109, 1, 1, 1, 520, 147, 109, 109, 147, 1, 564, 380, 1, 1, 1, 138, 45, 1, 809, 148, 854, 79, 88, 1, 1, 1, 1, 1, 1, 1, 1, 1, 1, 1, 1, 1, 1, 1, 1, 1, 1, 1, 1, 380, 142, 256, 13, 1, 417, 1, 660, 1, 307, 290, 1, 535, 359, 132, 1, 226, 1, 1, 260, 1, 356, 885, 720, 1, 1, 518, 594, 594, 1, 655, 418, 1, 1, 1, 1, 55, 870, 1, 563, 1, 520, 1, 1, 1, 834, 1, 364, 1, 233, 377, 401, 54, 520, 400, 1, 615, 1, 1, 266, 79, 1, 45, 42, 1, 284, 819, 658, 360, 440, 1, 1, 638, 1, 1, 1, 1, 1, 1, 1, 1, 1, 1, 1, 1, 1, 1, 1, 1, 1, 238, 572, 720, 759, 1, 1, 877, 1, 1, 698, 1, 1, 466, 1, 372, 885, 1, 1, 279, 1, 555, 6, 6, 1, 1, 1, 130, 1, 45, 1, 770, 547, 1, 1, 30, 268, 1, 1, 411, 1, 109, 1, 1, 1, 834, 1, 403, 1, 403, 1, 520, 1, 1, 1, 1, 1, 1, 1, 1, 380, 172, 1, 1, 615, 1, 1, 1, 887, 125, 761, 88, 1, 1, 1, 1, 1, 1, 1, 1, 1, 1, 1, 1, 1, 1, 1, 1, 1, 299, 174, 433, 524, 1, 1, 446, 622, 1, 807, 807, 1, 466, 660, 899, 286, 436, 151, 740, 40, 551, 1, 1, 1, 1, 224, 356, 835, 498, 1, 1, 874, 1, 1, 1, 1, 682, 318, 170, 88, 88, 1, 211, 1, 655, 81, 1, 547, 418, 1, 1, 349, 1, 1, 147, 318, 248, 1, 109, 520, 834, 520, 36, 1, 497, 1, 1, 1, 558, 31, 667, 1, 376, 1, 45, 1, 266, 631, 172, 440, 360, 1, 736, 440, 615, 1, 360, 34, 266, 1, 1, 113, 172, 628, 628, 1, 1, 1, 1, 1, 1, 1, 1, 1, 1, 1, 1, 1, 1, 1, 1, 1, 52, 1, 1, 1, 1, 777, 682, 272, 486, 1, 1, 1, 455, 175, 162, 878, 386, 1, 1, 551, 801, 551, 689, 1, 1, 835, 1, 1, 1, 1, 1, 1, 1, 45, 170, 440, 1, 1, 594, 170, 1, 1, 1, 1, 1, 1, 1, 1, 319, 1, 520, 1, 318, 834, 1, 520, 233, 1, 1, 1, 563, 248, 1, 1, 1, 1, 1, 1, 1, 1, 1, 1, 1, 1, 1, 480, 1, 652, 45, 541, 1, 1, 579, 890, 266, 1, 421, 433, 1, 1, 1, 1, 421, 1, 1, 1, 1, 1, 1, 1, 1, 1, 1, 1, 1, 1, 1, 1, 1, 1, 430, 322, 1, 1, 1, 491, 572, 88, 380, 42, 1, 653, 1, 1, 698, 698, 1, 22, 807, 182, 162, 1, 307, 99, 1, 1, 288, 6, 6, 573, 1, 1, 313, 577, 1, 1, 885, 1, 1, 45, 1, 1, 1, 1, 276, 1, 1, 1, 1, 717, 268, 1, 168, 1, 1, 563, 1, 1, 1, 736, 892, 109, 520, 1, 1, 1, 1, 122, 1, 1, 1, 1, 1, 1, 111, 10, 1, 1, 1, 88, 1, 1, 1, 101, 1, 890, 1, 1, 1, 1, 1, 1, 1, 1, 1, 1, 1, 1, 1, 1, 1, 1, 1, 1, 1, 1, 1, 1, 1, 1, 1, 1, 1, 1, 1, 1, 1, 480, 542, 1, 1, 130, 824, 189, 286, 269, 1, 797, 815, 361, 1, 668, 1, 1, 1, 683, 1, 1, 1, 1, 203, 1, 1, 1, 1, 405, 518, 1, 470, 594, 1, 170, 170, 1, 1, 276, 81, 81, 276, 689, 1, 713, 717, 1, 1, 1, 168, 268, 1, 483, 861, 1, 1, 1, 1, 1, 1, 1, 1, 1, 109, 1, 834, 892, 895, 440, 354, 1, 1, 1, 148, 88, 1, 1, 887, 42, 1, 585, 88, 887, 1, 1, 209, 1, 1, 88, 1, 1, 1, 1, 1, 1, 1, 1, 1, 1, 1, 1, 1, 1, 468, 1, 1, 1, 403, 837, 867, 380, 1, 616, 1, 1, 256, 1, 450, 1, 1, 417, 1, 269, 260, 1, 1, 1, 689, 1, 1, 287, 1, 1, 1, 172, 1, 470, 1, 1, 130, 1, 1, 594, 682, 307, 406, 307, 547, 167, 1, 547, 327, 1, 81, 1, 276, 1, 443, 319, 1, 268, 449, 268, 873, 1, 1, 563, 1, 1, 109, 1, 1, 122, 65, 440, 410, 576, 34, 88, 42, 376, 318, 1, 308, 145, 576, 120, 541, 1, 579, 1, 837, 1, 1, 266, 88, 190, 895, 1, 1, 421, 758, 1, 1, 1, 770, 137, 1, 1, 1, 1, 1, 1, 1, 1, 1, 494, 1, 1, 1, 1, 1, 1, 1, 1, 1, 1, 1, 1, 1, 774, 1, 572, 272, 272, 1, 94, 355, 212, 845, 1, 1, 1, 785, 710, 228, 770, 11, 807, 1, 1, 1, 1, 1, 1, 551, 20, 244, 1, 551, 205, 692, 1, 356, 585, 1, 470, 1, 1, 170, 682, 594, 1, 170, 1, 1, 81, 533, 615, 755, 385, 406, 1, 276, 276, 349, 585, 1, 1, 1, 520, 892, 1, 895, 1, 606, 1, 1, 1, 364, 563, 364, 36, 111, 520, 1, 1, 1, 1, 1, 520, 1, 34, 1, 837, 34, 308, 1, 129, 1, 1, 30, 895, 1, 88, 1, 1, 1, 1, 1, 1, 1, 573, 1, 1, 1, 1, 1, 1, 1, 1, 1, 1, 1, 1, 1, 1, 1, 1, 1, 1, 1, 1, 1, 1, 1, 1, 1, 1, 1, 873, 836, 778, 690, 238, 759, 480, 1, 1, 1, 614, 753, 247, 698, 698, 137, 1, 1, 548, 1, 1, 550, 1, 11, 614, 79, 500, 162, 1, 1, 290, 151, 1, 349, 319, 1, 1, 150, 1, 1, 110, 320, 1, 51, 694, 518, 470, 594, 1, 594, 170, 170, 594, 1, 1, 400, 152, 432, 669, 211, 167, 1, 81, 678, 1, 1, 1, 1, 1, 504, 217, 1, 275, 585, 268, 563, 1, 1, 1, 1, 1, 1, 364, 403, 1, 1, 1, 1, 147, 520, 563, 622, 622, 520, 1, 1, 1, 10, 568, 1, 1, 579, 1, 604, 1, 631, 895, 1, 1, 88, 190, 1, 1, 1, 1, 1, 88, 1, 234, 42, 1, 1, 832, 1, 520, 1, 1, 1, 1, 1, 1, 1, 1, 1, 1, 1, 1, 1, 1, 1, 1, 1, 1, 1, 1, 755, 299, 1, 759, 759, 1, 662, 42, 486, 380, 247, 1, 693, 532, 548, 1, 548, 11, 11, 162, 1, 1, 1, 307, 175, 298, 1, 1, 16, 807, 1, 1, 1, 313, 1, 1, 6, 1, 1, 22, 378, 1, 1, 1, 683, 835, 1, 287, 788, 1, 405, 1, 1, 1, 1, 1, 1, 1, 1, 1, 1, 1, 547, 307, 861, 1, 1, 1, 1, 443, 861, 1, 268, 1, 275, 1, 1, 248, 1, 1, 1, 1, 863, 1, 1, 1, 1, 520, 834, 1, 1, 794, 1, 1, 88, 129, 154, 1, 1, 1, 190, 88, 368, 1, 652, 1, 1, 1, 1, 1, 1, 1, 1, 638, 1, 1, 1, 1, 1, 1, 1, 1, 1, 1, 1, 1, 1, 1, 1, 1, 1, 1, 1, 1, 1, 1, 1, 430, 1, 683, 180, 238, 322, 1, 842, 1, 1, 433, 1, 662, 662, 444, 807, 1, 1, 1, 466, 1, 580, 394, 53, 1, 754, 1, 386, 1, 1, 1, 548, 530, 1, 1, 885, 1, 1, 1, 1, 6, 1, 683, 411, 378, 835, 203, 356, 1, 1, 518, 1, 518, 1, 1, 130, 1, 130, 1, 1, 1, 682, 687, 682, 1, 1, 276, 1, 307, 1, 1, 1, 235, 233, 708, 1, 873, 268, 268, 168, 1, 319, 168, 678, 1, 1, 1, 845, 113, 520, 111, 1, 1, 1, 364, 275, 109, 147, 1, 1, 1, 1, 1, 616, 1, 111, 1, 88, 665, 129, 761, 1, 1, 31, 78, 758, 1, 1, 1, 1, 1, 1, 1, 1, 1, 1, 1, 1, 1, 1, 1, 1, 1, 1, 1, 1, 1, 1, 1, 1, 1, 1, 1, 6, 430, 52, 1, 430, 693, 518, 660, 317, 180, 572, 1, 1, 873, 1, 444, 877, 1, 653, 873, 1, 1, 455, 455, 1, 130, 22, 573, 256, 1, 11, 68, 805, 151, 269, 513, 286, 839, 290, 1, 1, 1, 1, 1, 668, 551, 1, 430, 874, 1, 1, 6, 1, 1, 1, 418, 1, 1, 1, 1, 3, 51, 1, 1, 1, 1, 874, 130, 1, 170, 682, 88, 682, 174, 1, 1, 1, 276, 190, 276, 307, 215, 1, 1, 408, 449, 217, 268, 168, 585, 1, 1, 318, 834, 109, 111, 520, 520, 520, 147, 275, 41, 109, 109, 400, 1, 1, 1, 1, 1, 1, 1, 1, 1, 1, 1, 1, 1, 1, 147, 736, 1, 1, 1, 794, 440, 749, 749, 1, 1, 1, 893, 1, 360, 790, 1, 1, 1, 837, 360, 861, 1, 1, 360, 1, 758, 758, 1, 1, 1, 1, 1, 1, 1, 1, 1, 1, 1, 1, 1, 1, 1, 1, 1, 1, 1, 1, 1, 1, 572, 22, 425, 238, 1, 42, 513, 1, 13, 1, 1, 1, 1, 355, 455, 807, 1, 1, 1, 622, 1, 1, 250, 1, 845, 430, 175, 290, 290, 286, 1, 1, 1, 1, 1, 361, 1, 1, 1, 298, 1, 1, 668, 396, 1, 1, 189, 1, 1, 1, 1, 313, 411, 1, 356, 398, 1, 1, 1, 1, 1, 1, 1, 261, 720, 810, 1, 1, 1, 1, 456, 170, 1, 276, 307, 276, 1, 1, 713, 268, 268, 30, 1, 1, 520, 520, 520, 497, 834, 563, 364, 1, 1, 1, 1, 1, 520, 109, 1, 1, 1, 1, 749, 1, 1, 1, 38, 30, 837, 88, 1, 1, 1, 1, 30, 1, 154, 120, 1, 78, 638, 433, 1, 1, 1, 1, 1, 1, 1, 1, 1, 1, 1, 1, 1, 1, 1, 1, 1, 1, 1, 1, 1, 1, 1, 1, 1, 1, 1, 1, 1, 1, 1, 1, 1, 1, 1, 1, 430, 6, 1, 176, 753, 759, 367, 1, 403, 88, 616, 1, 585, 1, 1, 355, 622, 1, 256, 212, 698, 392, 845, 383, 1, 1, 162, 1, 168, 320, 290, 1, 754, 214, 175, 307, 1, 572, 1, 1, 1, 1, 1, 668, 1, 189, 245, 6, 1, 1, 356, 356, 585, 683, 1, 215, 1, 260, 260, 1, 1, 518, 1, 1, 1, 1, 1, 682, 1, 170, 1, 170, 1, 855, 276, 276, 1, 276, 1, 1, 670, 504, 1, 1, 443, 1, 1, 268, 109, 834, 147, 1, 834, 1, 1, 1, 1, 1, 1, 1, 364, 364, 622, 1, 325, 568, 1, 440, 154, 1, 308, 308, 483, 212, 1, 1, 1, 1, 543, 360, 1, 1, 1, 1, 1, 360, 88, 1, 579, 440, 1, 1, 573, 1, 758, 1, 1, 1, 1, 1, 1, 1, 1, 1, 1, 1, 1, 1, 1, 1, 1, 1, 683, 480, 518, 1, 1, 541, 1, 1, 1, 1, 1, 1, 750, 60, 162, 1, 1, 1, 754, 754, 1, 518, 1, 269, 1, 1, 1, 298, 1, 1, 1, 313, 590, 1, 1, 1, 1, 1, 110, 1, 560, 240, 518, 1, 1, 1, 1, 385, 1, 1, 594, 1, 1, 1, 1, 170, 170, 1, 547, 572, 678, 742, 1, 585, 483, 1, 1, 616, 268, 1, 1, 1, 400, 520, 622, 126, 111, 834, 1, 1, 1, 1, 109, 1, 1, 892, 834, 1, 122, 147, 1, 1, 1, 1, 109, 1, 574, 148, 1, 837, 1, 1, 490, 1, 1, 1, 1, 1, 1, 1, 1, 1, 1, 1, 1, 1, 1, 1, 1, 1, 1, 1, 1, 1, 1, 1, 1, 1, 1, 1, 1, 1, 1, 1, 780, 1, 62, 238, 681, 1, 1, 1, 1, 1, 1, 1, 355, 698, 300, 1, 212, 670, 466, 1, 555, 290, 151, 269, 1, 1, 1, 290, 772, 1, 720, 1, 1, 1, 689, 1, 1, 1, 215, 1, 210, 1, 227, 356, 51, 1, 1, 401, 130, 1, 1, 682, 1, 147, 400, 400, 682, 1, 1, 1, 1, 500, 1, 679, 307, 1, 1, 1, 1, 109, 1, 233, 1, 1, 147, 1, 1, 1, 1, 1, 1, 520, 1, 1, 863, 520, 1, 1, 736, 250, 263, 1, 1, 1, 1, 282, 34, 1, 79, 79, 1, 79, 266, 266, 91, 107, 667, 1, 1, 1, 1, 1, 1, 1, 1, 1, 1, 1, 1, 141, 1, 1, 1, 1, 1, 1, 1, 1, 1, 1, 1, 1, 1, 1, 1, 1, 1, 1, 1, 1, 1, 1, 1, 1, 1, 549, 1, 1, 1, 572, 759, 469, 1, 1, 753, 247, 1, 1, 585, 1, 162, 779, 151, 1, 1, 1, 1, 807, 1, 1, 53, 1, 1, 313, 1, 1, 1, 1, 1, 835, 720, 1, 1, 1, 1, 405, 1, 170, 170, 1, 170, 1, 1, 1, 1, 1, 51, 1, 1, 276, 235, 168, 1, 1, 1, 1, 1, 1, 1, 1, 364, 847, 1, 1, 1, 2, 1, 686, 1, 120, 475, 1, 411, 615, 1, 120, 890, 1, 1, 1, 1, 1, 1, 1, 1, 1, 1, 1, 1, 1, 1, 1, 1, 1, 754, 1, 1, 1, 1, 531, 753, 1, 444, 88, 446, 614, 1, 1, 1, 1, 1, 1, 1, 256, 11, 400, 60, 750, 807, 466, 419, 555, 740, 320, 307, 269, 754, 506, 718, 815, 899, 1, 307, 1, 872, 298, 1, 1, 847, 1, 1, 1, 1, 313, 1, 1, 1, 1, 1, 1, 1, 810, 1, 1, 1, 261, 1, 1, 1, 1, 1, 1, 1, 1, 1, 1, 1, 1, 276, 679, 679, 81, 1, 1, 215, 1, 1, 226, 1, 1, 109, 892, 1, 1, 1, 1, 736, 1, 798, 1, 1, 604, 79, 51, 1, 1, 1, 1, 1, 1, 1, 147, 1, 360, 1, 1, 1, 1, 1, 1, 1, 1, 1, 1, 1, 1, 1, 1, 1, 1, 1, 1, 1, 1, 688, 688, 1, 1, 1, 1, 1, 1, 1, 753, 1, 753, 1, 380, 548, 137, 1, 228, 1, 1, 1, 570, 675, 1, 1, 269, 799, 754, 307, 1, 50, 1, 1, 132, 1, 1, 1, 1, 573, 1, 1, 1, 51, 399, 215, 835, 835, 378, 1, 1, 1, 1, 1, 1, 1, 1, 1, 1, 1, 572, 276, 276, 823, 1, 418, 1, 1, 1, 1, 1, 1, 364, 109, 1, 1, 1, 1, 1, 1, 1, 834, 1, 147, 364, 1, 1, 1, 1, 1, 250, 1, 1, 1, 615, 1, 1, 88, 1, 631, 154, 154, 88, 1, 1, 1, 638, 1, 1, 1, 1, 758, 1, 1, 1, 1, 1, 1, 1, 1, 1, 1, 1, 1, 1, 1, 1, 1, 1, 1, 1, 1, 1, 244, 1, 683, 1, 296, 238, 806, 776, 1, 486, 1, 1, 444, 614, 247, 513, 212, 1, 1, 1, 1, 1, 1, 1, 350, 1, 1, 675, 1, 1, 555, 1, 754, 843, 754, 290, 1, 1, 175, 151, 396, 306, 650, 245, 1, 1, 1, 1, 1, 1, 711, 689, 1, 1, 560, 1, 1, 1, 1, 1, 1, 1, 1, 1, 1, 1, 167, 81, 81, 81, 276, 1, 1, 319, 349, 585, 1, 168, 671, 616, 1, 1, 520, 1, 1, 1, 1, 1, 736, 1, 1, 1, 111, 520, 1, 895, 1, 520, 1, 109, 147, 1, 1, 1, 1, 1, 1, 760, 790, 761, 1, 1, 1, 1, 380, 1, 360, 1, 308, 1, 142, 887, 1, 634, 1, 1, 758, 1, 1, 1, 1, 1, 1, 1, 1, 1, 1, 1, 1, 1, 1, 1, 1, 1, 1, 1, 1, 1, 1, 238, 1, 1, 1, 150, 753, 698, 1, 698, 60, 1, 238, 1, 417, 1, 68, 286, 288, 307, 851, 269, 45, 298, 298, 1, 1, 707, 1, 1, 1, 1, 1, 1, 1, 835, 683, 1, 498, 820, 1, 1, 518, 1, 470, 1, 1, 1, 1, 1, 1, 81, 276, 679, 679, 1, 547, 1, 1, 110, 217, 520, 1, 168, 1, 1, 250, 400, 1, 1, 122, 895, 1, 1, 1, 1, 1, 1, 111, 1, 306, 823, 1, 1, 524, 1, 1, 266, 1, 1, 1, 88, 1, 1, 1, 1, 45, 1, 1, 758, 1, 1, 1, 1, 1, 1, 1, 1, 296, 1, 1, 1, 1, 1, 1, 1, 1, 1, 1, 1, 1, 1, 1, 1, 1, 1, 1, 1, 6, 670, 1, 1, 244, 1, 1, 455, 1, 183, 1, 1, 1, 592, 1, 392, 693, 1, 1, 660, 843, 875, 1, 1, 1, 1, 1, 1, 189, 1, 1, 1, 1, 1, 720, 720, 1, 699, 1, 1, 838, 1, 1, 1, 1, 498, 1, 1, 1, 400, 687, 1, 687, 682, 400, 572, 1, 276, 81, 1, 547, 1, 1, 124, 1, 1, 555, 520, 616, 109, 1, 1, 1, 1, 895, 1, 892, 1, 1, 1, 111, 1, 1, 250, 263, 1, 320, 1, 1, 1, 440, 310, 1, 1, 2, 45, 1, 1, 1, 1, 649, 667, 266, 296, 1, 1, 1, 1, 1, 1, 1, 1, 1, 1, 1, 1, 1, 1, 430, 1, 1, 430, 693, 507, 1, 1, 572, 238, 808, 614, 614, 513, 433, 1, 1, 1, 1, 517, 397, 548, 548, 1, 548, 1, 1, 11, 1, 1, 11, 570, 1, 228, 807, 660, 500, 1, 1, 402, 175, 1, 1, 1, 16, 1, 1, 396, 279, 245, 318, 798, 555, 58, 1, 1, 1, 313, 1, 1, 1, 6, 1, 1, 227, 838, 838, 835, 207, 835, 1, 1, 1, 498, 720, 1, 1, 1, 1, 1, 1, 1, 170, 1, 1, 1, 276, 1, 81, 1, 1, 1, 702, 1, 1, 411, 307, 307, 1, 520, 1, 1, 834, 1, 1, 1, 520, 1, 563, 233, 1, 520, 1, 1, 275, 1, 834, 520, 1, 1, 1, 174, 1, 1, 1, 1, 1, 1, 1, 81, 1, 530, 430, 319, 1, 1, 1, 1, 1, 1, 1, 486, 1, 430, 1, 308, 1, 109, 1, 1, 1, 498, 1, 1, 1, 1, 1, 269, 147, 837, 356, 1, 1, 1, 1, 1, 1, 1, 516, 759, 299, 899, 650, 47, 697, 1, 1, 1, 1, 283, 377, 1, 380, 1, 1, 787, 1, 1, 1, 1, 1, 1, 1, 206, 10, 835, 1, 1, 1, 1, 1, 1, 1, 1, 20, 1, 1, 1, 759, 1, 1, 264, 109, 754, 1, 1, 1, 1, 308, 1, 1, 397, 1, 1, 1, 1, 1, 1, 1, 1, 1, 1, 175, 1, 120, 181, 547, 1, 1, 520, 573, 1, 1, 122, 400, 1, 1, 1, 1, 1, 1, 1, 1, 1, 1, 1, 771, 1, 1, 1, 356, 1, 1, 1, 1, 1, 1, 1, 45, 1, 1, 743, 207, 269, 1, 1, 1, 25, 1, 1, 1, 1, 1, 442, 189, 276, 1, 269, 1, 838, 79, 1, 1, 1, 1, 1, 759, 1, 1, 1, 815, 430, 576, 807, 838, 1, 238, 1, 1, 1, 504, 1, 1, 279, 1, 551, 547, 1, 1, 759, 1, 1, 547, 573, 1, 585, 1, 736, 828, 250, 1, 1, 513, 1, 807, 1, 1, 585, 1, 1, 1, 1, 520, 1, 1, 1, 604, 1, 1, 1, 1, 1, 1, 276, 1, 1, 88, 707, 1, 1, 777, 1, 1, 1, 1, 777, 1, 276, 1, 686, 1, 1, 360, 1, 1, 1, 1, 585, 1, 1, 1, 520, 1, 1, 1, 111, 1, 755, 386, 411, 1, 645, 1, 1, 520, 307, 1, 1, 1, 1, 1, 1, 1, 1, 1, 1, 266, 1, 1, 1, 1, 1, 1, 469, 1, 473, 1, 1, 1, 1, 1, 547, 1, 1, 1, 1, 1, 1, 1, 1, 1, 834, 1, 760, 1, 1, 1, 1, 1, 1, 1, 1, 1, 615, 1, 615, 1, 572, 190, 189, 400, 1, 1, 520, 660, 1, 13, 1, 42, 1, 1, 1, 1, 170, 1, 1, 1, 1, 1, 400, 1, 470, 1, 759, 1, 1, 1, 1, 1, 1, 1, 1, 1, 286, 808, 524, 109, 396, 1, 1, 616, 1, 1, 1, 1, 685, 1, 1, 679, 1, 1, 1, 838, 1, 260, 1, 1, 473, 638, 360, 238, 1, 837, 473, 397, 1, 1, 11, 560, 1, 1, 1, 1, 1, 1, 11, 1, 1, 1, 1, 1, 1, 1, 777, 1, 1, 1, 1, 1, 1, 1, 189, 517, 1, 1, 40, 1, 758, 147, 1, 1, 1, 1, 834, 1, 517, 1, 1, 758, 244, 1, 615, 1, 679, 212, 125, 266, 1, 1, 1, 664, 1, 1, 1, 758, 1, 1, 1, 1, 1, 1, 1, 1, 1, 1, 1, 1, 1, 1, 1, 1, 1, 1, 1, 1, 1, 1, 1, 1, 1, 1, 1, 1, 1, 1, 1, 1, 1, 1, 1, 1, 1, 176, 1, 1, 176, 238, 29, 1, 1, 1, 1, 1, 417, 1, 1, 1, 1, 1, 899, 290, 290, 1, 1, 1, 1, 1, 1, 1, 707, 1, 1, 1, 378, 1, 405, 1, 498, 874, 1, 1, 1, 1, 170, 1, 1, 1, 170, 1, 170, 1, 1, 1, 1, 1, 755, 1, 1, 443, 1, 1, 1, 1, 890, 147, 109, 1, 1, 1, 834, 147, 1, 1, 1, 315, 1, 250, 591, 355, 1, 381, 1, 125, 1, 1, 1, 698, 548, 821, 1, 1, 175, 615, 430, 1, 320, 377, 800, 1, 1, 1, 861, 284, 1, 1, 1, 31, 313, 895, 756, 1, 78, 1, 1, 1, 1, 1, 1, 1, 1, 1, 1, 244, 13, 777, 256, 455, 178, 162, 815, 740, 851, 183, 175, 1, 1, 318, 689, 1, 1, 594, 1, 1, 1, 861, 1, 148, 1, 1, 1, 147, 111, 111, 109, 834, 1, 1, 109, 147, 592, 615, 686, 142, 361, 1, 1, 1, 1, 1, 1, 1, 1, 1, 1, 1, 1, 1, 1, 1, 1, 1, 430, 433, 272, 88, 541, 524, 1, 570, 815, 878, 394, 1, 1, 1, 555, 1, 1, 170, 1, 1, 1, 689, 655, 1, 268, 449, 1, 411, 275, 1, 1, 1, 1, 1, 895, 1, 20, 1, 377, 122, 1, 1, 599, 1, 1, 360, 282, 38, 670, 1, 1, 1, 88, 266, 142, 1, 1, 1, 1, 1, 1, 1, 1, 1, 1, 1, 1, 1, 1, 1, 1, 1, 1, 1, 1, 1, 1, 1, 541, 174, 1, 807, 532, 698, 182, 349, 293, 513, 438, 6, 279, 189, 318, 1, 693, 405, 1, 498, 405, 1, 1, 1, 547, 1, 615, 307, 1, 1, 585, 834, 834, 834, 563, 1, 1, 1, 1, 109, 111, 579, 887, 1, 1, 1, 789, 1, 129, 1, 1, 1, 1, 1, 1, 1, 1, 1, 1, 1, 380, 1, 442, 753, 807, 1, 178, 168, 899, 320, 290, 307, 307, 899, 1, 1, 1, 1, 1, 318, 1, 755, 268, 1, 1, 1, 520, 1, 1, 1, 1, 807, 885, 656, 1, 1, 615, 88, 21, 425, 212, 282, 1, 1, 1, 1, 1, 1, 1, 1, 1, 1, 473, 238, 861, 238, 444, 532, 807, 760, 1, 68, 1, 279, 307, 1, 1, 1, 1, 272, 1, 1, 1, 1, 440, 1, 572, 229, 1, 432, 81, 547, 1, 702, 275, 1, 892, 1, 41, 1, 1, 111, 111, 109, 1, 1, 65, 282, 679, 129, 647, 615, 754, 1, 1, 1, 1, 1, 1, 1, 1, 1, 1, 1, 1, 1, 1, 1, 1, 1, 430, 759, 455, 299, 653, 42, 1, 256, 212, 698, 269, 269, 132, 668, 1, 1, 401, 440, 1, 1, 1, 276, 110, 1, 520, 1, 1, 1, 130, 1, 819, 615, 79, 1, 154, 1, 361, 361, 1, 78, 685, 1, 1, 1, 1, 1, 1, 1, 1, 1, 1, 1, 1, 1, 1, 1, 1, 657, 430, 1, 1, 1, 176, 380, 777, 777, 1, 548, 573, 1, 754, 269, 1, 758, 349, 1, 1, 498, 518, 1, 1, 1, 170, 81, 79, 235, 349, 268, 111, 147, 1, 1, 31, 172, 1, 1, 887, 1, 1, 1, 1, 1, 1, 1, 1, 1, 1, 1, 1, 1, 1, 654, 380, 1, 653, 1, 355, 212, 551, 20, 1, 288, 1, 1, 874, 498, 130, 594, 1, 470, 1, 1, 1, 1, 1, 1, 81, 1, 1, 111, 1, 1, 1, 1, 1, 1, 1, 1, 1, 1, 1, 1, 837, 154, 282, 1, 607, 42, 79, 893, 1, 1, 1, 1, 1, 1, 1, 683, 238, 380, 444, 1, 174, 88, 573, 473, 100, 1, 1, 686, 686, 269, 862, 1, 483, 307, 662, 797, 1, 1, 1, 6, 835, 378, 1, 594, 1, 1, 547, 755, 717, 473, 268, 268, 319, 520, 834, 834, 520, 1, 622, 834, 1, 1, 364, 1, 520, 1, 520, 606, 1, 1, 322, 1, 266, 1, 315, 1, 604, 42, 1, 667, 1, 1, 1, 1, 1, 1, 1, 1, 1, 1, 1, 1, 1, 1, 1, 1, 1, 1, 1, 1, 759, 142, 1, 11, 1, 466, 1, 1, 570, 754, 175, 645, 1, 615, 1, 1, 313, 356, 1, 1, 1, 1, 470, 1, 1, 1, 1, 547, 770, 1, 1, 283, 1, 275, 1, 895, 20, 1, 111, 1, 834, 835, 1, 1, 789, 1, 197, 172, 2, 1, 1, 1, 1, 1, 1, 296, 1, 1, 1, 1, 1, 1, 1, 1, 1, 1, 1, 1, 1, 759, 516, 380, 877, 1, 614, 486, 88, 1, 517, 473, 770, 295, 13, 1, 162, 269, 269, 286, 785, 754, 279, 1, 306, 359, 1, 1, 1, 689, 356, 838, 260, 1, 356, 1, 1, 130, 170, 755, 276, 549, 276, 276, 1, 1, 1, 1, 1, 411, 1, 1, 1, 1, 111, 520, 364, 111, 109, 520, 400, 306, 892, 834, 111, 111, 1, 1, 1, 137, 1, 266, 1, 1, 1, 1, 1, 1, 1, 88, 1, 44, 656, 1, 1, 1, 1, 1, 78, 1, 1, 1, 1, 1, 1, 1, 1, 1, 1, 1, 1, 1, 1, 1, 444, 541, 1, 13, 513, 867, 256, 1, 698, 355, 1, 22, 1, 1, 875, 754, 799, 438, 1, 551, 668, 298, 1, 1, 1, 356, 378, 356, 1, 498, 594, 1, 682, 318, 170, 1, 1, 406, 1, 215, 1, 1, 217, 1, 1, 109, 834, 1, 1, 233, 834, 130, 1, 1, 1, 400, 1, 828, 1, 500, 1, 690, 1, 1, 250, 154, 1, 145, 313, 209, 1, 142, 1, 1, 1, 1, 1, 1, 433, 1, 1, 1, 1, 1, 1, 1, 1, 1, 1, 1, 1, 1, 1, 1, 1, 1, 1, 244, 759, 1, 380, 662, 272, 1, 355, 100, 1, 455, 743, 698, 1, 1, 189, 307, 791, 1, 1, 1, 855, 874, 1, 1, 1, 573, 1, 720, 1, 1, 1, 1, 401, 1, 1, 682, 1, 170, 1, 170, 1, 1, 385, 655, 615, 1, 1, 319, 307, 520, 1, 520, 109, 147, 520, 1, 1, 1, 88, 1, 1, 1, 1, 1, 1, 1, 266, 360, 615, 667, 736, 756, 756, 809, 837, 1, 1, 296, 1, 1, 1, 1, 1, 1, 1, 1, 1, 1, 1, 1, 1, 1, 1, 1, 1, 1, 185, 469, 572, 1, 1, 1, 1, 13, 13, 174, 614, 777, 592, 22, 110, 212, 698, 1, 1, 130, 130, 1, 392, 455, 1, 573, 698, 1, 68, 162, 182, 555, 672, 290, 320, 394, 513, 754, 1, 1, 551, 551, 78, 1, 1, 1, 1, 1, 835, 1, 19, 356, 411, 411, 1, 1, 1, 1, 670, 1, 470, 594, 170, 400, 687, 1, 1, 1, 276, 215, 1, 1, 1, 217, 349, 585, 585, 861, 834, 1, 1, 1, 20, 147, 147, 520, 520, 1, 1, 1, 1, 667, 1, 1, 88, 1, 440, 440, 1, 1, 837, 59, 266, 604, 638, 1, 1, 1, 1, 1, 1, 1, 1, 1, 1, 1, 1, 1, 1, 1, 1, 1, 1, 1, 1, 1, 430, 1, 1, 1, 759, 1, 1, 1, 1, 541, 873, 1, 380, 1, 653, 380, 380, 1, 205, 130, 1, 573, 13, 1, 1, 555, 1, 1, 1, 394, 269, 1, 306, 524, 847, 1, 1, 694, 835, 203, 224, 1, 356, 1, 172, 1, 1, 1, 170, 456, 1, 101, 397, 77, 575, 1, 1, 215, 1, 226, 268, 1, 1, 854, 268, 1, 1, 1, 1, 126, 1, 1, 1, 834, 318, 823, 364, 1, 1, 794, 568, 1, 88, 1, 1, 1, 1, 1, 1, 679, 758, 758, 1, 1, 1, 1, 1, 1, 1, 1, 1, 1, 1, 836, 1, 1, 1, 836, 1, 296, 690, 806, 572, 322, 1, 495, 610, 1, 693, 573, 585, 517, 228, 1, 1, 1, 307, 1, 843, 260, 754, 53, 151, 151, 1, 245, 1, 1, 318, 1, 1, 1, 1, 210, 1, 1, 1, 835, 1, 1, 1, 1, 1, 1, 1, 594, 1, 1, 594, 682, 1, 344, 1, 1, 655, 1, 276, 276, 823, 235, 1, 1, 585, 675, 217, 678, 1, 834, 1, 1, 111, 834, 828, 1, 1, 248, 1, 1, 275, 1, 1, 1, 325, 51, 649, 670, 1, 1, 31, 1, 266, 1, 1, 558, 758, 758, 1, 1, 1, 1, 1, 1, 1, 1, 1, 1, 1, 1, 1, 430, 798, 572, 759, 1, 1, 1, 513, 110, 1, 238, 710, 660, 855, 678, 660, 307, 1, 290, 1, 740, 660, 16, 378, 660, 30, 1, 226, 1, 1, 786, 693, 560, 1, 835, 378, 1, 1, 594, 1, 318, 1, 1, 1, 1, 689, 1, 713, 349, 1, 1, 675, 854, 1, 130, 1, 1, 122, 606, 520, 834, 749, 1, 1, 360, 45, 1, 425, 1, 1, 1, 679, 1, 1, 154, 1, 1, 1, 1, 1, 1, 1, 758, 1, 1, 638, 1, 1, 1, 1, 1, 1, 1, 1, 1, 1, 1, 1, 1, 1, 1, 1, 1, 188, 1, 1, 1, 1, 1, 837, 832, 1, 1, 1, 1, 1, 1, 110, 290, 175, 1, 350, 555, 1, 120, 1, 40, 258, 307, 885, 200, 396, 551, 548, 1, 1, 555, 226, 1, 203, 110, 687, 683, 411, 109, 820, 1, 1, 318, 318, 170, 547, 1, 1, 1, 1, 1, 276, 307, 1, 547, 702, 1, 1, 1, 109, 1, 1, 147, 111, 1, 1, 111, 318, 109, 250, 503, 266, 1, 1, 585, 134, 1, 1, 736, 895, 31, 790, 1, 1, 360, 1, 266, 1, 1, 113, 1, 1, 638, 1, 1, 520, 1, 1, 1, 1, 1, 1, 1, 1, 1, 1, 1, 1, 1, 1, 1, 1, 1, 1, 1, 1, 1, 1, 1, 1, 1, 1, 836, 1, 690, 1, 614, 513, 380, 1, 1, 1, 1, 1, 1, 22, 137, 1, 899, 1, 875, 377, 754, 1, 1, 1, 1, 20, 1, 551, 1, 318, 1, 1, 313, 1, 1, 788, 1, 1, 498, 498, 405, 261, 1, 1, 1, 401, 1, 130, 470, 1, 1, 229, 742, 1, 1, 585, 1, 1, 1, 1, 130, 1, 1, 1, 109, 109, 622, 834, 147, 1, 1, 1, 1, 361, 1, 360, 101, 360, 250, 679, 360, 861, 31, 1, 1, 1, 1, 1, 1, 1, 1, 1, 1, 1, 1, 1, 1, 1, 1, 1, 1, 1, 894, 322, 759, 1, 1, 1, 380, 1, 1, 1, 610, 256, 807, 355, 770, 419, 189, 189, 875, 175, 1, 1, 513, 1, 551, 807, 551, 807, 26, 6, 551, 1, 430, 430, 1, 1, 1, 980, 313, 1, 1, 1, 518, 261, 1, 130, 1, 1, 1, 1, 1, 547, 179, 1, 432, 276, 1, 547, 771, 268, 1, 1, 1, 895, 622, 520, 1, 1, 1, 1, 1, 1, 568, 1, 592, 30, 579, 45, 361, 154, 266, 34, 761, 154, 266, 1, 1, 1, 250, 638, 137, 1, 1, 758, 1, 1, 1, 1, 1, 1, 1, 1, 1, 1, 1, 1, 1, 1, 1, 1, 1, 1, 1, 1, 1, 1, 1, 1, 1, 1, 1, 1, 1, 572, 276, 790, 537, 1, 1, 1, 877, 1, 1, 513, 662, 592, 355, 473, 22, 1, 1, 1, 417, 555, 473, 386, 290, 1, 1, 1, 1, 689, 1, 1, 678, 1, 518, 1, 1, 1, 1, 470, 1, 1, 170, 88, 500, 276, 1, 1, 861, 1, 217, 268, 275, 1, 124, 1, 563, 520, 275, 400, 1, 1, 1, 520, 1, 1, 1, 325, 591, 42, 1, 1, 1, 55, 361, 101, 1, 1, 1, 1, 421, 1, 1, 1, 1, 1, 1, 1, 1, 1, 1, 1, 1, 1, 1, 1, 1, 1, 1, 1, 1, 836, 516, 1, 1, 1, 662, 380, 380, 662, 410, 94, 212, 355, 13, 1, 162, 189, 1, 1, 1, 245, 430, 535, 269, 1, 530, 524, 279, 205, 1, 245, 245, 1, 210, 835, 885, 1, 498, 1, 1, 1, 1, 1, 594, 1, 400, 1, 235, 679, 572, 1, 276, 547, 283, 349, 1, 861, 1, 483, 268, 834, 1, 130, 823, 1, 1, 1, 1, 1, 1, 1, 1, 1, 1, 1, 1, 1, 1, 129, 284, 1, 1, 1, 360, 1, 1, 1, 1, 1, 1, 1, 758, 1, 1, 1, 1, 1, 1, 1, 1, 1, 1, 1, 1, 1, 1, 1, 1, 1, 1, 1, 1, 1, 1, 1, 1, 1, 873, 1, 753, 761, 90, 1, 1, 444, 42, 1, 777, 662, 256, 698, 622, 130, 22, 1, 698, 1, 182, 1, 320, 1, 754, 867, 1, 372, 875, 899, 1, 524, 551, 306, 1, 1, 1, 1, 1, 313, 1, 83, 1, 356, 110, 573, 1, 383, 1, 594, 456, 679, 81, 867, 1, 1, 449, 226, 1, 109, 111, 306, 233, 1, 1, 1, 1, 1, 1, 736, 1, 266, 1, 1, 1, 887, 756, 543, 79, 1, 368, 1, 212, 266, 1, 1, 573, 1, 296, 436, 1, 1, 1, 1, 1, 1, 1, 1, 1, 1, 1, 1, 1, 1, 1, 1, 1, 1, 1, 1, 1, 1, 430, 1, 430, 1, 759, 176, 759, 380, 1, 1, 777, 205, 610, 212, 142, 1, 130, 698, 256, 295, 1, 660, 1, 535, 572, 181, 754, 899, 386, 1, 426, 754, 551, 1, 577, 313, 1, 313, 577, 1, 1, 1, 560, 1, 356, 1, 1, 506, 356, 356, 1, 1, 1, 245, 518, 1, 470, 170, 1, 245, 276, 1, 215, 1, 349, 1, 1, 268, 283, 585, 1, 1, 109, 1, 1, 1, 1, 41, 1, 1, 563, 250, 250, 1, 1, 1, 1, 1, 1, 615, 1, 1, 88, 631, 88, 1, 266, 579, 591, 1, 1, 1, 1, 1, 1, 1, 1, 1, 1, 1, 1, 1, 1, 1, 1, 1, 1, 1, 1, 430, 1, 1, 245, 683, 1, 1, 1, 1, 238, 13, 1, 1, 777, 380, 473, 693, 1, 455, 1, 513, 1, 11, 32, 1, 189, 1, 269, 1, 258, 754, 307, 1, 807, 847, 430, 1, 245, 1, 189, 1, 1, 1, 1, 1, 788, 1, 317, 1, 1, 1, 498, 1, 520, 1, 1, 1, 682, 1, 1, 1, 1, 1, 1, 861, 81, 276, 1, 742, 1, 1, 1, 1, 520, 1, 1, 1, 834, 1, 147, 520, 834, 736, 250, 1, 1, 579, 45, 101, 266, 1, 1, 649, 1, 45, 1, 1, 88, 490, 78, 1, 1, 1, 1, 1, 1, 1, 1, 1, 1, 1, 1, 1, 1, 1, 1, 1, 1, 1, 1, 52, 654, 774, 572, 646, 753, 572, 572, 1, 524, 1, 247, 1, 1, 60, 1, 1, 1, 1, 1, 175, 402, 286, 1, 386, 1, 1, 1, 1, 551, 668, 1, 1, 245, 1, 1, 1, 215, 835, 699, 585, 356, 1, 399, 1, 1, 190, 470, 1, 1, 1, 1, 594, 1, 318, 1, 547, 307, 1, 268, 168, 168, 275, 1, 200, 616, 1, 1, 736, 1, 1, 1, 1, 1, 1, 736, 1, 1, 55, 1, 665, 88, 1, 129, 1, 42, 837, 1, 154, 148, 45, 1, 172, 1, 1, 1, 1, 1, 558, 1, 1, 1, 1, 1, 1, 1, 1, 1, 1, 1, 1, 1, 1, 1, 1, 1, 1, 1, 1, 1, 1, 52, 688, 1, 1, 1, 822, 1, 238, 480, 183, 13, 1, 1, 1, 247, 1, 355, 1, 1, 1, 417, 189, 466, 1, 1, 307, 312, 297, 1, 1, 269, 551, 132, 20, 1, 430, 1, 703, 1, 1, 1, 680, 1, 287, 1, 1, 356, 356, 1, 1, 1, 518, 1, 1, 130, 1, 687, 1, 170, 1, 170, 1, 307, 101, 1, 81, 1, 276, 169, 81, 276, 669, 1, 1, 1, 443, 449, 1, 1, 411, 1, 250, 1, 1, 1, 1, 1, 736, 1, 1, 1, 1, 794, 65, 591, 1, 250, 571, 1, 318, 656, 837, 1, 1, 475, 1, 1, 45, 376, 758, 520, 1, 1, 1, 1, 1, 1, 1, 1, 1, 1, 1, 1, 754, 1, 1, 1, 1, 433, 1, 1, 1, 572, 1, 1, 176, 1, 1, 1, 256, 1, 1, 517, 1, 1, 517, 1, 807, 466, 419, 670, 290, 279, 175, 307, 1, 668, 668, 650, 288, 720, 58, 1, 1, 1, 203, 399, 1, 1, 1, 261, 1, 518, 1, 130, 1, 1, 1, 1, 682, 1, 682, 1, 276, 1, 713, 1, 1, 1, 1, 168, 283, 168, 675, 1, 1, 1, 275, 1, 520, 1, 520, 147, 1, 1, 1, 1, 1, 1, 1, 1, 1, 237, 1, 266, 376, 1, 129, 42, 1, 1, 1, 1, 638, 372, 1, 1, 1, 1, 1, 1, 1, 1, 1, 1, 1, 244, 1, 1, 1, 1, 1, 1, 1, 1, 247, 1, 256, 1, 1, 1, 1, 1, 466, 417, 1, 1, 1, 1, 1, 394, 290, 386, 845, 754, 378, 1, 1, 1, 1, 1, 506, 1, 1, 1, 1, 594, 1, 1, 687, 1, 1, 1, 755, 432, 1, 168, 1, 268, 834, 1, 36, 892, 1, 1, 1, 109, 1, 1, 1, 1, 1, 1, 88, 376, 1, 1, 1, 209, 390, 1, 1, 1, 679, 1, 1, 1, 1, 758, 1, 1, 1, 1, 1, 1, 1, 1, 1, 1, 1, 1, 1, 1, 1, 1, 1, 1, 1, 1, 322, 759, 1, 1, 1, 455, 1, 1, 256, 1, 698, 1, 130, 548, 1, 228, 1, 1, 1, 1, 570, 660, 1, 885, 1, 290, 1, 1, 754, 1, 1, 161, 798, 1, 551, 1, 1, 1, 1, 1, 51, 1, 356, 227, 1, 1, 1, 518, 1, 1, 1, 1, 1, 1, 276, 276, 1, 547, 276, 432, 823, 563, 1, 1, 1, 1, 1, 520, 1, 1, 1, 834, 1, 1, 520, 834, 1, 147, 1, 834, 1, 1, 1, 520, 828, 895, 147, 892, 1, 834, 834, 736, 759, 88, 1, 360, 837, 1, 1, 1, 31, 1, 837, 1, 1, 360, 1, 1, 433, 1, 1, 1, 1, 1, 1, 1, 1, 1, 1, 1, 1, 1, 1, 1, 1, 1, 1, 1, 1, 1, 1, 1, 1, 1, 1, 1, 430, 238, 1, 238, 1, 1, 1, 1, 88, 1, 807, 1, 1, 1, 11, 1, 1, 1, 1, 513, 1, 290, 40, 843, 1, 359, 615, 16, 1, 1, 551, 1, 1, 1, 313, 590, 313, 1, 411, 685, 36, 835, 720, 1, 1, 3, 1, 1, 594, 1, 1, 755, 276, 276, 1, 1, 1, 1, 1, 217, 1, 1, 1, 1, 1, 1, 834, 834, 1, 1, 520, 1, 1, 1, 520, 1, 1, 1, 892, 248, 1, 248, 1, 1, 1, 1, 139, 430, 865, 1, 1, 1, 212, 788, 1, 599, 1, 1, 1, 1, 604, 1, 1, 1, 1, 1, 1, 396, 1, 1, 1, 1, 1, 1, 130, 1, 638, 1, 1, 401, 1, 551, 1, 1, 1, 615, 1, 1, 1, 1, 1, 1, 1, 215, 1, 1, 1, 147, 520, 1, 1, 1, 109, 1, 1, 1, 1, 504, 209, 551, 1, 1, 377, 668, 22, 1, 1, 1, 807, 1, 1, 1, 1, 268, 1, 1, 1, 1, 1, 313, 1, 1, 1, 1, 1, 1, 1, 1, 1, 1, 298, 1, 1, 276, 1, 736, 1, 1, 1, 1, 1, 520, 1, 1, 878, 1, 1, 1, 551, 547, 1, 1, 210, 807, 551, 743, 1, 1, 307, 1, 1, 1, 1, 1, 1, 1, 1, 1, 1, 1, 1, 1, 1, 88, 1, 1, 670, 1, 25, 1, 1, 386, 1, 411, 162, 1, 1, 1, 378, 520, 380, 1, 1, 1, 834, 1, 470, 1, 550, 1, 1, 1, 1, 1, 1, 1, 1, 189, 1, 1, 1, 269, 1, 511, 1, 1, 1, 1, 1, 1, 1, 672, 367, 1, 1, 1, 1, 1, 670, 400, 1, 1, 1, 147, 1, 530, 1, 1, 1, 1, 1, 1, 1, 1, 679, 647, 834, 1, 1, 689, 250, 1, 1, 1, 758, 300, 111, 1, 568, 1, 687, 1, 88, 1, 520, 1, 1, 200, 1, 1, 1, 1, 1, 234, 1, 1, 376, 1, 45, 1, 1, 1, 678, 1, 1, 1, 1, 396, 1, 1, 1, 162, 490, 1, 807, 245, 1, 1, 1, 1, 1, 1, 13, 1, 1, 1, 1, 68, 1, 1, 1, 307, 1, 1, 68, 283, 36, 834, 480, 1, 1, 980, 1, 1, 1, 1, 1, 276, 1, 1, 174, 276, 1, 1, 1, 1, 1, 1, 1, 1, 1, 1, 1, 834, 1, 1, 1, 520, 1, 1, 1, 1, 1, 1, 754, 1, 1, 1, 443, 1, 548, 1, 1, 167, 1, 1, 694, 899, 1, 175, 1, 1, 558, 1, 1, 614, 1, 78, 356, 1, 1, 90, 1, 356, 1, 1, 1, 1, 1, 1, 13, 1, 1, 770, 1, 1, 307, 855, 1, 1, 1, 42, 743, 1, 1, 777, 1, 245, 1, 1, 1, 1, 1, 1, 1, 1, 1, 2, 1, 1, 693, 1, 1, 1, 1, 1, 1, 120, 1, 1, 88, 1, 45, 1, 1, 1, 1, 1, 154, 1, 1, 1, 758, 758, 1, 1, 1, 1, 1, 1, 1, 1, 1, 1, 1, 1, 1, 1, 1, 1, 1, 1, 1, 1, 1, 1, 52, 1, 1, 1, 1, 1, 690, 380, 1, 174, 1, 1, 1, 1, 75, 1, 1, 1, 1, 1, 1, 1, 1, 182, 1, 290, 290, 899, 1, 1, 1, 1, 1, 1, 1, 313, 1, 1, 1, 1, 1, 1, 356, 498, 1, 172, 874, 1, 170, 276, 1, 276, 1, 1, 30, 1, 1, 1, 1, 1, 1, 622, 1, 1, 1, 736, 1, 885, 1, 1, 430, 468, 1, 1, 761, 1, 542, 759, 777, 821, 1, 1, 1, 411, 1, 1, 1, 1, 1, 1, 761, 573, 1, 1, 1, 1, 1, 1, 1, 1, 322, 861, 1, 698, 297, 307, 649, 551, 1, 1, 6, 313, 1, 1, 895, 1, 1, 1, 1, 1, 88, 1, 1, 1, 1, 1, 1, 1, 1, 698, 743, 297, 740, 668, 6, 682, 1, 1, 1, 1, 520, 282, 887, 628, 1, 1, 758, 1, 1, 1, 1, 616, 1, 1, 396, 1, 1, 356, 1, 1, 1, 1, 520, 122, 377, 1, 1, 520, 1, 1, 1, 1, 425, 1, 887, 368, 1, 266, 361, 380, 137, 1, 1, 1, 1, 1, 455, 1, 1, 622, 1, 1, 547, 1, 1, 81, 689, 167, 1, 1, 1, 1, 1, 1, 250, 1, 541, 685, 1, 1, 1, 1, 1, 1, 1, 238, 572, 1, 130, 1, 175, 126, 151, 290, 1, 396, 551, 1, 1, 1, 1, 319, 873, 1, 377, 1, 1, 1, 1, 1, 1, 45, 1, 1, 88, 615, 1, 1, 1, 1, 1, 1, 1, 1, 753, 753, 178, 710, 660, 53, 875, 359, 359, 1, 518, 81, 1, 1, 1, 1, 1, 1, 1, 109, 520, 1, 1, 1, 111, 1, 837, 30, 1, 1, 1, 1, 1, 1, 1, 1, 1, 1, 594, 130, 548, 1, 1, 1, 1, 1, 671, 268, 1, 109, 1, 1, 109, 736, 1, 1, 91, 1, 150, 154, 1, 679, 1, 1, 1, 1, 1, 1, 1, 1, 1, 1, 1, 1, 1, 1, 1, 1, 455, 1, 1, 1, 1, 551, 1, 1, 498, 470, 130, 383, 81, 547, 349, 622, 1, 1, 520, 364, 834, 111, 1, 1, 1, 109, 1, 197, 154, 1, 30, 664, 38, 360, 88, 1, 1, 1, 1, 1, 1, 1, 1, 1, 1, 753, 698, 11, 793, 148, 324, 1, 1, 1, 1, 498, 1, 307, 81, 1, 1, 406, 1, 268, 1, 1, 1, 1, 1, 130, 22, 22, 468, 132, 172, 847, 837, 1, 1, 45, 890, 38, 1, 310, 1, 638, 1, 296, 1, 1, 1, 1, 1, 1, 1, 836, 299, 614, 397, 11, 1, 1, 361, 551, 689, 1, 1, 401, 170, 1, 170, 1, 500, 307, 276, 679, 563, 147, 1, 520, 1, 1, 1, 1, 111, 147, 111, 568, 1, 148, 1, 1, 234, 148, 679, 1, 1, 837, 1, 1, 1, 1, 137, 1, 1, 1, 1, 1, 1, 1, 1, 1, 1, 1, 1, 1, 1, 1, 433, 88, 1, 877, 1, 450, 355, 1, 807, 1, 1, 162, 466, 660, 1, 572, 175, 20, 224, 835, 260, 1, 356, 1, 1, 682, 167, 755, 276, 55, 1, 268, 520, 1, 1, 109, 109, 1, 736, 1, 1, 1, 1, 1, 1, 307, 1, 1, 1, 197, 1, 34, 368, 756, 1, 34, 1, 234, 1, 1, 758, 1, 1, 1, 1, 1, 1, 1, 1, 1, 1, 1, 1, 1, 1, 1, 675, 1, 42, 470, 1, 1, 743, 450, 1, 1, 698, 807, 1, 1, 555, 670, 320, 899, 123, 1, 835, 1, 1, 81, 1, 483, 1, 1, 1, 895, 109, 736, 126, 364, 109, 736, 834, 1, 809, 790, 1, 1, 1, 42, 1, 1, 1, 1, 1, 1, 835, 759, 777, 614, 821, 698, 142, 769, 1, 548, 807, 1, 707, 1, 1, 399, 1, 1, 470, 1, 594, 1, 276, 276, 217, 275, 268, 1, 834, 520, 520, 1, 1, 111, 1, 1, 1, 1, 1, 1, 1, 1, 38, 579, 631, 1, 1, 1, 1, 1, 1, 1, 1, 1, 1, 1, 433, 22, 537, 759, 174, 380, 614, 100, 130, 130, 698, 1, 586, 1, 1, 430, 489, 649, 126, 599, 1, 268, 1, 313, 1, 1, 250, 1, 1, 498, 553, 1, 1, 1, 1, 318, 682, 1, 217, 755, 168, 270, 275, 349, 770, 1, 1, 1, 1, 1, 1, 109, 109, 109, 520, 616, 250, 1, 1, 1, 88, 837, 411, 670, 1, 1, 638, 1, 1, 1, 1, 1, 1, 1, 1, 1, 1, 1, 468, 1, 97, 176, 673, 873, 212, 807, 1, 1, 1, 228, 1, 68, 436, 53, 1, 577, 320, 287, 874, 1, 1, 1, 1, 1, 823, 708, 520, 1, 248, 1, 233, 1, 1, 892, 520, 1, 380, 837, 1, 1, 1, 1, 390, 1, 1, 1, 137, 78, 1, 1, 1, 1, 1, 1, 1, 1, 1, 1, 1, 1, 1, 1, 52, 873, 1, 774, 837, 238, 676, 873, 662, 877, 1, 1, 168, 555, 307, 402, 1, 847, 189, 1, 560, 1, 1, 1, 1, 470, 170, 81, 547, 547, 81, 276, 276, 820, 352, 168, 671, 1, 268, 1, 1, 1, 520, 1, 1, 1, 1, 109, 233, 1, 1, 1, 88, 1, 88, 1, 1, 1, 1, 573, 1, 1, 1, 1, 1, 1, 1, 1, 1, 1, 1, 455, 804, 1, 1, 397, 392, 1, 50, 137, 256, 137, 862, 1, 349, 847, 570, 551, 1, 1, 378, 678, 786, 518, 1, 1, 207, 679, 276, 1, 655, 167, 81, 708, 1, 504, 1, 1, 122, 1, 1, 834, 834, 520, 622, 1, 1, 1, 148, 212, 736, 154, 321, 88, 665, 1, 1, 837, 1, 59, 51, 1, 837, 837, 1, 1, 1, 1, 1, 1, 1, 1, 1, 1, 1, 1, 1, 670, 524, 1, 1, 573, 473, 355, 130, 532, 1, 189, 807, 1, 466, 807, 307, 245, 1, 1, 279, 1, 1, 1, 354, 786, 36, 19, 594, 1, 594, 1, 235, 307, 1, 686, 679, 1, 217, 283, 268, 520, 834, 1, 1, 400, 834, 1, 736, 1, 823, 1, 1, 1, 1, 1, 1, 129, 1, 1, 1, 1, 1, 1, 1, 1, 1, 1, 1, 1, 1, 1, 1, 1, 1, 1, 1, 1, 1, 1, 212, 430, 140, 572, 238, 513, 50, 380, 1, 42, 1, 446, 137, 450, 1, 162, 743, 513, 754, 797, 1, 1, 1, 1, 1, 411, 1, 1, 110, 694, 720, 518, 405, 1, 1, 20, 81, 473, 270, 547, 268, 1, 834, 895, 1, 1, 109, 1, 147, 1, 1, 890, 1, 237, 234, 101, 154, 1, 1, 1, 113, 1, 360, 1, 1, 1, 1, 1, 1, 1, 1, 1, 1, 1, 1, 1, 1, 753, 380, 1, 1, 1, 860, 1, 807, 1, 455, 1, 550, 269, 1, 359, 551, 306, 1, 1, 560, 1, 689, 270, 399, 19, 687, 1, 1, 1, 400, 1, 1, 1, 1, 820, 671, 1, 124, 1, 834, 895, 109, 1, 1, 1, 1, 760, 573, 749, 792, 579, 45, 88, 1, 837, 154, 129, 1, 758, 1, 1, 1, 1, 1, 1, 1, 1, 1, 1, 1, 1, 1, 1, 810, 1, 1, 407, 1, 614, 693, 130, 290, 698, 228, 878, 1, 1, 524, 1, 551, 1, 855, 1, 1, 498, 743, 1, 682, 88, 1, 770, 276, 307, 547, 276, 1, 755, 755, 547, 1, 444, 215, 1, 349, 43, 547, 236, 861, 268, 1, 869, 520, 109, 111, 400, 1, 1, 892, 1, 1, 1, 1, 2, 51, 664, 1, 858, 1, 1, 360, 667, 154, 51, 282, 360, 88, 1, 1, 1, 1, 520, 758, 1, 1, 1, 1, 1, 1, 1, 1, 1, 894, 1, 1, 1, 455, 425, 1, 442, 1, 532, 807, 807, 743, 1, 672, 1, 320, 386, 743, 899, 513, 1, 1, 1, 692, 980, 189, 555, 1, 251, 251, 1, 1, 1, 1, 594, 470, 1, 1, 1, 81, 1, 276, 615, 508, 215, 1, 217, 834, 306, 520, 834, 736, 1, 109, 865, 1, 1, 88, 360, 837, 1, 809, 1, 360, 42, 1, 1, 78, 1, 78, 1, 1, 1, 1, 1, 1, 1, 1, 1, 1, 1, 1, 1, 1, 1, 1, 1, 753, 861, 1, 1, 174, 616, 1, 1, 392, 1, 109, 1, 1, 11, 570, 1, 269, 754, 307, 518, 885, 298, 6, 1, 430, 1, 245, 205, 161, 30, 1, 1, 356, 385, 1, 1, 317, 418, 1, 810, 518, 1, 400, 170, 255, 1, 585, 1, 1, 1, 233, 1, 1, 834, 1, 834, 1, 1, 568, 154, 390, 1, 1, 148, 266, 1, 1, 1, 154, 45, 266, 1, 42, 1, 1, 1, 1, 1, 1, 1, 1, 1, 1, 1, 1, 1, 1, 1, 1, 1, 1, 1, 875, 1, 1, 759, 778, 380, 380, 42, 174, 13, 380, 1, 1, 300, 60, 1, 307, 754, 290, 754, 120, 473, 307, 183, 132, 560, 650, 1, 189, 1, 1, 1, 838, 1, 1, 518, 172, 1, 400, 1, 1, 1, 770, 669, 81, 276, 689, 307, 1, 1, 1, 736, 823, 1, 1, 520, 1, 147, 794, 794, 749, 615, 615, 1, 1, 88, 1, 1, 1, 30, 1, 400, 1, 129, 212, 88, 141, 1, 1, 1, 1, 1, 1, 1, 1, 1, 1, 1, 1, 1, 1, 1, 1, 894, 1, 1, 1, 777, 1, 1, 785, 532, 1, 1, 1, 162, 1, 660, 1, 1, 307, 438, 151, 13, 668, 1, 258, 1, 313, 1, 1, 51, 1, 207, 835, 1, 130, 1, 170, 170, 1, 307, 81, 1, 555, 483, 268, 443, 109, 122, 364, 834, 1, 410, 284, 1, 88, 1, 1, 1, 1, 1, 1, 1, 1, 1, 1, 1, 1, 1, 1, 1, 1, 1, 1, 1, 1, 442, 1, 174, 1, 42, 410, 1, 1, 473, 256, 1, 1, 1, 1, 807, 1, 1, 899, 151, 551, 1, 1, 807, 1, 1, 1, 1, 678, 260, 356, 1, 693, 1, 498, 660, 1, 682, 170, 1, 81, 190, 81, 276, 655, 1, 1, 1, 1, 1, 1, 109, 1, 147, 1, 1, 1, 122, 1, 1, 320, 568, 1, 1, 1, 837, 45, 1, 1, 1, 758, 758, 1, 1, 1, 1, 1, 1, 1, 1, 1, 1, 1, 1, 1, 1, 1, 1, 1, 1, 1, 1, 442, 759, 1, 777, 1, 1, 592, 513, 1, 1, 1, 162, 1, 417, 1, 660, 1, 1, 1, 875, 307, 473, 290, 78, 1, 430, 1, 189, 1, 1, 318, 1, 711, 1, 1, 1, 354, 498, 1, 170, 1, 655, 276, 1, 1, 1, 1, 1, 1, 834, 1, 1, 1, 1, 1, 1, 1, 834, 895, 410, 1, 88, 101, 45, 1, 266, 1, 1, 1, 1, 1, 266, 88, 1, 615, 88, 756, 88, 1, 1, 758, 1, 1, 1, 1, 1, 1, 1, 1, 1, 1, 1, 1, 1, 620, 1, 600, 238, 486, 614, 380, 1, 807, 182, 1, 320, 1, 1, 1, 1, 1, 1, 240, 1, 399, 435, 356, 1, 1, 1, 456, 1, 81, 547, 307, 616, 1, 504, 834, 834, 736, 364, 520, 111, 1, 162, 300, 1, 1, 665, 1, 895, 1, 1, 789, 1, 1, 615, 376, 1, 1, 1, 1, 1, 1, 1, 1, 1, 1, 1, 1, 1, 1, 1, 1, 1, 1, 1, 1, 1, 1, 1, 1, 1, 670, 572, 322, 1, 877, 22, 1, 1, 1, 175, 307, 1, 758, 1, 1, 1, 1, 1, 1, 288, 1, 399, 687, 1, 838, 1, 612, 1, 1, 498, 820, 261, 1, 1, 1, 147, 400, 1, 109, 834, 233, 1, 1, 1, 1, 759, 1, 376, 45, 1, 1, 615, 1, 266, 1, 1, 197, 433, 638, 1, 1, 1, 1, 1, 1, 1, 1, 1, 1, 1, 1, 1, 1, 1, 1, 1, 688, 667, 1, 244, 572, 759, 238, 1, 1, 614, 860, 1, 1, 1, 1, 807, 1, 1, 807, 1, 1, 1, 754, 1, 319, 551, 1, 1, 1, 240, 1, 838, 1, 835, 1, 683, 435, 1, 1, 470, 130, 1, 594, 594, 1, 1, 1, 1, 418, 1, 1, 81, 572, 1, 307, 1, 1, 1, 1, 235, 1, 1, 168, 1, 1, 1, 1, 1, 1, 1, 1, 520, 1, 520, 1, 834, 1, 1, 1, 1, 1, 1, 1, 1, 1, 1, 1, 1, 1, 1, 1, 1, 1, 1, 1, 1, 1, 1, 1, 1, 1, 1, 1, 1, 572, 1, 174, 380, 1, 1, 1, 698, 1, 142, 1, 1, 550, 11, 1, 1, 1, 386, 1, 1, 1, 899, 1, 754, 290, 307, 1, 16, 668, 1, 132, 359, 1, 279, 650, 268, 1, 1, 1, 1, 555, 313, 1, 1, 19, 356, 207, 1, 1, 1, 480, 1, 1, 1, 190, 440, 276, 276, 432, 276, 1, 1, 483, 124, 1, 1, 1, 1, 1, 834, 1, 520, 1, 520, 10, 1, 1, 1, 797, 396, 275, 233, 1, 1, 79, 1, 1, 1, 1, 1, 1, 1, 1, 227, 1, 1, 1, 1, 1, 1, 1, 288, 1, 1, 1, 1, 524, 1, 1, 1, 1, 834, 660, 1, 1, 399, 1, 1, 1, 791, 1, 1, 10, 1, 1, 1, 1, 1, 1, 838, 396, 1, 175, 1, 1, 606, 1, 1, 1, 1, 1, 573, 111, 1, 1, 1, 1, 1, 1, 1, 147, 1, 834, 1, 1, 1, 665, 670, 1, 1, 1, 548, 1, 1, 1, 1, 1, 1, 109, 1, 227, 1, 1, 1, 1, 749, 1, 1, 1, 1, 1, 290, 1, 1, 1, 1, 1, 1, 6, 791, 240, 1, 1, 1, 1, 1, 572, 1, 1, 1, 1, 498, 1, 1, 1, 1, 1, 568, 1, 313, 1, 1, 680, 1, 1, 1, 834, 268, 1, 555, 380, 1, 469, 777, 1, 111, 1, 548, 1, 1, 1, 1, 1, 698, 1, 1, 1, 1, 307, 1, 653, 1, 1, 1, 298, 1, 1, 443, 520, 10, 1, 679, 313, 1, 1, 1, 1, 1, 1, 120, 1, 372, 1, 1, 1, 1, 377, 758, 1, 646, 1, 1, 760, 1, 1, 456, 835, 1, 551, 181, 325, 736, 440, 429, 1, 1, 1, 1, 1, 1, 386, 1, 468, 1, 1, 1, 275, 1, 1, 1, 502, 1, 470, 417, 1, 1, 549, 1, 1, 563, 1, 124, 1, 1, 1, 1, 175, 300, 615, 1, 1, 1, 574, 1, 520, 1, 1, 1, 1, 356, 1, 349, 1, 361, 1, 1, 1, 1, 1, 245, 1, 1, 290, 1, 1, 1, 517, 1, 758, 1, 834, 1, 307, 110, 1, 1, 892, 1, 647, 1, 1, 1, 290, 1, 892, 1, 1, 283, 361, 1, 432, 872, 573, 1, 1, 1, 1, 182, 1, 507, 670, 1, 313, 1, 205, 1, 1, 79, 148, 693, 1, 1, 1, 130, 449, 449, 682, 238, 1, 794, 1, 1, 238, 1, 1, 1, 1, 892, 276, 1, 1, 1, 1, 1, 1, 276, 1, 1, 758, 1, 1, 1, 856, 1, 1, 1, 634, 758, 1, 1, 1, 1, 1, 78, 1, 1, 560, 1, 1, 1, 1, 1, 1, 1, 1, 1, 1, 1, 1, 1, 1, 670, 667, 1, 1, 238, 759, 1, 1, 42, 1, 1, 455, 1, 1, 1, 1, 417, 175, 1, 307, 290, 307, 269, 1, 306, 396, 1, 1, 1, 1, 356, 1, 1, 405, 800, 1, 1, 170, 1, 1, 547, 276, 755, 1, 1, 895, 520, 1, 834, 834, 1, 520, 1, 1, 45, 614, 1, 1, 215, 1, 1, 548, 698, 1, 1, 307, 1, 1, 573, 1, 585, 520, 466, 756, 1, 1, 1, 380, 653, 1, 450, 698, 1, 867, 396, 1, 1, 834, 1, 1, 111, 1, 615, 172, 1, 34, 604, 541, 736, 1, 1, 1, 1, 1, 1, 1, 1, 1, 1, 1, 873, 392, 867, 53, 6, 1, 1, 1, 835, 1, 1, 1, 689, 1, 834, 1, 1, 1, 129, 190, 1, 455, 759, 87, 88, 877, 675, 660, 99, 1, 81, 1, 547, 55, 671, 248, 248, 1, 1, 1, 400, 42, 79, 318, 656, 887, 1, 1, 1, 1, 1, 1, 1, 622, 455, 1, 555, 290, 290, 572, 330, 405, 1, 1, 470, 1, 1, 81, 1, 1, 1, 1, 1, 1, 248, 1, 172, 1, 1, 1, 1, 1, 1, 1, 877, 75, 245, 1, 1, 1, 1, 1, 1, 745, 679, 1, 1, 1, 233, 1, 1, 736, 240, 887, 1, 1, 1, 1, 1, 1, 1, 1, 1, 621, 1, 168, 132, 1, 405, 81, 1, 1, 55, 585, 364, 892, 1, 41, 1, 206, 1, 1, 1, 1, 1, 1, 1, 1, 1, 1, 1, 1, 1, 1, 614, 150, 555, 1, 290, 298, 298, 53, 318, 500, 406, 1, 662, 1, 1, 1, 78, 1, 1, 1, 1, 1, 1, 430, 442, 1, 450, 770, 288, 245, 1, 1, 1, 1, 1, 318, 670, 1, 349, 1, 1, 1, 1, 1, 1, 1, 622, 834, 1, 1, 1, 40, 1, 1, 34, 1, 42, 1, 1, 1, 1, 1, 1, 1, 1, 380, 247, 1, 1, 551, 524, 288, 288, 313, 498, 498, 99, 45, 1, 319, 268, 520, 275, 736, 1, 1, 585, 1, 579, 120, 1, 154, 42, 1, 1, 1, 1, 1, 1, 759, 13, 205, 130, 162, 466, 612, 1, 1, 399, 1, 211, 215, 671, 1, 1, 1, 275, 147, 1, 1, 579, 1, 1, 579, 1, 1, 154, 1, 1, 1, 1, 1, 1, 1, 1, 1, 1, 137, 1, 1, 1, 693, 1, 130, 1, 1, 572, 1, 563, 1, 275, 113, 1, 147, 147, 614, 777, 1, 1, 88, 1, 360, 667, 101, 1, 631, 1, 1, 1, 1, 1, 1, 1, 1, 1, 1, 778, 486, 1, 1, 1, 785, 307, 1, 835, 418, 1, 1, 1, 682, 1, 1, 1, 1, 1, 708, 168, 624, 1, 319, 319, 109, 1, 1, 122, 109, 622, 111, 130, 1, 892, 364, 606, 1, 1, 1, 1, 1, 615, 1, 579, 667, 172, 1, 758, 1, 1, 1, 1, 1, 430, 810, 873, 1, 1, 450, 875, 851, 148, 53, 319, 1, 356, 83, 356, 313, 1, 1, 820, 594, 1, 81, 1, 81, 307, 276, 713, 1, 861, 349, 1, 1, 1, 1, 1, 1, 1, 1, 318, 1, 895, 520, 364, 30, 1, 51, 1, 411, 604, 1, 1, 685, 1, 1, 1, 1, 1, 1, 1, 1, 832, 1, 388, 532, 807, 1, 1, 660, 660, 1, 361, 1, 1, 1, 1, 1, 720, 720, 820, 615, 1, 1, 1, 1, 1, 1, 1, 109, 520, 834, 162, 1, 1, 88, 1, 45, 1, 1, 1, 34, 172, 129, 1, 1, 758, 78, 1, 1, 1, 1, 1, 1, 1, 1, 810, 455, 693, 212, 1, 1, 307, 875, 551, 319, 298, 430, 279, 1, 207, 405, 835, 1, 1, 1, 1, 1, 1, 401, 400, 1, 1, 1, 276, 547, 1, 1, 276, 547, 215, 1, 349, 236, 411, 671, 41, 1, 36, 834, 1, 1, 1, 36, 1, 1, 1, 1, 1, 129, 1, 376, 1, 190, 88, 1, 1, 1, 1, 1, 1, 189, 417, 758, 1, 1, 189, 378, 254, 1, 1, 383, 594, 669, 1, 1, 266, 236, 349, 1, 1, 1, 377, 892, 1, 520, 834, 1, 736, 794, 42, 1, 1, 1, 1, 1, 1, 1, 1, 1, 1, 486, 174, 653, 178, 807, 417, 754, 394, 596, 875, 779, 551, 551, 548, 1, 1, 1, 399, 399, 553, 594, 690, 1, 547, 1, 1, 276, 755, 473, 670, 1, 215, 319, 1, 1, 111, 834, 36, 834, 1, 1, 1, 679, 209, 1, 42, 847, 1, 172, 1, 88, 1, 1, 1, 1, 1, 1, 1, 1, 1, 238, 455, 1, 1, 442, 1, 807, 175, 1, 320, 290, 548, 298, 298, 650, 1, 810, 3, 1, 1, 1, 1, 170, 1, 1, 207, 307, 1, 319, 1, 1, 1, 1, 130, 1, 606, 490, 79, 1, 1, 1, 31, 1, 638, 1, 1, 433, 1, 1, 1, 1, 1, 1, 1, 1, 1, 1, 657, 759, 1, 622, 573, 698, 1, 256, 1, 11, 466, 1, 181, 175, 524, 791, 1, 1, 1, 1, 313, 1, 1, 203, 356, 411, 788, 1, 130, 1, 1, 1, 211, 276, 547, 585, 1, 349, 1, 403, 520, 1, 1, 45, 31, 42, 1, 250, 380, 758, 1, 1, 758, 1, 1, 1, 1, 1, 1, 1, 1, 1, 1, 1, 468, 514, 238, 500, 433, 174, 548, 585, 1, 11, 660, 1, 839, 1, 615, 1, 78, 1, 356, 1, 1, 683, 411, 553, 1, 800, 405, 170, 1, 1, 211, 708, 449, 483, 895, 109, 403, 1, 520, 147, 275, 892, 403, 834, 1, 1, 1, 1, 885, 1, 172, 308, 42, 679, 837, 1, 1, 1, 615, 1, 1, 1, 1, 1, 1, 1, 1, 1, 1, 1, 1, 1, 1, 430, 690, 425, 238, 1, 473, 1, 295, 517, 228, 13, 807, 1, 320, 269, 320, 1, 1, 615, 132, 692, 1, 1, 1, 1, 356, 800, 874, 1, 1, 1, 1, 1, 1, 1, 170, 1, 1, 755, 432, 1, 400, 126, 1, 1, 1, 1, 1, 652, 628, 101, 1, 1, 284, 1, 1, 1, 1, 433, 1, 1, 1, 1, 1, 1, 1, 1, 1, 1, 1, 1, 1, 1, 1, 1, 1, 1, 1, 1, 1, 1, 897, 455, 215, 94, 698, 45, 710, 1, 79, 417, 1, 1, 386, 245, 307, 269, 40, 438, 290, 1, 78, 1, 254, 1, 1, 1, 401, 1, 679, 895, 755, 276, 679, 547, 1, 1, 1, 1, 504, 226, 408, 1, 147, 403, 1, 1, 1, 1, 1, 1, 1, 1, 1, 41, 568, 1, 1, 282, 1, 628, 1, 88, 266, 1, 758, 1, 1, 1, 433, 1, 638, 1, 1, 1, 1, 1, 1, 1, 1, 1, 1, 1, 1, 1, 1, 1, 247, 450, 1, 238, 660, 466, 307, 307, 290, 307, 426, 823, 815, 1, 1, 1, 245, 1, 1, 313, 215, 835, 1, 172, 1, 1, 1, 81, 547, 276, 81, 276, 432, 1, 1, 268, 319, 616, 1, 109, 1, 1, 1, 520, 126, 147, 113, 1, 10, 1, 88, 1, 579, 1, 266, 1, 250, 1, 1, 148, 1, 266, 266, 79, 1, 1, 1, 1, 1, 1, 1, 1, 1, 1, 1, 30, 430, 1, 1, 1, 1, 1, 1, 47, 753, 653, 573, 455, 1, 1, 670, 168, 68, 658, 53, 307, 772, 386, 269, 797, 872, 1, 980, 1, 1, 1, 1, 1, 835, 411, 1, 786, 1, 122, 1, 1, 276, 449, 1, 148, 408, 1, 1, 1, 1, 1, 1, 1, 1, 1, 1, 794, 113, 837, 756, 1, 579, 1, 1, 1, 129, 1, 649, 147, 137, 634, 638, 1, 1, 1, 1, 1, 1, 1, 1, 1, 1, 754, 1, 1, 1, 1, 1, 52, 1, 1, 469, 599, 1, 877, 1, 1, 1, 1, 295, 1, 555, 1, 754, 1, 1, 551, 551, 1, 1, 1, 847, 279, 1, 692, 288, 693, 411, 207, 1, 1, 838, 1, 405, 1, 1, 1, 1, 1, 160, 1, 307, 1, 1, 268, 1, 1, 307, 1, 1, 1, 1, 306, 1, 306, 1, 1, 45, 1, 1, 809, 809, 88, 376, 1, 1, 1, 1, 421, 1, 1, 1, 1, 1, 1, 1, 1, 1, 1, 1, 1, 1, 1, 1, 248, 176, 486, 1, 174, 743, 1, 1, 1, 181, 320, 307, 148, 413, 1, 287, 1, 203, 1, 585, 377, 1, 1, 1, 456, 400, 1, 1, 1, 575, 575, 1, 276, 1, 655, 276, 670, 1, 1, 226, 1, 1, 1, 100, 130, 1, 520, 1, 1, 1, 1, 1, 1, 1, 794, 410, 885, 320, 1, 1, 1, 31, 1, 1, 1, 1, 1, 1, 1, 1, 1, 1, 1, 1, 1, 1, 1, 1, 1, 1, 1, 1, 657, 430, 1, 1, 759, 172, 686, 1, 1, 1, 807, 68, 1, 1, 754, 307, 718, 322, 307, 1, 1, 1, 518, 1, 1, 470, 170, 101, 500, 432, 217, 717, 268, 873, 1, 30, 1, 520, 1, 1, 1, 1, 520, 1, 1, 1, 1, 842, 1, 1, 579, 1, 129, 1, 1, 1, 1, 1, 1, 1, 1, 1, 1, 1, 1, 1, 657, 1, 442, 1, 1, 1, 759, 600, 1, 1, 174, 1, 698, 1, 1, 1, 807, 1, 1, 899, 394, 178, 551, 551, 847, 189, 1, 1, 1, 835, 835, 810, 1, 1, 1, 594, 1, 1, 1, 1, 1, 30, 148, 563, 1, 400, 1, 111, 111, 1, 892, 1, 1, 1, 1, 45, 1, 1, 266, 758, 832, 1, 1, 1, 1, 1, 1, 1, 1, 1, 1, 1, 1, 1, 1, 1, 1, 1, 1, 650, 759, 299, 759, 1, 845, 698, 1, 532, 175, 13, 68, 1, 182, 1, 678, 466, 662, 200, 754, 1, 1, 772, 1, 298, 359, 650, 1, 1, 1, 411, 399, 1, 1, 1, 172, 470, 1, 1, 1, 1, 1, 1, 276, 1, 1, 215, 1, 1, 1, 148, 411, 547, 520, 1, 1, 1, 1, 1, 111, 1, 1, 111, 1, 275, 1, 1, 400, 1, 1, 1, 30, 1, 1, 1, 421, 758, 1, 1, 1, 758, 1, 1, 1, 1, 1, 1, 1, 760, 1, 1, 1, 1, 238, 442, 541, 1, 1, 548, 1, 1, 1, 1, 1, 228, 178, 1, 189, 1, 1, 885, 175, 1, 1, 799, 298, 396, 90, 430, 707, 1, 1, 313, 1, 215, 399, 683, 1, 498, 498, 1, 1, 1, 1, 1, 170, 682, 1, 1, 276, 1, 1, 215, 319, 1, 1, 483, 1, 1, 1, 1, 1, 892, 111, 1, 233, 1, 1, 1, 1, 1, 834, 275, 1, 1, 34, 364, 129, 1, 172, 1, 1, 1, 78, 634, 1, 1, 1, 758, 1, 1, 1, 1, 1, 1, 1, 1, 1, 1, 1, 1, 1, 1, 430, 238, 1, 693, 698, 400, 1, 1, 1, 1, 1, 430, 295, 1, 1, 386, 1, 132, 668, 551, 1, 551, 1, 430, 1, 1, 1, 1, 110, 1, 1, 885, 1, 1, 1, 572, 276, 1, 1, 276, 276, 276, 1, 221, 1, 1, 1, 1, 1, 147, 1, 1, 834, 1, 1, 520, 1, 1, 1, 520, 1, 1, 1, 1, 1, 1, 1, 1, 834, 300, 10, 760, 1, 758, 407, 1, 1, 1, 698, 834, 1, 697, 110, 1, 430, 1, 263, 306, 1, 1, 111, 615, 356, 1, 307, 1, 1, 834, 1, 1, 1, 88, 1, 1, 1, 1, 58, 742, 1, 1, 518, 1, 1, 794, 1, 836, 245, 835, 400, 1, 1, 442, 130, 1, 212, 1, 307, 1, 1, 1, 1, 1, 675, 1, 1, 1, 1, 1, 399, 111, 1, 1, 175, 1, 360, 1, 1, 1, 834, 1, 1, 1, 1, 1, 594, 834, 1, 1, 1, 111, 130, 250, 679, 1, 1, 1, 45, 1, 1, 1, 1, 668, 551, 819, 1, 1, 1, 1, 1, 1, 1, 400, 230, 396, 1, 250, 212, 1, 1, 1, 1, 1, 81, 835, 1, 1, 878, 551, 250, 1, 1, 1, 754, 1, 1, 1, 1, 1, 402, 1, 1, 88, 1, 1, 807, 1, 541, 1, 692, 1, 1, 1, 246, 1, 268, 101, 1, 1, 190, 1, 269, 1, 758, 1, 290, 1, 1, 1, 1, 268, 1, 390, 1, 178, 535, 359, 250, 1, 142, 1, 1, 1, 547, 1, 1, 532, 1, 290, 551, 834, 1, 1, 1, 753, 1, 754, 170, 1, 1, 1, 1, 1, 296, 1, 1, 276, 1, 1, 368, 1, 594, 1, 1, 356, 1, 360, 1, 660, 417, 615, 1, 757, 1, 432, 396, 1, 1, 1, 1, 290, 430, 1, 1, 1, 1, 1, 1, 1, 1, 1, 1, 1, 687, 254, 837, 1, 579, 290, 1, 1, 318, 45, 1, 1, 45, 215, 1, 19, 1, 1, 1, 1, 1, 94, 1, 182, 1, 1, 1, 1, 1, 1, 322, 547, 1, 531, 573, 532, 1, 1, 1, 835, 1, 175, 1, 182, 268, 1, 45, 88, 1, 1, 1, 1, 769, 417, 276, 759, 1, 1, 1, 1, 1, 834, 607, 1, 1, 1, 1, 647, 1, 551, 834, 1, 1, 170, 1, 1, 30, 310, 31, 543, 101, 1, 1, 1, 638, 832, 1, 1, 1, 1, 1, 1, 1, 1, 1, 1, 1, 1, 1, 1, 244, 1, 1, 1, 614, 42, 1, 877, 1, 498, 1, 1, 555, 1, 53, 287, 1, 1, 172, 1, 51, 1, 1, 130, 1, 1, 1, 1, 215, 349, 1, 834, 1, 520, 1, 1, 1, 1, 130, 520, 250, 430, 256, 162, 189, 1, 377, 555, 615, 873, 821, 807, 1, 513, 754, 214, 835, 1, 1, 45, 1, 837, 789, 1, 662, 13, 668, 1, 1, 189, 1, 1, 1, 1, 1, 1, 1, 660, 189, 1, 682, 1, 109, 1, 1, 1, 579, 513, 401, 1, 1, 1, 1, 1, 284, 1, 174, 1, 1, 45, 88, 1, 1, 1, 480, 1, 52, 486, 401, 276, 1, 1, 551, 809, 756, 45, 234, 129, 1, 1, 1, 1, 1, 190, 1, 1, 1, 1, 683, 1, 170, 174, 42, 790, 172, 1, 1, 1, 1, 1, 470, 1, 1, 1, 1, 1, 1, 1, 1, 1, 380, 466, 269, 491, 875, 306, 1, 736, 1, 1, 790, 1, 400, 1, 758, 1, 1, 1, 1, 1, 1, 444, 380, 1, 551, 1, 1, 170, 1, 349, 111, 113, 147, 1, 572, 670, 45, 1, 1, 856, 667, 758, 572, 1, 1, 400, 555, 1, 555, 162, 307, 19, 1, 1, 1, 1, 1, 670, 248, 400, 1, 1, 1, 1, 368, 836, 299, 100, 1, 1, 1, 1, 1, 705, 400, 52, 1, 543, 1, 1, 893, 154, 1, 175, 1, 380, 698, 1, 11, 359, 245, 1, 1, 563, 563, 1, 1, 1, 1, 1, 895, 1, 1, 579, 1, 1, 758, 1, 1, 1, 654, 1, 1, 1, 1, 1, 698, 1, 1, 1, 1, 79, 307, 745, 1, 1, 874, 1, 1, 1, 399, 1, 1, 261, 547, 679, 55, 67, 1, 1, 1, 1, 520, 834, 834, 834, 892, 162, 749, 45, 1, 360, 1, 1, 1, 1, 1, 11, 430, 53, 1, 399, 498, 1, 298, 429, 1, 520, 109, 834, 834, 1, 890, 266, 88, 1, 1, 1, 1, 1, 1, 798, 110, 110, 575, 1, 122, 736, 250, 1, 1, 1, 1, 1, 1, 288, 1, 573, 1, 520, 749, 1, 45, 543, 1, 430, 1, 885, 88, 656, 495, 1, 436, 78, 137, 1, 807, 175, 356, 378, 1, 755, 77, 406, 432, 266, 162, 1, 205, 1, 520, 520, 1, 1, 45, 754, 847, 430, 417, 1, 228, 1, 1, 834, 11, 1, 1, 1, 15, 1, 1]\n"
     ]
    }
   ],
   "source": [
    "print(data16['COD_MUNIC'].tolist())"
   ]
  },
  {
   "cell_type": "markdown",
   "metadata": {},
   "source": [
    "Diccionario municipios"
   ]
  },
  {
   "cell_type": "code",
   "execution_count": 17,
   "metadata": {},
   "outputs": [],
   "source": [
    "json_file_path = 'C:/Users/henry/Documents/jbook/Cacervix/cacervix/datos/municipios.json'\n",
    "\n",
    "with open(json_file_path, 'r', encoding = 'utf-8') as json_file:\n",
    "    municipios_dict = json.load(json_file)"
   ]
  },
  {
   "cell_type": "markdown",
   "metadata": {},
   "source": [
    "Mostrar diccionario"
   ]
  },
  {
   "cell_type": "code",
   "execution_count": 18,
   "metadata": {},
   "outputs": [
    {
     "name": "stdout",
     "output_type": "stream",
     "text": [
      "[('05001', 'MEDELLÍN'), ('05002', 'ABEJORRAL'), ('05004', 'ABRIAQUÍ'), ('05021', 'ALEJANDRÍA'), ('05030', 'AMAGÁ'), ('05031', 'AMALFI'), ('05034', 'ANDES'), ('05036', 'ANGELÓPOLIS'), ('05038', 'ANGOSTURA'), ('05040', 'ANORÍ')]\n",
      "Existen  1122  Municipios en el conjunto de datos.\n"
     ]
    }
   ],
   "source": [
    "print(list(municipios_dict.items())[:10])\n",
    "print('Existen ', len(municipios_dict), ' Municipios en el conjunto de datos.')"
   ]
  },
  {
   "cell_type": "markdown",
   "metadata": {},
   "source": [
    "Codificar nuevamente ***COD_MUNI*** agregandole los datos de ***COD_DPTO***"
   ]
  },
  {
   "cell_type": "markdown",
   "metadata": {},
   "source": [
    "Transformar inicialmente los codifos de departamento"
   ]
  },
  {
   "cell_type": "code",
   "execution_count": 19,
   "metadata": {},
   "outputs": [
    {
     "name": "stdout",
     "output_type": "stream",
     "text": [
      "Teniendo en cuenta que la variable codigo es de tipo object, se agregará cero a los códigos que lo requieran.\n"
     ]
    },
    {
     "name": "stdout",
     "output_type": "stream",
     "text": [
      "Valores únicos después de la transformación:\n",
      "['11' '76' '08' '15' '52' '68' '17' '63' '05' '41' '13' '86' '25' '66'\n",
      " '23' '70' '18' '47' '54' '20' '27' '19' '73' '44' '50' '85' '95' '88'\n",
      " '81' '91' '99' '94' '97']\n"
     ]
    }
   ],
   "source": [
    "tipo = data16['COD_DPTO'].dtype\n",
    "print(f'Teniendo en cuenta que la variable codigo es de tipo {tipo}, se agregará cero a los códigos que lo requieran.')\n",
    "data16.loc[data16['COD_DPTO'] == '5', 'COD_DPTO'] = '05' # Se agrega cero antes del 5 y del 8\n",
    "data16.loc[data16['COD_DPTO'] == '8', 'COD_DPTO'] = '08'\n",
    "print('Valores únicos después de la transformación:')\n",
    "print(data16['COD_DPTO'].unique())"
   ]
  },
  {
   "cell_type": "markdown",
   "metadata": {},
   "source": [
    "Transformar coljman de codifos de muncipio"
   ]
  },
  {
   "cell_type": "code",
   "execution_count": 20,
   "metadata": {},
   "outputs": [],
   "source": [
    "data16['COD_MUNIC'] = data16['COD_MUNIC'].astype(str).str.zfill(5)  # Asegura que tenga 5 dígitos\n",
    "data16['COD_DPTO'] = data16['COD_DPTO'].astype(str).str.zfill(2)  # Asegura que tenga 2 dígitos"
   ]
  },
  {
   "cell_type": "code",
   "execution_count": 21,
   "metadata": {},
   "outputs": [
    {
     "name": "stdout",
     "output_type": "stream",
     "text": [
      "  COD_DPTO COD_MUNIC COD_MUNIC_CORREGIDO\n",
      "0       11     00001               11001\n",
      "1       76     00001               76001\n",
      "2       08     00001               08001\n",
      "3       15     00001               15001\n",
      "4       76     00001               76001\n"
     ]
    }
   ],
   "source": [
    "data16['COD_MUNIC_CORREGIDO'] = data16['COD_DPTO'] + data16['COD_MUNIC'].str[-3:]\n",
    "print(data16[['COD_DPTO', 'COD_MUNIC', 'COD_MUNIC_CORREGIDO']].head())\n"
   ]
  },
  {
   "cell_type": "markdown",
   "metadata": {},
   "source": [
    "Crear columna"
   ]
  },
  {
   "cell_type": "code",
   "execution_count": 22,
   "metadata": {},
   "outputs": [
    {
     "name": "stdout",
     "output_type": "stream",
     "text": [
      "El tipo de datos de COD_MUNIC_CORREGIDO es:  object\n",
      "['BOGOTÁ, D.C.' 'CALI' 'BARRANQUILLA' 'TUNJA' 'FUNES' 'PASTO'\n",
      " 'JESÚS MARÍA' 'GUADALAJARA DE BUGA' 'ANSERMA' 'LA TEBAIDA' 'YARUMAL'\n",
      " 'ALGECIRAS' 'MANIZALES' 'EL CARMEN DE BOLÍVAR' 'MOCOA' 'MEDELLÍN'\n",
      " 'ARMENIA' 'LANDÁZURI' 'BELLO' 'FUSAGASUGÁ' 'PEREIRA' 'FLORIDABLANCA'\n",
      " 'TULUÁ' 'MONTELÍBANO' 'QUIMBAYA' 'BUCARAMANGA' 'SINCELEJO'\n",
      " 'PUERTO BERRÍO' 'SAN VICENTE DEL CAGUÁN' 'GUATAVITA' 'SANTA MARTA'\n",
      " 'GÉNOVA' 'MISTRATÓ' 'CÚCUTA' 'VALLEDUPAR' 'QUIBDÓ' 'POPAYÁN' 'MONTENEGRO'\n",
      " 'IBAGUÉ' 'BUENAVENTURA' 'PUERTO WILCHES' 'APARTADÓ' 'CARTAGENA DE INDIAS'\n",
      " 'CHIGORODÓ' 'NEIVA' 'CANDELARIA' 'CHAPARRAL' 'EL BAGRE'\n",
      " 'SANTANDER DE QUILICHAO' 'RIOHACHA' 'SEVILLA' 'GIRÓN' 'VILLAVICENCIO'\n",
      " 'PALMIRA' 'ZARAGOZA' 'LA DORADA' 'DOSQUEBRADAS'\n",
      " 'SAN SEBASTIÁN DE MARIQUITA' 'PALESTINA' 'AGUACHICA' 'CHINCHINÁ'\n",
      " 'BECERRIL' 'CARTAGO' 'VILLAMARÍA' 'EL CERRITO' 'AGUAZUL' 'TARAZÁ'\n",
      " 'MONTERÍA' 'SAMPUÉS' 'SOGAMOSO' 'BARRANCABERMEJA' 'PLATO' 'SARDINATA'\n",
      " 'MUTATÁ' 'FREDONIA' 'TENJO' 'CIMITARRA' 'TURBO' 'ARBOLEDAS' 'ANORÍ'\n",
      " 'PITALITO' 'SAN JOSÉ DEL GUAVIARE' 'FLORENCIA' 'PUERTO TRIUNFO'\n",
      " 'LA JAGUA DE IBIRICO' 'SOACHA' 'FONSECA' 'VIOTÁ' 'RISARALDA' 'EL ZULIA'\n",
      " 'RIOFRÍO' 'SAN RAFAEL' 'PUERTO TEJADA' 'ESPINAL' 'SAN ANDRÉS' 'CAUCASIA'\n",
      " 'MORALES' 'CALARCÁ' 'MARSELLA' 'COROZAL' 'JAMUNDÍ' 'TAME' 'AMALFI'\n",
      " 'SALAMINA' 'IPIALES' 'HERVEO' 'HONDA' 'ZARZAL' 'FUNZA' 'MAICAO'\n",
      " 'PURIFICACIÓN' 'FLORIDA' 'ITAGÜÍ' 'PÁCORA' 'ALMAGUER' 'AGUSTÍN CODAZZI'\n",
      " 'TRUJILLO' 'NEIRA' 'MERCADERES' 'SAN PEDRO' 'YUMBO' 'BUGALAGRANDE'\n",
      " 'EL SANTUARIO' 'SOLEDAD' 'SAN PABLO' 'PENSILVANIA' 'CERETÉ' 'CÁQUEZA'\n",
      " 'LA VIRGINIA' 'CALIMA' 'MUZO' 'ABEJORRAL' 'ANSERMANUEVO' 'SAN LUIS'\n",
      " 'CALOTO' 'OCAÑA' 'SALDAÑA' 'ENVIGADO' 'EL GUAMO' 'SAN JUAN NEPOMUCENO'\n",
      " 'CAJAMARCA' 'ARBOLETES' 'VIANÍ' 'SAN GIL' 'GUAMAL' 'SILVIA'\n",
      " 'SAN LUIS DE CUBARRAL' 'GUÁTICA' 'LÍBANO' 'PUERTO NARE' 'RIOSUCIO'\n",
      " 'SAN ANTONIO DEL TEQUENDAMA' 'CIÉNAGA' 'PAMPLONA' 'FILANDIA'\n",
      " 'PAZ DE ARIPORO' 'CÁCERES' 'SUPÍA' 'LA MESA' 'ARACATACA' 'GRANADA'\n",
      " 'EL CHARCO' 'EL CARMEN DE VIBORAL' 'EL CARMEN DE ATRATO' 'PUERTO LÓPEZ'\n",
      " 'SABANA DE TORRES' 'SAN ONOFRE' 'PUERTO ASÍS' 'RIONEGRO' 'CUNDAY' 'YOPAL'\n",
      " 'CAREPA' 'SABANAGRANDE' 'SAMANÁ' 'SAN JOSÉ DEL FRAGUA' 'EL TAMBO'\n",
      " 'AYAPEL' 'SAHAGÚN' 'DABEIBA' 'LURUACO' 'SANTA ROSA DEL SUR' 'SOATÁ'\n",
      " 'CORINTO' 'PARATEBUENO' 'TIBÚ' 'QUINCHÍA' 'SAN MARCOS' 'SOTAQUIRÁ'\n",
      " 'BELÉN DE LOS ANDAQUÍES' 'INZÁ' 'BOSCONIA' 'GUAMO' 'VIJES'\n",
      " 'NUEVA GRANADA' 'POTOSÍ' 'SABANALARGA' 'LA APARTADA' 'CONSACÁ' 'SONSÓN'\n",
      " 'TURBACO' 'VILLANUEVA' 'GARAGOA' 'ARAUCA' 'YOLOMBÓ' 'SANTO TOMÁS'\n",
      " 'PUERTO BOYACÁ' 'EL COPEY' 'EL RETÉN' 'VISTAHERMOSA' 'PUERTO RICO'\n",
      " 'NECOCLÍ' 'REPELÓN' 'PIENDAMÓ' 'PIVIJAY' 'SEGOVIA' 'MOMPÓS' 'SIMITÍ'\n",
      " 'CAJIBÍO' 'PLANETA RICA' 'PANDI' 'TRINIDAD' 'MELGAR' 'MARÍA LA BAJA'\n",
      " 'SAN PELAYO' 'FACATATIVÁ' 'RESTREPO' 'SANTA FÉ DE ANTIOQUIA' 'SANDONÁ'\n",
      " 'ITUANGO' 'LA UNIÓN' 'LORICA' 'CHÍA' 'GIGANTE' 'ACEVEDO'\n",
      " 'BARRANCA DE UPÍA' 'SARAVENA' 'FRESNO' 'EL BANCO' 'BARBOSA'\n",
      " 'SAN ANDRÉS DE SOTAVENTO' 'SANTA ROSA DE OSOS' 'EL CASTILLO' 'EL CARMEN'\n",
      " 'SAN PEDRO DE URABÁ' 'TITIRIBÍ' 'SANTA BÁRBARA' 'MONTEBELLO' 'TOTORÓ'\n",
      " 'MEDINA' 'SALAZAR' 'GIRARDOTA' 'MAGANGUÉ' 'GIRARDOT' 'GUADALUPE'\n",
      " 'VILLA DEL ROSARIO' 'ICONONZO' 'LÉRIDA' 'DOLORES' 'ARJONA' 'CAICEDONIA'\n",
      " 'CARAMANTA' 'VICTORIA' 'GARZÓN' 'SAN MARTÍN' 'ALCALÁ' 'HELICONIA'\n",
      " 'ARGELIA' 'GIRALDO' 'PUERTO COLOMBIA' 'AGUADAS' 'SAN ALBERTO' 'FÓMEQUE'\n",
      " 'SUAITA' 'ANDALUCÍA' 'GINEBRA' 'ROLDANILLO' 'BELALCÁZAR' 'EL DONCELLO'\n",
      " 'SAN BERNARDO DEL VIENTO' 'TOCAIMA' 'GRAMALOTE' 'CÓRDOBA' 'BOLÍVAR'\n",
      " 'YALÍ' 'CAMPAMENTO' 'VALDIVIA' 'MIRANDA' 'CURUMANÍ' 'SAN CARLOS'\n",
      " 'EL COLEGIO' 'OIBA' 'AMAGÁ' 'SANTANA' 'CURILLO' 'SOPÓ' 'OLAYA HERRERA'\n",
      " 'PUERTO RONDÓN' 'YACOPÍ' 'TOLEDO' 'MONIQUIRÁ' 'DUITAMA' 'LA CRUZ'\n",
      " 'VALPARAÍSO' 'VENECIA' 'LOS PATIOS' 'PIEDECUESTA' 'DAGUA' 'LETICIA'\n",
      " 'SOPLAVIENTO' 'VILLETA' 'ARBELÁEZ' 'PALERMO' 'REMOLINO' 'CUMARAL'\n",
      " 'BELÉN DE UMBRÍA' 'VEGACHÍ' 'MALAMBO' 'CALAMAR' 'CHIQUINQUIRÁ'\n",
      " 'SAN ANDRÉS DE TUMACO' 'PLANADAS' 'ARMERO GUAYABAL' 'SALGAR' 'TIMBÍO'\n",
      " 'PUERTO LLERAS' 'NATAGAIMA' 'LA CUMBRE' 'USIACURÍ' 'CARTAGENA DEL CHAIRÁ'\n",
      " 'PURÍSIMA DE LA CONCEPCIÓN' 'CHINÚ' 'CIÉNAGA DE ORO' 'SUAZA'\n",
      " 'PUERTO GAITÁN' 'PALMITO' 'PRADERA' 'PUERTO CARREÑO' 'SANTO DOMINGO'\n",
      " 'TOTA' 'NORCASIA' 'SASAIMA' 'SANTA ANA' 'ACACÍAS' 'CUASPÚD' 'MÁLAGA'\n",
      " 'MAJAGUAL' 'VERSALLES' 'YOTOCO' 'ALBANIA' 'TIERRALTA' 'SALADOBLANCO'\n",
      " 'INÍRIDA' 'CAROLINA' 'MARQUETALIA' 'PUERTO SALGAR' 'SAN JUAN DEL CESAR'\n",
      " 'EL PIÑÓN' 'SILOS' 'LA CELIA' 'COROMORO' 'GUACARÍ' 'LA ESTRELLA' 'AGRADO'\n",
      " 'BUENAVISTA' 'FLANDES' 'ROVIRA' 'ARAUQUITA' 'BURITICÁ' 'PURACÉ' 'MADRID'\n",
      " 'PAIPA' 'LABATECA' 'SAN VICENTE DE CHUCURÍ' 'PUENTE NACIONAL' 'ORITO'\n",
      " 'CHIMÁ' 'URIBIA' 'PUEBLOVIEJO' 'PALOCABILDO' 'SAN VICENTE FERRER'\n",
      " 'BETANIA' 'PÁEZ' 'ZIPAQUIRÁ' 'FUNDACIÓN' 'CASTILLA LA NUEVA'\n",
      " 'SANTIAGO DE TOLÚ' 'VILLAHERMOSA' 'CALDAS' 'SOPETRÁN' 'SAN JUAN DE URABÁ'\n",
      " 'PADILLA' 'ANDES' 'TORIBÍO' 'SAN ANTERO' 'RIVERA' 'CICUCO'\n",
      " 'VILLA DE SAN DIEGO DE UBATÉ' 'SAN SEBASTIÁN DE BUENAVISTA' 'TOLÚ VIEJO'\n",
      " 'MONTERREY' 'MARINILLA' 'LA PLATA' 'REMEDIOS' 'LA CEJA' 'MOSQUERA'\n",
      " 'EL ROBLE' 'CIUDAD BOLÍVAR' 'URAMITA' 'VALENCIA' 'VÉLEZ' 'CHIMICHAGUA'\n",
      " 'MESETAS' 'LA LLANADA' 'ULLOA' 'ZONA BANANERA' 'NECHÍ' 'TIMANÁ'\n",
      " 'MANZANARES' 'LLORÓ' 'PUEBLO NUEVO' 'SAN CARLOS DE GUAROA'\n",
      " 'EL CARMEN DE CHUCURÍ' 'OTANCHE' 'EL TARRA' 'CIRCASIA' 'EL PASO'\n",
      " 'CHIRIGUANÁ' 'NEMOCÓN' 'LA MERCED' 'TOCANCIPÁ' 'ISTMINA' 'COPACABANA'\n",
      " 'CAMPO DE LA CRUZ' 'PATÍA' 'CHINÁCOTA' 'SESQUILÉ' 'SANTA ROSA DE CABAL'\n",
      " 'EL ÁGUILA' 'SAN JACINTO' 'JUNÍN' 'CONCORDIA' 'PITAL' 'CARACOLÍ'\n",
      " 'BARANOA' 'EL PAUJÍL' 'LEJANÍAS' 'APÍA' 'EL PLAYÓN' 'SABANETA' 'VITERBO'\n",
      " 'GUADUAS' 'CAMPOALEGRE' 'SAN AGUSTÍN' 'FLORIÁN' 'VILLARRICA'\n",
      " 'GÓMEZ PLATA' 'ROSAS' 'TESALIA' 'LOS ANDES' 'TÚQUERRES'\n",
      " 'SAN JOSÉ DE LA MONTAÑA' 'VERGARA' 'TORO' 'URRAO' 'MARMATO' 'HOBO'\n",
      " 'ISNOS' 'SAN JUANITO' 'EL DOVIO' 'LA PAZ' 'SILVANIA'\n",
      " 'SAN PEDRO DE LOS MILAGROS' 'PONEDERA' 'TALAIGUA NUEVO' 'FORTUL'\n",
      " 'FILADELFIA' 'COTORRA' 'GUACHETÁ' 'LOS PALMITOS' 'PUERTO CAICEDO'\n",
      " 'ARANZAZU' 'TABIO' 'EL CALVARIO' 'PUERTO SANTANDER' 'LEBRIJA' 'TARSO'\n",
      " 'MAHATES' 'GUATEQUE' 'BALBOA' 'ANGOSTURA' 'ABRIAQUÍ' 'ENTRERRÍOS'\n",
      " 'MORELIA' 'TAMALAMEQUE' 'RÍO DE ORO' 'UNIÓN PANAMERICANA' 'LA MACARENA'\n",
      " 'OSPINA' 'PUEBLO RICO' 'COYAIMA' 'BETULIA' 'COTA' 'COLÓN' 'MURILLO'\n",
      " 'FUENTE DE ORO' 'PIOJÓ' 'VILLAVIEJA' 'PIEDRAS' 'AMBALEMA' 'FRONTINO'\n",
      " 'CÓMBITA' 'RONDÓN' 'SOLITA' 'HATONUEVO' 'CHIVOLO' 'SANTUARIO'\n",
      " 'CONTRATACIÓN' 'MOLAGAVITA' 'SUCRE' 'RIOBLANCO' 'JERICÓ'\n",
      " 'ALTOS DEL ROSARIO' 'GUASCA' 'BELÉN' 'ORTEGA' 'CARMEN DE APICALÁ'\n",
      " 'MARULANDA' 'UNE' 'PUPIALES' 'ALDANA' 'PINILLOS' 'PELAYA' 'ALVARADO'\n",
      " 'BAHÍA SOLANO' 'PIAMONTE' 'TIBIRITA' 'CAJICÁ' 'SAN JUAN DE RIOSECO'\n",
      " 'SAN ZENÓN' 'CAPARRAPÍ' 'SAN FRANCISCO' 'CHOCONTÁ' 'ALBÁN' 'PAMPLONITA'\n",
      " 'SUÁREZ' 'PUERTO LEGUÍZAMO' 'BARRANCO DE LOBA' 'REGIDOR' 'LA VEGA'\n",
      " 'PUERTO GUZMÁN' 'TADÓ' 'RÍO VIEJO' 'ÍQUIRA' 'AIPE' 'RICAURTE' 'GALÁN'\n",
      " 'CHOACHÍ' 'RAGONVALIA' 'NOBSA' 'GALAPA' 'SANTA BÁRBARA DE PINTO' 'ÁBREGO'\n",
      " 'UBAQUE' 'GACHETÁ' 'URUMITA' 'PIJAO' 'LA SIERRA' 'LA VICTORIA' 'HISPANIA'\n",
      " 'SUSA' 'ALEJANDRÍA' 'SOCORRO' 'EL CAIRO' 'ZIPACÓN' 'GACHALÁ' 'SAMACÁ'\n",
      " 'LA PALMA' 'MANATÍ' 'CÁCHIRA' 'GUARNE' 'SAN ESTANISLAO' 'ACANDÍ'\n",
      " 'GALERAS' 'BRICEÑO' 'GUAPÍ' 'GAMARRA' 'NARIÑO' 'PEÑOL' 'YONDÓ' 'ACHÍ'\n",
      " 'SAN JERÓNIMO' 'VIGÍA DEL FUERTE' 'ANGELÓPOLIS' 'MACHETÁ' 'PASCA'\n",
      " 'PALMAR DE VARELA' 'UBALÁ' 'YACUANQUER' 'SANTA LUCÍA' 'BUESACO'\n",
      " 'LA FLORIDA' 'OBANDO' 'CERINZA' 'ANOLAIMA' 'PACHO' 'FALAN' 'BETÉITIVA'\n",
      " 'BARBACOAS' 'GUATAQUÍ' 'SIBATÉ' 'SAN BERNARDO' 'PUERTO PARRA' 'PORE'\n",
      " 'TERUEL' 'SAN JUAN DE ARAMA' 'ALPUJARRA' 'AQUITANIA' 'MILÁN'\n",
      " 'BUENOS AIRES' 'ÚTICA' 'ARIGUANÍ' 'TAMINANGO' 'SÁCHICA' 'RAMIRIQUÍ'\n",
      " 'CONTADERO' 'LA PINTADA' 'SANTA CATALINA' 'SOCOTÁ' 'MARIPÍ' 'CHACHAGÜÍ'\n",
      " 'ANCUYÁ' 'BOCHALEMA' 'VILLAGARZÓN' 'OLAYA' 'ZAMBRANO' 'VILLA RICA'\n",
      " 'PAILITAS' 'EL ROSAL' 'PALMAS DEL SOCORRO' 'GUARANDA' 'SOTARA'\n",
      " 'JUAN DE ACOSTA' 'SAN SEBASTIÁN' 'GUACHUCAL' 'LEIVA' 'CHITARAQUE'\n",
      " 'EL ESPINO' 'LA CALERA' 'PIJIÑO DEL CARMEN' 'APULO' 'PUERTO CONCORDIA'\n",
      " 'OROCUÉ' 'SÁCAMA' 'TÁMESIS' 'TARQUI' 'ELÍAS' 'MALLAMA' 'POLONUEVO'\n",
      " 'ATACO' 'CAÑASGORDAS' 'PAZ DE RÍO' 'MANAURE BALCÓN DEL CESAR'\n",
      " 'SABANAS DE SAN ÁNGEL' 'SAN FERNANDO' 'MITÚ' 'SAN MIGUEL' 'SAN DIEGO'\n",
      " 'SURATÁ' 'NÁTAGA' 'TENERIFE' 'BARRANCAS' 'QUÍPAMA' 'SAN BENITO ABAD'\n",
      " 'ANZOÁTEGUI' 'EL ROSARIO' 'CISNEROS' 'VILLAPINZÓN' 'SANTACRUZ' 'COCORNÁ'\n",
      " 'MIRAFLORES' 'BARAYA' 'VENADILLO' 'SAN LUIS DE SINCÉ' 'GÜICÁN' 'SIBUNDOY'\n",
      " 'DONMATÍAS' 'PUEBLORRICO' 'BARICHARA' 'COELLO' 'LIBORINA'\n",
      " 'SANTA ROSA DE VITERBO' 'SUTATENZA' 'GÜEPSA' 'RONCESVALLES' 'MACEO'\n",
      " 'CUMBAL' 'ILES' 'CERRITO' 'OVEJAS' 'IMUÉS' 'SALENTO'\n",
      " 'SAN JUAN DE BETULIA' 'RETIRO' 'BOAVITA' 'CALDONO' 'TENA'\n",
      " 'PUERTO LIBERTADOR' 'MOÑITOS' 'NILO' 'NÓVITA' 'ENCISO' 'ZAPATOCA' 'COGUA'\n",
      " 'TANGUA' 'VALLE DE SAN JOSÉ' 'SANTA ROSA' 'MOMIL' 'AGUA DE DIOS' 'GÁMEZA'\n",
      " 'SUBACHOQUE' 'MUTISCUA' 'TURBANÁ' 'SUSACÓN' 'TUTA' 'MORROA'\n",
      " 'VALLE DE SAN JUAN' 'CANTAGALLO' 'SIACHOQUE' 'EL MOLINO' 'SAN LORENZO'\n",
      " 'SAMANIEGO' 'CURITÍ' 'CONCEPCIÓN' 'ALGARROBO' 'PINCHOTE' 'PROVIDENCIA'\n",
      " 'GUALMATÁN' 'VALLE DEL GUAMUEZ' 'JARDÍN' 'SAPUYES' 'LA PEÑA' 'ARBOLEDA'\n",
      " 'TUBARÁ' 'PUEBLO BELLO' 'POLICARPA' 'NUNCHÍA' 'COVEÑAS' 'MANAURE'\n",
      " 'TIPACOQUE' 'CHARALÁ' 'LA GLORIA' 'UNGUÍA' 'LA PRIMAVERA' 'GUATAPÉ'\n",
      " 'MANTA' 'CAPITANEJO' 'COLOSO' 'VENTAQUEMADA' 'LA ARGENTINA' 'CHITAGÁ'\n",
      " 'CAICEDO' 'PEQUE' 'CONDOTO' 'MANÍ' 'IZA' 'GUACA' 'SAN ANTONIO' 'TASCO'\n",
      " 'TELLO' 'GAMA' 'TOGÜÍ' 'ANZÁ' 'QUIPILE' 'PAICOL' 'CLEMENCIA' 'MONGUA'\n",
      " 'GUACHENÉ' 'MEDIO SAN JUAN' 'CASABIANCA' 'EL TABLÓN DE GÓMEZ'\n",
      " 'GUAITARILLA' 'LA ESPERANZA' 'PAJARITO' 'JAMBALÓ' 'YAGUARÁ' 'CABUYARO'\n",
      " 'TOCA' 'EL PEÑÓN' 'SANTIAGO' 'ÚMBITA' 'SAN JOSÉ DEL PALMAR' 'GUAYATÁ'\n",
      " 'PRADO' 'GUTIÉRREZ' 'MATANZA' 'SUESCA' 'COLOMBIA' 'OCAMONTE' 'HATO'\n",
      " 'SIMACOTA' 'SIMIJACA' 'SAN ROQUE' 'NUQUÍ' 'SANTA MARÍA' 'SORACÁ'\n",
      " 'VILLA DE LEYVA' 'SOCHA' 'ANAPOIMA' 'CÁCOTA' 'TAURAMENA' 'MACANAL'\n",
      " 'EL PEÑOL' 'SAN JOSÉ DE PARE' 'QUEBRADANEGRA' 'CHITA' 'SATIVASUR'\n",
      " 'LOS SANTOS' 'EL RETORNO' 'SAN PABLO DE BORBUR' 'DURANIA' 'VETAS'\n",
      " 'LA CAPILLA' 'LABRANZAGRANDE' 'CHISCAS' 'LINARES' 'SAN MARTÍN DE LOBA'\n",
      " 'SAN LUIS DE PALENQUE' 'PÁRAMO' 'COVARACHÍA' 'CABRERA' 'CONVENCIÓN'\n",
      " 'SUAN' 'CHAGUANÍ' 'BERBEO' 'DISTRACCIÓN' 'PAUNA' 'CIÉNEGA' 'TAUSA'\n",
      " 'CERRO DE SAN ANTONIO' 'CHIMA' 'EBÉJICO' 'SATIVANORTE' 'SUPATÁ'\n",
      " 'CHIPAQUE' 'NUEVO COLÓN' 'CONFINES' 'GÁMBITA' 'SAN JOSÉ DE MIRANDA'\n",
      " 'DIBULLA' 'SAN PEDRO DE CARTAGO' 'CARMEN DE CARUPA' 'VIRACACHÁ'\n",
      " 'LOS CÓRDOBAS' 'HERRÁN' 'ZETAQUIRA' 'CAIMITO' 'LA MONTAÑITA' 'VILLA CARO'\n",
      " 'CACHIPAY' 'CARCASÍ' 'HATILLO DE LOBA' 'TIBANÁ' 'CANALETE' 'TUCHÍN'\n",
      " 'CUMARIBO' 'SOMONDOCO' 'SABOYÁ' 'SAN ANDRÉS DE CUERQUÍA' 'BAJO BAUDÓ'\n",
      " 'CHIVOR' 'TÁMARA' 'SANTA ISABEL' 'NOCAIMA' 'MEDIO ATRATO' 'TIMBIQUÍ'\n",
      " 'CRAVO NORTE' 'SAN CALIXTO' 'CUCUNUBÁ' 'CUCUTILLA' 'BOYACÁ' 'CHÍQUIZA'\n",
      " 'PUERRES' 'MOGOTES' 'BOJAYÁ' 'PESCA' 'LA UVITA' 'SAN EDUARDO'\n",
      " 'GUACAMAYAS' 'TIBACUY' 'ALMEIDA' 'LA PLAYA' 'JENESANO' 'PAIME'\n",
      " 'PUERTO ESCONDIDO' 'ARROYOHONDO' 'ARATOCA' 'MURINDÓ' 'TARAPACÁ' 'ATRATO'\n",
      " 'TIBASOSA' 'SUTAMARCHÁN' 'FÚQUENE' 'TINJACÁ' 'FLORESTA' 'HATO COROZAL'\n",
      " 'TEORAMA' 'EL COCUY' 'TENZA' 'TUNUNGUÁ' 'BUCARASICA' 'OPORAPA' 'ALTAMIRA'\n",
      " 'CHIPATÁ' 'EL GUACAMAYO' 'ASTREA' 'CHARTA' 'COPER' 'PACHAVITA' 'NOROSÍ'\n",
      " 'TURMEQUÉ' 'NIMAIMA' 'SAN MATEO' 'SAN MIGUEL DE SEMA' 'EL DORADO'\n",
      " 'TIQUISIO' 'SAN CRISTÓBAL' 'RÁQUIRA' 'LA BELLEZA' 'ONZAGA' 'OICATÁ'\n",
      " 'CORRALES' 'TOPAIPÍ' 'CEPITÁ' 'CHINAVITA' 'GACHANCIPÁ' 'LENGUAZAQUE'\n",
      " 'CHALÁN' 'GUAPOTÁ' 'SIPÍ']\n"
     ]
    }
   ],
   "source": [
    "tipo = data16['COD_MUNIC_CORREGIDO'].dtype\n",
    "print('El tipo de datos de COD_MUNIC_CORREGIDO es: ', tipo)\n",
    "if data16['COD_MUNIC_CORREGIDO'].dtype == 'int64':\n",
    "    data16[\"COD_MUNIC_CORREGIDO\"] = data16[\"COD_MUNIC_CORREGIDO\"].astype(str).str.zfill(5)\n",
    "    print(f'Y dado que era {tipo}, se convirtió a string')\n",
    "    data16['MUNICIPIO'] = data16['COD_MUNIC'].map(municipios_dict)\n",
    "    print(data16['MUNICIPIO'].unique())\n",
    "else:\n",
    "    data16['MUNICIPIO'] = data16['COD_MUNIC_CORREGIDO'].map(municipios_dict)\n",
    "    print(data16['MUNICIPIO'].unique())"
   ]
  },
  {
   "cell_type": "code",
   "execution_count": 23,
   "metadata": {},
   "outputs": [
    {
     "data": {
      "text/plain": [
       "0    BOGOTÁ, D.C.\n",
       "1            CALI\n",
       "2    BARRANQUILLA\n",
       "3           TUNJA\n",
       "4            CALI\n",
       "Name: MUNICIPIO, dtype: object"
      ]
     },
     "execution_count": 23,
     "metadata": {},
     "output_type": "execute_result"
    }
   ],
   "source": [
    "data16['MUNICIPIO'].head()"
   ]
  },
  {
   "cell_type": "code",
   "execution_count": 24,
   "metadata": {},
   "outputs": [
    {
     "name": "stdout",
     "output_type": "stream",
     "text": [
      "Cantidad de valores NaN en MUNICIPIO: 0\n"
     ]
    }
   ],
   "source": [
    "# Mapear municipios\n",
    "data16[\"MUNICIPIO\"] = data16[\"COD_MUNIC_CORREGIDO\"].map(municipios_dict)\n",
    "\n",
    "# Verificar si hay valores NaN\n",
    "nan_count = data16[\"MUNICIPIO\"].isna().sum()\n",
    "print(f\"Cantidad de valores NaN en MUNICIPIO: {nan_count}\")\n"
   ]
  },
  {
   "cell_type": "markdown",
   "metadata": {},
   "source": [
    "Reorganizar la columna"
   ]
  },
  {
   "cell_type": "code",
   "execution_count": 25,
   "metadata": {},
   "outputs": [],
   "source": [
    "del data16['COD_MUNIC'] # Eliminamos la columna"
   ]
  },
  {
   "cell_type": "code",
   "execution_count": 26,
   "metadata": {},
   "outputs": [
    {
     "data": {
      "text/html": [
       "<table border=\"1\" class=\"dataframe\">\n",
       "  <thead>\n",
       "    <tr style=\"text-align: right;\">\n",
       "      <th></th>\n",
       "      <th>COD_DPTO</th>\n",
       "      <th>DEPARTAMENTO</th>\n",
       "      <th>COD_MUNIC_CORREGIDO</th>\n",
       "      <th>MUNICIPIO</th>\n",
       "      <th>A_DEFUN</th>\n",
       "      <th>SIT_DEFUN</th>\n",
       "      <th>COD_INST</th>\n",
       "      <th>NOM_INST</th>\n",
       "      <th>ANO</th>\n",
       "      <th>MES</th>\n",
       "      <th>SEXO</th>\n",
       "      <th>EST_CIVIL</th>\n",
       "      <th>gru_ed1</th>\n",
       "      <th>gru_ed2</th>\n",
       "      <th>NIVEL_EDU</th>\n",
       "      <th>MUERTEPORO</th>\n",
       "      <th>SIMUERTEPO</th>\n",
       "      <th>OCUPACION</th>\n",
       "    </tr>\n",
       "  </thead>\n",
       "  <tbody>\n",
       "    <tr>\n",
       "      <th>0</th>\n",
       "      <td>11</td>\n",
       "      <td>BOGOTÁ, D.C.</td>\n",
       "      <td>11001</td>\n",
       "      <td>BOGOTÁ, D.C.</td>\n",
       "      <td>1</td>\n",
       "      <td>2</td>\n",
       "      <td></td>\n",
       "      <td></td>\n",
       "      <td>1996</td>\n",
       "      <td>11</td>\n",
       "      <td>2</td>\n",
       "      <td>1</td>\n",
       "      <td>10</td>\n",
       "      <td>10</td>\n",
       "      <td>9</td>\n",
       "      <td></td>\n",
       "      <td></td>\n",
       "      <td></td>\n",
       "    </tr>\n",
       "    <tr>\n",
       "      <th>1</th>\n",
       "      <td>76</td>\n",
       "      <td>VALLE DEL CAUCA</td>\n",
       "      <td>76001</td>\n",
       "      <td>CALI</td>\n",
       "      <td>1</td>\n",
       "      <td>2</td>\n",
       "      <td></td>\n",
       "      <td></td>\n",
       "      <td>2007</td>\n",
       "      <td>01</td>\n",
       "      <td>2</td>\n",
       "      <td>1</td>\n",
       "      <td>10</td>\n",
       "      <td>10</td>\n",
       "      <td>2</td>\n",
       "      <td></td>\n",
       "      <td></td>\n",
       "      <td></td>\n",
       "    </tr>\n",
       "    <tr>\n",
       "      <th>2</th>\n",
       "      <td>08</td>\n",
       "      <td>ATLÁNTICO</td>\n",
       "      <td>08001</td>\n",
       "      <td>BARRANQUILLA</td>\n",
       "      <td>1</td>\n",
       "      <td>1</td>\n",
       "      <td></td>\n",
       "      <td></td>\n",
       "      <td>1998</td>\n",
       "      <td>04</td>\n",
       "      <td>2</td>\n",
       "      <td>3</td>\n",
       "      <td>10</td>\n",
       "      <td>10</td>\n",
       "      <td>2</td>\n",
       "      <td></td>\n",
       "      <td></td>\n",
       "      <td></td>\n",
       "    </tr>\n",
       "    <tr>\n",
       "      <th>3</th>\n",
       "      <td>15</td>\n",
       "      <td>BOYACÁ</td>\n",
       "      <td>15001</td>\n",
       "      <td>TUNJA</td>\n",
       "      <td>1</td>\n",
       "      <td>1</td>\n",
       "      <td>1500100021</td>\n",
       "      <td>H SAN RAFAEL DE TUNJA</td>\n",
       "      <td>2005</td>\n",
       "      <td>04</td>\n",
       "      <td>2</td>\n",
       "      <td>1</td>\n",
       "      <td>10</td>\n",
       "      <td>10</td>\n",
       "      <td>9</td>\n",
       "      <td></td>\n",
       "      <td></td>\n",
       "      <td></td>\n",
       "    </tr>\n",
       "    <tr>\n",
       "      <th>4</th>\n",
       "      <td>76</td>\n",
       "      <td>VALLE DEL CAUCA</td>\n",
       "      <td>76001</td>\n",
       "      <td>CALI</td>\n",
       "      <td>1</td>\n",
       "      <td>1</td>\n",
       "      <td>760010379901</td>\n",
       "      <td>E.S.E. HOSPITAL UNIVERSITARIO DEL V</td>\n",
       "      <td>2006</td>\n",
       "      <td>09</td>\n",
       "      <td>2</td>\n",
       "      <td>1</td>\n",
       "      <td>10</td>\n",
       "      <td>10</td>\n",
       "      <td>1</td>\n",
       "      <td></td>\n",
       "      <td></td>\n",
       "      <td></td>\n",
       "    </tr>\n",
       "    <tr>\n",
       "      <th>5</th>\n",
       "      <td>52</td>\n",
       "      <td>NARIÑO</td>\n",
       "      <td>52287</td>\n",
       "      <td>FUNES</td>\n",
       "      <td>1</td>\n",
       "      <td>2</td>\n",
       "      <td></td>\n",
       "      <td></td>\n",
       "      <td>2008</td>\n",
       "      <td>10</td>\n",
       "      <td>2</td>\n",
       "      <td>1</td>\n",
       "      <td>10</td>\n",
       "      <td>10</td>\n",
       "      <td>2</td>\n",
       "      <td>2</td>\n",
       "      <td></td>\n",
       "      <td></td>\n",
       "    </tr>\n",
       "    <tr>\n",
       "      <th>6</th>\n",
       "      <td>52</td>\n",
       "      <td>NARIÑO</td>\n",
       "      <td>52001</td>\n",
       "      <td>PASTO</td>\n",
       "      <td>1</td>\n",
       "      <td>2</td>\n",
       "      <td></td>\n",
       "      <td></td>\n",
       "      <td>1985</td>\n",
       "      <td>11</td>\n",
       "      <td>2</td>\n",
       "      <td>2</td>\n",
       "      <td>10</td>\n",
       "      <td>10</td>\n",
       "      <td>9</td>\n",
       "      <td></td>\n",
       "      <td></td>\n",
       "      <td></td>\n",
       "    </tr>\n",
       "    <tr>\n",
       "      <th>7</th>\n",
       "      <td>68</td>\n",
       "      <td>SANTANDER</td>\n",
       "      <td>68368</td>\n",
       "      <td>JESÚS MARÍA</td>\n",
       "      <td>1</td>\n",
       "      <td>2</td>\n",
       "      <td></td>\n",
       "      <td></td>\n",
       "      <td>1986</td>\n",
       "      <td>05</td>\n",
       "      <td>2</td>\n",
       "      <td>2</td>\n",
       "      <td>10</td>\n",
       "      <td>10</td>\n",
       "      <td>9</td>\n",
       "      <td></td>\n",
       "      <td></td>\n",
       "      <td></td>\n",
       "    </tr>\n",
       "    <tr>\n",
       "      <th>8</th>\n",
       "      <td>76</td>\n",
       "      <td>VALLE DEL CAUCA</td>\n",
       "      <td>76111</td>\n",
       "      <td>GUADALAJARA DE BUGA</td>\n",
       "      <td>1</td>\n",
       "      <td>2</td>\n",
       "      <td></td>\n",
       "      <td></td>\n",
       "      <td>1989</td>\n",
       "      <td>09</td>\n",
       "      <td>2</td>\n",
       "      <td>2</td>\n",
       "      <td>10</td>\n",
       "      <td>10</td>\n",
       "      <td>9</td>\n",
       "      <td></td>\n",
       "      <td></td>\n",
       "      <td></td>\n",
       "    </tr>\n",
       "    <tr>\n",
       "      <th>9</th>\n",
       "      <td>17</td>\n",
       "      <td>CALDAS</td>\n",
       "      <td>17042</td>\n",
       "      <td>ANSERMA</td>\n",
       "      <td>1</td>\n",
       "      <td>2</td>\n",
       "      <td></td>\n",
       "      <td></td>\n",
       "      <td>1990</td>\n",
       "      <td>08</td>\n",
       "      <td>2</td>\n",
       "      <td>1</td>\n",
       "      <td>10</td>\n",
       "      <td>10</td>\n",
       "      <td>9</td>\n",
       "      <td></td>\n",
       "      <td></td>\n",
       "      <td></td>\n",
       "    </tr>\n",
       "  </tbody>\n",
       "</table>"
      ],
      "text/plain": [
       "<IPython.core.display.HTML object>"
      ]
     },
     "metadata": {},
     "output_type": "display_data"
    }
   ],
   "source": [
    "columnas = ['COD_DPTO', 'DEPARTAMENTO', 'COD_MUNIC_CORREGIDO', 'MUNICIPIO'] + [col for col in data16.columns if col not in ['COD_DPTO', 'DEPARTAMENTO', 'COD_MUNIC_CORREGIDO', 'MUNICIPIO']]\n",
    "data16 = data16[columnas]\n",
    "display(HTML(data16.head(10).to_html()))\n"
   ]
  },
  {
   "cell_type": "markdown",
   "metadata": {},
   "source": [
    "Observar el área de defunción y tipo de defunción"
   ]
  },
  {
   "cell_type": "code",
   "execution_count": 27,
   "metadata": {},
   "outputs": [
    {
     "name": "stdout",
     "output_type": "stream",
     "text": [
      "Áreas de defunción únicas:  [1 2 3]\n",
      "Sitios de defunción únicos:  [2 1 3 4]\n"
     ]
    }
   ],
   "source": [
    "print(\"Áreas de defunción únicas: \", data16['A_DEFUN'].unique())\n",
    "print(\"Sitios de defunción únicos: \", data16['SIT_DEFUN'].unique())"
   ]
  },
  {
   "cell_type": "markdown",
   "metadata": {},
   "source": [
    "Diccionario para codifocar area y sitio"
   ]
  },
  {
   "cell_type": "code",
   "execution_count": 28,
   "metadata": {},
   "outputs": [],
   "source": [
    "area_dict = {\n",
    "    '1': 'URBANA',\n",
    "    '2': 'RURAL',\n",
    "    '3': 'SIN INFORMACIÓN'\n",
    "}\n",
    "\n",
    "sitio_dict = {\n",
    "    '1': 'HOSPITAL O CLÍNICA',\n",
    "    '2': 'CASA',\n",
    "    '3': 'OTRO SITIO',\n",
    "    '4': 'SIN INFORMACIÓN'\n",
    "}\n"
   ]
  },
  {
   "cell_type": "code",
   "execution_count": 29,
   "metadata": {},
   "outputs": [],
   "source": [
    "# Asegurar que las columnas sean str\n",
    "data16['A_DEFUN'] = data16['A_DEFUN'].astype(str)\n",
    "data16['SIT_DEFUN'] = data16['SIT_DEFUN'].astype(str)\n",
    "\n",
    "# Mapear correctamente\n",
    "data16['AREA_DEFUN'] = data16['A_DEFUN'].map(area_dict)\n",
    "data16['SITIO_DEFUN'] = data16['SIT_DEFUN'].map(sitio_dict)\n"
   ]
  },
  {
   "cell_type": "markdown",
   "metadata": {},
   "source": [
    "Organizar las columnas"
   ]
  },
  {
   "cell_type": "code",
   "execution_count": 30,
   "metadata": {},
   "outputs": [],
   "source": [
    "# Organizar las variables al final\n",
    "columnas = ['A_DEFUN', 'AREA_DEFUN', 'SIT_DEFUN', 'SITIO_DEFUN']\n",
    "columnas_quedan = [col for col in data16.columns if col not in columnas]\n",
    "data16 = data16[columnas_quedan + columnas]\n"
   ]
  },
  {
   "cell_type": "markdown",
   "metadata": {},
   "source": [
    "Análiis de datos únicos por categoría "
   ]
  },
  {
   "cell_type": "code",
   "execution_count": 31,
   "metadata": {},
   "outputs": [
    {
     "name": "stdout",
     "output_type": "stream",
     "text": [
      "Variable: SEXO\n",
      "Número de categorías únicas: 1\n",
      "Categorías únicas: [2]\n",
      "Variable: NIVEL_EDU\n",
      "Número de categorías únicas: 6\n",
      "Categorías únicas: [9 2 1 3 5 4]\n",
      "Variable: EST_CIVIL\n",
      "Número de categorías únicas: 5\n",
      "Categorías únicas: [1 3 2 4 5]\n",
      "Variable: MUERTEPORO\n",
      "Número de categorías únicas: 4\n",
      "Categorías únicas: [' ' '2' '9' '1']\n",
      "Variable: SIMUERTEPO\n",
      "Número de categorías únicas: 4\n",
      "Categorías únicas: [' ' '9' '2' '1']\n",
      "Variable: OCUPACION\n",
      "Número de categorías únicas: 367\n",
      "Categorías únicas: [' ' 'ESTUDIANTE' 'HOGAR' 'CAJERA' 'MESEROS, TABERNEROS Y AFINES'\n",
      " 'VENDEDORA' 'SIN INFORMACION' 'OFICIOS VARIOS' 'ZAPATEROS Y AFINES'\n",
      " 'VENDEDORES AMBULANTES' 'TRABAJADORES SOCIALES Y AFINES'\n",
      " 'LIMPIABOTAS Y OTROS TRABAJADORES CALLEJEROS'\n",
      " 'T?CNICOS EN DISE?O Y DECORADORES'\n",
      " 'AUXILIARES DE ENFERMER?A Y ODONTOLOG?A'\n",
      " 'CAJEROS Y EXPENDEDORES DE BILLETES' '?' 'AMA DE CASA' 'AGRICULTURA'\n",
      " 'COCINEROS Y AFINES' 'VENDEDORES, DEMOSTRADORES DE TIENDAS Y ALMACENES'\n",
      " 'COORDINADORES Y SUPERVISORES FINANCIEROS Y ADMINISTRATIVOS'\n",
      " 'AUXILIARES ADMINISTRATIVOS Y AFINES' 'SECRETARIOS (AS)'\n",
      " 'PROFESIONALES DE LA EDUCACIËN, NO CLASIFICADOS BAJO OTROS EP'\n",
      " 'PENSIONADO' 'MECANËGRAFOS, TRANSCRIPTORES DE TEXTOS Y AFINES'\n",
      " 'REPRESENTANTES COMERCIALES Y T+CNICOS DE VENTAS' 'PERSONAL DOM+STICO'\n",
      " 'OTROS TRABAJADORES DE SERVICIOS PERSONALES A PARTICULARES, N'\n",
      " 'ASEADORES Y FUMIGADORES DE OFICINAS, HOTELES Y OTROS ESTABLE'\n",
      " 'PERSONAL DOMÉSTICO'\n",
      " 'TÉCNICOS Y POSTSECUNDARIOS NO UNIVERSITARIOS EN INGENIERÍA I'\n",
      " 'M?DICOS, PROFESIONALES EN CIENCIAS DE LA SALUD Y AFINES, NO'\n",
      " 'REPRESENTANTES COMERCIALES Y T?CNICOS DE VENTAS'\n",
      " 'NI?ERAS Y CUIDADORAS INFANTILES' 'AGRICULTORES DE CULTIVOS TRANSITORIOS'\n",
      " 'DIRIGENTES Y ADMINISTRADORES DE ORGANIZACIONES DE EMPLEADORE'\n",
      " 'SASTRES, MODISTOS COSTUREROS SOMBREREROS Y AFINES'\n",
      " 'PANADEROS  PASTELEROS Y CONFITEROS' 'PSICÓLOGOS' 'CONDUCTORES DE TAXIS'\n",
      " 'OTROS TRABAJADORES DE SERVICIOS PERSONALES A PARTICULARES  NO CLASIFICADOS BAJO OTROS EPÍGRAFES'\n",
      " 'OPERADORES DE MÁQUINAS PARA FABRICAR PRODUCTOS DE PLÁSTICO'\n",
      " 'VENDEDORES  DEMOSTRADORES DE TIENDAS Y ALMACENES'\n",
      " 'RECEPCIONISTAS  EMPLEADOS DE INFORMACIÓN Y SERVICIO AL CLIENTE'\n",
      " 'SERVICIOS GENERALES'\n",
      " 'PELUQUEROS, ESPECIALISTAS EN TRATAMIENTOS DE BELLEZA Y AFINE'\n",
      " 'TRABAJADORES DE HUERTAS, INVERNADEROS, VIVEROS Y JARDINES'\n",
      " 'RECOLECTORES DE BASURA' 'AUXILIARES DE CONTABILIDAD Y C-LCULO DE COSTOS'\n",
      " 'AUXILIARES DE ENFERMER-A Y ODONTOLOG-A'\n",
      " 'OPERADORES DE M-QUINAS PARA FABRICAR PRODUCTOS DE PAPEL Y AF' 'ABOGADOS'\n",
      " 'ENFERMEROS(AS) PROFESIONALES' 'VENDEDORES A DOMICILIO Y POR TEL+FONO'\n",
      " 'INGENIEROS INDUSTRIALES Y AFINES'\n",
      " 'DIRECTORES DE DEPARTAMENTOS DE PRODUCCIËN Y OPERACIONES EN C'\n",
      " 'CATADORES Y CLASIFICADORES DE ALIMENTOS Y BEBIDAS'\n",
      " 'DIRECTORES DE DEPARTAMENTOS DE PERSONAL Y DE RELACIONES LABO'\n",
      " 'TRABAJADORES DE LOS CUIDADOS PERSONALES Y AFINES, NO CLASIFI'\n",
      " 'ESPECIALISTAS EN M+TODOS PEDAGËGICOS Y MATERIAL DID-CTICO'\n",
      " 'T+CNICOS EN PROGRAMACIËN INFORM-TICA' 'METEORËLOGOS'\n",
      " 'MODELOS DE MODAS, ARTE Y PUBLICIDAD'\n",
      " 'PROFESORES DE EDUCACIËN SECUNDARIA'\n",
      " 'T+CNICOS, POSTSECUNDARIOS NO UNIVERSITARIOS Y ASISTENTES EN'\n",
      " 'ESCRITORES, PERIODISTAS Y AFINES'\n",
      " 'COORDINADORES Y SUPERVISORES DE PRODUCCIËN Y OPERACIONES EN'\n",
      " 'CONTADORES'\n",
      " 'AGRICULTORES DE CULTIVOS PERMANENTES (PLANTACIONES DE -RBOLE'\n",
      " 'MÚSICOS, CANTANTES Y BAILARINES CALLEJEROS, DE CABARET Y AFI'\n",
      " 'DIRECTORES DE DEPARTAMENTOS DE PUBLICIDAD Y DE RELACIONES PÚ'\n",
      " 'ARQUITECTOS, INGENIEROS Y AFINES, NO CLASIFICADOS BAJO OTROS'\n",
      " 'NIÑERAS Y CUIDADORAS INFANTILES'\n",
      " 'AUXILIARES DE CONTABILIDAD Y CÁLCULO DE COSTOS'\n",
      " 'TÉCNICOS, POSTSECUNDARIOS NO UNIVERSITARIOS EN INGENIERÍA CI'\n",
      " 'OTROS COORDINADORES Y SUPERVISORES EN MANDOS MEDIOS DE EMPRE'\n",
      " 'PROFESORES DE EDUCACIÓN PREESCOLAR' 'AGENTES DE LA POLICÍA NACIONAL'\n",
      " 'PROFESORES DE EDUCACI?N PRIMARIA'\n",
      " 'COORDINADORES Y SUPERVISORES DE VENTAS Y COMERCIALIZACI?N'\n",
      " 'ANALISTAS DE SISTEMAS INFORM?TICOS'\n",
      " 'INGENIEROS EL?CTRICOS, INGENIEROS ELECTR?NICOS DE TELECOMUNI'\n",
      " 'OFICIALES DE LAS FUERZAS MILITARES'\n",
      " 'OPERADORES DE EQUIPOS DE RADIODIFUSI?N, TELEVISI?N Y TELECOM'\n",
      " 'AGENTES COMERCIALES Y CORREDORES, NO CLASIFICADOS BAJO OTROS'\n",
      " 'OPERARIOS DEL TRATAMIENTO DE LA MADERA' 'PARTERAS'\n",
      " 'PROFESORES DE EDUCACI?N PREESCOLAR' 'T?CNICOS Y ASISTENTES EN FARMACIA'\n",
      " 'T?CNICOS, POSTSECUNDARIOS NO UNIVERSITARIOS Y ASISTENTES DE'\n",
      " 'PERSONAL DOM?STICO'\n",
      " 'DIRECTORES DE DEPARTAMENTOS DE PRODUCCI?N Y OPERACIONES EN T'\n",
      " 'PRACTICANTES DE LA MEDICINA TRADICIONAL'\n",
      " 'DIRECTORES GENERALES, DE EMPRESAS O ENTIDADES DE LA ADMINIST'\n",
      " 'ACTORES Y DIRECTORES DE CINE, RADIO, TEATRO, TELEVISI?N Y AF'\n",
      " 'COORDINADORES Y SUPERVISORES DE PRODUCCI?N Y OPERACIONES EN'\n",
      " 'OTROS ARTESANOS  NO CLASIFICADOS BAJO OTROS EPÍGRAFES'\n",
      " 'TÉCNICOS EN AGRONOMÍA  ZOOTECNIA Y SILVICULTURA'\n",
      " 'AUXILIARES DE ENFERMERÍA Y ODONTOLOGÍA'\n",
      " 'DIRIGENTES Y ADMINISTRADORES DE ORGANIZACIONES DE EMPLEADORES  DE TRABAJADORES Y DE OTRAS DE IN'\n",
      " 'FONOAUDÍOLOGOS  FISIOTERAPEUTAS Y AFINES'\n",
      " 'CONDUCTORES DE CAMIONETAS Y VEHÍCULOS LIVIANOS'\n",
      " 'EMPLEADOS DE BIBLIOTECAS Y ARCHIVOS'\n",
      " 'PELUQUEROS  ESPECIALISTAS EN TRATAMIENTOS DE BELLEZA Y AFINES'\n",
      " 'SASTRES  MODISTOS COSTUREROS SOMBREREROS Y AFINES'\n",
      " 'AGENTES COMERCIALES Y CORREDORES  NO CLASIFICADOS BAJO OTROS EPÍGRAFES'\n",
      " 'CONSEJEROS EDUCATIVOS'\n",
      " 'COORDINADORES Y SUPERVISORES DE PUBLICIDAD  INFORMACIÓN  RELACIONES PÚBLICAS Y SERVICIO AL CLIE'\n",
      " 'ASISTENTES DE ENSEÑANZA EN EDUCACIÓN SUPERIOR  SECUNDARIA Y PRIMARIA'\n",
      " 'DIRECTORES DE REGIONALES SUCURSALES OFICINAS Y AFINES DE EMPRESAS PRIVADAS'\n",
      " 'AGENTES DE COMPRAS  INTERMEDIARIOS Y CONSIGNATARIOS'\n",
      " 'TÉCNICOS  POSTSECUNDARIOS NO UNIVERSITARIOS Y ASISTENTES DE SERVICIOS ADMINISTRATIVOS Y AFINES'\n",
      " 'VIGILANTES Y CELADORES'\n",
      " 'MÉDICOS  PROFESIONALES EN CIENCIAS DE LA SALUD Y AFINES  NO CLASIFICADOS BAJO OTROS EPÍGRAFES'\n",
      " 'VENDEDORES EN QUIOSCOS Y PUESTOS DE MERCADO'\n",
      " 'DIRECTORES DE DEPARTAMENTOS DE PRODUCCIÓN Y OPERACIONES EN RESTAURANTES  HOTELES Y AFINES'\n",
      " 'OPERARIA' 'FINCA' 'OFICIOS DOMESTICOS' 'EMPLEADA' 'DOCENTE'\n",
      " 'OPERADORES DE M-QUINAS PARA COSER' 'CULTIVADORA DE FLORES' 'AGRICULTOR'\n",
      " 'AUXILIAR DE DROGUERIA' 'COMERCIANTE' 'PSICOLOGA'\n",
      " 'DIRECTORES Y GERENTES GENERALES DE EMPRESAS PRIVADAS'\n",
      " 'FONOAUD-OLOGOS, FISIOTERAPEUTAS Y AFINES'\n",
      " 'PROFESIONALES DEL DERECHO, NO CLASIFICADOS BAJO OTROS EP-GRA'\n",
      " 'PROFESORES DE EDUCACIËN PREESCOLAR'\n",
      " 'INSTRUCTORES MEDIOS DE TRANSPORTE Y AFINES'\n",
      " 'DIRECTORES DE DEPARTAMENTOS DE VENTAS Y COMERCIALIZACIËN' 'COMPRADORES'\n",
      " 'PILOTOS DE AVIACIËN Y AFINES' 'PROFESORES DE EDUCACIËN PRIMARIA'\n",
      " 'RECEPTORES DE APUESTAS Y AFINES' 'PRESTAMISTAS'\n",
      " 'T+CNICOS Y ASISTENTES EN FARMACIA'\n",
      " 'ENCARGADOS DE CONTROL DE ABASTECIMIENTOS E INVENTARIO'\n",
      " 'OTROS ARTESANOS, NO CLASIFICADOS BAJO OTROS EP-GRAFES'\n",
      " 'COORDINADORES Y SUPERVISORES DE SERVICIOS SOCIALES, EDUCACIË'\n",
      " 'VISITADORA M+DICA' 'NIÐERAS Y CUIDADORAS INFANTILES'\n",
      " 'OPERADORES DE M-QUINAS PARA FABRICAR PRODUCTOS TEXTILES Y AR'\n",
      " 'M+DICOS, PROFESIONALES EN CIENCIAS DE LA SALUD Y AFINES, NO'\n",
      " 'RECEPCIONISTAS, EMPLEADOS DE INFORMACIËN Y SERVICIO AL CLIEN'\n",
      " 'PERSONAL DE LOS SERVICIOS DE PROTECCIËN Y SEGURIDAD, NO CLAS'\n",
      " 'ENCUADERNADORES Y AFINES' 'VENDEDORES A DOMICILIO Y POR TELÉFONO'\n",
      " 'ESPECIALISTAS EN MÉTODOS PEDAGÓGICOS Y MATERIAL DIDÁCTICO'\n",
      " 'TÉCNICOS EN PROGRAMACIÓN INFORMÁTICA'\n",
      " 'INSTRUCTORES DE EDUCACIÓN VOCACIONAL ARTESANAL'\n",
      " 'COORDINADORES Y SUPERVISORES DE VENTAS Y COMERCIALIZACIÓN'\n",
      " 'ESCULTORES, PINTORES Y AFINES' 'PROFESORES DE EDUCACIÓN SECUNDARIA'\n",
      " 'ANALISTAS Y AGENTES FINANCIEROS'\n",
      " 'ENCARGADOS DE SERVICIOS DE APOYO A LA PRODUCCI?N'\n",
      " 'DIRECTORES DE DEPARTAMENTOS DE PRODUCCI?N Y OPERACIONES EN S'\n",
      " 'VENDEDORES A DOMICILIO Y POR TEL?FONO'\n",
      " 'EMPLEADOS TELEFONISTAS Y DE SERVICIOS DE INTERNET' 'PSIC?LOGOS'\n",
      " 'DIRIGENTES Y ADMINISTRADORES DE ORGANIZACIONES HUMANITARIAS'\n",
      " 'COORDINADORES Y SUPERVISORES EN MANDOS MEDIOS DE PRODUCCI?N'\n",
      " 'JEFES DE COMUNIDADES IND?GENAS, ETNIAS ESPECIALES Y AFINES'\n",
      " 'OPERARIOS DE LA CONSERVACI?N DE FRUTAS, LEGUMBRES, VERDURAS'\n",
      " 'REPRESENTANTES COMERCIALES Y TÉCNICOS DE VENTAS'\n",
      " 'MÉDICOS VETERINARIOS Y ZOOTECNISTAS' 'ECONOMISTAS'\n",
      " 'MESEROS  TABERNEROS Y AFINES'\n",
      " 'ARQUITECTOS  INGENIEROS Y AFINES  NO CLASIFICADOS BAJO OTROS EPÍGRAFES'\n",
      " 'AGRICULTORES DE CULTIVOS PERMANENTES (PLANTACIONES DE ÁRBOLES Y ARBUSTOS)'\n",
      " 'ACOMPAÑANTES' 'AUXILIAR DE COBRANZA' 'AUX  CARTERA'\n",
      " 'TRABAJADOR INDEPENDIENTE' 'RECOLECTORES DE MATERIAL RECICLABLE'\n",
      " 'OPERADORES DE M-QUINAS PULIDORAS, GALVANIZADORAS Y RECUBRIDO'\n",
      " 'PELUQUERA' 'PULIDORES DE METALES Y AFILADORES DE HERRAMIENTAS'\n",
      " 'TRABAJADORES AGROPECUARIOS'\n",
      " 'DIRECTORES DE DEPARTAMENTOS DE ABASTECIMIENTO Y DISTRIBUCIËN'\n",
      " 'BORDADORES Y AFINES' 'CONDENADA LEY 30'\n",
      " 'T+CNICOS, POSTSECUNDARIOS NO UNIVERSITARIOS EN CIENCIAS F-SI'\n",
      " 'INGENIEROS EL+CTRICOS, INGENIEROS ELECTRËNICOS DE TELECOMUNI'\n",
      " 'AUXILIARES LAICOS DE LOS CULTOS'\n",
      " 'PROFESORES DE UNIVERSIDADES Y OTROS ESTABLECIMIENTOS DE EDUC'\n",
      " 'ASISTENTES EN TRABAJO SOCIAL Y COMUNITARIO'\n",
      " 'AUXILIARES DE SERVICIOS ESTAD-STICOS Y FINANCIEROS'\n",
      " 'COORDINADORES Y SUPERVISORES DE PRODUCCIÓN Y OPERACIONES EN'\n",
      " 'OPERADORES DE MÁQUINAS PARA LA FABRICACIÓN DE CALZADO Y AFIN'\n",
      " 'OPERARIOS DE LA CONSERVACIÓN DE FRUTAS, LEGUMBRES, VERDURAS'\n",
      " 'EMBALADORES MANUALES Y OTROS OBREROS DE LA INDUSTRIA MANUFAC'\n",
      " 'INSPECTORES DE LA EDUCACIÓN'\n",
      " 'T?CNICOS Y POSTSECUNDARIOS NO UNIVERSITARIOS EN MEC?NICA Y C'\n",
      " 'RECEPCIONISTAS, EMPLEADOS DE INFORMACI?N Y SERVICIO AL CLIEN'\n",
      " 'PROFESORES DE EDUCACI?N SECUNDARIA'\n",
      " 'AGRICULTORES DE CULTIVOS PERMANENTES (PLANTACIONES DE ?RBOLE'\n",
      " 'ODONT?LOGOS'\n",
      " 'OPERADORES DE M?QUINAS PARA FABRICAR PRODUCTOS TEXTILES Y AR'\n",
      " 'OBREROS DE ENSAMBLE'\n",
      " 'T?CNICOS, POSTSECUNDARIOS NO UNIVERSITARIOS Y ASISTENTES EN'\n",
      " 'ESTADÍSTICOS' 'ODONTÓLOGOS' 'FLORISTAS Y ARREGLISTAS FLORALES'\n",
      " 'TÉCNICOS  POSTSECUNDARIOS NO UNIVERSITARIOS Y ASISTENTES DEL DERECHO Y SERVICIOS LEGALES Y AFIN'\n",
      " 'TÉCNICOS Y ASISTENTES EN FARMACIA' 'PESCADORES'\n",
      " 'OPERADORES DE MÁQUINAS PARA FABRICAR PRODUCTOS TEXTILES Y ARTÍCULOS DE PIEL Y CUERO  NO CLASIFI'\n",
      " 'GERENTE FINANCIERO' 'OPERARIA MAQUINA PLANA' 'AMA DE  CASA' 'AMA DECASA'\n",
      " 'OFICIOS VARIOS EN SEMINARIO' 'SERVICIOS DOMESTICOS' 'PORFESORA'\n",
      " 'EMPLEADA DE SERVICIO' 'CULTIVADORA FLORES' 'VENDERORA'\n",
      " 'AUXILIAR DE ESTADISTICA' 'COCINERA' 'PSICËLOGOS'\n",
      " 'AGENTES DE LA POLIC-A NACIONAL' 'ASISTENTES DE EDUCACIËN ESPECIAL'\n",
      " 'OPERADORES DE INSTALACIONES PARA LA FABRICACIËN DE PAPEL'\n",
      " 'ARTESANOS DE LOS TEJIDOS, EL CUERO Y MATERIALES SIMILARES'\n",
      " 'DIRECTORES DE DEPARTAMENTOS FINANCIEROS Y ADMINISTRATIVOS' 'ESTILISTA'\n",
      " 'JEFES DE COMUNIDADES IND-GENAS, ETNIAS ESPECIALES Y AFINES'\n",
      " 'F-SICOS Y ASTRËNOMOS'\n",
      " 'DIRECTORES DE DEPARTAMENTOS DE PRODUCCIËN Y OPERACIONES EN A'\n",
      " 'DIRECTORES DE DEPARTAMENTOS DE PRODUCCIÓN Y OPERACIONES EN C'\n",
      " 'PROFESIONALES DE LA EDUCACIÓN, NO CLASIFICADOS BAJO OTROS EP'\n",
      " 'PERSONAL DE POMPAS FÚNEBRES Y EMBALSAMADORES'\n",
      " 'PROFESIONALES DEL DERECHO, NO CLASIFICADOS BAJO OTROS EPÍGRA'\n",
      " 'TÉCNICOS, POSTSECUNDARIOS NO UNIVERSITARIOS Y ASISTENTES DE'\n",
      " 'OBREROS Y PEONES AGROPECUARIOS DE LABRANZA Y DE INVERNADERO'\n",
      " 'PROFESORES DE EDUCACIÓN PRIMARIA' 'OBREROS DE MINAS Y CANTERAS'\n",
      " 'ASISTENTES DE COMERCIO EXTERIOR'\n",
      " 'ARTESANOS DE LA MADERA Y MATERIALES SIMILARES'\n",
      " 'ASISTENTES DE ENSE?ANZA EN EDUCACI?N PREESCOLAR'\n",
      " 'OPERADORES DE TELARES Y OTRAS M?QUINAS TEJEDORAS' 'PRESA BUEN PASTOR'\n",
      " 'DIRECTORES DE DEPARTAMENTOS DE PRODUCCI?N Y OPERACIONES EN A'\n",
      " 'MATEM?TICOS Y ACTUARIOS'\n",
      " 'ASEADORES Y FUMIGADORES DE OFICINAS  HOTELES Y OTROS ESTABLECIMIENTOS'\n",
      " 'CARNICEROS  PESCADEROS Y AFINES'\n",
      " 'OPERADORES DE INSTALACIONES DE VIDRIERÍA  CERÁMICA Y AFINES  NO CLASIFICADOS BAJO OTROS EPÍGRAF'\n",
      " 'HIGIENISTAS Y PROMOTORES DE SALUD' 'ESCULTORES  PINTORES Y AFINES'\n",
      " 'LAVANDEROS Y PLANCHADORES MANUALES'\n",
      " 'TRABAJADORES DE LOS CUIDADOS PERSONALES Y AFINES  NO CLASIFICADOS BAJO OTROS EPÍGRAFES'\n",
      " 'PERSONAL DE LOS SERVICIOS DE PROTECCIÓN Y SEGURIDAD  NO CLASIFICADO BAJO OTROS EPÍGRAFES'\n",
      " 'NUTRICIONISTAS Y DIETISTAS'\n",
      " 'OPERARIOS DE LA CONSERVACIÓN DE FRUTAS  LEGUMBRES  VERDURAS Y AFINES'\n",
      " 'DIRECTORES DE DEPARTAMENTOS DE PRODUCCIÓN Y OPERACIONES EN AGRICULTURA  CAZA  SILVICULTURA Y PE'\n",
      " 'MODISTA' 'ODONTËLOGOS' 'CUIDANDO ANCIANOS' 'MODISTERIA' 'NINGUNA'\n",
      " 'COORDINADORES Y SUPERVISORES EN MANDOS MEDIOS DE PRODUCCIËN'\n",
      " 'MINEROS Y CANTEROS'\n",
      " 'ESPECIALISTAS EN ORGANIZACIËN, ADMINISTRACIËN DE EMPRESAS, A'\n",
      " 'COORDINADORES Y SUPERVISORES DE VENTAS Y COMERCIALIZACIËN'\n",
      " 'OBREROS DE OBRAS P+BLICAS Y MANTENIMIENTO: CARRETERAS, PRESA'\n",
      " 'BIBLIOTECARIOS, DOCUMENTALISTAS Y AFINES'\n",
      " 'SOCIËLOGOS, ANTROPËLOGOS Y AFINES'\n",
      " 'PINTORES DECORADORES DE VIDRIO, CERÁMICA Y OTROS MATERIALES'\n",
      " 'TÉCNICOS EN DISEÑO Y DECORADORES'\n",
      " 'COORDINADORES Y SUPERVISORES DE SERVICIOS SOCIALES, EDUCACIÓ'\n",
      " 'AGRICULTORES DE CULTIVOS PERMANENTES (PLANTACIONES DE ÁRBOLE'\n",
      " 'ELECTROT?CNICOS' 'PROFESORES E INSTRUCTORES DE EDUCACI?N ESPECIAL'\n",
      " 'PROFESIONALES DE LA EDUCACI?N, NO CLASIFICADOS BAJO OTROS EP'\n",
      " 'OTROS ARTESANOS, NO CLASIFICADOS BAJO OTROS EP?GRAFES' 'GU?AS'\n",
      " 'TEJEDORES CON TELARES O DE TEJIDOS DE PUNTO Y AFINES'\n",
      " 'AYUDANTES EN REPARACI?N Y MEC?NICA EN GENERAL (EXCEPTO VEH?C'\n",
      " 'TAQUILLEROS' 'INSPECTORES DE LA EDUCACI?N'\n",
      " 'ASISTENTES DE ENSE?ANZA EN EDUCACI?N SUPERIOR, SECUNDARIA Y'\n",
      " 'EBANISTAS Y AFINES'\n",
      " 'ESPECIALISTAS EN ORGANIZACIÓN  ADMINISTRACIÓN DE EMPRESAS  ANÁLISIS FINANCIERO Y AFINES  NO CLA'\n",
      " 'NUTRICIONISTA' 'HIOGAR' 'DISCAPACITADA' 'ACOMPAÐANTES' 'OFICIOS  VARIOS'\n",
      " 'OFICIOS VARAIOS'\n",
      " 'ACTORES Y DIRECTORES DE CINE, RADIO, TEATRO, TELEVISIËN Y AF'\n",
      " 'T+CNICOS EN DISEÐO Y DECORADORES'\n",
      " 'DIRECTORES DE DEPARTAMENTOS DE PRODUCCIËN Y OPERACIONES EN R'\n",
      " 'DIRECTORES DE DEPARTAMENTOS DE PRODUCCIËN Y OPERACIONES EN S' 'M+DICOS'\n",
      " 'DIRECTORES DE DEPARTAMENTOS DE PRODUCCIÓN Y OPERACIONES EN A'\n",
      " 'SUBOFICIALES DE LA POLICÍA NACIONAL'\n",
      " 'PROFESORES E INSTRUCTORES DE EDUCACIÓN ESPECIAL' 'AGR?NOMOS Y AFINES'\n",
      " 'DIRECTORES DE DEPARTAMENTOS DE VENTAS Y COMERCIALIZACI?N'\n",
      " 'INSTRUCTORES DE EDUCACI?N VOCACIONAL ARTESANAL'\n",
      " 'ARQUITECTOS Y URBANISTAS'\n",
      " 'DIRECTORES DE DEPARTAMENTOS DE PRODUCCI?N Y OPERACIONES EN C'\n",
      " 'ARTESANOS DE LOS TEJIDOS  EL CUERO Y MATERIALES SIMILARES'\n",
      " 'PORTEROS   CONSERJES Y AFINES'\n",
      " 'OBREROS DE OBRAS PÚBLICAS Y MANTENIMIENTO: CARRETERAS  PRESAS Y OBRAS SIMILARES'\n",
      " 'SUPERIORA PROVINCIAL' 'NINGUNO' 'COMERCIANTE DE FLORES' 'CAMPESINA'\n",
      " 'AMA DE  CS' 'ESTAD-STICOS' 'AGRËNOMOS Y AFINES'\n",
      " 'AUXILIARES DE LA POLICIA NACIONAL' 'COBRADORES Y AFINES'\n",
      " 'FABRICANTES Y AFINADORES DE INSTRUMENTOS MUSICALES'\n",
      " 'INGENIEROS QU?MICOS Y AFINES' 'T?CNICOS EN PROGRAMACI?N INFORM?TICA'\n",
      " 'DIRECTORES DE REGIONALES  SUCURSALES  OFICINAS Y AFINES DE LA ADMINISTRACIÓN PÚBLICA'\n",
      " 'COORDINADORES Y SUPERVISORES DE PRODUCCIÓN Y OPERACIONES EN CUIDADOS PERSONALES  LIMPIEZA Y SER'\n",
      " 'TRABAJADORA DEL CAMPO' 'SECRETARIA' '0' 'GUARNECEDORA' 'AMA  DE CASA'\n",
      " 'ALFAREROS Y AFINES (BARRO, ARCILLA Y ABRASIVOS)'\n",
      " 'SACERDOTES Y RELIGIOSOS DE DISTINTAS DOCTRINAS'\n",
      " 'PANADEROS, PASTELEROS Y CONFITEROS' 'AGRÓNOMOS Y AFINES'\n",
      " 'CARNICEROS, PESCADEROS Y AFINES'\n",
      " 'MIEMBROS DEL PODER EJECUTIVO Y DE LOS CUERPOS LEGISLATIVOS'\n",
      " 'COORDINADORES Y SUPERVISORES DE SERVICIOS SOCIALES, EDUCACI?'\n",
      " 'JEFES DE COMUNIDADES INDÍGENAS  ETNIAS ESPECIALES Y AFINES'\n",
      " 'PROFESORES DE UNIVERSIDADES Y OTROS ESTABLECIMIENTOS DE EDUCACIÓN SUPERIOR'\n",
      " 'SIN OCUPACION'\n",
      " 'IMPRESORES DE SERICIGRAF-A Y ESTAMPADORES A LA PLANCHA Y EN' 'CESANTE'\n",
      " 'EMPLEADA DOMESTICA'\n",
      " 'INGENIEROS CATASTRALES, INGENIEROS GEËGRAFOS Y AFINES'\n",
      " 'AGENTES P+BLICOS Y PRIVADOS DE COLOCACIËN Y CONTRATISTAS DE'\n",
      " 'PROFESORES E INSTRUCTORES DE EDUCACIËN ESPECIAL'\n",
      " 'DIRECTORES DE DEPARTAMENTOS DE VENTAS Y COMERCIALIZACIÓN'\n",
      " 'JEFES DE COMUNIDADES INDÍGENAS, ETNIAS ESPECIALES Y AFINES'\n",
      " 'FIL?LOGOS, TRADUCTORES E INT?RPRETES' 'ACOMPA?ANTES'\n",
      " 'EMPLEADOS DE SERVICIOS DE CORREO'\n",
      " 'OPERADORES DE MÁQUINAS PARA PROCESAR CEREALES  PRODUCTOS DE PANADERÍA  REPOSTERÍA Y CONFITERÍA'\n",
      " 'CRIADORES DE GANADO Y TRABAJADORES DE LA CRÍA DE ANIMALES DOMÉSTICOS DIVERSOS'\n",
      " 'ILEGIBLE' 'AMA DE CS' 'OPERADORES DE TELARES Y OTRAS M-QUINAS TEJEDORAS'\n",
      " 'T+CNICOS, POSTSECUNDARIOS NO UNIVERSITARIOS Y ASISTENTES DE'\n",
      " 'MECAN?GRAFOS, TRANSCRIPTORES DE TEXTOS Y AFINES'\n",
      " 'OBREROS DE PESCA, CAZA Y TRAMPA'\n",
      " 'MECANÓGRAFOS  TRANSCRIPTORES DE TEXTOS Y AFINES' 'OFIVIOS VARIOS'\n",
      " 'SENILIDAD' 'AMA  DE  CS' 'PORTEROS , CONSERJES Y AFINES' 'CURANDEROS'\n",
      " 'PROFESORA' 'DESCONOCIDA'\n",
      " 'AGENTES P?BLICOS Y PRIVADOS DE COLOCACI?N Y CONTRATISTAS DE'\n",
      " 'TRABAJADORES PECUARIOS, GANADEROS Y AFINES, NO CLASIFICADOS']\n"
     ]
    }
   ],
   "source": [
    "categorical_columns = ['SEXO', 'NIVEL_EDU', 'EST_CIVIL', 'MUERTEPORO', 'SIMUERTEPO', 'OCUPACION']\n",
    "\n",
    "unique_count = data16[categorical_columns].nunique()\n",
    "unique_values ={col: data16[col].unique() for col in categorical_columns}\n",
    "\n",
    "for col in categorical_columns:\n",
    "    print(f\"Variable: {col}\")\n",
    "    print(f\"Número de categorías únicas: {unique_count[col]}\")\n",
    "    print(f\"Categorías únicas: {unique_values[col]}\")"
   ]
  },
  {
   "cell_type": "markdown",
   "metadata": {},
   "source": [
    "Codificar sexo, estado civil y nivel educativo"
   ]
  },
  {
   "cell_type": "code",
   "execution_count": 32,
   "metadata": {},
   "outputs": [],
   "source": [
    "sex = {\n",
    "    '1': 'Mascuilino',\n",
    "    '2': 'Femenino',\n",
    "    '3': 'Indeterminado'\n",
    "}\n",
    "\n",
    "estado_civil = {\n",
    "    '1': 'Soltero', \n",
    "    '2': 'Casado',\n",
    "    '3': 'Viudo',\n",
    "    '4': 'Unión Libre, divorciado, otro',\n",
    "    '5': 'Sin información'\n",
    "}\n",
    "\n",
    "educacion = {\n",
    "    '1': 'Preescolar',\n",
    "    '2': 'Primaria',\n",
    "    '3': 'Secundaria',\n",
    "    '4': 'Superior',\n",
    "    '5': 'Ninguno',\n",
    "    '9': 'Sin información'\n",
    "}\n",
    "\n",
    "muerteocupacion = {\n",
    "    '1': 'Si',\n",
    "    '2': 'No',\n",
    "    '9': 'Sin información'\n",
    "\n",
    "}\n",
    "\n",
    "simuerteocupacion = {\n",
    "    '1': 'Accidente de tránsito',\n",
    "    '2': 'Enfermedad profesional',\n",
    "    '9': 'Sin información'\n",
    "}\n",
    "\n",
    "grupo_edad = {\n",
    "    '10': '15-19',\n",
    "    '11': '20-24',\n",
    "    '12': '25-29',\n",
    "    '13': '30-34',\n",
    "    '14': '35-39',\n",
    "    '15': '40-44',\n",
    "    '16': '45-49',\n",
    "    '17': '50-54',\n",
    "    '18': '55-59',\n",
    "    '19': '60-64',\n",
    "    '20': '65-69',\n",
    "    '21': '70-74',\n",
    "    '22': '75-79',\n",
    "    '23': '80-84',\n",
    "    '24': '85 y más',\n",
    "    '25': 'Edad desconocida'\n",
    "}"
   ]
  },
  {
   "cell_type": "markdown",
   "metadata": {},
   "source": [
    "Realizamos las respectivas transformaciones"
   ]
  },
  {
   "cell_type": "code",
   "execution_count": 33,
   "metadata": {},
   "outputs": [],
   "source": [
    "# Las variables deben ser de tipo str\n",
    "data16['SEXO'] = data16['SEXO'].astype(str)\n",
    "data16['EST_CIVIL'] = data16['EST_CIVIL'].astype(str)\n",
    "data16['NIVEL_EDU'] = data16['NIVEL_EDU'].astype(str)\n",
    "data16['MUERTEPORO'] = data16['MUERTEPORO'].astype(str)\n",
    "data16['SIMUERTEPO'] = data16['SIMUERTEPO'].astype(str)\n",
    "data16['gru_ed1'] = data16['gru_ed1'].astype(str)"
   ]
  },
  {
   "cell_type": "code",
   "execution_count": 34,
   "metadata": {},
   "outputs": [],
   "source": [
    "#Mapeamos las variables\n",
    "data16['SEX'] = data16['SEXO'].map(sex)\n",
    "data16['ESTADO_CIVIL'] = data16['EST_CIVIL'].map(estado_civil)\n",
    "data16['NIVEL_EDUCACION'] = data16['NIVEL_EDU'].map(educacion)\n",
    "data16['MUERTE_POR_OCUPACION'] = data16['MUERTEPORO'].map(muerteocupacion)\n",
    "data16['SIMUERTE_POR_OCUPACION'] = data16['SIMUERTEPO'].map(simuerteocupacion)\n",
    "data16['GRUPO_ETARIO'] = data16['gru_ed1'].map(grupo_edad)"
   ]
  },
  {
   "cell_type": "markdown",
   "metadata": {},
   "source": [
    "Organizamos las variables"
   ]
  },
  {
   "cell_type": "code",
   "execution_count": 35,
   "metadata": {},
   "outputs": [],
   "source": [
    "columnas = ['SEXO', 'SEX', 'EST_CIVIL', 'ESTADO_CIVIL', 'NIVEL_EDU', 'NIVEL_EDUCACION', 'MUERTEPORO', 'MUERTE_POR_OCUPACION', 'SIMUERTEPO', 'SIMUERTE_POR_OCUPACION', 'gru_ed1', 'GRUPO_ETARIO']\n",
    "columnas_quedan = [col for col in data16.columns if col not in columnas]\n",
    "data16 = data16[columnas_quedan + columnas]"
   ]
  },
  {
   "cell_type": "markdown",
   "metadata": {},
   "source": [
    "Transformación de fecha de defunción"
   ]
  },
  {
   "cell_type": "code",
   "execution_count": 36,
   "metadata": {},
   "outputs": [
    {
     "name": "stdout",
     "output_type": "stream",
     "text": [
      "Number of missing values in MES: 0\n"
     ]
    }
   ],
   "source": [
    "missing_count = data16['MES'].isna().sum()\n",
    "print(f\"Number of missing values in MES: {missing_count}\")"
   ]
  },
  {
   "cell_type": "code",
   "execution_count": 37,
   "metadata": {},
   "outputs": [
    {
     "data": {
      "text/html": [
       "<table border=\"1\" class=\"dataframe\">\n",
       "  <thead>\n",
       "    <tr style=\"text-align: right;\">\n",
       "      <th></th>\n",
       "      <th>ANO</th>\n",
       "      <th>MES</th>\n",
       "      <th>FECHA</th>\n",
       "    </tr>\n",
       "  </thead>\n",
       "  <tbody>\n",
       "    <tr>\n",
       "      <th>0</th>\n",
       "      <td>1996</td>\n",
       "      <td>11</td>\n",
       "      <td>1996-11</td>\n",
       "    </tr>\n",
       "    <tr>\n",
       "      <th>1</th>\n",
       "      <td>2007</td>\n",
       "      <td>1</td>\n",
       "      <td>2007-01</td>\n",
       "    </tr>\n",
       "    <tr>\n",
       "      <th>2</th>\n",
       "      <td>1998</td>\n",
       "      <td>4</td>\n",
       "      <td>1998-04</td>\n",
       "    </tr>\n",
       "    <tr>\n",
       "      <th>3</th>\n",
       "      <td>2005</td>\n",
       "      <td>4</td>\n",
       "      <td>2005-04</td>\n",
       "    </tr>\n",
       "    <tr>\n",
       "      <th>4</th>\n",
       "      <td>2006</td>\n",
       "      <td>9</td>\n",
       "      <td>2006-09</td>\n",
       "    </tr>\n",
       "    <tr>\n",
       "      <th>5</th>\n",
       "      <td>2008</td>\n",
       "      <td>10</td>\n",
       "      <td>2008-10</td>\n",
       "    </tr>\n",
       "    <tr>\n",
       "      <th>6</th>\n",
       "      <td>1985</td>\n",
       "      <td>11</td>\n",
       "      <td>1985-11</td>\n",
       "    </tr>\n",
       "    <tr>\n",
       "      <th>7</th>\n",
       "      <td>1986</td>\n",
       "      <td>5</td>\n",
       "      <td>1986-05</td>\n",
       "    </tr>\n",
       "    <tr>\n",
       "      <th>8</th>\n",
       "      <td>1989</td>\n",
       "      <td>9</td>\n",
       "      <td>1989-09</td>\n",
       "    </tr>\n",
       "    <tr>\n",
       "      <th>9</th>\n",
       "      <td>1990</td>\n",
       "      <td>8</td>\n",
       "      <td>1990-08</td>\n",
       "    </tr>\n",
       "  </tbody>\n",
       "</table>"
      ],
      "text/plain": [
       "<IPython.core.display.HTML object>"
      ]
     },
     "metadata": {},
     "output_type": "display_data"
    }
   ],
   "source": [
    "data16['ANO'] = pd.to_numeric(data16['ANO'], errors='coerce')\n",
    "data16['MES'] = pd.to_numeric(data16['MES'], errors='coerce')\n",
    "\n",
    "# Convertir los NaN en mes 12\n",
    "data16['MES'] = data16['MES'].fillna(12).astype(int)\n",
    "data16['ANO'] = data16['ANO'].astype(int)\n",
    "data16['MES'] = data16['MES'].astype(int)\n",
    "\n",
    "# Crear 'FECHA' \n",
    "data16['FECHA'] = pd.to_datetime(data16['ANO'].astype(str) + '-' + data16['MES'].astype(str)).dt.to_period('M')\n",
    "display(HTML(data16[['ANO', 'MES', 'FECHA']].head(10).to_html()))\n"
   ]
  },
  {
   "cell_type": "markdown",
   "metadata": {},
   "source": [
    "Organizar el dataframe final"
   ]
  },
  {
   "cell_type": "code",
   "execution_count": 38,
   "metadata": {},
   "outputs": [],
   "source": [
    "del data16['gru_ed2']\n",
    "del data16['gru_ed1']"
   ]
  },
  {
   "cell_type": "code",
   "execution_count": 39,
   "metadata": {},
   "outputs": [
    {
     "data": {
      "text/html": [
       "<table border=\"1\" class=\"dataframe\">\n",
       "  <thead>\n",
       "    <tr style=\"text-align: right;\">\n",
       "      <th></th>\n",
       "      <th>COD_DPTO</th>\n",
       "      <th>DEPARTAMENTO</th>\n",
       "      <th>COD_MUNIC_CORREGIDO</th>\n",
       "      <th>MUNICIPIO</th>\n",
       "      <th>ANO</th>\n",
       "      <th>MES</th>\n",
       "      <th>A_DEFUN</th>\n",
       "      <th>AREA_DEFUN</th>\n",
       "      <th>SIT_DEFUN</th>\n",
       "      <th>SITIO_DEFUN</th>\n",
       "      <th>SEXO</th>\n",
       "      <th>SEX</th>\n",
       "      <th>EST_CIVIL</th>\n",
       "      <th>ESTADO_CIVIL</th>\n",
       "      <th>NIVEL_EDU</th>\n",
       "      <th>NIVEL_EDUCACION</th>\n",
       "      <th>MUERTEPORO</th>\n",
       "      <th>MUERTE_POR_OCUPACION</th>\n",
       "      <th>SIMUERTEPO</th>\n",
       "      <th>SIMUERTE_POR_OCUPACION</th>\n",
       "      <th>GRUPO_ETARIO</th>\n",
       "      <th>FECHA</th>\n",
       "      <th>COD_INST</th>\n",
       "      <th>NOM_INST</th>\n",
       "      <th>OCUPACION</th>\n",
       "    </tr>\n",
       "  </thead>\n",
       "  <tbody>\n",
       "    <tr>\n",
       "      <th>0</th>\n",
       "      <td>11</td>\n",
       "      <td>BOGOTÁ, D.C.</td>\n",
       "      <td>11001</td>\n",
       "      <td>BOGOTÁ, D.C.</td>\n",
       "      <td>1996</td>\n",
       "      <td>11</td>\n",
       "      <td>1</td>\n",
       "      <td>URBANA</td>\n",
       "      <td>2</td>\n",
       "      <td>CASA</td>\n",
       "      <td>2</td>\n",
       "      <td>Femenino</td>\n",
       "      <td>1</td>\n",
       "      <td>Soltero</td>\n",
       "      <td>9</td>\n",
       "      <td>Sin información</td>\n",
       "      <td></td>\n",
       "      <td>NaN</td>\n",
       "      <td></td>\n",
       "      <td>NaN</td>\n",
       "      <td>15-19</td>\n",
       "      <td>1996-11</td>\n",
       "      <td></td>\n",
       "      <td></td>\n",
       "      <td></td>\n",
       "    </tr>\n",
       "    <tr>\n",
       "      <th>1</th>\n",
       "      <td>76</td>\n",
       "      <td>VALLE DEL CAUCA</td>\n",
       "      <td>76001</td>\n",
       "      <td>CALI</td>\n",
       "      <td>2007</td>\n",
       "      <td>1</td>\n",
       "      <td>1</td>\n",
       "      <td>URBANA</td>\n",
       "      <td>2</td>\n",
       "      <td>CASA</td>\n",
       "      <td>2</td>\n",
       "      <td>Femenino</td>\n",
       "      <td>1</td>\n",
       "      <td>Soltero</td>\n",
       "      <td>2</td>\n",
       "      <td>Primaria</td>\n",
       "      <td></td>\n",
       "      <td>NaN</td>\n",
       "      <td></td>\n",
       "      <td>NaN</td>\n",
       "      <td>15-19</td>\n",
       "      <td>2007-01</td>\n",
       "      <td></td>\n",
       "      <td></td>\n",
       "      <td></td>\n",
       "    </tr>\n",
       "    <tr>\n",
       "      <th>2</th>\n",
       "      <td>08</td>\n",
       "      <td>ATLÁNTICO</td>\n",
       "      <td>08001</td>\n",
       "      <td>BARRANQUILLA</td>\n",
       "      <td>1998</td>\n",
       "      <td>4</td>\n",
       "      <td>1</td>\n",
       "      <td>URBANA</td>\n",
       "      <td>1</td>\n",
       "      <td>HOSPITAL O CLÍNICA</td>\n",
       "      <td>2</td>\n",
       "      <td>Femenino</td>\n",
       "      <td>3</td>\n",
       "      <td>Viudo</td>\n",
       "      <td>2</td>\n",
       "      <td>Primaria</td>\n",
       "      <td></td>\n",
       "      <td>NaN</td>\n",
       "      <td></td>\n",
       "      <td>NaN</td>\n",
       "      <td>15-19</td>\n",
       "      <td>1998-04</td>\n",
       "      <td></td>\n",
       "      <td></td>\n",
       "      <td></td>\n",
       "    </tr>\n",
       "    <tr>\n",
       "      <th>3</th>\n",
       "      <td>15</td>\n",
       "      <td>BOYACÁ</td>\n",
       "      <td>15001</td>\n",
       "      <td>TUNJA</td>\n",
       "      <td>2005</td>\n",
       "      <td>4</td>\n",
       "      <td>1</td>\n",
       "      <td>URBANA</td>\n",
       "      <td>1</td>\n",
       "      <td>HOSPITAL O CLÍNICA</td>\n",
       "      <td>2</td>\n",
       "      <td>Femenino</td>\n",
       "      <td>1</td>\n",
       "      <td>Soltero</td>\n",
       "      <td>9</td>\n",
       "      <td>Sin información</td>\n",
       "      <td></td>\n",
       "      <td>NaN</td>\n",
       "      <td></td>\n",
       "      <td>NaN</td>\n",
       "      <td>15-19</td>\n",
       "      <td>2005-04</td>\n",
       "      <td>1500100021</td>\n",
       "      <td>H SAN RAFAEL DE TUNJA</td>\n",
       "      <td></td>\n",
       "    </tr>\n",
       "    <tr>\n",
       "      <th>4</th>\n",
       "      <td>76</td>\n",
       "      <td>VALLE DEL CAUCA</td>\n",
       "      <td>76001</td>\n",
       "      <td>CALI</td>\n",
       "      <td>2006</td>\n",
       "      <td>9</td>\n",
       "      <td>1</td>\n",
       "      <td>URBANA</td>\n",
       "      <td>1</td>\n",
       "      <td>HOSPITAL O CLÍNICA</td>\n",
       "      <td>2</td>\n",
       "      <td>Femenino</td>\n",
       "      <td>1</td>\n",
       "      <td>Soltero</td>\n",
       "      <td>1</td>\n",
       "      <td>Preescolar</td>\n",
       "      <td></td>\n",
       "      <td>NaN</td>\n",
       "      <td></td>\n",
       "      <td>NaN</td>\n",
       "      <td>15-19</td>\n",
       "      <td>2006-09</td>\n",
       "      <td>760010379901</td>\n",
       "      <td>E.S.E. HOSPITAL UNIVERSITARIO DEL V</td>\n",
       "      <td></td>\n",
       "    </tr>\n",
       "    <tr>\n",
       "      <th>5</th>\n",
       "      <td>52</td>\n",
       "      <td>NARIÑO</td>\n",
       "      <td>52287</td>\n",
       "      <td>FUNES</td>\n",
       "      <td>2008</td>\n",
       "      <td>10</td>\n",
       "      <td>1</td>\n",
       "      <td>URBANA</td>\n",
       "      <td>2</td>\n",
       "      <td>CASA</td>\n",
       "      <td>2</td>\n",
       "      <td>Femenino</td>\n",
       "      <td>1</td>\n",
       "      <td>Soltero</td>\n",
       "      <td>2</td>\n",
       "      <td>Primaria</td>\n",
       "      <td>2</td>\n",
       "      <td>No</td>\n",
       "      <td></td>\n",
       "      <td>NaN</td>\n",
       "      <td>15-19</td>\n",
       "      <td>2008-10</td>\n",
       "      <td></td>\n",
       "      <td></td>\n",
       "      <td></td>\n",
       "    </tr>\n",
       "    <tr>\n",
       "      <th>6</th>\n",
       "      <td>52</td>\n",
       "      <td>NARIÑO</td>\n",
       "      <td>52001</td>\n",
       "      <td>PASTO</td>\n",
       "      <td>1985</td>\n",
       "      <td>11</td>\n",
       "      <td>1</td>\n",
       "      <td>URBANA</td>\n",
       "      <td>2</td>\n",
       "      <td>CASA</td>\n",
       "      <td>2</td>\n",
       "      <td>Femenino</td>\n",
       "      <td>2</td>\n",
       "      <td>Casado</td>\n",
       "      <td>9</td>\n",
       "      <td>Sin información</td>\n",
       "      <td></td>\n",
       "      <td>NaN</td>\n",
       "      <td></td>\n",
       "      <td>NaN</td>\n",
       "      <td>15-19</td>\n",
       "      <td>1985-11</td>\n",
       "      <td></td>\n",
       "      <td></td>\n",
       "      <td></td>\n",
       "    </tr>\n",
       "    <tr>\n",
       "      <th>7</th>\n",
       "      <td>68</td>\n",
       "      <td>SANTANDER</td>\n",
       "      <td>68368</td>\n",
       "      <td>JESÚS MARÍA</td>\n",
       "      <td>1986</td>\n",
       "      <td>5</td>\n",
       "      <td>1</td>\n",
       "      <td>URBANA</td>\n",
       "      <td>2</td>\n",
       "      <td>CASA</td>\n",
       "      <td>2</td>\n",
       "      <td>Femenino</td>\n",
       "      <td>2</td>\n",
       "      <td>Casado</td>\n",
       "      <td>9</td>\n",
       "      <td>Sin información</td>\n",
       "      <td></td>\n",
       "      <td>NaN</td>\n",
       "      <td></td>\n",
       "      <td>NaN</td>\n",
       "      <td>15-19</td>\n",
       "      <td>1986-05</td>\n",
       "      <td></td>\n",
       "      <td></td>\n",
       "      <td></td>\n",
       "    </tr>\n",
       "    <tr>\n",
       "      <th>8</th>\n",
       "      <td>76</td>\n",
       "      <td>VALLE DEL CAUCA</td>\n",
       "      <td>76111</td>\n",
       "      <td>GUADALAJARA DE BUGA</td>\n",
       "      <td>1989</td>\n",
       "      <td>9</td>\n",
       "      <td>1</td>\n",
       "      <td>URBANA</td>\n",
       "      <td>2</td>\n",
       "      <td>CASA</td>\n",
       "      <td>2</td>\n",
       "      <td>Femenino</td>\n",
       "      <td>2</td>\n",
       "      <td>Casado</td>\n",
       "      <td>9</td>\n",
       "      <td>Sin información</td>\n",
       "      <td></td>\n",
       "      <td>NaN</td>\n",
       "      <td></td>\n",
       "      <td>NaN</td>\n",
       "      <td>15-19</td>\n",
       "      <td>1989-09</td>\n",
       "      <td></td>\n",
       "      <td></td>\n",
       "      <td></td>\n",
       "    </tr>\n",
       "    <tr>\n",
       "      <th>9</th>\n",
       "      <td>17</td>\n",
       "      <td>CALDAS</td>\n",
       "      <td>17042</td>\n",
       "      <td>ANSERMA</td>\n",
       "      <td>1990</td>\n",
       "      <td>8</td>\n",
       "      <td>1</td>\n",
       "      <td>URBANA</td>\n",
       "      <td>2</td>\n",
       "      <td>CASA</td>\n",
       "      <td>2</td>\n",
       "      <td>Femenino</td>\n",
       "      <td>1</td>\n",
       "      <td>Soltero</td>\n",
       "      <td>9</td>\n",
       "      <td>Sin información</td>\n",
       "      <td></td>\n",
       "      <td>NaN</td>\n",
       "      <td></td>\n",
       "      <td>NaN</td>\n",
       "      <td>15-19</td>\n",
       "      <td>1990-08</td>\n",
       "      <td></td>\n",
       "      <td></td>\n",
       "      <td></td>\n",
       "    </tr>\n",
       "  </tbody>\n",
       "</table>"
      ],
      "text/plain": [
       "<IPython.core.display.HTML object>"
      ]
     },
     "metadata": {},
     "output_type": "display_data"
    }
   ],
   "source": [
    "columnas = ['ANO', 'MES', 'FECHA'] + [col for col in data16.columns if col not in ['ANO', 'MES', 'FECHA']]\n",
    "columnas = [col for col in data16.columns if col not in ['COD_INST', 'NOM_INST','OCUPACION']] + ['COD_INST', 'NOM_INST','OCUPACION']\n",
    "data16 = data16[columnas]\n",
    "display(HTML(data16.head(10).to_html()))"
   ]
  },
  {
   "cell_type": "markdown",
   "metadata": {},
   "source": [
    "Columnas adicionales fueron 12 antes las 16 iniciales"
   ]
  },
  {
   "cell_type": "code",
   "execution_count": 40,
   "metadata": {},
   "outputs": [
    {
     "data": {
      "text/plain": [
       "(51448, 25)"
      ]
     },
     "execution_count": 40,
     "metadata": {},
     "output_type": "execute_result"
    }
   ],
   "source": [
    "data16.shape"
   ]
  },
  {
   "cell_type": "markdown",
   "metadata": {},
   "source": [
    "### Análisis de datos faltantes"
   ]
  },
  {
   "cell_type": "code",
   "execution_count": 41,
   "metadata": {},
   "outputs": [],
   "source": [
    "def resumen_datos(data):\n",
    "    resumen = []\n",
    "    total_filas = len(data16)\n",
    "    \n",
    "    for col in data16.columns:\n",
    "        unicos = data16[col].nunique()\n",
    "        faltantes = data16[col].isna().sum()\n",
    "        ceros = (data16[col] == 0).sum()\n",
    "        porcentaje_faltante = (faltantes / total_filas) * 100\n",
    "        super_10 = 'Sí' if porcentaje_faltante > 10 else 'No'\n",
    "        \n",
    "        resumen.append({\n",
    "            'Columna': col,\n",
    "            'Valores únicos': unicos,\n",
    "            'Faltantes': faltantes,\n",
    "            'Ceros': ceros,\n",
    "            'Porcentaje de faltantes': porcentaje_faltante,\n",
    "            'Más del 10% de faltantes': super_10\n",
    "        })\n",
    "    return pd.DataFrame(resumen)\n",
    "        "
   ]
  },
  {
   "cell_type": "code",
   "execution_count": 42,
   "metadata": {},
   "outputs": [
    {
     "data": {
      "text/html": [
       "<table border=\"1\" class=\"dataframe\">\n",
       "  <thead>\n",
       "    <tr style=\"text-align: right;\">\n",
       "      <th></th>\n",
       "      <th>Columna</th>\n",
       "      <th>Valores únicos</th>\n",
       "      <th>Faltantes</th>\n",
       "      <th>Ceros</th>\n",
       "      <th>Porcentaje de faltantes</th>\n",
       "      <th>Más del 10% de faltantes</th>\n",
       "    </tr>\n",
       "  </thead>\n",
       "  <tbody>\n",
       "    <tr>\n",
       "      <th>0</th>\n",
       "      <td>COD_DPTO</td>\n",
       "      <td>33</td>\n",
       "      <td>0</td>\n",
       "      <td>0</td>\n",
       "      <td>0.000000</td>\n",
       "      <td>No</td>\n",
       "    </tr>\n",
       "    <tr>\n",
       "      <th>1</th>\n",
       "      <td>DEPARTAMENTO</td>\n",
       "      <td>33</td>\n",
       "      <td>0</td>\n",
       "      <td>0</td>\n",
       "      <td>0.000000</td>\n",
       "      <td>No</td>\n",
       "    </tr>\n",
       "    <tr>\n",
       "      <th>2</th>\n",
       "      <td>COD_MUNIC_CORREGIDO</td>\n",
       "      <td>1011</td>\n",
       "      <td>0</td>\n",
       "      <td>0</td>\n",
       "      <td>0.000000</td>\n",
       "      <td>No</td>\n",
       "    </tr>\n",
       "    <tr>\n",
       "      <th>3</th>\n",
       "      <td>MUNICIPIO</td>\n",
       "      <td>939</td>\n",
       "      <td>0</td>\n",
       "      <td>0</td>\n",
       "      <td>0.000000</td>\n",
       "      <td>No</td>\n",
       "    </tr>\n",
       "    <tr>\n",
       "      <th>4</th>\n",
       "      <td>ANO</td>\n",
       "      <td>35</td>\n",
       "      <td>0</td>\n",
       "      <td>0</td>\n",
       "      <td>0.000000</td>\n",
       "      <td>No</td>\n",
       "    </tr>\n",
       "    <tr>\n",
       "      <th>5</th>\n",
       "      <td>MES</td>\n",
       "      <td>12</td>\n",
       "      <td>0</td>\n",
       "      <td>0</td>\n",
       "      <td>0.000000</td>\n",
       "      <td>No</td>\n",
       "    </tr>\n",
       "    <tr>\n",
       "      <th>6</th>\n",
       "      <td>A_DEFUN</td>\n",
       "      <td>3</td>\n",
       "      <td>0</td>\n",
       "      <td>0</td>\n",
       "      <td>0.000000</td>\n",
       "      <td>No</td>\n",
       "    </tr>\n",
       "    <tr>\n",
       "      <th>7</th>\n",
       "      <td>AREA_DEFUN</td>\n",
       "      <td>3</td>\n",
       "      <td>0</td>\n",
       "      <td>0</td>\n",
       "      <td>0.000000</td>\n",
       "      <td>No</td>\n",
       "    </tr>\n",
       "    <tr>\n",
       "      <th>8</th>\n",
       "      <td>SIT_DEFUN</td>\n",
       "      <td>4</td>\n",
       "      <td>0</td>\n",
       "      <td>0</td>\n",
       "      <td>0.000000</td>\n",
       "      <td>No</td>\n",
       "    </tr>\n",
       "    <tr>\n",
       "      <th>9</th>\n",
       "      <td>SITIO_DEFUN</td>\n",
       "      <td>4</td>\n",
       "      <td>0</td>\n",
       "      <td>0</td>\n",
       "      <td>0.000000</td>\n",
       "      <td>No</td>\n",
       "    </tr>\n",
       "    <tr>\n",
       "      <th>10</th>\n",
       "      <td>SEXO</td>\n",
       "      <td>1</td>\n",
       "      <td>0</td>\n",
       "      <td>0</td>\n",
       "      <td>0.000000</td>\n",
       "      <td>No</td>\n",
       "    </tr>\n",
       "    <tr>\n",
       "      <th>11</th>\n",
       "      <td>SEX</td>\n",
       "      <td>1</td>\n",
       "      <td>0</td>\n",
       "      <td>0</td>\n",
       "      <td>0.000000</td>\n",
       "      <td>No</td>\n",
       "    </tr>\n",
       "    <tr>\n",
       "      <th>12</th>\n",
       "      <td>EST_CIVIL</td>\n",
       "      <td>5</td>\n",
       "      <td>0</td>\n",
       "      <td>0</td>\n",
       "      <td>0.000000</td>\n",
       "      <td>No</td>\n",
       "    </tr>\n",
       "    <tr>\n",
       "      <th>13</th>\n",
       "      <td>ESTADO_CIVIL</td>\n",
       "      <td>5</td>\n",
       "      <td>0</td>\n",
       "      <td>0</td>\n",
       "      <td>0.000000</td>\n",
       "      <td>No</td>\n",
       "    </tr>\n",
       "    <tr>\n",
       "      <th>14</th>\n",
       "      <td>NIVEL_EDU</td>\n",
       "      <td>6</td>\n",
       "      <td>0</td>\n",
       "      <td>0</td>\n",
       "      <td>0.000000</td>\n",
       "      <td>No</td>\n",
       "    </tr>\n",
       "    <tr>\n",
       "      <th>15</th>\n",
       "      <td>NIVEL_EDUCACION</td>\n",
       "      <td>6</td>\n",
       "      <td>0</td>\n",
       "      <td>0</td>\n",
       "      <td>0.000000</td>\n",
       "      <td>No</td>\n",
       "    </tr>\n",
       "    <tr>\n",
       "      <th>16</th>\n",
       "      <td>MUERTEPORO</td>\n",
       "      <td>4</td>\n",
       "      <td>0</td>\n",
       "      <td>0</td>\n",
       "      <td>0.000000</td>\n",
       "      <td>No</td>\n",
       "    </tr>\n",
       "    <tr>\n",
       "      <th>17</th>\n",
       "      <td>MUERTE_POR_OCUPACION</td>\n",
       "      <td>3</td>\n",
       "      <td>35204</td>\n",
       "      <td>0</td>\n",
       "      <td>68.426372</td>\n",
       "      <td>Sí</td>\n",
       "    </tr>\n",
       "    <tr>\n",
       "      <th>18</th>\n",
       "      <td>SIMUERTEPO</td>\n",
       "      <td>4</td>\n",
       "      <td>0</td>\n",
       "      <td>0</td>\n",
       "      <td>0.000000</td>\n",
       "      <td>No</td>\n",
       "    </tr>\n",
       "    <tr>\n",
       "      <th>19</th>\n",
       "      <td>SIMUERTE_POR_OCUPACION</td>\n",
       "      <td>3</td>\n",
       "      <td>50632</td>\n",
       "      <td>0</td>\n",
       "      <td>98.413933</td>\n",
       "      <td>Sí</td>\n",
       "    </tr>\n",
       "    <tr>\n",
       "      <th>20</th>\n",
       "      <td>GRUPO_ETARIO</td>\n",
       "      <td>16</td>\n",
       "      <td>0</td>\n",
       "      <td>0</td>\n",
       "      <td>0.000000</td>\n",
       "      <td>No</td>\n",
       "    </tr>\n",
       "    <tr>\n",
       "      <th>21</th>\n",
       "      <td>FECHA</td>\n",
       "      <td>409</td>\n",
       "      <td>0</td>\n",
       "      <td>0</td>\n",
       "      <td>0.000000</td>\n",
       "      <td>No</td>\n",
       "    </tr>\n",
       "    <tr>\n",
       "      <th>22</th>\n",
       "      <td>COD_INST</td>\n",
       "      <td>2247</td>\n",
       "      <td>0</td>\n",
       "      <td>0</td>\n",
       "      <td>0.000000</td>\n",
       "      <td>No</td>\n",
       "    </tr>\n",
       "    <tr>\n",
       "      <th>23</th>\n",
       "      <td>NOM_INST</td>\n",
       "      <td>2671</td>\n",
       "      <td>0</td>\n",
       "      <td>0</td>\n",
       "      <td>0.000000</td>\n",
       "      <td>No</td>\n",
       "    </tr>\n",
       "    <tr>\n",
       "      <th>24</th>\n",
       "      <td>OCUPACION</td>\n",
       "      <td>367</td>\n",
       "      <td>0</td>\n",
       "      <td>0</td>\n",
       "      <td>0.000000</td>\n",
       "      <td>No</td>\n",
       "    </tr>\n",
       "  </tbody>\n",
       "</table>"
      ],
      "text/plain": [
       "<IPython.core.display.HTML object>"
      ]
     },
     "metadata": {},
     "output_type": "display_data"
    }
   ],
   "source": [
    "tabla_resumen = resumen_datos(data16)\n",
    "display(HTML(tabla_resumen.to_html()))"
   ]
  },
  {
   "cell_type": "markdown",
   "metadata": {},
   "source": [
    "Analizaremos las variables ***Muerte por ocupación*** y ***si muerte por ocupación***"
   ]
  },
  {
   "cell_type": "code",
   "execution_count": 43,
   "metadata": {},
   "outputs": [
    {
     "name": "stdout",
     "output_type": "stream",
     "text": [
      "Unique values in MUERTEPORO: [' ' '2' '9' '1']\n",
      "Unique values in MUERTE_POR_OCUPACION: ['No' 'Sin información' 'Si']\n"
     ]
    }
   ],
   "source": [
    "# Unique values in both columns\n",
    "unique_muerteporo = data16['MUERTEPORO'].dropna().unique()\n",
    "unique_muertepor_ocup = data16['MUERTE_POR_OCUPACION'].dropna().unique()\n",
    "\n",
    "print(\"Unique values in MUERTEPORO:\", unique_muerteporo)\n",
    "print(\"Unique values in MUERTE_POR_OCUPACION:\", unique_muertepor_ocup)\n"
   ]
  },
  {
   "cell_type": "code",
   "execution_count": 44,
   "metadata": {},
   "outputs": [
    {
     "name": "stdout",
     "output_type": "stream",
     "text": [
      "MUERTEPORO                    0\n",
      "MUERTE_POR_OCUPACION      35204\n",
      "SIMUERTEPO                    0\n",
      "SIMUERTE_POR_OCUPACION    50632\n",
      "dtype: int64\n"
     ]
    }
   ],
   "source": [
    "# Compare missing values across both columns\n",
    "missing_comparison = data16[['MUERTEPORO', 'MUERTE_POR_OCUPACION', 'SIMUERTEPO', 'SIMUERTE_POR_OCUPACION']].isna().sum()\n",
    "print(missing_comparison)\n"
   ]
  },
  {
   "cell_type": "code",
   "execution_count": 45,
   "metadata": {},
   "outputs": [],
   "source": [
    "data16['MUERTE_POR_OCUPACION'] = data16['MUERTE_POR_OCUPACION'].fillna('Sin información')\n",
    "data16['SIMUERTE_POR_OCUPACION'] = data16['SIMUERTE_POR_OCUPACION'].fillna('Sin información')"
   ]
  },
  {
   "cell_type": "code",
   "execution_count": 46,
   "metadata": {},
   "outputs": [
    {
     "name": "stdout",
     "output_type": "stream",
     "text": [
      "[' ' '2' '9' '1']\n"
     ]
    }
   ],
   "source": [
    "print(data16['MUERTEPORO'].unique())\n"
   ]
  },
  {
   "cell_type": "code",
   "execution_count": 47,
   "metadata": {},
   "outputs": [
    {
     "name": "stdout",
     "output_type": "stream",
     "text": [
      "MUERTEPORO                0\n",
      "MUERTE_POR_OCUPACION      0\n",
      "SIMUERTEPO                0\n",
      "SIMUERTE_POR_OCUPACION    0\n",
      "dtype: int64\n"
     ]
    }
   ],
   "source": [
    "print(data16[['MUERTEPORO', 'MUERTE_POR_OCUPACION', 'SIMUERTEPO', 'SIMUERTE_POR_OCUPACION']].isna().sum())\n"
   ]
  },
  {
   "cell_type": "code",
   "execution_count": 48,
   "metadata": {},
   "outputs": [
    {
     "name": "stdout",
     "output_type": "stream",
     "text": [
      "Data saved to C:/Users/henry/Documents/jbook/Cacervix/cacervix/datos/data16_output.xlsx\n"
     ]
    }
   ],
   "source": [
    "output_path = 'C:/Users/henry/Documents/jbook/Cacervix/cacervix/datos/data16_output.xlsx'\n",
    "data16.to_excel(output_path, index=False)\n",
    "print(f'Data saved to {output_path}')"
   ]
  },
  {
   "cell_type": "markdown",
   "metadata": {},
   "source": [
    "## Visualización de los datos según su tipo"
   ]
  },
  {
   "cell_type": "markdown",
   "metadata": {},
   "source": [
    "Top depatamentos"
   ]
  },
  {
   "cell_type": "code",
   "execution_count": 71,
   "metadata": {},
   "outputs": [
    {
     "data": {
      "image/png": "[encoded data removed]",
      "text/plain": [
       "<Figure size 1000x600 with 1 Axes>"
      ]
     },
     "metadata": {},
     "output_type": "display_data"
    }
   ],
   "source": [
    "registros_departamento = data16['DEPARTAMENTO'].value_counts().head(10)\n",
    "plt.figure(figsize=(10, 6))\n",
    "colors = sns.color_palette('coolwarm', len(registros_departamento))\n",
    "\n",
    "registros_departamento.plot(kind = 'bar', color = colors, edgecolor = 'black')\n",
    "plt.title('Top 10 de registros por departamento')\n",
    "plt.xlabel('Departamento')\n",
    "plt.ylabel('Número de registros')\n",
    "plt.xticks(rotation=90)\n",
    "plt.show()"
   ]
  },
  {
   "cell_type": "markdown",
   "metadata": {},
   "source": [
    "Top municipios"
   ]
  },
  {
   "cell_type": "code",
   "execution_count": 56,
   "metadata": {},
   "outputs": [
    {
     "data": {
      "image/png": "[encoded data removed]",
      "text/plain": [
       "<Figure size 1000x600 with 1 Axes>"
      ]
     },
     "metadata": {},
     "output_type": "display_data"
    }
   ],
   "source": [
    "top_municipios = data16['MUNICIPIO'].value_counts().nlargest(30)\n",
    "plt.figure(figsize=(10, 6))\n",
    "colors = sns.color_palette('coolwarm', len(top_municipios))\n",
    "\n",
    "top_municipios.plot(kind = 'bar', color = colors, edgecolor = 'black')\n",
    "plt.title('Top 30 municipios con más registros')\n",
    "plt.xlabel('Municipio')\n",
    "plt.ylabel('Número de registros')\n",
    "plt.xticks(rotation=90)\n",
    "plt.show()"
   ]
  },
  {
   "cell_type": "markdown",
   "metadata": {},
   "source": [
    "Casos por año"
   ]
  },
  {
   "cell_type": "code",
   "execution_count": 64,
   "metadata": {},
   "outputs": [
    {
     "data": {
      "image/png": "[encoded data removed]",
      "text/plain": [
       "<Figure size 1400x600 with 2 Axes>"
      ]
     },
     "metadata": {},
     "output_type": "display_data"
    }
   ],
   "source": [
    "casos_por_año = data16['ANO'].value_counts().sort_index()\n",
    "colors = sns.color_palette('coolwarm', len(casos_por_año))\n",
    "fig, axes = plt.subplots(1, 2, figsize=(14, 6))\n",
    "\n",
    "#  Gráfico de barras (izquierda)\n",
    "axes[0].bar(casos_por_año.index, casos_por_año.values, color=colors, edgecolor='black')\n",
    "axes[0].set_title('Número de decesos por año', fontsize=14)\n",
    "axes[0].set_xlabel('Año', fontsize=12)\n",
    "axes[0].set_ylabel('Número de registros', fontsize=12)\n",
    "axes[0].tick_params(axis='x', rotation=90)\n",
    "\n",
    "# Gráfico de líneas (derecha)\n",
    "axes[1].plot(casos_por_año.index, casos_por_año.values, color='red', marker='o', linestyle='-', linewidth=2)\n",
    "axes[1].set_title('Evolución de decesos por año', fontsize=14)\n",
    "axes[1].set_xlabel('Año', fontsize=12)\n",
    "axes[1].set_ylabel('Número de registros', fontsize=12)\n",
    "axes[1].tick_params(axis='x', rotation=90)\n",
    "\n",
    "# Ajustar diseño\n",
    "plt.tight_layout()\n",
    "plt.show()\n"
   ]
  },
  {
   "cell_type": "code",
   "execution_count": 69,
   "metadata": {},
   "outputs": [
    {
     "data": {
      "application/vnd.plotly.v1+json": {
       "config": {
        "plotlyServerURL": "https://plot.ly"
       },
       "data": [
        {
         "marker": {
          "color": {
           "bdata": "JQQrBE4EGQRQBBcEFASPBJsEEQVqBecFqAUVBj0GVwYwBo0GxQZWBp4GSAZABnAGTwZiBv8F8QXfBWEGXQbEBrMGqwYbBw==",
           "dtype": "i2"
          },
          "colorscale": [
           [
            0,
            "#440154"
           ],
           [
            0.1111111111111111,
            "#482878"
           ],
           [
            0.2222222222222222,
            "#3e4989"
           ],
           [
            0.3333333333333333,
            "#31688e"
           ],
           [
            0.4444444444444444,
            "#26828e"
           ],
           [
            0.5555555555555556,
            "#1f9e89"
           ],
           [
            0.6666666666666666,
            "#35b779"
           ],
           [
            0.7777777777777778,
            "#6ece58"
           ],
           [
            0.8888888888888888,
            "#b5de2b"
           ],
           [
            1,
            "#fde725"
           ]
          ]
         },
         "type": "bar",
         "x": {
          "bdata": "wQcAAMIHAADDBwAAxAcAAMUHAADGBwAAxwcAAMgHAADJBwAAygcAAMsHAADMBwAAzQcAAM4HAADPBwAA0AcAANEHAADSBwAA0wcAANQHAADVBwAA1gcAANcHAADYBwAA2QcAANoHAADbBwAA3AcAAN0HAADeBwAA3wcAAOAHAADhBwAA4gcAAOMHAAA=",
          "dtype": "i4"
         },
         "xaxis": "x",
         "y": {
          "bdata": "JQQrBE4EGQRQBBcEFASPBJsEEQVqBecFqAUVBj0GVwYwBo0GxQZWBp4GSAZABnAGTwZiBv8F8QXfBWEGXQbEBrMGqwYbBw==",
          "dtype": "i2"
         },
         "yaxis": "y"
        },
        {
         "line": {
          "color": "red"
         },
         "mode": "lines+markers",
         "type": "scatter",
         "x": {
          "bdata": "wQcAAMIHAADDBwAAxAcAAMUHAADGBwAAxwcAAMgHAADJBwAAygcAAMsHAADMBwAAzQcAAM4HAADPBwAA0AcAANEHAADSBwAA0wcAANQHAADVBwAA1gcAANcHAADYBwAA2QcAANoHAADbBwAA3AcAAN0HAADeBwAA3wcAAOAHAADhBwAA4gcAAOMHAAA=",
          "dtype": "i4"
         },
         "xaxis": "x2",
         "y": {
          "bdata": "JQQrBE4EGQRQBBcEFASPBJsEEQVqBecFqAUVBj0GVwYwBo0GxQZWBp4GSAZABnAGTwZiBv8F8QXfBWEGXQbEBrMGqwYbBw==",
          "dtype": "i2"
         },
         "yaxis": "y2"
        }
       ],
       "layout": {
        "annotations": [
         {
          "font": {
           "size": 16
          },
          "showarrow": false,
          "text": "Número de decesos por año",
          "x": 0.225,
          "xanchor": "center",
          "xref": "paper",
          "y": 1,
          "yanchor": "bottom",
          "yref": "paper"
         },
         {
          "font": {
           "size": 16
          },
          "showarrow": false,
          "text": "Evolución de decesos por año",
          "x": 0.775,
          "xanchor": "center",
          "xref": "paper",
          "y": 1,
          "yanchor": "bottom",
          "yref": "paper"
         }
        ],
        "height": 500,
        "showlegend": false,
        "template": {
         "data": {
          "bar": [
           {
            "error_x": {
             "color": "#2a3f5f"
            },
            "error_y": {
             "color": "#2a3f5f"
            },
            "marker": {
             "line": {
              "color": "white",
              "width": 0.5
             },
             "pattern": {
              "fillmode": "overlay",
              "size": 10,
              "solidity": 0.2
             }
            },
            "type": "bar"
           }
          ],
          "barpolar": [
           {
            "marker": {
             "line": {
              "color": "white",
              "width": 0.5
             },
             "pattern": {
              "fillmode": "overlay",
              "size": 10,
              "solidity": 0.2
             }
            },
            "type": "barpolar"
           }
          ],
          "carpet": [
           {
            "aaxis": {
             "endlinecolor": "#2a3f5f",
             "gridcolor": "#C8D4E3",
             "linecolor": "#C8D4E3",
             "minorgridcolor": "#C8D4E3",
             "startlinecolor": "#2a3f5f"
            },
            "baxis": {
             "endlinecolor": "#2a3f5f",
             "gridcolor": "#C8D4E3",
             "linecolor": "#C8D4E3",
             "minorgridcolor": "#C8D4E3",
             "startlinecolor": "#2a3f5f"
            },
            "type": "carpet"
           }
          ],
          "choropleth": [
           {
            "colorbar": {
             "outlinewidth": 0,
             "ticks": ""
            },
            "type": "choropleth"
           }
          ],
          "contour": [
           {
            "colorbar": {
             "outlinewidth": 0,
             "ticks": ""
            },
            "colorscale": [
             [
              0,
              "#0d0887"
             ],
             [
              0.1111111111111111,
              "#46039f"
             ],
             [
              0.2222222222222222,
              "#7201a8"
             ],
             [
              0.3333333333333333,
              "#9c179e"
             ],
             [
              0.4444444444444444,
              "#bd3786"
             ],
             [
              0.5555555555555556,
              "#d8576b"
             ],
             [
              0.6666666666666666,
              "#ed7953"
             ],
             [
              0.7777777777777778,
              "#fb9f3a"
             ],
             [
              0.8888888888888888,
              "#fdca26"
             ],
             [
              1,
              "#f0f921"
             ]
            ],
            "type": "contour"
           }
          ],
          "contourcarpet": [
           {
            "colorbar": {
             "outlinewidth": 0,
             "ticks": ""
            },
            "type": "contourcarpet"
           }
          ],
          "heatmap": [
           {
            "colorbar": {
             "outlinewidth": 0,
             "ticks": ""
            },
            "colorscale": [
             [
              0,
              "#0d0887"
             ],
             [
              0.1111111111111111,
              "#46039f"
             ],
             [
              0.2222222222222222,
              "#7201a8"
             ],
             [
              0.3333333333333333,
              "#9c179e"
             ],
             [
              0.4444444444444444,
              "#bd3786"
             ],
             [
              0.5555555555555556,
              "#d8576b"
             ],
             [
              0.6666666666666666,
              "#ed7953"
             ],
             [
              0.7777777777777778,
              "#fb9f3a"
             ],
             [
              0.8888888888888888,
              "#fdca26"
             ],
             [
              1,
              "#f0f921"
             ]
            ],
            "type": "heatmap"
           }
          ],
          "histogram": [
           {
            "marker": {
             "pattern": {
              "fillmode": "overlay",
              "size": 10,
              "solidity": 0.2
             }
            },
            "type": "histogram"
           }
          ],
          "histogram2d": [
           {
            "colorbar": {
             "outlinewidth": 0,
             "ticks": ""
            },
            "colorscale": [
             [
              0,
              "#0d0887"
             ],
             [
              0.1111111111111111,
              "#46039f"
             ],
             [
              0.2222222222222222,
              "#7201a8"
             ],
             [
              0.3333333333333333,
              "#9c179e"
             ],
             [
              0.4444444444444444,
              "#bd3786"
             ],
             [
              0.5555555555555556,
              "#d8576b"
             ],
             [
              0.6666666666666666,
              "#ed7953"
             ],
             [
              0.7777777777777778,
              "#fb9f3a"
             ],
             [
              0.8888888888888888,
              "#fdca26"
             ],
             [
              1,
              "#f0f921"
             ]
            ],
            "type": "histogram2d"
           }
          ],
          "histogram2dcontour": [
           {
            "colorbar": {
             "outlinewidth": 0,
             "ticks": ""
            },
            "colorscale": [
             [
              0,
              "#0d0887"
             ],
             [
              0.1111111111111111,
              "#46039f"
             ],
             [
              0.2222222222222222,
              "#7201a8"
             ],
             [
              0.3333333333333333,
              "#9c179e"
             ],
             [
              0.4444444444444444,
              "#bd3786"
             ],
             [
              0.5555555555555556,
              "#d8576b"
             ],
             [
              0.6666666666666666,
              "#ed7953"
             ],
             [
              0.7777777777777778,
              "#fb9f3a"
             ],
             [
              0.8888888888888888,
              "#fdca26"
             ],
             [
              1,
              "#f0f921"
             ]
            ],
            "type": "histogram2dcontour"
           }
          ],
          "mesh3d": [
           {
            "colorbar": {
             "outlinewidth": 0,
             "ticks": ""
            },
            "type": "mesh3d"
           }
          ],
          "parcoords": [
           {
            "line": {
             "colorbar": {
              "outlinewidth": 0,
              "ticks": ""
             }
            },
            "type": "parcoords"
           }
          ],
          "pie": [
           {
            "automargin": true,
            "type": "pie"
           }
          ],
          "scatter": [
           {
            "fillpattern": {
             "fillmode": "overlay",
             "size": 10,
             "solidity": 0.2
            },
            "type": "scatter"
           }
          ],
          "scatter3d": [
           {
            "line": {
             "colorbar": {
              "outlinewidth": 0,
              "ticks": ""
             }
            },
            "marker": {
             "colorbar": {
              "outlinewidth": 0,
              "ticks": ""
             }
            },
            "type": "scatter3d"
           }
          ],
          "scattercarpet": [
           {
            "marker": {
             "colorbar": {
              "outlinewidth": 0,
              "ticks": ""
             }
            },
            "type": "scattercarpet"
           }
          ],
          "scattergeo": [
           {
            "marker": {
             "colorbar": {
              "outlinewidth": 0,
              "ticks": ""
             }
            },
            "type": "scattergeo"
           }
          ],
          "scattergl": [
           {
            "marker": {
             "colorbar": {
              "outlinewidth": 0,
              "ticks": ""
             }
            },
            "type": "scattergl"
           }
          ],
          "scattermap": [
           {
            "marker": {
             "colorbar": {
              "outlinewidth": 0,
              "ticks": ""
             }
            },
            "type": "scattermap"
           }
          ],
          "scattermapbox": [
           {
            "marker": {
             "colorbar": {
              "outlinewidth": 0,
              "ticks": ""
             }
            },
            "type": "scattermapbox"
           }
          ],
          "scatterpolar": [
           {
            "marker": {
             "colorbar": {
              "outlinewidth": 0,
              "ticks": ""
             }
            },
            "type": "scatterpolar"
           }
          ],
          "scatterpolargl": [
           {
            "marker": {
             "colorbar": {
              "outlinewidth": 0,
              "ticks": ""
             }
            },
            "type": "scatterpolargl"
           }
          ],
          "scatterternary": [
           {
            "marker": {
             "colorbar": {
              "outlinewidth": 0,
              "ticks": ""
             }
            },
            "type": "scatterternary"
           }
          ],
          "surface": [
           {
            "colorbar": {
             "outlinewidth": 0,
             "ticks": ""
            },
            "colorscale": [
             [
              0,
              "#0d0887"
             ],
             [
              0.1111111111111111,
              "#46039f"
             ],
             [
              0.2222222222222222,
              "#7201a8"
             ],
             [
              0.3333333333333333,
              "#9c179e"
             ],
             [
              0.4444444444444444,
              "#bd3786"
             ],
             [
              0.5555555555555556,
              "#d8576b"
             ],
             [
              0.6666666666666666,
              "#ed7953"
             ],
             [
              0.7777777777777778,
              "#fb9f3a"
             ],
             [
              0.8888888888888888,
              "#fdca26"
             ],
             [
              1,
              "#f0f921"
             ]
            ],
            "type": "surface"
           }
          ],
          "table": [
           {
            "cells": {
             "fill": {
              "color": "#EBF0F8"
             },
             "line": {
              "color": "white"
             }
            },
            "header": {
             "fill": {
              "color": "#C8D4E3"
             },
             "line": {
              "color": "white"
             }
            },
            "type": "table"
           }
          ]
         },
         "layout": {
          "annotationdefaults": {
           "arrowcolor": "#2a3f5f",
           "arrowhead": 0,
           "arrowwidth": 1
          },
          "autotypenumbers": "strict",
          "coloraxis": {
           "colorbar": {
            "outlinewidth": 0,
            "ticks": ""
           }
          },
          "colorscale": {
           "diverging": [
            [
             0,
             "#8e0152"
            ],
            [
             0.1,
             "#c51b7d"
            ],
            [
             0.2,
             "#de77ae"
            ],
            [
             0.3,
             "#f1b6da"
            ],
            [
             0.4,
             "#fde0ef"
            ],
            [
             0.5,
             "#f7f7f7"
            ],
            [
             0.6,
             "#e6f5d0"
            ],
            [
             0.7,
             "#b8e186"
            ],
            [
             0.8,
             "#7fbc41"
            ],
            [
             0.9,
             "#4d9221"
            ],
            [
             1,
             "#276419"
            ]
           ],
           "sequential": [
            [
             0,
             "#0d0887"
            ],
            [
             0.1111111111111111,
             "#46039f"
            ],
            [
             0.2222222222222222,
             "#7201a8"
            ],
            [
             0.3333333333333333,
             "#9c179e"
            ],
            [
             0.4444444444444444,
             "#bd3786"
            ],
            [
             0.5555555555555556,
             "#d8576b"
            ],
            [
             0.6666666666666666,
             "#ed7953"
            ],
            [
             0.7777777777777778,
             "#fb9f3a"
            ],
            [
             0.8888888888888888,
             "#fdca26"
            ],
            [
             1,
             "#f0f921"
            ]
           ],
           "sequentialminus": [
            [
             0,
             "#0d0887"
            ],
            [
             0.1111111111111111,
             "#46039f"
            ],
            [
             0.2222222222222222,
             "#7201a8"
            ],
            [
             0.3333333333333333,
             "#9c179e"
            ],
            [
             0.4444444444444444,
             "#bd3786"
            ],
            [
             0.5555555555555556,
             "#d8576b"
            ],
            [
             0.6666666666666666,
             "#ed7953"
            ],
            [
             0.7777777777777778,
             "#fb9f3a"
            ],
            [
             0.8888888888888888,
             "#fdca26"
            ],
            [
             1,
             "#f0f921"
            ]
           ]
          },
          "colorway": [
           "#636efa",
           "#EF553B",
           "#00cc96",
           "#ab63fa",
           "#FFA15A",
           "#19d3f3",
           "#FF6692",
           "#B6E880",
           "#FF97FF",
           "#FECB52"
          ],
          "font": {
           "color": "#2a3f5f"
          },
          "geo": {
           "bgcolor": "white",
           "lakecolor": "white",
           "landcolor": "white",
           "showlakes": true,
           "showland": true,
           "subunitcolor": "#C8D4E3"
          },
          "hoverlabel": {
           "align": "left"
          },
          "hovermode": "closest",
          "mapbox": {
           "style": "light"
          },
          "paper_bgcolor": "white",
          "plot_bgcolor": "white",
          "polar": {
           "angularaxis": {
            "gridcolor": "#EBF0F8",
            "linecolor": "#EBF0F8",
            "ticks": ""
           },
           "bgcolor": "white",
           "radialaxis": {
            "gridcolor": "#EBF0F8",
            "linecolor": "#EBF0F8",
            "ticks": ""
           }
          },
          "scene": {
           "xaxis": {
            "backgroundcolor": "white",
            "gridcolor": "#DFE8F3",
            "gridwidth": 2,
            "linecolor": "#EBF0F8",
            "showbackground": true,
            "ticks": "",
            "zerolinecolor": "#EBF0F8"
           },
           "yaxis": {
            "backgroundcolor": "white",
            "gridcolor": "#DFE8F3",
            "gridwidth": 2,
            "linecolor": "#EBF0F8",
            "showbackground": true,
            "ticks": "",
            "zerolinecolor": "#EBF0F8"
           },
           "zaxis": {
            "backgroundcolor": "white",
            "gridcolor": "#DFE8F3",
            "gridwidth": 2,
            "linecolor": "#EBF0F8",
            "showbackground": true,
            "ticks": "",
            "zerolinecolor": "#EBF0F8"
           }
          },
          "shapedefaults": {
           "line": {
            "color": "#2a3f5f"
           }
          },
          "ternary": {
           "aaxis": {
            "gridcolor": "#DFE8F3",
            "linecolor": "#A2B1C6",
            "ticks": ""
           },
           "baxis": {
            "gridcolor": "#DFE8F3",
            "linecolor": "#A2B1C6",
            "ticks": ""
           },
           "bgcolor": "white",
           "caxis": {
            "gridcolor": "#DFE8F3",
            "linecolor": "#A2B1C6",
            "ticks": ""
           }
          },
          "title": {
           "x": 0.05
          },
          "xaxis": {
           "automargin": true,
           "gridcolor": "#EBF0F8",
           "linecolor": "#EBF0F8",
           "ticks": "",
           "title": {
            "standoff": 15
           },
           "zerolinecolor": "#EBF0F8",
           "zerolinewidth": 2
          },
          "yaxis": {
           "automargin": true,
           "gridcolor": "#EBF0F8",
           "linecolor": "#EBF0F8",
           "ticks": "",
           "title": {
            "standoff": 15
           },
           "zerolinecolor": "#EBF0F8",
           "zerolinewidth": 2
          }
         }
        },
        "width": 1000,
        "xaxis": {
         "anchor": "y",
         "domain": [
          0,
          0.45
         ],
         "tickangle": 90,
         "title": {
          "text": "Año"
         }
        },
        "xaxis2": {
         "anchor": "y2",
         "domain": [
          0.55,
          1
         ],
         "tickangle": 90,
         "title": {
          "text": "Año"
         }
        },
        "yaxis": {
         "anchor": "x",
         "domain": [
          0,
          1
         ],
         "title": {
          "text": "Número de registros"
         }
        },
        "yaxis2": {
         "anchor": "x2",
         "domain": [
          0,
          1
         ],
         "title": {
          "text": "Número de registros"
         }
        }
       }
      }
     },
     "metadata": {},
     "output_type": "display_data"
    }
   ],
   "source": [
    "\n",
    "import plotly.graph_objects as go\n",
    "from plotly.subplots import make_subplots\n",
    "\n",
    "fig = make_subplots(rows=1, cols=2, subplot_titles=(\"Número de decesos por año\", \"Evolución de decesos por año\"))\n",
    "\n",
    "# Bar chart (left)\n",
    "fig.add_trace(\n",
    "    go.Bar(x=casos_por_año.index, y=casos_por_año.values, marker=dict(color=casos_por_año.values, colorscale=\"Viridis\")),\n",
    "    row=1, col=1\n",
    ")\n",
    "\n",
    "# Line chart (right)\n",
    "fig.add_trace(\n",
    "    go.Scatter(x=casos_por_año.index, y=casos_por_año.values, mode=\"lines+markers\", line=dict(color=\"red\")),\n",
    "    row=1, col=2\n",
    ")\n",
    "\n",
    "# Update layout\n",
    "fig.update_layout(\n",
    "    height=500, width=1000,\n",
    "    showlegend=False,\n",
    "    xaxis=dict(title=\"Año\", tickangle=90),\n",
    "    xaxis2=dict(title=\"Año\", tickangle=90),\n",
    "    yaxis=dict(title=\"Número de registros\"),\n",
    "    yaxis2=dict(title=\"Número de registros\"),\n",
    "    template=\"plotly_white\"\n",
    ")\n",
    "\n",
    "fig.show()"
   ]
  },
  {
   "cell_type": "markdown",
   "metadata": {},
   "source": []
  },
  {
   "cell_type": "markdown",
   "metadata": {},
   "source": []
  }
 ],
 "metadata": {
  "kernelspec": {
   "display_name": "ml_venv",
   "language": "python",
   "name": "python3"
  },
  "language_info": {
   "codemirror_mode": {
    "name": "ipython",
    "version": 3
   },
   "file_extension": ".py",
   "mimetype": "text/x-python",
   "name": "python",
   "nbconvert_exporter": "python",
   "pygments_lexer": "ipython3",
   "version": "3.9.21"
  }
 },
 "nbformat": 4,
 "nbformat_minor": 2
}
